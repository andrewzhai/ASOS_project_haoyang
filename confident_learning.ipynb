{
  "nbformat": 4,
  "nbformat_minor": 0,
  "metadata": {
    "colab": {
      "name": "confident learning_asos.ipynb",
      "provenance": [],
      "collapsed_sections": [],
      "authorship_tag": "ABX9TyOgyD4L4XMiZsba9DpHGyYU",
      "include_colab_link": true
    },
    "kernelspec": {
      "display_name": "Python 3",
      "name": "python3"
    },
    "language_info": {
      "name": "python"
    }
  },
  "cells": [
    {
      "cell_type": "markdown",
      "metadata": {
        "id": "view-in-github",
        "colab_type": "text"
      },
      "source": [
        "<a href=\"https://colab.research.google.com/github/andrewzhai/ASOS_project_haoyang/blob/master/confident_learning.ipynb\" target=\"_parent\"><img src=\"https://colab.research.google.com/assets/colab-badge.svg\" alt=\"Open In Colab\"/></a>"
      ]
    },
    {
      "cell_type": "markdown",
      "metadata": {
        "id": "-HsIzCX1L6TV"
      },
      "source": [
        "# Set up Git and Install Packages"
      ]
    },
    {
      "cell_type": "code",
      "metadata": {
        "colab": {
          "base_uri": "https://localhost:8080/"
        },
        "id": "2kiVbusq_Cq0",
        "outputId": "76027136-0471-450f-9b6a-4ff8a5d8853f"
      },
      "source": [
        "! git clone https://github.com/andrewzhai/ASOS_project_haoyang.git\n"
      ],
      "execution_count": 11,
      "outputs": [
        {
          "output_type": "stream",
          "text": [
            "fatal: destination path 'ASOS_project_haoyang' already exists and is not an empty directory.\n"
          ],
          "name": "stdout"
        }
      ]
    },
    {
      "cell_type": "code",
      "metadata": {
        "colab": {
          "base_uri": "https://localhost:8080/"
        },
        "id": "Rw-oU7jfzLLB",
        "outputId": "927c0740-e112-4444-d3a2-d4ce846d9160"
      },
      "source": [
        "! pip install cleanlab"
      ],
      "execution_count": 18,
      "outputs": [
        {
          "output_type": "stream",
          "text": [
            "Requirement already satisfied: cleanlab in /usr/local/lib/python3.7/dist-packages (1.0)\n",
            "Requirement already satisfied: numpy>=1.11.3 in /usr/local/lib/python3.7/dist-packages (from cleanlab) (1.19.5)\n",
            "Requirement already satisfied: scipy>=1.1.0 in /usr/local/lib/python3.7/dist-packages (from cleanlab) (1.4.1)\n",
            "Requirement already satisfied: scikit-learn>=0.18 in /usr/local/lib/python3.7/dist-packages (from cleanlab) (0.22.2.post1)\n",
            "Requirement already satisfied: tqdm>=4.53.0 in /usr/local/lib/python3.7/dist-packages (from cleanlab) (4.62.0)\n",
            "Requirement already satisfied: joblib>=0.11 in /usr/local/lib/python3.7/dist-packages (from scikit-learn>=0.18->cleanlab) (1.0.1)\n"
          ],
          "name": "stdout"
        }
      ]
    },
    {
      "cell_type": "code",
      "metadata": {
        "id": "B8Hs-rdWaGXn"
      },
      "source": [
        "import cleanlab"
      ],
      "execution_count": 20,
      "outputs": []
    },
    {
      "cell_type": "code",
      "metadata": {
        "colab": {
          "base_uri": "https://localhost:8080/"
        },
        "id": "PWjZhIE1zVdk",
        "outputId": "b8e93b27-6d0d-40ea-ca81-6a661832b7aa"
      },
      "source": [
        "! pip install transformers"
      ],
      "execution_count": 13,
      "outputs": [
        {
          "output_type": "stream",
          "text": [
            "Requirement already satisfied: transformers in /usr/local/lib/python3.7/dist-packages (4.9.2)\n",
            "Requirement already satisfied: requests in /usr/local/lib/python3.7/dist-packages (from transformers) (2.23.0)\n",
            "Requirement already satisfied: tqdm>=4.27 in /usr/local/lib/python3.7/dist-packages (from transformers) (4.62.0)\n",
            "Requirement already satisfied: huggingface-hub==0.0.12 in /usr/local/lib/python3.7/dist-packages (from transformers) (0.0.12)\n",
            "Requirement already satisfied: sacremoses in /usr/local/lib/python3.7/dist-packages (from transformers) (0.0.45)\n",
            "Requirement already satisfied: importlib-metadata in /usr/local/lib/python3.7/dist-packages (from transformers) (4.6.4)\n",
            "Requirement already satisfied: regex!=2019.12.17 in /usr/local/lib/python3.7/dist-packages (from transformers) (2019.12.20)\n",
            "Requirement already satisfied: pyyaml>=5.1 in /usr/local/lib/python3.7/dist-packages (from transformers) (5.1.2)\n",
            "Requirement already satisfied: packaging in /usr/local/lib/python3.7/dist-packages (from transformers) (21.0)\n",
            "Requirement already satisfied: filelock in /usr/local/lib/python3.7/dist-packages (from transformers) (3.0.12)\n",
            "Requirement already satisfied: tokenizers<0.11,>=0.10.1 in /usr/local/lib/python3.7/dist-packages (from transformers) (0.10.3)\n",
            "Requirement already satisfied: numpy>=1.17 in /usr/local/lib/python3.7/dist-packages (from transformers) (1.19.5)\n",
            "Requirement already satisfied: typing-extensions in /usr/local/lib/python3.7/dist-packages (from huggingface-hub==0.0.12->transformers) (3.7.4.3)\n",
            "Requirement already satisfied: pyparsing>=2.0.2 in /usr/local/lib/python3.7/dist-packages (from packaging->transformers) (2.4.7)\n",
            "Requirement already satisfied: zipp>=0.5 in /usr/local/lib/python3.7/dist-packages (from importlib-metadata->transformers) (3.5.0)\n",
            "Requirement already satisfied: certifi>=2017.4.17 in /usr/local/lib/python3.7/dist-packages (from requests->transformers) (2021.5.30)\n",
            "Requirement already satisfied: idna<3,>=2.5 in /usr/local/lib/python3.7/dist-packages (from requests->transformers) (2.10)\n",
            "Requirement already satisfied: chardet<4,>=3.0.2 in /usr/local/lib/python3.7/dist-packages (from requests->transformers) (3.0.4)\n",
            "Requirement already satisfied: urllib3!=1.25.0,!=1.25.1,<1.26,>=1.21.1 in /usr/local/lib/python3.7/dist-packages (from requests->transformers) (1.24.3)\n",
            "Requirement already satisfied: joblib in /usr/local/lib/python3.7/dist-packages (from sacremoses->transformers) (1.0.1)\n",
            "Requirement already satisfied: six in /usr/local/lib/python3.7/dist-packages (from sacremoses->transformers) (1.15.0)\n",
            "Requirement already satisfied: click in /usr/local/lib/python3.7/dist-packages (from sacremoses->transformers) (7.1.2)\n"
          ],
          "name": "stdout"
        }
      ]
    },
    {
      "cell_type": "code",
      "metadata": {
        "id": "VgxZ-LJS_j7U",
        "colab": {
          "base_uri": "https://localhost:8080/"
        },
        "outputId": "4f40b9e6-ad62-46db-b943-380d85ce0438"
      },
      "source": [
        "!pip install --upgrade PyYAML==5.1.2"
      ],
      "execution_count": 14,
      "outputs": [
        {
          "output_type": "stream",
          "text": [
            "Requirement already satisfied: PyYAML==5.1.2 in /usr/local/lib/python3.7/dist-packages (5.1.2)\n"
          ],
          "name": "stdout"
        }
      ]
    },
    {
      "cell_type": "code",
      "metadata": {
        "id": "Kpm_IIUNLrVt"
      },
      "source": [
        "import yaml\n",
        "import numpy as np\n"
      ],
      "execution_count": 15,
      "outputs": []
    },
    {
      "cell_type": "code",
      "metadata": {
        "colab": {
          "base_uri": "https://localhost:8080/"
        },
        "id": "g0Uty4_BB_hS",
        "outputId": "579cd854-96fb-4a8d-c442-841d6eac8303"
      },
      "source": [
        "try:\n",
        "  from transformers import BertTokenizer\n",
        "except:\n",
        "  print('ERROR: Please reinstall transformers in last cell again')\n",
        "tokenizer=BertTokenizer.from_pretrained('bert-base-uncased')\n",
        "sentence='I really enjoyed this movie a lot.'\n",
        "#1.Tokenize the sequence:\n",
        "tokens=tokenizer.tokenize(sentence)\n",
        "print(tokens)\n",
        "print(type(tokens))"
      ],
      "execution_count": 16,
      "outputs": [
        {
          "output_type": "stream",
          "text": [
            "['i', 'really', 'enjoyed', 'this', 'movie', 'a', 'lot', '.']\n",
            "<class 'list'>\n"
          ],
          "name": "stdout"
        }
      ]
    },
    {
      "cell_type": "markdown",
      "metadata": {
        "id": "c-BM0OV046Kb"
      },
      "source": [
        "extract data from yaml files, transfrom to traditional machine learning case, training data with labels."
      ]
    },
    {
      "cell_type": "markdown",
      "metadata": {
        "id": "oLp1-wL_Ejht"
      },
      "source": [
        "# Bert Embedding"
      ]
    },
    {
      "cell_type": "code",
      "metadata": {
        "id": "Kp_wqdMH40A4"
      },
      "source": [
        "import gensim\n",
        "import gensim.downloader as api\n",
        "import numpy as np\n",
        "from __future__ import print_function, absolute_import, division, with_statement\n",
        "import cleanlab\n",
        "import numpy as np\n",
        "from sklearn.datasets import load_digits\n",
        "from sklearn.linear_model import LogisticRegression\n",
        "from sklearn.svm import SVC\n",
        "# To silence convergence warnings caused by using a weak\n",
        "# logistic regression classifier on image data\n",
        "import warnings\n",
        "warnings.simplefilter(\"ignore\")\n",
        "np.random.seed(477)\n"
      ],
      "execution_count": 22,
      "outputs": []
    },
    {
      "cell_type": "code",
      "metadata": {
        "id": "PeDTo7ue2KnF"
      },
      "source": [
        "# BertSentence Embedding"
      ],
      "execution_count": 28,
      "outputs": []
    },
    {
      "cell_type": "code",
      "metadata": {
        "colab": {
          "base_uri": "https://localhost:8080/"
        },
        "id": "RVQLEa4N3Ppb",
        "outputId": "9d57a178-ab5a-4850-a5d6-d017f8e855a3"
      },
      "source": [
        "!pip install sentence-transformers"
      ],
      "execution_count": 29,
      "outputs": [
        {
          "output_type": "stream",
          "text": [
            "Requirement already satisfied: sentence-transformers in /usr/local/lib/python3.7/dist-packages (2.0.0)\n",
            "Requirement already satisfied: huggingface-hub in /usr/local/lib/python3.7/dist-packages (from sentence-transformers) (0.0.12)\n",
            "Requirement already satisfied: torchvision in /usr/local/lib/python3.7/dist-packages (from sentence-transformers) (0.10.0+cu102)\n",
            "Requirement already satisfied: tqdm in /usr/local/lib/python3.7/dist-packages (from sentence-transformers) (4.62.0)\n",
            "Requirement already satisfied: transformers<5.0.0,>=4.6.0 in /usr/local/lib/python3.7/dist-packages (from sentence-transformers) (4.9.2)\n",
            "Requirement already satisfied: nltk in /usr/local/lib/python3.7/dist-packages (from sentence-transformers) (3.2.5)\n",
            "Requirement already satisfied: numpy in /usr/local/lib/python3.7/dist-packages (from sentence-transformers) (1.19.5)\n",
            "Requirement already satisfied: scikit-learn in /usr/local/lib/python3.7/dist-packages (from sentence-transformers) (0.22.2.post1)\n",
            "Requirement already satisfied: torch>=1.6.0 in /usr/local/lib/python3.7/dist-packages (from sentence-transformers) (1.9.0+cu102)\n",
            "Requirement already satisfied: sentencepiece in /usr/local/lib/python3.7/dist-packages (from sentence-transformers) (0.1.96)\n",
            "Requirement already satisfied: scipy in /usr/local/lib/python3.7/dist-packages (from sentence-transformers) (1.4.1)\n",
            "Requirement already satisfied: typing-extensions in /usr/local/lib/python3.7/dist-packages (from torch>=1.6.0->sentence-transformers) (3.7.4.3)\n",
            "Requirement already satisfied: pyyaml>=5.1 in /usr/local/lib/python3.7/dist-packages (from transformers<5.0.0,>=4.6.0->sentence-transformers) (5.1.2)\n",
            "Requirement already satisfied: requests in /usr/local/lib/python3.7/dist-packages (from transformers<5.0.0,>=4.6.0->sentence-transformers) (2.23.0)\n",
            "Requirement already satisfied: importlib-metadata in /usr/local/lib/python3.7/dist-packages (from transformers<5.0.0,>=4.6.0->sentence-transformers) (4.6.4)\n",
            "Requirement already satisfied: regex!=2019.12.17 in /usr/local/lib/python3.7/dist-packages (from transformers<5.0.0,>=4.6.0->sentence-transformers) (2019.12.20)\n",
            "Requirement already satisfied: tokenizers<0.11,>=0.10.1 in /usr/local/lib/python3.7/dist-packages (from transformers<5.0.0,>=4.6.0->sentence-transformers) (0.10.3)\n",
            "Requirement already satisfied: filelock in /usr/local/lib/python3.7/dist-packages (from transformers<5.0.0,>=4.6.0->sentence-transformers) (3.0.12)\n",
            "Requirement already satisfied: sacremoses in /usr/local/lib/python3.7/dist-packages (from transformers<5.0.0,>=4.6.0->sentence-transformers) (0.0.45)\n",
            "Requirement already satisfied: packaging in /usr/local/lib/python3.7/dist-packages (from transformers<5.0.0,>=4.6.0->sentence-transformers) (21.0)\n",
            "Requirement already satisfied: pyparsing>=2.0.2 in /usr/local/lib/python3.7/dist-packages (from packaging->transformers<5.0.0,>=4.6.0->sentence-transformers) (2.4.7)\n",
            "Requirement already satisfied: zipp>=0.5 in /usr/local/lib/python3.7/dist-packages (from importlib-metadata->transformers<5.0.0,>=4.6.0->sentence-transformers) (3.5.0)\n",
            "Requirement already satisfied: six in /usr/local/lib/python3.7/dist-packages (from nltk->sentence-transformers) (1.15.0)\n",
            "Requirement already satisfied: chardet<4,>=3.0.2 in /usr/local/lib/python3.7/dist-packages (from requests->transformers<5.0.0,>=4.6.0->sentence-transformers) (3.0.4)\n",
            "Requirement already satisfied: idna<3,>=2.5 in /usr/local/lib/python3.7/dist-packages (from requests->transformers<5.0.0,>=4.6.0->sentence-transformers) (2.10)\n",
            "Requirement already satisfied: urllib3!=1.25.0,!=1.25.1,<1.26,>=1.21.1 in /usr/local/lib/python3.7/dist-packages (from requests->transformers<5.0.0,>=4.6.0->sentence-transformers) (1.24.3)\n",
            "Requirement already satisfied: certifi>=2017.4.17 in /usr/local/lib/python3.7/dist-packages (from requests->transformers<5.0.0,>=4.6.0->sentence-transformers) (2021.5.30)\n",
            "Requirement already satisfied: click in /usr/local/lib/python3.7/dist-packages (from sacremoses->transformers<5.0.0,>=4.6.0->sentence-transformers) (7.1.2)\n",
            "Requirement already satisfied: joblib in /usr/local/lib/python3.7/dist-packages (from sacremoses->transformers<5.0.0,>=4.6.0->sentence-transformers) (1.0.1)\n",
            "Requirement already satisfied: pillow>=5.3.0 in /usr/local/lib/python3.7/dist-packages (from torchvision->sentence-transformers) (7.1.2)\n"
          ],
          "name": "stdout"
        }
      ]
    },
    {
      "cell_type": "code",
      "metadata": {
        "id": "EcqUJOpK3Pvu"
      },
      "source": [
        "\n",
        "from sentence_transformers import SentenceTransformer\n",
        "sbert_model = SentenceTransformer('bert-base-nli-mean-tokens')\n",
        "\n",
        "query = \"I had pizza and pasta\"\n",
        "query_vec = sbert_model.encode([query])[0]\n",
        "\n"
      ],
      "execution_count": 30,
      "outputs": []
    },
    {
      "cell_type": "markdown",
      "metadata": {
        "id": "pt2gxToz57GP"
      },
      "source": [
        "# Confident learning based on the MLP classifer for T5 data"
      ]
    },
    {
      "cell_type": "markdown",
      "metadata": {
        "id": "X8AD8UxB6AVH"
      },
      "source": [
        "1.\tTrain a classifier (MLPClassifier) using only the original FAQ examples to predict the FAQ class.\n",
        "2.\tFor each augmented data point, use the classifier to predict the probability (classifier.predict_proba) of it belonging to each intent.\n",
        "3.\tFind the probability that the point belongs to the correct class. E.g. if the correct class is fur, find the probability that the classifier predicts the example as being fur.\n",
        "4.\tIf this probability is below some threshold value, then we remove it from our data set as it is an incorrect label.\n"
      ]
    },
    {
      "cell_type": "code",
      "metadata": {
        "id": "CJBIBJbHsfkT"
      },
      "source": [
        "def convert_id(clean_id,f_train):\n",
        "  len_id=[]\n",
        "  for i in f_train:\n",
        "    len_id.append(len(i))\n",
        "  len_id=np.array(len_id) \n",
        "  ind_2d=[]\n",
        "  for id in clean_id:\n",
        "    for i in range(0,32): # 33 intents in total  row_id i\n",
        "      if (np.sum(len_id[:i+1])>id)&(np.sum(len_id[:i])<=id):\n",
        "        j=id-np.sum(len_id[:i])\n",
        "        ind_2d.append([i,j])\n",
        "  return ind_2d"
      ],
      "execution_count": 1,
      "outputs": []
    },
    {
      "cell_type": "code",
      "metadata": {
        "id": "95aquy-4EAfY"
      },
      "source": [
        "# shuffle linked train and target\n",
        "\n",
        "def shuffle(x,y):\n",
        "  from sklearn.utils import shuffle\n",
        "  import numpy as np\n",
        "\n",
        "\n",
        "  x, y = shuffle(x, y)\n",
        "\n",
        "\n",
        "\n",
        "\n",
        "  return x,y"
      ],
      "execution_count": null,
      "outputs": []
    },
    {
      "cell_type": "markdown",
      "metadata": {
        "id": "sWxXjl-RAZCb"
      },
      "source": [
        "For data preprocessing"
      ]
    },
    {
      "cell_type": "code",
      "metadata": {
        "id": "WP4RD5xP6HzW"
      },
      "source": [
        "# convert yaml training files into matrix X with label s\n",
        "\n",
        "def BertEmbed(path):\n",
        "  import yaml\n",
        "  with open(path,'r') as f:\n",
        "    data=yaml.safe_load(f)\n",
        "\n",
        "  f_train=[]\n",
        "  for i in data['nlu']:\n",
        "    text=[]\n",
        "    for j in i['examples'].split('\\n'):     # get the clean data from yaml\n",
        "      input=j.replace('- ','')\n",
        "      text.append(input)\n",
        "    f_train.append(text)\n",
        "  \n",
        "  \n",
        "  text=[]\n",
        "  for i in data['nlu']:\n",
        "    for j in i['examples'].split('\\n'):     # get the clean data from yaml\n",
        "      input=j.replace('- ','')\n",
        "      text.append(input)\n",
        "\n",
        "\n",
        "\n",
        "\n",
        "  raw=[]\n",
        "  text_clean=[] \n",
        "  for x in text:\n",
        "    if x != '':\n",
        "      raw.append(x)\n",
        "      text_clean.append(sbert_model.encode([x])[0])\n",
        "\n",
        "\n",
        "  # X=[]\n",
        "\n",
        "  # for s in text_clean:\n",
        "    \n",
        "  #   sentence=s\n",
        "  #   X.append(sentence)\n",
        "\n",
        "  X=np.array(text_clean)\n",
        "  # np.random.seed(1)\n",
        "  # np.random.shuffle(X)\n",
        "  \n",
        "\n",
        "  label=[]\n",
        "  num=[]\n",
        "  for i in data['nlu']:\n",
        "    # print(i['examples'].split('\\n'))\n",
        "    num.append(len(i['examples'].split('\\n'))-1)\n",
        "    label.append(i['intent'])\n",
        "  # print(label)  \n",
        "\n",
        "\n",
        "\n",
        "  Y=[]\n",
        "  label_n=np.arange(len(label))\n",
        "  for i,j in zip(num,label_n):\n",
        "    Y.extend(np.ones(i)*j)\n",
        "\n",
        "  assert len(Y)==X.shape[0]\n",
        "\n",
        "  s=np.array(Y).astype('int')\n",
        "  # np.random.shuffle(s)\n",
        "  # X,s=shuffle(X,s)  \n",
        "  return X,s,f_train"
      ],
      "execution_count": 19,
      "outputs": []
    },
    {
      "cell_type": "markdown",
      "metadata": {
        "id": "9RjkBqby_itU"
      },
      "source": [
        "## MLP_hand_CL applyied in T5 augmented data"
      ]
    },
    {
      "cell_type": "markdown",
      "metadata": {
        "id": "prrteXTYAV_D"
      },
      "source": [
        "x train data is original data;\n",
        "\n",
        "x test is augmented data "
      ]
    },
    {
      "cell_type": "code",
      "metadata": {
        "colab": {
          "base_uri": "https://localhost:8080/"
        },
        "id": "EyCOb-fJ6IEp",
        "outputId": "c1209559-f168-42ad-ae64-cdb86ce56709"
      },
      "source": [
        "# train a classifier for T5 \n",
        "\n",
        "from sklearn.neural_network import MLPClassifier\n",
        "x_train,y_train,_=BertEmbed('/content/ASOS_project_haoyang/input_data/T5_nlu.yml')\n",
        "\n",
        "clf = MLPClassifier(random_state=1, max_iter=300, solver='lbfgs')\n",
        "clf.fit(x_train, y_train)\n"
      ],
      "execution_count": null,
      "outputs": [
        {
          "output_type": "execute_result",
          "data": {
            "text/plain": [
              "MLPClassifier(activation='relu', alpha=0.0001, batch_size='auto', beta_1=0.9,\n",
              "              beta_2=0.999, early_stopping=False, epsilon=1e-08,\n",
              "              hidden_layer_sizes=(100,), learning_rate='constant',\n",
              "              learning_rate_init=0.001, max_fun=15000, max_iter=300,\n",
              "              momentum=0.9, n_iter_no_change=10, nesterovs_momentum=True,\n",
              "              power_t=0.5, random_state=1, shuffle=True, solver='lbfgs',\n",
              "              tol=0.0001, validation_fraction=0.1, verbose=False,\n",
              "              warm_start=False)"
            ]
          },
          "metadata": {},
          "execution_count": 26
        }
      ]
    },
    {
      "cell_type": "markdown",
      "metadata": {
        "id": "GiCT-QtSEj-t"
      },
      "source": [
        "## demo"
      ]
    },
    {
      "cell_type": "code",
      "metadata": {
        "id": "1hMBm-fcCo87",
        "colab": {
          "base_uri": "https://localhost:8080/"
        },
        "outputId": "e0cba372-1d3f-4799-b56f-dcf223eb02f9"
      },
      "source": [
        "x_test,y_test,_=BertEmbed('/content/ASOS_project_haoyang/output_result_by_haoyang/data/cv_T5_augmented_data/1cv_1augumented_fixed.yml')\n",
        "result=clf.predict_proba(x_test)\n",
        "# return a confusion matrix\n",
        "result"
      ],
      "execution_count": null,
      "outputs": [
        {
          "output_type": "execute_result",
          "data": {
            "text/plain": [
              "array([[1.76789799e-092, 1.82699854e-106, 4.23530602e-071, ...,\n",
              "        2.41791546e-043, 5.02401752e-056, 1.40466782e-102],\n",
              "       [3.01923075e-082, 1.22194894e-105, 1.58419434e-064, ...,\n",
              "        5.02864108e-025, 1.13519326e-043, 2.58690395e-093],\n",
              "       [4.12209293e-080, 1.38103171e-099, 8.29047438e-069, ...,\n",
              "        8.32644572e-027, 4.78703312e-046, 4.84634987e-087],\n",
              "       ...,\n",
              "       [1.01344462e-073, 3.15407166e-040, 2.95904575e-055, ...,\n",
              "        1.78642687e-033, 1.68215811e-041, 1.00000000e+000],\n",
              "       [6.84596088e-075, 1.19370046e-051, 2.72441163e-061, ...,\n",
              "        7.69740662e-012, 2.97865236e-035, 1.00000000e+000],\n",
              "       [1.03038107e-079, 1.45903572e-065, 1.46833361e-071, ...,\n",
              "        2.76063280e-021, 4.88343741e-045, 1.00000000e+000]])"
            ]
          },
          "metadata": {},
          "execution_count": 27
        }
      ]
    },
    {
      "cell_type": "code",
      "metadata": {
        "colab": {
          "base_uri": "https://localhost:8080/"
        },
        "id": "l9vRDI4IF0-k",
        "outputId": "93dac212-4334-4bd5-cc9e-d186cfd15341"
      },
      "source": [
        "noise_ind=[]\n",
        "count=0\n",
        "for (i,j) in zip(result,y_test):\n",
        "  if i[j]<0.8:\n",
        "    noise_ind.append(count)\n",
        "  count=count+1\n",
        "print(noise_ind)"
      ],
      "execution_count": null,
      "outputs": [
        {
          "output_type": "stream",
          "text": [
            "[0, 1, 2, 3, 4, 5, 6, 7, 8, 9, 10, 11, 12, 13, 14, 15, 16, 17, 18, 19, 20, 21, 22, 23, 24, 25, 26, 27, 28, 29, 30, 31, 32, 33, 34, 35, 36, 37, 38, 39, 40, 41, 42, 43, 44, 45, 46, 47, 48, 49, 50, 51, 52, 53, 54, 55, 56, 57, 58, 59, 60, 61, 62, 63, 64, 65, 66, 67, 68, 69, 70, 71, 72, 73, 74, 75, 76, 77, 78, 79, 80, 81, 82, 83, 84, 85, 86, 87, 88, 89, 90, 91, 92, 93, 94, 95, 96, 97, 98, 99, 100, 101, 102, 103, 104, 105, 106, 107, 108, 109, 110, 111, 112, 113, 114, 115, 116, 117, 118, 119, 120, 121, 122, 123, 124, 125, 126, 127, 128, 129, 130, 131, 132, 133, 134, 135, 136, 137, 138, 139, 140, 141, 142, 143, 144, 145, 146, 147, 148, 149, 150, 151, 152, 153, 154, 155, 156, 157, 158, 159, 160, 161, 162, 163, 164, 165, 166, 167, 168, 169, 170, 171, 172, 173, 174, 175, 176, 177, 178, 179, 180, 181, 182, 183, 184, 185, 186, 187, 188, 189, 190, 191, 192, 193, 194, 195, 196, 197, 198, 199, 200, 201, 202, 203, 204, 205, 206, 207, 208, 209, 210, 211, 212, 213, 214, 215, 216, 217, 218, 219, 220, 221, 222, 223, 224, 225, 226, 227, 228, 229, 230, 231, 232, 233, 234, 235, 236, 237, 238, 239, 240, 241, 242, 243, 244, 245, 246, 247, 248, 249, 250, 251, 252, 253, 254, 255, 256, 257, 258, 259, 260, 261, 262, 263, 264, 265, 266, 267, 268, 269, 270, 271, 272, 273, 274, 275, 276, 277, 278, 279, 280, 281, 282, 283, 284, 285, 286, 287, 288, 289, 290, 291, 292, 293, 294, 295, 296, 297, 298, 299, 300, 301, 302, 303, 304, 305, 306, 307, 308, 309, 310, 311, 312, 313, 314, 315, 316, 317, 318, 319, 320, 321, 322, 323, 324, 325, 326, 327, 328, 329, 330, 331, 332, 333, 334, 335, 336, 337, 338, 339, 340, 341, 342, 343, 344, 345, 346, 347, 348, 349, 350, 351, 352, 353, 354, 355, 356, 357, 358, 359, 360, 361, 362, 363, 364, 365, 366, 367, 368, 369, 370, 371, 372, 373, 374, 375, 376, 377, 378, 379, 380, 381, 382, 383, 384, 385, 386, 387, 388, 389, 390, 391, 392, 393, 394, 395, 396, 397, 398, 399, 400, 401, 402, 403, 404, 405, 406, 407, 408, 409, 410, 411, 412, 413, 414, 415, 416, 417, 418, 419, 420, 421, 422, 423, 424, 425, 426, 427, 428, 430, 431, 432, 433, 434, 435, 436, 437, 438, 439, 440, 441, 442, 443, 444, 445, 446, 447, 448, 449, 450, 451, 452, 453, 454, 455, 456, 457, 458, 459, 460, 461, 462, 463, 464, 465, 466, 467, 468, 469, 470, 471, 472, 473, 474, 475, 476, 477, 478, 479, 480, 481, 482, 483, 484, 485, 486, 487, 488, 489, 490, 491, 492, 493, 494, 495, 496, 497, 498, 499, 500, 501, 502, 503, 504, 505, 506, 507, 508, 509, 510, 511, 512, 513, 514, 515, 516, 517, 518, 519, 520, 521, 522, 523, 524, 525, 526, 527, 528, 529, 530, 531]\n"
          ],
          "name": "stdout"
        }
      ]
    },
    {
      "cell_type": "markdown",
      "metadata": {
        "id": "nVG4NqE7E1Cl"
      },
      "source": [
        "## remove misclassifed data based on the noise_ind \n",
        "\n",
        "\n",
        "\n",
        "1.   define functions\n",
        "2.   remove misclassied data\n",
        "3.   write cleaned data in yaml file\n",
        "\n"
      ]
    },
    {
      "cell_type": "code",
      "metadata": {
        "id": "ZexBlrUKLgck"
      },
      "source": [
        "# Confident learning into 50 augmented data\n",
        "# put the previous steps into a function\n",
        "\n",
        "def find_error(path, threshold):\n",
        "  x_test,y_test,f_train=BertEmbed(path)\n",
        "  result=clf.predict_proba(x_test)\n",
        "  # return a confusion matrix\n",
        "\n",
        "  noise_ind=[]\n",
        "  count=0\n",
        "  for (i,j) in zip(result,y_test):\n",
        "    if i[j]<threshold:\n",
        "      noise_ind.append(count)\n",
        "    count=count+1\n",
        "  return noise_ind,f_train\n"
      ],
      "execution_count": null,
      "outputs": []
    },
    {
      "cell_type": "code",
      "metadata": {
        "id": "pX_nQCGzM_Ih"
      },
      "source": [
        "# convert our 1d noise_ind into 2d noise_ind\n",
        "\n",
        "def convert_id(clean_id,f_train):\n",
        "  len_id=[]\n",
        "  for i in f_train:\n",
        "    len_id.append(len(i))\n",
        "  len_id=np.array(len_id) \n",
        "  ind_2d=[]\n",
        "  for id in clean_id:\n",
        "    for i in range(0,32): # 33 intents in total  row_id i\n",
        "      if (np.sum(len_id[:i+1])>id)&(np.sum(len_id[:i])<=id):\n",
        "        j=id-np.sum(len_id[:i])\n",
        "        ind_2d.append([i,j])\n",
        "  return ind_2d"
      ],
      "execution_count": null,
      "outputs": []
    },
    {
      "cell_type": "code",
      "metadata": {
        "id": "K4QPGFMaIHVW"
      },
      "source": [
        "!mkdir cl_t5_mlp"
      ],
      "execution_count": null,
      "outputs": []
    },
    {
      "cell_type": "code",
      "metadata": {
        "id": "NO6zDq4PMjB8"
      },
      "source": [
        "num_remove=[]\n",
        "for iii in range(1,6):\n",
        "  \n",
        "\n",
        "  dirtloc=[]\n",
        "  # apply confident learning in T5 file\n",
        "  for fi in range(1,11):\n",
        "    counter=0\n",
        "    path='/content/ASOS_project_haoyang/output_result_by_haoyang/data/cv_T5_augmented_data/{}cv_{}augumented_fixed.yml'.format(iii,fi)\n",
        "    noise_ind,f_train=find_error(path,0.8)\n",
        "    ind_2d=convert_id(noise_ind,f_train)\n",
        "\n",
        "        \n",
        "    dirtloc.append(np.array(ind_2d))\n",
        "    \n",
        " \n",
        "\n",
        "\n",
        "  \n",
        "\n",
        "\n",
        "  for fi in range(1,11):\n",
        "    noise_ind=dirtloc[fi-1]\n",
        "    import yaml\n",
        "    with open('/content/ASOS_project_haoyang/output_result_by_haoyang/data/cv_T5_augmented_data/{}cv_{}augumented_fixed.yml'.format(iii,fi),'r') as f:\n",
        "      data=yaml.safe_load(f)\n",
        "\n",
        "    c=data\n",
        "\n",
        "    f_train=[]\n",
        "    for i in data['nlu']:\n",
        "      text=[]\n",
        "      for j in i['examples'].split('\\n'):     # get the clean data from yaml\n",
        "        input=j.replace('- ','')\n",
        "        text.append(input)\n",
        "      f_train.append(text)\n",
        "\n",
        "# remove noise\n",
        "    for i in noise_ind:\n",
        "      \n",
        "      \n",
        "\n",
        "      f_train[i[0]][i[1]]=''\n",
        "\n",
        "        #################\n",
        "\n",
        "\n",
        "# rewirte files\n",
        "\n",
        "    for (i,j) in zip(f_train,c['nlu']):\n",
        "      l=[]\n",
        "      for k in i:\n",
        "        if k == '':\n",
        "          continue\n",
        "        else:\n",
        "          # sentence=k.replace('- ','')\n",
        "          l.append(k)  \n",
        "          \n",
        "      print(l)        \n",
        "      j['examples']=l\n",
        "    \n",
        "\n",
        "\n",
        "    with open('/content/cl_t5_mlp/{}cl_mlp_{}.yml'.format(iii,fi), 'w') as outfile:\n",
        "        yaml.dump(c, outfile, default_flow_style=False, sort_keys=False)"
      ],
      "execution_count": null,
      "outputs": []
    },
    {
      "cell_type": "markdown",
      "metadata": {
        "id": "O_i-JvYWAAzp"
      },
      "source": [
        "# Confident learning based on the MLP classifer for gpt3 data"
      ]
    },
    {
      "cell_type": "code",
      "metadata": {
        "id": "sRT4ysfI_-Xj"
      },
      "source": [
        ""
      ],
      "execution_count": null,
      "outputs": []
    },
    {
      "cell_type": "code",
      "metadata": {
        "colab": {
          "base_uri": "https://localhost:8080/"
        },
        "id": "x7MEAM9L_-1R",
        "outputId": "6ce27951-54c3-42d6-fc2a-ce8fb5d065e6"
      },
      "source": [
        "# train a classifier\n",
        "# nlu 32 intents in this case\n",
        "from sklearn.neural_network import MLPClassifier\n",
        "x_train,y_train,_=BertEmbed('/content/ASOS_project_haoyang/input_data/gpt3_nlu.yml')\n",
        "\n",
        "clf = MLPClassifier(random_state=1, max_iter=300, solver='lbfgs')\n",
        "clf.fit(x_train, y_train)\n"
      ],
      "execution_count": 39,
      "outputs": [
        {
          "output_type": "execute_result",
          "data": {
            "text/plain": [
              "MLPClassifier(activation='relu', alpha=0.0001, batch_size='auto', beta_1=0.9,\n",
              "              beta_2=0.999, early_stopping=False, epsilon=1e-08,\n",
              "              hidden_layer_sizes=(100,), learning_rate='constant',\n",
              "              learning_rate_init=0.001, max_fun=15000, max_iter=300,\n",
              "              momentum=0.9, n_iter_no_change=10, nesterovs_momentum=True,\n",
              "              power_t=0.5, random_state=1, shuffle=True, solver='lbfgs',\n",
              "              tol=0.0001, validation_fraction=0.1, verbose=False,\n",
              "              warm_start=False)"
            ]
          },
          "metadata": {},
          "execution_count": 39
        }
      ]
    },
    {
      "cell_type": "code",
      "metadata": {
        "id": "haENjj6m_-1T"
      },
      "source": [
        "# Confident learning into 50 augmented data\n",
        "# put the previous steps into a function\n",
        "\n",
        "def find_error(path, threshold):\n",
        "  x_test,y_test,f_train=BertEmbed(path)\n",
        "  result=clf.predict_proba(x_test)\n",
        "  # return a confusion matrix\n",
        "\n",
        "  noise_ind=[]\n",
        "  count=0\n",
        "  for (i,j) in zip(result,y_test):\n",
        "    if i[j]<threshold:\n",
        "      noise_ind.append(count)\n",
        "    count=count+1\n",
        "  return noise_ind,f_train\n"
      ],
      "execution_count": 33,
      "outputs": []
    },
    {
      "cell_type": "code",
      "metadata": {
        "id": "m7s4VYpR_-1T"
      },
      "source": [
        "# convert our 1d noise_ind into 2d noise_ind\n",
        "\n",
        "def convert_id(clean_id,f_train):\n",
        "  len_id=[]\n",
        "  for i in f_train:\n",
        "    len_id.append(len(i))\n",
        "  len_id=np.array(len_id) \n",
        "  ind_2d=[]\n",
        "  for id in clean_id:\n",
        "    for i in range(0,32): # 33 intents in total  row_id i\n",
        "      if (np.sum(len_id[:i+1])>id)&(np.sum(len_id[:i])<=id):\n",
        "        j=id-np.sum(len_id[:i])\n",
        "        ind_2d.append([i,j])\n",
        "  return ind_2d"
      ],
      "execution_count": 34,
      "outputs": []
    },
    {
      "cell_type": "code",
      "metadata": {
        "id": "wh_0GjhBS352"
      },
      "source": [
        "! mkdir cl_gpt_mlp"
      ],
      "execution_count": 35,
      "outputs": []
    },
    {
      "cell_type": "code",
      "metadata": {
        "id": "3MxvT4jh_-1U"
      },
      "source": [
        "num_remove=[]\n",
        "for iii in range(1,6):\n",
        "  \n",
        "\n",
        "  dirtloc=[]\n",
        "  # apply confident learning in T5 file\n",
        "  for fi in range(1,11):\n",
        "    counter=0\n",
        "    # read gpt3 augmented data\n",
        "    path='/content/ASOS_project_haoyang/output_result_by_haoyang/data/gpt3_augmented_data/{}cv_{}augumented_fixed.yml'.format(iii,fi)\n",
        "    noise_ind,f_train=find_error(path,0.8)\n",
        "    ind_2d=convert_id(noise_ind,f_train)\n",
        "\n",
        "        \n",
        "    dirtloc.append(np.array(ind_2d))\n",
        "    \n",
        " \n",
        "\n",
        "\n",
        "  \n",
        "\n",
        "\n",
        "  for fi in range(1,11):\n",
        "    noise_ind=dirtloc[fi-1]\n",
        "    import yaml\n",
        "    with open('/content/ASOS_project_haoyang/output_result_by_haoyang/data/gpt3_augmented_data/{}cv_{}augumented_fixed.yml'.format(iii,fi),'r') as f:\n",
        "      data=yaml.safe_load(f)\n",
        "\n",
        "    c=data\n",
        "\n",
        "    f_train=[]\n",
        "    for i in data['nlu']:\n",
        "      text=[]\n",
        "      for j in i['examples'].split('\\n'):     # get the clean data from yaml\n",
        "        input=j.replace('- ','')\n",
        "        text.append(input)\n",
        "      f_train.append(text)\n",
        "\n",
        "# remove noise\n",
        "    for i in noise_ind:\n",
        "      \n",
        "      \n",
        "\n",
        "      f_train[i[0]][i[1]]=''\n",
        "\n",
        "        #################\n",
        "\n",
        "\n",
        "# rewirte files\n",
        "\n",
        "    for (i,j) in zip(f_train,c['nlu']):\n",
        "      l=[]\n",
        "      for k in i:\n",
        "        if k == '':\n",
        "          continue\n",
        "        else:\n",
        "          # sentence=k.replace('- ','')\n",
        "\n",
        "          l.append(k)  \n",
        "          \n",
        "\n",
        "   \n",
        "      j['examples']=l\n",
        "    \n",
        "    # print(c['nlu'])\n",
        "\n",
        "    with open('/content/cl_gpt_mlp/{}cl_mlp_{}.yml'.format(iii,fi), 'w') as outfile:\n",
        "        yaml.dump(c, outfile, default_flow_style=False, sort_keys=False)\n",
        "\n"
      ],
      "execution_count": null,
      "outputs": []
    },
    {
      "cell_type": "markdown",
      "metadata": {
        "id": "_5M-aPZ152dJ"
      },
      "source": [
        "# Confident learning in Clean lab"
      ]
    },
    {
      "cell_type": "code",
      "metadata": {
        "id": "ONMjCNHB5tR0"
      },
      "source": [
        "def computepsx(path):\n",
        "\n",
        "\n",
        "  \n",
        "  import yaml\n",
        "  with open(path,'r') as f:\n",
        "    data=yaml.safe_load(f)\n",
        "\n",
        "  f_train=[]\n",
        "  for i in data['nlu']:\n",
        "    text=[]\n",
        "    for j in i['examples'].split('\\n'):     # get the clean data from yaml\n",
        "      input=j.replace('- ','')\n",
        "      text.append(input)\n",
        "    f_train.append(text)\n",
        "  \n",
        "  \n",
        "  text=[]\n",
        "  for i in data['nlu']:\n",
        "    for j in i['examples'].split('\\n'):     # get the clean data from yaml\n",
        "      input=j.replace('- ','')\n",
        "      text.append(input)\n",
        "\n",
        "\n",
        "\n",
        "\n",
        "  raw=[]\n",
        "  text_clean=[] \n",
        "  for x in text:\n",
        "    if x != '':\n",
        "      raw.append(x)\n",
        "      text_clean.append(sbert_model.encode([x])[0])\n",
        "\n",
        "\n",
        "  # X=[]\n",
        "\n",
        "  # for s in text_clean:\n",
        "    \n",
        "  #   sentence=s\n",
        "  #   X.append(sentence)\n",
        "\n",
        "  X=np.array(text_clean)\n",
        "\n",
        "\n",
        "  label=[]\n",
        "  num=[]\n",
        "  for i in data['nlu']:\n",
        "    # print(i['examples'].split('\\n'))\n",
        "    num.append(len(i['examples'].split('\\n'))-1)\n",
        "    label.append(i['intent'])\n",
        "  # print(label)  \n",
        "\n",
        "\n",
        "\n",
        "  Y=[]\n",
        "  label_n=np.arange(len(label))\n",
        "  for i,j in zip(num,label_n):\n",
        "    Y.extend(np.ones(i)*j)\n",
        "\n",
        "  assert len(Y)==X.shape[0]\n",
        "\n",
        "  s=np.array(Y).astype('int')\n",
        "\n",
        "\n",
        "  psx = cleanlab.latent_estimation.estimate_cv_predicted_probabilities(\n",
        "      X, s, clf=LogisticRegression(max_iter=10000, multi_class='auto', solver='lbfgs'))\n",
        "\n",
        "\n",
        "  return psx,num,raw,s,f_train,label"
      ],
      "execution_count": 4,
      "outputs": []
    },
    {
      "cell_type": "code",
      "metadata": {
        "id": "j_UjZeBOYO5B"
      },
      "source": [
        "def clean(path):\n",
        "\n",
        "  import yaml\n",
        "  with open(path,'r') as f:\n",
        "    data=yaml.safe_load(f)\n",
        "\n",
        "  text=[]\n",
        "  for i in data['nlu']:\n",
        "    for j in i['examples'].split('\\n'):     # get the clean data from yaml\n",
        "      input=j.replace('- ','')\n",
        "      text.append(input)\n",
        "\n",
        "\n",
        "  raw=[]\n",
        "  text_clean=[] \n",
        "  for x in text:\n",
        "    if x != '':\n",
        "      raw.append(x)\n",
        "  return raw"
      ],
      "execution_count": 3,
      "outputs": []
    },
    {
      "cell_type": "code",
      "metadata": {
        "id": "yp1VxorigjFT"
      },
      "source": [
        "! mkdir cl_t5_clean_lab"
      ],
      "execution_count": 5,
      "outputs": []
    },
    {
      "cell_type": "code",
      "metadata": {
        "id": "bAROKlDAZFm5"
      },
      "source": [
        ""
      ],
      "execution_count": null,
      "outputs": []
    },
    {
      "cell_type": "code",
      "metadata": {
        "id": "c16BYVhHY3RJ"
      },
      "source": [
        "from sentence_transformers import SentenceTransformer\n",
        "sbert_model = SentenceTransformer('bert-base-nli-mean-tokens')\n",
        "\n",
        "query = \"I had pizza and pasta\"\n",
        "query_vec = sbert_model.encode([query])[0]\n",
        "\n",
        "import numpy as np\n",
        "import yaml"
      ],
      "execution_count": 9,
      "outputs": []
    },
    {
      "cell_type": "code",
      "metadata": {
        "id": "zSmvUbZRrOaq"
      },
      "source": [
        "num_remove=[]\n",
        "for iii in range(1,6):\n",
        "  psx,_,raw1,_,_,_=computepsx('/content/ASOS_project_haoyang/output_result_by_haoyang/data/original_data_5fold/{}cv_original_train.yml'.format(iii))\n",
        "\n",
        "\n",
        "  dirtloc=[]\n",
        "\n",
        "  for fi in range(1,11):\n",
        "    counter=0\n",
        "\n",
        "    psx,num,raw2,s,f_train,_=computepsx('/content/ASOS_project_haoyang/output_result_by_haoyang/data/cv_T5_augmented_data/{}cv_{}augumented_fixed.yml'.format(iii,fi))\n",
        "\n",
        "\n",
        "    # put the original data into confident label\n",
        "\n",
        "\n",
        "    id=[]\n",
        "    for i in raw1:\n",
        "      try:\n",
        "        \n",
        "        id.append(raw2.index(i))\n",
        "      except:\n",
        "        continue\n",
        "\n",
        "    l=[]\n",
        "    for i in range(len(num)):\n",
        "      l.append(sum(num[:i+1]))\n",
        "\n",
        "    l=np.array(l)\n",
        "\n",
        "    # change the psx matrix to make sure our confirmed cases is put in correct position\n",
        "    for j in id:\n",
        "      \n",
        "      loc=len(np.where(l<j)[0])\n",
        "      psx[j]=np.zeros(len(psx[j]))\n",
        "      psx[j][loc]=1\n",
        "\n",
        "\n",
        "\n",
        "    from cleanlab.pruning import get_noise_indices\n",
        "\n",
        "    ordered_label_errors = get_noise_indices(\n",
        "        s=s,\n",
        "        psx=psx,\n",
        "        sorted_index_method='normalized_margin',\n",
        "        prune_method='both' # Orders label errors\n",
        "    )\n",
        "\n",
        "    ind=np.array(sorted(ordered_label_errors))\n",
        "\n",
        "    clean_id=[]\n",
        "    count=0\n",
        "    for i in ind:\n",
        "      print(psx[i])\n",
        "      if psx[i][0]==1:\n",
        "        print('---------------------------------------------')\n",
        "        continue\n",
        "      elif psx[i][0]==0:\n",
        "        continue\n",
        "\n",
        "      else:\n",
        "        \n",
        "        b=raw2[i]\n",
        "        count=count+1\n",
        "        clean_id.append(i)\n",
        "      # convert 1d indices into 2d indices\n",
        "    num_remove.append(len(clean_id))\n",
        "    ind_2d=convert_id(clean_id,f_train)\n",
        "\n",
        "        \n",
        "    dirtloc.append(np.array(ind_2d))\n",
        "    \n",
        " \n",
        "\n",
        "\n",
        "  \n",
        "\n",
        "\n",
        "  for fi in range(1,11):\n",
        "    noise_ind=dirtloc[fi-1]\n",
        "    import yaml\n",
        "    with open('/content/ASOS_project_haoyang/output_result_by_haoyang/data/cv_T5_augmented_data/{}cv_{}augumented_fixed.yml'.format(iii,fi),'r') as f:\n",
        "      data=yaml.safe_load(f)\n",
        "\n",
        "    c=data\n",
        "\n",
        "    f_train=[]\n",
        "    for i in data['nlu']:\n",
        "      text=[]\n",
        "      for j in i['examples'].split('\\n'):     # get the clean data from yaml\n",
        "        input=j.replace('- ','')\n",
        "        text.append(input)\n",
        "      f_train.append(text)\n",
        "\n",
        "# remove noise\n",
        "    for i in noise_ind:\n",
        "      \n",
        "      \n",
        "\n",
        "      f_train[i[0]][i[1]]=''\n",
        "\n",
        "        #################\n",
        "\n",
        "\n",
        "# rewirte files\n",
        "\n",
        "    for (i,j) in zip(f_train,c['nlu']):\n",
        "      l=[]\n",
        "      for k in i:\n",
        "        if k == '':\n",
        "          continue\n",
        "        else:\n",
        "          # sentence=k.replace('- ','')\n",
        "          l.append(k)  \n",
        "          \n",
        "              \n",
        "      j['examples']=l\n",
        "    \n",
        "    # print(c['nlu'])\n",
        "\n",
        "    with open('/content/cl_t5_clean_lab/{}cv_{}.yml'.format(iii,fi), 'w') as outfile:\n",
        "        yaml.dump(c, outfile, default_flow_style=False, sort_keys=False)"
      ],
      "execution_count": null,
      "outputs": []
    },
    {
      "cell_type": "markdown",
      "metadata": {
        "id": "-_j6M8Co-SQZ"
      },
      "source": [
        "# Example Demonstration of noisy labels found by Clean lab in one random augmented file"
      ]
    },
    {
      "cell_type": "code",
      "metadata": {
        "colab": {
          "base_uri": "https://localhost:8080/"
        },
        "id": "1Ad2fBsRinDF",
        "outputId": "174627ce-52fd-4eec-e325-656ce5cbc92e"
      },
      "source": [
        "for iii in range(1,2):\n",
        "  psx,_,raw1,_,_,_=computepsx('/content/ASOS_project_haoyang/output_result_by_haoyang/data/original_data_5fold/{}cv_original_train.yml'.format(iii))\n",
        "\n",
        "\n",
        "  dirtloc=[]\n",
        "\n",
        "  for fi in range(5,6):\n",
        "    counter=0\n",
        "\n",
        "    psx,num,raw2,s,f_train,label=computepsx('/content/ASOS_project_haoyang/output_result_by_haoyang/data/cv_T5_augmented_data/{}cv_{}augumented_fixed.yml'.format(iii,fi))\n",
        "\n",
        "\n",
        "    # put the original data into confident label\n",
        "\n",
        "\n",
        "    id=[]\n",
        "    for i in raw1:\n",
        "      try:\n",
        "        \n",
        "        id.append(raw2.index(i))\n",
        "      except:\n",
        "        continue\n",
        "\n",
        "    l=[]\n",
        "    for i in range(len(num)):\n",
        "      l.append(sum(num[:i+1]))\n",
        "\n",
        "    l=np.array(l)\n",
        "\n",
        "    # change the psx matrix to make sure our confirmed cases is put in correct position\n",
        "    for j in id:\n",
        "      \n",
        "      loc=len(np.where(l<j)[0])\n",
        "      psx[j]=np.zeros(len(psx[j]))\n",
        "      psx[j][loc]=1\n",
        "\n",
        "\n",
        "\n",
        "    from cleanlab.pruning import get_noise_indices\n",
        "\n",
        "    ordered_label_errors = get_noise_indices(\n",
        "        s=s,\n",
        "        psx=psx,\n",
        "        sorted_index_method='prob_given_label',\n",
        "        prune_method='prune_by_class' # Orders label errors\n",
        "    )\n",
        "\n",
        "    ind=np.array(sorted(ordered_label_errors))\n",
        "\n",
        "    clean_id=[]\n",
        "    count=0\n",
        "    for i in ind:\n",
        "\n",
        "      if psx[i][0]==1:\n",
        "        print('---------------------------------------------')\n",
        "        continue\n",
        "      elif psx[i][0]==0:\n",
        "        continue\n",
        "\n",
        "      else:\n",
        "        \n",
        "        b=raw2[i]\n",
        "        count=count+1\n",
        "        clean_id.append(i)\n",
        "\n",
        "\n",
        "\n",
        "\n",
        "\n",
        "\n",
        "\n",
        "  for i in clean_id:\n",
        "    intent=label[s[i]]\n",
        "    b=raw2[i]\n",
        "\n",
        "    print('{} : {}'.format(intent,b))\n",
        "print(len(clean_id))"
      ],
      "execution_count": 23,
      "outputs": [
        {
          "output_type": "stream",
          "text": [
            "faq_track_delivery : How do I get my order processed?\n",
            "faq_track_delivery : How many days before your order will your package arrive?\n",
            "faq_track_delivery : How can I track a product online?\n",
            "faq_track_delivery : How long will it take for an order to be shipped?\n",
            "faq_return_received : My refund has not been received yet. What can I do?\n",
            "faq_account_sign_in : Can I log in my email account if I don't remember password or login information?\n",
            "faq_account_sign_in : I have forgotten my password and email password how do I log in?\n",
            "faq_account_sign_in : I forgot my password and email password. how do I reset my password?\n",
            "faq_account_sign_in : How do I log into MySpace if I can't login to it?\n",
            "faq_account_sign_in : How can I log in to my FoneMyCare account?\n",
            "faq_change_password : How do I log in to My Account?\n",
            "faq_change_password : Can I log in my account?\n",
            "faq_change_password : How can I log in to my PAN account without an account login or password?\n",
            "faq_change_password : How do I log in to my email account when I have no access to my account?\n",
            "faq_change_password : I forgot my password and I cannot log into My Email account.\n",
            "faq_change_password : I am having problems with my account logging in. I can't log in.\n",
            "faq_faulty_item : Why can't I order something?\n",
            "faq_wrong_item_received : How do I get the wrong package for a house order?\n",
            "faq_student_discount : How do I get my discount code back when I need it?\n",
            "faq_animal_welfare : Is ASOS fur safe?\n",
            "faq_order_not_received : How can I order something and not wait for a week?\n",
            "faq_order_not_received : When will \"Dead Man\" come out?\n",
            "faq_order_not_received : How do I retrieve my order once it's received?\n",
            "faq_order_not_received : How do I ship orders on Amazon?\n",
            "24\n"
          ],
          "name": "stdout"
        }
      ]
    },
    {
      "cell_type": "markdown",
      "metadata": {
        "id": "An1-qTAmIrmO"
      },
      "source": [
        "# Data Counting and ploting\n",
        "\n",
        "*   the aim of this section is to count the size of dataset after confident learning\n",
        "*   you can input the data you generated in last section, but it might take a while to generate data, here I also provided confident learning data generated by myself in advance\n",
        "\n"
      ]
    },
    {
      "cell_type": "code",
      "metadata": {
        "id": "8sao6hHZNQpR"
      },
      "source": [
        "def count(data):\n",
        "  count=0\n",
        "  for i in data['nlu']:\n",
        "    count=count+len(i['examples'].split('\\n'))-1  \n",
        "  return count"
      ],
      "execution_count": 13,
      "outputs": []
    },
    {
      "cell_type": "markdown",
      "metadata": {
        "id": "XLOAWUEsdrhV"
      },
      "source": [
        "## T5 data size"
      ]
    },
    {
      "cell_type": "code",
      "metadata": {
        "colab": {
          "base_uri": "https://localhost:8080/",
          "height": 302
        },
        "id": "w2dIgDJ4OjgN",
        "outputId": "dcd22019-8af3-4459-ea9d-3440515e13e4"
      },
      "source": [
        "# count the amount of data for cleaned data\n",
        "\n",
        "data_size=[]\n",
        "for iii in range(1,6):\n",
        "  for fi in range(1,11):\n",
        "    with open('/content/ASOS_project_haoyang/output_result_by_haoyang/data/confident_learning_from_scratch/confidentlearning_applied_T5data/{}cl_mlp_{}.yml'.format(iii,fi),'r') as f:\n",
        "          data=yaml.safe_load(f)\n",
        "          data_size.append(count(data))\n",
        "          \n",
        "\n",
        "\n",
        "data_size=np.split(np.array(data_size),5)\n",
        "num_result=np.mean(data_size,axis=0)\n",
        "num_std=np.std(data_size,axis=0)\n",
        "import matplotlib.pyplot as plt\n",
        "import numpy as np\n",
        "x=np.arange(0,10)\n",
        "error=[num_std]\n",
        "# plt.plot(x,num_result)\n",
        "# plt.errorbar(xval, yval, xerr = 0.4, yerr = 0.5)\n",
        "plt.errorbar(x,num_result,yerr=num_std,marker='s')\n",
        "\n",
        "plt.legend([\"size of dataset\"],loc='lower right')\n",
        "plt.ylabel('the average amount of data for 5 files')\n",
        "plt.xlabel('T5 augmented sentences')\n",
        "\n",
        "for i,j in zip(x,num_result):\n",
        "  plt.annotate('{}'.format(j), (i,j), \n",
        "               textcoords=\"offset points\", \n",
        "                 xytext=(0,10),\n",
        "                 ha='center')\n",
        "from google.colab import files\n",
        "\n",
        "   \n",
        "plt.savefig('T5_mlp_cl_data_size.png')\n",
        "files.download(\"T5_mlp_cl_data_size.png\")"
      ],
      "execution_count": 15,
      "outputs": [
        {
          "output_type": "display_data",
          "data": {
            "application/javascript": [
              "\n",
              "    async function download(id, filename, size) {\n",
              "      if (!google.colab.kernel.accessAllowed) {\n",
              "        return;\n",
              "      }\n",
              "      const div = document.createElement('div');\n",
              "      const label = document.createElement('label');\n",
              "      label.textContent = `Downloading \"${filename}\": `;\n",
              "      div.appendChild(label);\n",
              "      const progress = document.createElement('progress');\n",
              "      progress.max = size;\n",
              "      div.appendChild(progress);\n",
              "      document.body.appendChild(div);\n",
              "\n",
              "      const buffers = [];\n",
              "      let downloaded = 0;\n",
              "\n",
              "      const channel = await google.colab.kernel.comms.open(id);\n",
              "      // Send a message to notify the kernel that we're ready.\n",
              "      channel.send({})\n",
              "\n",
              "      for await (const message of channel.messages) {\n",
              "        // Send a message to notify the kernel that we're ready.\n",
              "        channel.send({})\n",
              "        if (message.buffers) {\n",
              "          for (const buffer of message.buffers) {\n",
              "            buffers.push(buffer);\n",
              "            downloaded += buffer.byteLength;\n",
              "            progress.value = downloaded;\n",
              "          }\n",
              "        }\n",
              "      }\n",
              "      const blob = new Blob(buffers, {type: 'application/binary'});\n",
              "      const a = document.createElement('a');\n",
              "      a.href = window.URL.createObjectURL(blob);\n",
              "      a.download = filename;\n",
              "      div.appendChild(a);\n",
              "      a.click();\n",
              "      div.remove();\n",
              "    }\n",
              "  "
            ],
            "text/plain": [
              "<IPython.core.display.Javascript object>"
            ]
          },
          "metadata": {}
        },
        {
          "output_type": "display_data",
          "data": {
            "application/javascript": [
              "download(\"download_835acd01-c8b8-46f5-bff2-0d737b29b4c1\", \"T5_mlp_cl_data_size.png\", 22991)"
            ],
            "text/plain": [
              "<IPython.core.display.Javascript object>"
            ]
          },
          "metadata": {}
        },
        {
          "output_type": "display_data",
          "data": {
            "image/png": "[encoded data removed]",
            "text/plain": [
              "<Figure size 432x288 with 1 Axes>"
            ]
          },
          "metadata": {
            "needs_background": "light"
          }
        }
      ]
    },
    {
      "cell_type": "code",
      "metadata": {
        "colab": {
          "base_uri": "https://localhost:8080/",
          "height": 286
        },
        "id": "gPlOsXDaDkit",
        "outputId": "0916ea51-9e07-4f9d-90c2-394e404a55e1"
      },
      "source": [
        "# count the amount of data for cleaned data\n",
        "data_size=[]\n",
        "for iii in range(1,6):\n",
        "  for fi in range(1,11):\n",
        "    with open('/content/ASOS_project_haoyang/output_result_by_haoyang/data/cv_T5_augmented_data/{}cv_{}augumented_fixed.yml'.format(iii,fi),'r') as f:\n",
        "          data=yaml.safe_load(f)\n",
        "          data_size.append(count(data))\n",
        "          \n",
        "\n",
        "\n",
        "data_size=np.split(np.array(data_size),5)\n",
        "num_result=np.mean(data_size,axis=0)\n",
        "num_std=np.std(data_size,axis=0)\n",
        "import matplotlib.pyplot as plt\n",
        "import numpy as np\n",
        "x=np.arange(0,10)\n",
        "error=[num_std]\n",
        "# plt.plot(x,num_result)\n",
        "# plt.errorbar(xval, yval, xerr = 0.4, yerr = 0.5)\n",
        "plt.errorbar(x,num_result,yerr=num_std,marker='s')\n",
        "\n",
        "plt.legend([\"size of dataset\"],loc='lower right')\n",
        "plt.ylabel('the average amount of data for 5 files')\n",
        "plt.xlabel('T5 augmented sentences')\n",
        "\n",
        "for i,j in zip(x,num_result):\n",
        "  plt.annotate('{}'.format(j), (i,j), \n",
        "               textcoords=\"offset points\", \n",
        "                 xytext=(0,10),\n",
        "                 ha='center')\n",
        "from google.colab import files\n",
        "\n",
        "   \n",
        "plt.savefig('T5_data_size.png')\n",
        "files.download(\"T5_data_size.png\")"
      ],
      "execution_count": 38,
      "outputs": [
        {
          "output_type": "display_data",
          "data": {
            "application/javascript": [
              "\n",
              "    async function download(id, filename, size) {\n",
              "      if (!google.colab.kernel.accessAllowed) {\n",
              "        return;\n",
              "      }\n",
              "      const div = document.createElement('div');\n",
              "      const label = document.createElement('label');\n",
              "      label.textContent = `Downloading \"${filename}\": `;\n",
              "      div.appendChild(label);\n",
              "      const progress = document.createElement('progress');\n",
              "      progress.max = size;\n",
              "      div.appendChild(progress);\n",
              "      document.body.appendChild(div);\n",
              "\n",
              "      const buffers = [];\n",
              "      let downloaded = 0;\n",
              "\n",
              "      const channel = await google.colab.kernel.comms.open(id);\n",
              "      // Send a message to notify the kernel that we're ready.\n",
              "      channel.send({})\n",
              "\n",
              "      for await (const message of channel.messages) {\n",
              "        // Send a message to notify the kernel that we're ready.\n",
              "        channel.send({})\n",
              "        if (message.buffers) {\n",
              "          for (const buffer of message.buffers) {\n",
              "            buffers.push(buffer);\n",
              "            downloaded += buffer.byteLength;\n",
              "            progress.value = downloaded;\n",
              "          }\n",
              "        }\n",
              "      }\n",
              "      const blob = new Blob(buffers, {type: 'application/binary'});\n",
              "      const a = document.createElement('a');\n",
              "      a.href = window.URL.createObjectURL(blob);\n",
              "      a.download = filename;\n",
              "      div.appendChild(a);\n",
              "      a.click();\n",
              "      div.remove();\n",
              "    }\n",
              "  "
            ],
            "text/plain": [
              "<IPython.core.display.Javascript object>"
            ]
          },
          "metadata": {}
        },
        {
          "output_type": "display_data",
          "data": {
            "application/javascript": [
              "download(\"download_f582fd4f-c75f-420f-8ab1-c330874a1d3c\", \"T5_data_size.png\", 22598)"
            ],
            "text/plain": [
              "<IPython.core.display.Javascript object>"
            ]
          },
          "metadata": {}
        },
        {
          "output_type": "display_data",
          "data": {
            "image/png": "[encoded data removed]",
            "text/plain": [
              "<Figure size 432x288 with 1 Axes>"
            ]
          },
          "metadata": {
            "needs_background": "light"
          }
        }
      ]
    },
    {
      "cell_type": "code",
      "metadata": {
        "id": "qhAG8Z9A_xEi"
      },
      "source": [
        "def count(data):\n",
        "  count=0\n",
        "  for i in data['nlu']:\n",
        "    count=count+len(i['examples'].split('\\n'))-1 \n",
        "  return count \n",
        "  "
      ],
      "execution_count": 36,
      "outputs": []
    },
    {
      "cell_type": "markdown",
      "metadata": {
        "id": "1PBGxmlTdxs3"
      },
      "source": [
        "## GPT3 data size"
      ]
    },
    {
      "cell_type": "code",
      "metadata": {
        "colab": {
          "base_uri": "https://localhost:8080/",
          "height": 286
        },
        "id": "Crou4b6ndxs3",
        "outputId": "9e442323-9e8b-46f9-a69f-0ae51ef6eaa5"
      },
      "source": [
        "# count the amount of data for cleaned data\n",
        "\n",
        "data_size=[]\n",
        "for iii in range(1,6):\n",
        "  for fi in range(1,11):\n",
        "    with open('/content/ASOS_project_haoyang/output_result_by_haoyang/data/confident_learning_from_scratch/confidentlearning_applied_gpt3/{}cl_mlp_{}.yml'.format(iii,fi),'r') as f:\n",
        "          data=yaml.safe_load(f)\n",
        "          data_size.append(count(data))\n",
        "          \n",
        "\n",
        "\n",
        "data_size=np.split(np.array(data_size),5)\n",
        "num_result=np.mean(data_size,axis=0)\n",
        "num_std=np.std(data_size,axis=0)\n",
        "import matplotlib.pyplot as plt\n",
        "import numpy as np\n",
        "x=np.arange(0,10)\n",
        "error=[num_std]\n",
        "# plt.plot(x,num_result)\n",
        "# plt.errorbar(xval, yval, xerr = 0.4, yerr = 0.5)\n",
        "plt.errorbar(x,num_result,yerr=num_std,marker='s')\n",
        "\n",
        "plt.legend([\"size of dataset\"],loc='lower right')\n",
        "plt.ylabel('the average amount of data for 5 files')\n",
        "plt.xlabel('T5 augmented sentences')\n",
        "\n",
        "for i,j in zip(x,num_result):\n",
        "  plt.annotate('{}'.format(j), (i,j), \n",
        "               textcoords=\"offset points\", \n",
        "                 xytext=(0,10),\n",
        "                 ha='center')\n",
        "from google.colab import files\n",
        "\n",
        "   \n",
        "plt.savefig('GPT_mlp_cl_data_size.png')\n",
        "files.download(\"GPT_mlp_cl_data_size.png\")"
      ],
      "execution_count": 39,
      "outputs": [
        {
          "output_type": "display_data",
          "data": {
            "application/javascript": [
              "\n",
              "    async function download(id, filename, size) {\n",
              "      if (!google.colab.kernel.accessAllowed) {\n",
              "        return;\n",
              "      }\n",
              "      const div = document.createElement('div');\n",
              "      const label = document.createElement('label');\n",
              "      label.textContent = `Downloading \"${filename}\": `;\n",
              "      div.appendChild(label);\n",
              "      const progress = document.createElement('progress');\n",
              "      progress.max = size;\n",
              "      div.appendChild(progress);\n",
              "      document.body.appendChild(div);\n",
              "\n",
              "      const buffers = [];\n",
              "      let downloaded = 0;\n",
              "\n",
              "      const channel = await google.colab.kernel.comms.open(id);\n",
              "      // Send a message to notify the kernel that we're ready.\n",
              "      channel.send({})\n",
              "\n",
              "      for await (const message of channel.messages) {\n",
              "        // Send a message to notify the kernel that we're ready.\n",
              "        channel.send({})\n",
              "        if (message.buffers) {\n",
              "          for (const buffer of message.buffers) {\n",
              "            buffers.push(buffer);\n",
              "            downloaded += buffer.byteLength;\n",
              "            progress.value = downloaded;\n",
              "          }\n",
              "        }\n",
              "      }\n",
              "      const blob = new Blob(buffers, {type: 'application/binary'});\n",
              "      const a = document.createElement('a');\n",
              "      a.href = window.URL.createObjectURL(blob);\n",
              "      a.download = filename;\n",
              "      div.appendChild(a);\n",
              "      a.click();\n",
              "      div.remove();\n",
              "    }\n",
              "  "
            ],
            "text/plain": [
              "<IPython.core.display.Javascript object>"
            ]
          },
          "metadata": {}
        },
        {
          "output_type": "display_data",
          "data": {
            "application/javascript": [
              "download(\"download_991a43e6-2fff-4e48-8786-9b48fcbf28a6\", \"GPT_mlp_cl_data_size.png\", 22723)"
            ],
            "text/plain": [
              "<IPython.core.display.Javascript object>"
            ]
          },
          "metadata": {}
        },
        {
          "output_type": "display_data",
          "data": {
            "image/png": "[encoded data removed]",
            "text/plain": [
              "<Figure size 432x288 with 1 Axes>"
            ]
          },
          "metadata": {
            "needs_background": "light"
          }
        }
      ]
    },
    {
      "cell_type": "code",
      "metadata": {
        "colab": {
          "base_uri": "https://localhost:8080/",
          "height": 286
        },
        "id": "6BDjDyeCdxs3",
        "outputId": "b4655c06-140e-4b88-d742-0cf3b35545ed"
      },
      "source": [
        "# count the amount of data for cleaned data\n",
        "data_size=[]\n",
        "for iii in range(1,6):\n",
        "  for fi in range(1,11):\n",
        "    with open('/content/ASOS_project_haoyang/output_result_by_haoyang/data/gpt3_augmented_data/{}cv_{}augumented_fixed.yml'.format(iii,fi),'r') as f:\n",
        "          data=yaml.safe_load(f)\n",
        "          data_size.append(count(data))\n",
        "          \n",
        "\n",
        "\n",
        "data_size=np.split(np.array(data_size),5)\n",
        "num_result=np.mean(data_size,axis=0)\n",
        "num_std=np.std(data_size,axis=0)\n",
        "import matplotlib.pyplot as plt\n",
        "import numpy as np\n",
        "x=np.arange(0,10)\n",
        "error=[num_std]\n",
        "# plt.plot(x,num_result)\n",
        "# plt.errorbar(xval, yval, xerr = 0.4, yerr = 0.5)\n",
        "plt.errorbar(x,num_result,yerr=num_std,marker='s')\n",
        "\n",
        "plt.legend([\"size of dataset\"],loc='lower right')\n",
        "plt.ylabel('the average amount of data for 5 files')\n",
        "plt.xlabel('GPT augmented sentences')\n",
        "\n",
        "for i,j in zip(x,num_result):\n",
        "  plt.annotate('{}'.format(j), (i,j), \n",
        "               textcoords=\"offset points\", \n",
        "                 xytext=(0,10),\n",
        "                 ha='center')\n",
        "from google.colab import files\n",
        "\n",
        "   \n",
        "plt.savefig('GPT_data_size.png')\n",
        "files.download(\"GPT_data_size.png\")"
      ],
      "execution_count": 40,
      "outputs": [
        {
          "output_type": "display_data",
          "data": {
            "application/javascript": [
              "\n",
              "    async function download(id, filename, size) {\n",
              "      if (!google.colab.kernel.accessAllowed) {\n",
              "        return;\n",
              "      }\n",
              "      const div = document.createElement('div');\n",
              "      const label = document.createElement('label');\n",
              "      label.textContent = `Downloading \"${filename}\": `;\n",
              "      div.appendChild(label);\n",
              "      const progress = document.createElement('progress');\n",
              "      progress.max = size;\n",
              "      div.appendChild(progress);\n",
              "      document.body.appendChild(div);\n",
              "\n",
              "      const buffers = [];\n",
              "      let downloaded = 0;\n",
              "\n",
              "      const channel = await google.colab.kernel.comms.open(id);\n",
              "      // Send a message to notify the kernel that we're ready.\n",
              "      channel.send({})\n",
              "\n",
              "      for await (const message of channel.messages) {\n",
              "        // Send a message to notify the kernel that we're ready.\n",
              "        channel.send({})\n",
              "        if (message.buffers) {\n",
              "          for (const buffer of message.buffers) {\n",
              "            buffers.push(buffer);\n",
              "            downloaded += buffer.byteLength;\n",
              "            progress.value = downloaded;\n",
              "          }\n",
              "        }\n",
              "      }\n",
              "      const blob = new Blob(buffers, {type: 'application/binary'});\n",
              "      const a = document.createElement('a');\n",
              "      a.href = window.URL.createObjectURL(blob);\n",
              "      a.download = filename;\n",
              "      div.appendChild(a);\n",
              "      a.click();\n",
              "      div.remove();\n",
              "    }\n",
              "  "
            ],
            "text/plain": [
              "<IPython.core.display.Javascript object>"
            ]
          },
          "metadata": {}
        },
        {
          "output_type": "display_data",
          "data": {
            "application/javascript": [
              "download(\"download_c6d16975-d39d-4e02-97b6-758238752941\", \"GPT_data_size.png\", 22142)"
            ],
            "text/plain": [
              "<IPython.core.display.Javascript object>"
            ]
          },
          "metadata": {}
        },
        {
          "output_type": "display_data",
          "data": {
            "image/png": "[encoded data removed]",
            "text/plain": [
              "<Figure size 432x288 with 1 Axes>"
            ]
          },
          "metadata": {
            "needs_background": "light"
          }
        }
      ]
    }
  ]
}