{
  "nbformat": 4,
  "nbformat_minor": 0,
  "metadata": {
    "colab": {
      "name": "T5 Paraphrasing inference.ipynb",
      "provenance": []
    },
    "kernelspec": {
      "name": "python3",
      "display_name": "Python 3"
    },
    "widgets": {
      "application/vnd.jupyter.widget-state+json": {
        "f295dfce44ef49ea9269eca29859b572": {
          "model_module": "@jupyter-widgets/controls",
          "model_name": "HBoxModel",
          "model_module_version": "1.5.0",
          "state": {
            "_view_name": "HBoxView",
            "_dom_classes": [],
            "_model_name": "HBoxModel",
            "_view_module": "@jupyter-widgets/controls",
            "_model_module_version": "1.5.0",
            "_view_count": null,
            "_view_module_version": "1.5.0",
            "box_style": "",
            "layout": "IPY_MODEL_c2db76c054f2442f9213f8a81da6bce0",
            "_model_module": "@jupyter-widgets/controls",
            "children": [
              "IPY_MODEL_2cfba4d22f284a638ca863ded8f51fe8",
              "IPY_MODEL_aaca38a55c564eefb58b3842a0bbfd8d"
            ]
          }
        },
        "c2db76c054f2442f9213f8a81da6bce0": {
          "model_module": "@jupyter-widgets/base",
          "model_name": "LayoutModel",
          "model_module_version": "1.2.0",
          "state": {
            "_view_name": "LayoutView",
            "grid_template_rows": null,
            "right": null,
            "justify_content": null,
            "_view_module": "@jupyter-widgets/base",
            "overflow": null,
            "_model_module_version": "1.2.0",
            "_view_count": null,
            "flex_flow": null,
            "width": null,
            "min_width": null,
            "border": null,
            "align_items": null,
            "bottom": null,
            "_model_module": "@jupyter-widgets/base",
            "top": null,
            "grid_column": null,
            "overflow_y": null,
            "overflow_x": null,
            "grid_auto_flow": null,
            "grid_area": null,
            "grid_template_columns": null,
            "flex": null,
            "_model_name": "LayoutModel",
            "justify_items": null,
            "grid_row": null,
            "max_height": null,
            "align_content": null,
            "visibility": null,
            "align_self": null,
            "height": null,
            "min_height": null,
            "padding": null,
            "grid_auto_rows": null,
            "grid_gap": null,
            "max_width": null,
            "order": null,
            "_view_module_version": "1.2.0",
            "grid_template_areas": null,
            "object_position": null,
            "object_fit": null,
            "grid_auto_columns": null,
            "margin": null,
            "display": null,
            "left": null
          }
        },
        "2cfba4d22f284a638ca863ded8f51fe8": {
          "model_module": "@jupyter-widgets/controls",
          "model_name": "FloatProgressModel",
          "model_module_version": "1.5.0",
          "state": {
            "_view_name": "ProgressView",
            "style": "IPY_MODEL_4700d619a0c24fd9a30e30ce4bd2b48e",
            "_dom_classes": [],
            "description": "Downloading: 100%",
            "_model_name": "FloatProgressModel",
            "bar_style": "success",
            "max": 1208,
            "_view_module": "@jupyter-widgets/controls",
            "_model_module_version": "1.5.0",
            "value": 1208,
            "_view_count": null,
            "_view_module_version": "1.5.0",
            "orientation": "horizontal",
            "min": 0,
            "description_tooltip": null,
            "_model_module": "@jupyter-widgets/controls",
            "layout": "IPY_MODEL_f80f105adbe8413e8cdbe38ca8df5644"
          }
        },
        "aaca38a55c564eefb58b3842a0bbfd8d": {
          "model_module": "@jupyter-widgets/controls",
          "model_name": "HTMLModel",
          "model_module_version": "1.5.0",
          "state": {
            "_view_name": "HTMLView",
            "style": "IPY_MODEL_ddbb0520470b4860941c8b8b0f586d37",
            "_dom_classes": [],
            "description": "",
            "_model_name": "HTMLModel",
            "placeholder": "​",
            "_view_module": "@jupyter-widgets/controls",
            "_model_module_version": "1.5.0",
            "value": " 1.21k/1.21k [00:26&lt;00:00, 45.2B/s]",
            "_view_count": null,
            "_view_module_version": "1.5.0",
            "description_tooltip": null,
            "_model_module": "@jupyter-widgets/controls",
            "layout": "IPY_MODEL_b4d06a781ebf416e8944a139999542e4"
          }
        },
        "4700d619a0c24fd9a30e30ce4bd2b48e": {
          "model_module": "@jupyter-widgets/controls",
          "model_name": "ProgressStyleModel",
          "model_module_version": "1.5.0",
          "state": {
            "_view_name": "StyleView",
            "_model_name": "ProgressStyleModel",
            "description_width": "initial",
            "_view_module": "@jupyter-widgets/base",
            "_model_module_version": "1.5.0",
            "_view_count": null,
            "_view_module_version": "1.2.0",
            "bar_color": null,
            "_model_module": "@jupyter-widgets/controls"
          }
        },
        "f80f105adbe8413e8cdbe38ca8df5644": {
          "model_module": "@jupyter-widgets/base",
          "model_name": "LayoutModel",
          "model_module_version": "1.2.0",
          "state": {
            "_view_name": "LayoutView",
            "grid_template_rows": null,
            "right": null,
            "justify_content": null,
            "_view_module": "@jupyter-widgets/base",
            "overflow": null,
            "_model_module_version": "1.2.0",
            "_view_count": null,
            "flex_flow": null,
            "width": null,
            "min_width": null,
            "border": null,
            "align_items": null,
            "bottom": null,
            "_model_module": "@jupyter-widgets/base",
            "top": null,
            "grid_column": null,
            "overflow_y": null,
            "overflow_x": null,
            "grid_auto_flow": null,
            "grid_area": null,
            "grid_template_columns": null,
            "flex": null,
            "_model_name": "LayoutModel",
            "justify_items": null,
            "grid_row": null,
            "max_height": null,
            "align_content": null,
            "visibility": null,
            "align_self": null,
            "height": null,
            "min_height": null,
            "padding": null,
            "grid_auto_rows": null,
            "grid_gap": null,
            "max_width": null,
            "order": null,
            "_view_module_version": "1.2.0",
            "grid_template_areas": null,
            "object_position": null,
            "object_fit": null,
            "grid_auto_columns": null,
            "margin": null,
            "display": null,
            "left": null
          }
        },
        "ddbb0520470b4860941c8b8b0f586d37": {
          "model_module": "@jupyter-widgets/controls",
          "model_name": "DescriptionStyleModel",
          "model_module_version": "1.5.0",
          "state": {
            "_view_name": "StyleView",
            "_model_name": "DescriptionStyleModel",
            "description_width": "",
            "_view_module": "@jupyter-widgets/base",
            "_model_module_version": "1.5.0",
            "_view_count": null,
            "_view_module_version": "1.2.0",
            "_model_module": "@jupyter-widgets/controls"
          }
        },
        "b4d06a781ebf416e8944a139999542e4": {
          "model_module": "@jupyter-widgets/base",
          "model_name": "LayoutModel",
          "model_module_version": "1.2.0",
          "state": {
            "_view_name": "LayoutView",
            "grid_template_rows": null,
            "right": null,
            "justify_content": null,
            "_view_module": "@jupyter-widgets/base",
            "overflow": null,
            "_model_module_version": "1.2.0",
            "_view_count": null,
            "flex_flow": null,
            "width": null,
            "min_width": null,
            "border": null,
            "align_items": null,
            "bottom": null,
            "_model_module": "@jupyter-widgets/base",
            "top": null,
            "grid_column": null,
            "overflow_y": null,
            "overflow_x": null,
            "grid_auto_flow": null,
            "grid_area": null,
            "grid_template_columns": null,
            "flex": null,
            "_model_name": "LayoutModel",
            "justify_items": null,
            "grid_row": null,
            "max_height": null,
            "align_content": null,
            "visibility": null,
            "align_self": null,
            "height": null,
            "min_height": null,
            "padding": null,
            "grid_auto_rows": null,
            "grid_gap": null,
            "max_width": null,
            "order": null,
            "_view_module_version": "1.2.0",
            "grid_template_areas": null,
            "object_position": null,
            "object_fit": null,
            "grid_auto_columns": null,
            "margin": null,
            "display": null,
            "left": null
          }
        },
        "c56972816c24483eb52b4e8d59ed91f5": {
          "model_module": "@jupyter-widgets/controls",
          "model_name": "HBoxModel",
          "model_module_version": "1.5.0",
          "state": {
            "_view_name": "HBoxView",
            "_dom_classes": [],
            "_model_name": "HBoxModel",
            "_view_module": "@jupyter-widgets/controls",
            "_model_module_version": "1.5.0",
            "_view_count": null,
            "_view_module_version": "1.5.0",
            "box_style": "",
            "layout": "IPY_MODEL_8fa1b1ab2d9048639fcf8cd2df7d0139",
            "_model_module": "@jupyter-widgets/controls",
            "children": [
              "IPY_MODEL_095af7a5d52b48d49bfba82978f61f2c",
              "IPY_MODEL_22be0e19f1004543b78743ef477c4cb3"
            ]
          }
        },
        "8fa1b1ab2d9048639fcf8cd2df7d0139": {
          "model_module": "@jupyter-widgets/base",
          "model_name": "LayoutModel",
          "model_module_version": "1.2.0",
          "state": {
            "_view_name": "LayoutView",
            "grid_template_rows": null,
            "right": null,
            "justify_content": null,
            "_view_module": "@jupyter-widgets/base",
            "overflow": null,
            "_model_module_version": "1.2.0",
            "_view_count": null,
            "flex_flow": null,
            "width": null,
            "min_width": null,
            "border": null,
            "align_items": null,
            "bottom": null,
            "_model_module": "@jupyter-widgets/base",
            "top": null,
            "grid_column": null,
            "overflow_y": null,
            "overflow_x": null,
            "grid_auto_flow": null,
            "grid_area": null,
            "grid_template_columns": null,
            "flex": null,
            "_model_name": "LayoutModel",
            "justify_items": null,
            "grid_row": null,
            "max_height": null,
            "align_content": null,
            "visibility": null,
            "align_self": null,
            "height": null,
            "min_height": null,
            "padding": null,
            "grid_auto_rows": null,
            "grid_gap": null,
            "max_width": null,
            "order": null,
            "_view_module_version": "1.2.0",
            "grid_template_areas": null,
            "object_position": null,
            "object_fit": null,
            "grid_auto_columns": null,
            "margin": null,
            "display": null,
            "left": null
          }
        },
        "095af7a5d52b48d49bfba82978f61f2c": {
          "model_module": "@jupyter-widgets/controls",
          "model_name": "FloatProgressModel",
          "model_module_version": "1.5.0",
          "state": {
            "_view_name": "ProgressView",
            "style": "IPY_MODEL_f88db5720b1d4973a4b9e2a4fa222db4",
            "_dom_classes": [],
            "description": "Downloading: 100%",
            "_model_name": "FloatProgressModel",
            "bar_style": "success",
            "max": 891691413,
            "_view_module": "@jupyter-widgets/controls",
            "_model_module_version": "1.5.0",
            "value": 891691413,
            "_view_count": null,
            "_view_module_version": "1.5.0",
            "orientation": "horizontal",
            "min": 0,
            "description_tooltip": null,
            "_model_module": "@jupyter-widgets/controls",
            "layout": "IPY_MODEL_fa4ece699bf84116a0820922b479daeb"
          }
        },
        "22be0e19f1004543b78743ef477c4cb3": {
          "model_module": "@jupyter-widgets/controls",
          "model_name": "HTMLModel",
          "model_module_version": "1.5.0",
          "state": {
            "_view_name": "HTMLView",
            "style": "IPY_MODEL_d49f663a4c09402d808aa9d39c2e285d",
            "_dom_classes": [],
            "description": "",
            "_model_name": "HTMLModel",
            "placeholder": "​",
            "_view_module": "@jupyter-widgets/controls",
            "_model_module_version": "1.5.0",
            "value": " 892M/892M [00:25&lt;00:00, 34.3MB/s]",
            "_view_count": null,
            "_view_module_version": "1.5.0",
            "description_tooltip": null,
            "_model_module": "@jupyter-widgets/controls",
            "layout": "IPY_MODEL_cfb2f3f340674f5796848c66c48c6d8d"
          }
        },
        "f88db5720b1d4973a4b9e2a4fa222db4": {
          "model_module": "@jupyter-widgets/controls",
          "model_name": "ProgressStyleModel",
          "model_module_version": "1.5.0",
          "state": {
            "_view_name": "StyleView",
            "_model_name": "ProgressStyleModel",
            "description_width": "initial",
            "_view_module": "@jupyter-widgets/base",
            "_model_module_version": "1.5.0",
            "_view_count": null,
            "_view_module_version": "1.2.0",
            "bar_color": null,
            "_model_module": "@jupyter-widgets/controls"
          }
        },
        "fa4ece699bf84116a0820922b479daeb": {
          "model_module": "@jupyter-widgets/base",
          "model_name": "LayoutModel",
          "model_module_version": "1.2.0",
          "state": {
            "_view_name": "LayoutView",
            "grid_template_rows": null,
            "right": null,
            "justify_content": null,
            "_view_module": "@jupyter-widgets/base",
            "overflow": null,
            "_model_module_version": "1.2.0",
            "_view_count": null,
            "flex_flow": null,
            "width": null,
            "min_width": null,
            "border": null,
            "align_items": null,
            "bottom": null,
            "_model_module": "@jupyter-widgets/base",
            "top": null,
            "grid_column": null,
            "overflow_y": null,
            "overflow_x": null,
            "grid_auto_flow": null,
            "grid_area": null,
            "grid_template_columns": null,
            "flex": null,
            "_model_name": "LayoutModel",
            "justify_items": null,
            "grid_row": null,
            "max_height": null,
            "align_content": null,
            "visibility": null,
            "align_self": null,
            "height": null,
            "min_height": null,
            "padding": null,
            "grid_auto_rows": null,
            "grid_gap": null,
            "max_width": null,
            "order": null,
            "_view_module_version": "1.2.0",
            "grid_template_areas": null,
            "object_position": null,
            "object_fit": null,
            "grid_auto_columns": null,
            "margin": null,
            "display": null,
            "left": null
          }
        },
        "d49f663a4c09402d808aa9d39c2e285d": {
          "model_module": "@jupyter-widgets/controls",
          "model_name": "DescriptionStyleModel",
          "model_module_version": "1.5.0",
          "state": {
            "_view_name": "StyleView",
            "_model_name": "DescriptionStyleModel",
            "description_width": "",
            "_view_module": "@jupyter-widgets/base",
            "_model_module_version": "1.5.0",
            "_view_count": null,
            "_view_module_version": "1.2.0",
            "_model_module": "@jupyter-widgets/controls"
          }
        },
        "cfb2f3f340674f5796848c66c48c6d8d": {
          "model_module": "@jupyter-widgets/base",
          "model_name": "LayoutModel",
          "model_module_version": "1.2.0",
          "state": {
            "_view_name": "LayoutView",
            "grid_template_rows": null,
            "right": null,
            "justify_content": null,
            "_view_module": "@jupyter-widgets/base",
            "overflow": null,
            "_model_module_version": "1.2.0",
            "_view_count": null,
            "flex_flow": null,
            "width": null,
            "min_width": null,
            "border": null,
            "align_items": null,
            "bottom": null,
            "_model_module": "@jupyter-widgets/base",
            "top": null,
            "grid_column": null,
            "overflow_y": null,
            "overflow_x": null,
            "grid_auto_flow": null,
            "grid_area": null,
            "grid_template_columns": null,
            "flex": null,
            "_model_name": "LayoutModel",
            "justify_items": null,
            "grid_row": null,
            "max_height": null,
            "align_content": null,
            "visibility": null,
            "align_self": null,
            "height": null,
            "min_height": null,
            "padding": null,
            "grid_auto_rows": null,
            "grid_gap": null,
            "max_width": null,
            "order": null,
            "_view_module_version": "1.2.0",
            "grid_template_areas": null,
            "object_position": null,
            "object_fit": null,
            "grid_auto_columns": null,
            "margin": null,
            "display": null,
            "left": null
          }
        },
        "d291508c96cb4b2e8e1982d173d972d9": {
          "model_module": "@jupyter-widgets/controls",
          "model_name": "HBoxModel",
          "model_module_version": "1.5.0",
          "state": {
            "_view_name": "HBoxView",
            "_dom_classes": [],
            "_model_name": "HBoxModel",
            "_view_module": "@jupyter-widgets/controls",
            "_model_module_version": "1.5.0",
            "_view_count": null,
            "_view_module_version": "1.5.0",
            "box_style": "",
            "layout": "IPY_MODEL_c0851732d24f4094a88f40d9057b4857",
            "_model_module": "@jupyter-widgets/controls",
            "children": [
              "IPY_MODEL_34b169285d5a43b79e9e28ff230cb2ac",
              "IPY_MODEL_3bf31f6ed6ef40e8bc3fb907e7cec10a"
            ]
          }
        },
        "c0851732d24f4094a88f40d9057b4857": {
          "model_module": "@jupyter-widgets/base",
          "model_name": "LayoutModel",
          "model_module_version": "1.2.0",
          "state": {
            "_view_name": "LayoutView",
            "grid_template_rows": null,
            "right": null,
            "justify_content": null,
            "_view_module": "@jupyter-widgets/base",
            "overflow": null,
            "_model_module_version": "1.2.0",
            "_view_count": null,
            "flex_flow": null,
            "width": null,
            "min_width": null,
            "border": null,
            "align_items": null,
            "bottom": null,
            "_model_module": "@jupyter-widgets/base",
            "top": null,
            "grid_column": null,
            "overflow_y": null,
            "overflow_x": null,
            "grid_auto_flow": null,
            "grid_area": null,
            "grid_template_columns": null,
            "flex": null,
            "_model_name": "LayoutModel",
            "justify_items": null,
            "grid_row": null,
            "max_height": null,
            "align_content": null,
            "visibility": null,
            "align_self": null,
            "height": null,
            "min_height": null,
            "padding": null,
            "grid_auto_rows": null,
            "grid_gap": null,
            "max_width": null,
            "order": null,
            "_view_module_version": "1.2.0",
            "grid_template_areas": null,
            "object_position": null,
            "object_fit": null,
            "grid_auto_columns": null,
            "margin": null,
            "display": null,
            "left": null
          }
        },
        "34b169285d5a43b79e9e28ff230cb2ac": {
          "model_module": "@jupyter-widgets/controls",
          "model_name": "FloatProgressModel",
          "model_module_version": "1.5.0",
          "state": {
            "_view_name": "ProgressView",
            "style": "IPY_MODEL_ea19a4e4ce164c71a567809863f9c2e1",
            "_dom_classes": [],
            "description": "Downloading: 100%",
            "_model_name": "FloatProgressModel",
            "bar_style": "success",
            "max": 791656,
            "_view_module": "@jupyter-widgets/controls",
            "_model_module_version": "1.5.0",
            "value": 791656,
            "_view_count": null,
            "_view_module_version": "1.5.0",
            "orientation": "horizontal",
            "min": 0,
            "description_tooltip": null,
            "_model_module": "@jupyter-widgets/controls",
            "layout": "IPY_MODEL_e82c3c9506fb4f4da7884e9f6eb37d6a"
          }
        },
        "3bf31f6ed6ef40e8bc3fb907e7cec10a": {
          "model_module": "@jupyter-widgets/controls",
          "model_name": "HTMLModel",
          "model_module_version": "1.5.0",
          "state": {
            "_view_name": "HTMLView",
            "style": "IPY_MODEL_75eaf34fecea47e094a9a0b517006b83",
            "_dom_classes": [],
            "description": "",
            "_model_name": "HTMLModel",
            "placeholder": "​",
            "_view_module": "@jupyter-widgets/controls",
            "_model_module_version": "1.5.0",
            "value": " 792k/792k [00:01&lt;00:00, 457kB/s]",
            "_view_count": null,
            "_view_module_version": "1.5.0",
            "description_tooltip": null,
            "_model_module": "@jupyter-widgets/controls",
            "layout": "IPY_MODEL_d401dc8e08794a8a8ab6e2e1cb9bb139"
          }
        },
        "ea19a4e4ce164c71a567809863f9c2e1": {
          "model_module": "@jupyter-widgets/controls",
          "model_name": "ProgressStyleModel",
          "model_module_version": "1.5.0",
          "state": {
            "_view_name": "StyleView",
            "_model_name": "ProgressStyleModel",
            "description_width": "initial",
            "_view_module": "@jupyter-widgets/base",
            "_model_module_version": "1.5.0",
            "_view_count": null,
            "_view_module_version": "1.2.0",
            "bar_color": null,
            "_model_module": "@jupyter-widgets/controls"
          }
        },
        "e82c3c9506fb4f4da7884e9f6eb37d6a": {
          "model_module": "@jupyter-widgets/base",
          "model_name": "LayoutModel",
          "model_module_version": "1.2.0",
          "state": {
            "_view_name": "LayoutView",
            "grid_template_rows": null,
            "right": null,
            "justify_content": null,
            "_view_module": "@jupyter-widgets/base",
            "overflow": null,
            "_model_module_version": "1.2.0",
            "_view_count": null,
            "flex_flow": null,
            "width": null,
            "min_width": null,
            "border": null,
            "align_items": null,
            "bottom": null,
            "_model_module": "@jupyter-widgets/base",
            "top": null,
            "grid_column": null,
            "overflow_y": null,
            "overflow_x": null,
            "grid_auto_flow": null,
            "grid_area": null,
            "grid_template_columns": null,
            "flex": null,
            "_model_name": "LayoutModel",
            "justify_items": null,
            "grid_row": null,
            "max_height": null,
            "align_content": null,
            "visibility": null,
            "align_self": null,
            "height": null,
            "min_height": null,
            "padding": null,
            "grid_auto_rows": null,
            "grid_gap": null,
            "max_width": null,
            "order": null,
            "_view_module_version": "1.2.0",
            "grid_template_areas": null,
            "object_position": null,
            "object_fit": null,
            "grid_auto_columns": null,
            "margin": null,
            "display": null,
            "left": null
          }
        },
        "75eaf34fecea47e094a9a0b517006b83": {
          "model_module": "@jupyter-widgets/controls",
          "model_name": "DescriptionStyleModel",
          "model_module_version": "1.5.0",
          "state": {
            "_view_name": "StyleView",
            "_model_name": "DescriptionStyleModel",
            "description_width": "",
            "_view_module": "@jupyter-widgets/base",
            "_model_module_version": "1.5.0",
            "_view_count": null,
            "_view_module_version": "1.2.0",
            "_model_module": "@jupyter-widgets/controls"
          }
        },
        "d401dc8e08794a8a8ab6e2e1cb9bb139": {
          "model_module": "@jupyter-widgets/base",
          "model_name": "LayoutModel",
          "model_module_version": "1.2.0",
          "state": {
            "_view_name": "LayoutView",
            "grid_template_rows": null,
            "right": null,
            "justify_content": null,
            "_view_module": "@jupyter-widgets/base",
            "overflow": null,
            "_model_module_version": "1.2.0",
            "_view_count": null,
            "flex_flow": null,
            "width": null,
            "min_width": null,
            "border": null,
            "align_items": null,
            "bottom": null,
            "_model_module": "@jupyter-widgets/base",
            "top": null,
            "grid_column": null,
            "overflow_y": null,
            "overflow_x": null,
            "grid_auto_flow": null,
            "grid_area": null,
            "grid_template_columns": null,
            "flex": null,
            "_model_name": "LayoutModel",
            "justify_items": null,
            "grid_row": null,
            "max_height": null,
            "align_content": null,
            "visibility": null,
            "align_self": null,
            "height": null,
            "min_height": null,
            "padding": null,
            "grid_auto_rows": null,
            "grid_gap": null,
            "max_width": null,
            "order": null,
            "_view_module_version": "1.2.0",
            "grid_template_areas": null,
            "object_position": null,
            "object_fit": null,
            "grid_auto_columns": null,
            "margin": null,
            "display": null,
            "left": null
          }
        },
        "e42802f4ab3a49aa8a8918c1758da465": {
          "model_module": "@jupyter-widgets/controls",
          "model_name": "HBoxModel",
          "model_module_version": "1.5.0",
          "state": {
            "_view_name": "HBoxView",
            "_dom_classes": [],
            "_model_name": "HBoxModel",
            "_view_module": "@jupyter-widgets/controls",
            "_model_module_version": "1.5.0",
            "_view_count": null,
            "_view_module_version": "1.5.0",
            "box_style": "",
            "layout": "IPY_MODEL_41f9714d26da48d885adeabb2011a14c",
            "_model_module": "@jupyter-widgets/controls",
            "children": [
              "IPY_MODEL_34916e54a2c84a86a862521af1e97ccb",
              "IPY_MODEL_f4be359cd5ec47fe9659fe363e6955af"
            ]
          }
        },
        "41f9714d26da48d885adeabb2011a14c": {
          "model_module": "@jupyter-widgets/base",
          "model_name": "LayoutModel",
          "model_module_version": "1.2.0",
          "state": {
            "_view_name": "LayoutView",
            "grid_template_rows": null,
            "right": null,
            "justify_content": null,
            "_view_module": "@jupyter-widgets/base",
            "overflow": null,
            "_model_module_version": "1.2.0",
            "_view_count": null,
            "flex_flow": null,
            "width": null,
            "min_width": null,
            "border": null,
            "align_items": null,
            "bottom": null,
            "_model_module": "@jupyter-widgets/base",
            "top": null,
            "grid_column": null,
            "overflow_y": null,
            "overflow_x": null,
            "grid_auto_flow": null,
            "grid_area": null,
            "grid_template_columns": null,
            "flex": null,
            "_model_name": "LayoutModel",
            "justify_items": null,
            "grid_row": null,
            "max_height": null,
            "align_content": null,
            "visibility": null,
            "align_self": null,
            "height": null,
            "min_height": null,
            "padding": null,
            "grid_auto_rows": null,
            "grid_gap": null,
            "max_width": null,
            "order": null,
            "_view_module_version": "1.2.0",
            "grid_template_areas": null,
            "object_position": null,
            "object_fit": null,
            "grid_auto_columns": null,
            "margin": null,
            "display": null,
            "left": null
          }
        },
        "34916e54a2c84a86a862521af1e97ccb": {
          "model_module": "@jupyter-widgets/controls",
          "model_name": "FloatProgressModel",
          "model_module_version": "1.5.0",
          "state": {
            "_view_name": "ProgressView",
            "style": "IPY_MODEL_4c9c8b2f439144c5be0779a7bf5b414c",
            "_dom_classes": [],
            "description": "Downloading: 100%",
            "_model_name": "FloatProgressModel",
            "bar_style": "success",
            "max": 1786,
            "_view_module": "@jupyter-widgets/controls",
            "_model_module_version": "1.5.0",
            "value": 1786,
            "_view_count": null,
            "_view_module_version": "1.5.0",
            "orientation": "horizontal",
            "min": 0,
            "description_tooltip": null,
            "_model_module": "@jupyter-widgets/controls",
            "layout": "IPY_MODEL_850c0110777942e3abc535de18766f5e"
          }
        },
        "f4be359cd5ec47fe9659fe363e6955af": {
          "model_module": "@jupyter-widgets/controls",
          "model_name": "HTMLModel",
          "model_module_version": "1.5.0",
          "state": {
            "_view_name": "HTMLView",
            "style": "IPY_MODEL_c5dd5828a6a34749b53d9b7ec801d7ca",
            "_dom_classes": [],
            "description": "",
            "_model_name": "HTMLModel",
            "placeholder": "​",
            "_view_module": "@jupyter-widgets/controls",
            "_model_module_version": "1.5.0",
            "value": " 1.79k/1.79k [00:00&lt;00:00, 3.09kB/s]",
            "_view_count": null,
            "_view_module_version": "1.5.0",
            "description_tooltip": null,
            "_model_module": "@jupyter-widgets/controls",
            "layout": "IPY_MODEL_7dbc2e9fe443460c9b3d8ccb01e54dbb"
          }
        },
        "4c9c8b2f439144c5be0779a7bf5b414c": {
          "model_module": "@jupyter-widgets/controls",
          "model_name": "ProgressStyleModel",
          "model_module_version": "1.5.0",
          "state": {
            "_view_name": "StyleView",
            "_model_name": "ProgressStyleModel",
            "description_width": "initial",
            "_view_module": "@jupyter-widgets/base",
            "_model_module_version": "1.5.0",
            "_view_count": null,
            "_view_module_version": "1.2.0",
            "bar_color": null,
            "_model_module": "@jupyter-widgets/controls"
          }
        },
        "850c0110777942e3abc535de18766f5e": {
          "model_module": "@jupyter-widgets/base",
          "model_name": "LayoutModel",
          "model_module_version": "1.2.0",
          "state": {
            "_view_name": "LayoutView",
            "grid_template_rows": null,
            "right": null,
            "justify_content": null,
            "_view_module": "@jupyter-widgets/base",
            "overflow": null,
            "_model_module_version": "1.2.0",
            "_view_count": null,
            "flex_flow": null,
            "width": null,
            "min_width": null,
            "border": null,
            "align_items": null,
            "bottom": null,
            "_model_module": "@jupyter-widgets/base",
            "top": null,
            "grid_column": null,
            "overflow_y": null,
            "overflow_x": null,
            "grid_auto_flow": null,
            "grid_area": null,
            "grid_template_columns": null,
            "flex": null,
            "_model_name": "LayoutModel",
            "justify_items": null,
            "grid_row": null,
            "max_height": null,
            "align_content": null,
            "visibility": null,
            "align_self": null,
            "height": null,
            "min_height": null,
            "padding": null,
            "grid_auto_rows": null,
            "grid_gap": null,
            "max_width": null,
            "order": null,
            "_view_module_version": "1.2.0",
            "grid_template_areas": null,
            "object_position": null,
            "object_fit": null,
            "grid_auto_columns": null,
            "margin": null,
            "display": null,
            "left": null
          }
        },
        "c5dd5828a6a34749b53d9b7ec801d7ca": {
          "model_module": "@jupyter-widgets/controls",
          "model_name": "DescriptionStyleModel",
          "model_module_version": "1.5.0",
          "state": {
            "_view_name": "StyleView",
            "_model_name": "DescriptionStyleModel",
            "description_width": "",
            "_view_module": "@jupyter-widgets/base",
            "_model_module_version": "1.5.0",
            "_view_count": null,
            "_view_module_version": "1.2.0",
            "_model_module": "@jupyter-widgets/controls"
          }
        },
        "7dbc2e9fe443460c9b3d8ccb01e54dbb": {
          "model_module": "@jupyter-widgets/base",
          "model_name": "LayoutModel",
          "model_module_version": "1.2.0",
          "state": {
            "_view_name": "LayoutView",
            "grid_template_rows": null,
            "right": null,
            "justify_content": null,
            "_view_module": "@jupyter-widgets/base",
            "overflow": null,
            "_model_module_version": "1.2.0",
            "_view_count": null,
            "flex_flow": null,
            "width": null,
            "min_width": null,
            "border": null,
            "align_items": null,
            "bottom": null,
            "_model_module": "@jupyter-widgets/base",
            "top": null,
            "grid_column": null,
            "overflow_y": null,
            "overflow_x": null,
            "grid_auto_flow": null,
            "grid_area": null,
            "grid_template_columns": null,
            "flex": null,
            "_model_name": "LayoutModel",
            "justify_items": null,
            "grid_row": null,
            "max_height": null,
            "align_content": null,
            "visibility": null,
            "align_self": null,
            "height": null,
            "min_height": null,
            "padding": null,
            "grid_auto_rows": null,
            "grid_gap": null,
            "max_width": null,
            "order": null,
            "_view_module_version": "1.2.0",
            "grid_template_areas": null,
            "object_position": null,
            "object_fit": null,
            "grid_auto_columns": null,
            "margin": null,
            "display": null,
            "left": null
          }
        },
        "ed5b0a52126743ec838cdee4562db35d": {
          "model_module": "@jupyter-widgets/controls",
          "model_name": "HBoxModel",
          "model_module_version": "1.5.0",
          "state": {
            "_view_name": "HBoxView",
            "_dom_classes": [],
            "_model_name": "HBoxModel",
            "_view_module": "@jupyter-widgets/controls",
            "_model_module_version": "1.5.0",
            "_view_count": null,
            "_view_module_version": "1.5.0",
            "box_style": "",
            "layout": "IPY_MODEL_3bf1dd01eb53403aa9e2b1ac2bf282a7",
            "_model_module": "@jupyter-widgets/controls",
            "children": [
              "IPY_MODEL_5b210974169e40e48d29e07fcbb120c7",
              "IPY_MODEL_aa0acbda8ab94660965e166e7e51ca1d"
            ]
          }
        },
        "3bf1dd01eb53403aa9e2b1ac2bf282a7": {
          "model_module": "@jupyter-widgets/base",
          "model_name": "LayoutModel",
          "model_module_version": "1.2.0",
          "state": {
            "_view_name": "LayoutView",
            "grid_template_rows": null,
            "right": null,
            "justify_content": null,
            "_view_module": "@jupyter-widgets/base",
            "overflow": null,
            "_model_module_version": "1.2.0",
            "_view_count": null,
            "flex_flow": null,
            "width": null,
            "min_width": null,
            "border": null,
            "align_items": null,
            "bottom": null,
            "_model_module": "@jupyter-widgets/base",
            "top": null,
            "grid_column": null,
            "overflow_y": null,
            "overflow_x": null,
            "grid_auto_flow": null,
            "grid_area": null,
            "grid_template_columns": null,
            "flex": null,
            "_model_name": "LayoutModel",
            "justify_items": null,
            "grid_row": null,
            "max_height": null,
            "align_content": null,
            "visibility": null,
            "align_self": null,
            "height": null,
            "min_height": null,
            "padding": null,
            "grid_auto_rows": null,
            "grid_gap": null,
            "max_width": null,
            "order": null,
            "_view_module_version": "1.2.0",
            "grid_template_areas": null,
            "object_position": null,
            "object_fit": null,
            "grid_auto_columns": null,
            "margin": null,
            "display": null,
            "left": null
          }
        },
        "5b210974169e40e48d29e07fcbb120c7": {
          "model_module": "@jupyter-widgets/controls",
          "model_name": "FloatProgressModel",
          "model_module_version": "1.5.0",
          "state": {
            "_view_name": "ProgressView",
            "style": "IPY_MODEL_a1b4d483788e41acb5a1e4ddc19db024",
            "_dom_classes": [],
            "description": "Downloading: 100%",
            "_model_name": "FloatProgressModel",
            "bar_style": "success",
            "max": 25,
            "_view_module": "@jupyter-widgets/controls",
            "_model_module_version": "1.5.0",
            "value": 25,
            "_view_count": null,
            "_view_module_version": "1.5.0",
            "orientation": "horizontal",
            "min": 0,
            "description_tooltip": null,
            "_model_module": "@jupyter-widgets/controls",
            "layout": "IPY_MODEL_5c029ba03ef54fbfa3e4928b32f04b17"
          }
        },
        "aa0acbda8ab94660965e166e7e51ca1d": {
          "model_module": "@jupyter-widgets/controls",
          "model_name": "HTMLModel",
          "model_module_version": "1.5.0",
          "state": {
            "_view_name": "HTMLView",
            "style": "IPY_MODEL_dbb00d3b7bc14e81b04f166ca74d1ec2",
            "_dom_classes": [],
            "description": "",
            "_model_name": "HTMLModel",
            "placeholder": "​",
            "_view_module": "@jupyter-widgets/controls",
            "_model_module_version": "1.5.0",
            "value": " 25.0/25.0 [01:15&lt;00:00, 3.03s/B]",
            "_view_count": null,
            "_view_module_version": "1.5.0",
            "description_tooltip": null,
            "_model_module": "@jupyter-widgets/controls",
            "layout": "IPY_MODEL_faf1cd1b608a4df1b32dc9b8f7ec7973"
          }
        },
        "a1b4d483788e41acb5a1e4ddc19db024": {
          "model_module": "@jupyter-widgets/controls",
          "model_name": "ProgressStyleModel",
          "model_module_version": "1.5.0",
          "state": {
            "_view_name": "StyleView",
            "_model_name": "ProgressStyleModel",
            "description_width": "initial",
            "_view_module": "@jupyter-widgets/base",
            "_model_module_version": "1.5.0",
            "_view_count": null,
            "_view_module_version": "1.2.0",
            "bar_color": null,
            "_model_module": "@jupyter-widgets/controls"
          }
        },
        "5c029ba03ef54fbfa3e4928b32f04b17": {
          "model_module": "@jupyter-widgets/base",
          "model_name": "LayoutModel",
          "model_module_version": "1.2.0",
          "state": {
            "_view_name": "LayoutView",
            "grid_template_rows": null,
            "right": null,
            "justify_content": null,
            "_view_module": "@jupyter-widgets/base",
            "overflow": null,
            "_model_module_version": "1.2.0",
            "_view_count": null,
            "flex_flow": null,
            "width": null,
            "min_width": null,
            "border": null,
            "align_items": null,
            "bottom": null,
            "_model_module": "@jupyter-widgets/base",
            "top": null,
            "grid_column": null,
            "overflow_y": null,
            "overflow_x": null,
            "grid_auto_flow": null,
            "grid_area": null,
            "grid_template_columns": null,
            "flex": null,
            "_model_name": "LayoutModel",
            "justify_items": null,
            "grid_row": null,
            "max_height": null,
            "align_content": null,
            "visibility": null,
            "align_self": null,
            "height": null,
            "min_height": null,
            "padding": null,
            "grid_auto_rows": null,
            "grid_gap": null,
            "max_width": null,
            "order": null,
            "_view_module_version": "1.2.0",
            "grid_template_areas": null,
            "object_position": null,
            "object_fit": null,
            "grid_auto_columns": null,
            "margin": null,
            "display": null,
            "left": null
          }
        },
        "dbb00d3b7bc14e81b04f166ca74d1ec2": {
          "model_module": "@jupyter-widgets/controls",
          "model_name": "DescriptionStyleModel",
          "model_module_version": "1.5.0",
          "state": {
            "_view_name": "StyleView",
            "_model_name": "DescriptionStyleModel",
            "description_width": "",
            "_view_module": "@jupyter-widgets/base",
            "_model_module_version": "1.5.0",
            "_view_count": null,
            "_view_module_version": "1.2.0",
            "_model_module": "@jupyter-widgets/controls"
          }
        },
        "faf1cd1b608a4df1b32dc9b8f7ec7973": {
          "model_module": "@jupyter-widgets/base",
          "model_name": "LayoutModel",
          "model_module_version": "1.2.0",
          "state": {
            "_view_name": "LayoutView",
            "grid_template_rows": null,
            "right": null,
            "justify_content": null,
            "_view_module": "@jupyter-widgets/base",
            "overflow": null,
            "_model_module_version": "1.2.0",
            "_view_count": null,
            "flex_flow": null,
            "width": null,
            "min_width": null,
            "border": null,
            "align_items": null,
            "bottom": null,
            "_model_module": "@jupyter-widgets/base",
            "top": null,
            "grid_column": null,
            "overflow_y": null,
            "overflow_x": null,
            "grid_auto_flow": null,
            "grid_area": null,
            "grid_template_columns": null,
            "flex": null,
            "_model_name": "LayoutModel",
            "justify_items": null,
            "grid_row": null,
            "max_height": null,
            "align_content": null,
            "visibility": null,
            "align_self": null,
            "height": null,
            "min_height": null,
            "padding": null,
            "grid_auto_rows": null,
            "grid_gap": null,
            "max_width": null,
            "order": null,
            "_view_module_version": "1.2.0",
            "grid_template_areas": null,
            "object_position": null,
            "object_fit": null,
            "grid_auto_columns": null,
            "margin": null,
            "display": null,
            "left": null
          }
        }
      }
    },
    "accelerator": "GPU"
  },
  "cells": [
    {
      "cell_type": "code",
      "metadata": {
        "colab": {
          "base_uri": "https://localhost:8080/"
        },
        "id": "4NNrlz0VCiUG",
        "outputId": "d47443d6-9665-4dd6-a701-f12665db5831"
      },
      "source": [
        "!pip install transformers==2.8.0"
      ],
      "execution_count": null,
      "outputs": [
        {
          "output_type": "stream",
          "text": [
            "Collecting transformers==2.8.0\n",
            "\u001b[?25l  Downloading https://files.pythonhosted.org/packages/a3/78/92cedda05552398352ed9784908b834ee32a0bd071a9b32de287327370b7/transformers-2.8.0-py3-none-any.whl (563kB)\n",
            "\u001b[K     |████████████████████████████████| 573kB 8.7MB/s \n",
            "\u001b[?25hCollecting sacremoses\n",
            "\u001b[?25l  Downloading https://files.pythonhosted.org/packages/08/cd/342e584ee544d044fb573ae697404ce22ede086c9e87ce5960772084cad0/sacremoses-0.0.44.tar.gz (862kB)\n",
            "\u001b[K     |████████████████████████████████| 870kB 15.6MB/s \n",
            "\u001b[?25hRequirement already satisfied: numpy in /usr/local/lib/python3.7/dist-packages (from transformers==2.8.0) (1.19.5)\n",
            "Requirement already satisfied: tqdm>=4.27 in /usr/local/lib/python3.7/dist-packages (from transformers==2.8.0) (4.41.1)\n",
            "Requirement already satisfied: requests in /usr/local/lib/python3.7/dist-packages (from transformers==2.8.0) (2.23.0)\n",
            "Requirement already satisfied: filelock in /usr/local/lib/python3.7/dist-packages (from transformers==2.8.0) (3.0.12)\n",
            "Collecting sentencepiece\n",
            "\u001b[?25l  Downloading https://files.pythonhosted.org/packages/f5/99/e0808cb947ba10f575839c43e8fafc9cc44e4a7a2c8f79c60db48220a577/sentencepiece-0.1.95-cp37-cp37m-manylinux2014_x86_64.whl (1.2MB)\n",
            "\u001b[K     |████████████████████████████████| 1.2MB 34.7MB/s \n",
            "\u001b[?25hCollecting tokenizers==0.5.2\n",
            "\u001b[?25l  Downloading https://files.pythonhosted.org/packages/d6/e3/5e49e9a83fb605aaa34a1c1173e607302fecae529428c28696fb18f1c2c9/tokenizers-0.5.2-cp37-cp37m-manylinux1_x86_64.whl (5.6MB)\n",
            "\u001b[K     |████████████████████████████████| 5.6MB 43.8MB/s \n",
            "\u001b[?25hCollecting boto3\n",
            "\u001b[?25l  Downloading https://files.pythonhosted.org/packages/aa/98/e9459d65ad8ab27886bf9d86a537e6f65b5bdbc4c7de68ba45b524ef74a1/boto3-1.17.52-py2.py3-none-any.whl (131kB)\n",
            "\u001b[K     |████████████████████████████████| 133kB 56.2MB/s \n",
            "\u001b[?25hRequirement already satisfied: regex!=2019.12.17 in /usr/local/lib/python3.7/dist-packages (from transformers==2.8.0) (2019.12.20)\n",
            "Requirement already satisfied: six in /usr/local/lib/python3.7/dist-packages (from sacremoses->transformers==2.8.0) (1.15.0)\n",
            "Requirement already satisfied: click in /usr/local/lib/python3.7/dist-packages (from sacremoses->transformers==2.8.0) (7.1.2)\n",
            "Requirement already satisfied: joblib in /usr/local/lib/python3.7/dist-packages (from sacremoses->transformers==2.8.0) (1.0.1)\n",
            "Requirement already satisfied: certifi>=2017.4.17 in /usr/local/lib/python3.7/dist-packages (from requests->transformers==2.8.0) (2020.12.5)\n",
            "Requirement already satisfied: idna<3,>=2.5 in /usr/local/lib/python3.7/dist-packages (from requests->transformers==2.8.0) (2.10)\n",
            "Requirement already satisfied: chardet<4,>=3.0.2 in /usr/local/lib/python3.7/dist-packages (from requests->transformers==2.8.0) (3.0.4)\n",
            "Requirement already satisfied: urllib3!=1.25.0,!=1.25.1,<1.26,>=1.21.1 in /usr/local/lib/python3.7/dist-packages (from requests->transformers==2.8.0) (1.24.3)\n",
            "Collecting botocore<1.21.0,>=1.20.52\n",
            "\u001b[?25l  Downloading https://files.pythonhosted.org/packages/8f/f3/be57d6b74618db08bcc67be52da014c8d12132fedb1d12457c386b7be373/botocore-1.20.52-py2.py3-none-any.whl (7.4MB)\n",
            "\u001b[K     |████████████████████████████████| 7.4MB 40.8MB/s \n",
            "\u001b[?25hCollecting jmespath<1.0.0,>=0.7.1\n",
            "  Downloading https://files.pythonhosted.org/packages/07/cb/5f001272b6faeb23c1c9e0acc04d48eaaf5c862c17709d20e3469c6e0139/jmespath-0.10.0-py2.py3-none-any.whl\n",
            "Collecting s3transfer<0.4.0,>=0.3.0\n",
            "\u001b[?25l  Downloading https://files.pythonhosted.org/packages/00/89/0cb4e92c239e6425b9b0035227b8cdf9d3d098a5c9e95632c3815df63a09/s3transfer-0.3.7-py2.py3-none-any.whl (73kB)\n",
            "\u001b[K     |████████████████████████████████| 81kB 11.8MB/s \n",
            "\u001b[?25hRequirement already satisfied: python-dateutil<3.0.0,>=2.1 in /usr/local/lib/python3.7/dist-packages (from botocore<1.21.0,>=1.20.52->boto3->transformers==2.8.0) (2.8.1)\n",
            "Building wheels for collected packages: sacremoses\n",
            "  Building wheel for sacremoses (setup.py) ... \u001b[?25l\u001b[?25hdone\n",
            "  Created wheel for sacremoses: filename=sacremoses-0.0.44-cp37-none-any.whl size=886084 sha256=9e4665b6b86ec79662ac447b98e0a665650a08b8cbff1dc09d8cc91eaef66c5a\n",
            "  Stored in directory: /root/.cache/pip/wheels/3e/fb/c0/13ab4d63d537658f448366744654323077c4d90069b6512f3c\n",
            "Successfully built sacremoses\n",
            "\u001b[31mERROR: botocore 1.20.52 has requirement urllib3<1.27,>=1.25.4, but you'll have urllib3 1.24.3 which is incompatible.\u001b[0m\n",
            "Installing collected packages: sacremoses, sentencepiece, tokenizers, jmespath, botocore, s3transfer, boto3, transformers\n",
            "Successfully installed boto3-1.17.52 botocore-1.20.52 jmespath-0.10.0 s3transfer-0.3.7 sacremoses-0.0.44 sentencepiece-0.1.95 tokenizers-0.5.2 transformers-2.8.0\n"
          ],
          "name": "stdout"
        }
      ]
    },
    {
      "cell_type": "code",
      "metadata": {
        "id": "XVObBk7SD-Dr",
        "colab": {
          "base_uri": "https://localhost:8080/"
        },
        "outputId": "614f1c9a-4b17-499f-c78c-775de03bb3ee"
      },
      "source": [
        "import torch\n",
        "import pandas as pd\n",
        "import numpy as np\n",
        "from yaml import load, dump, Loader, Dumper\n",
        "print(torch.__version__)"
      ],
      "execution_count": null,
      "outputs": [
        {
          "output_type": "stream",
          "text": [
            "1.8.1+cu101\n"
          ],
          "name": "stdout"
        }
      ]
    },
    {
      "cell_type": "code",
      "metadata": {
        "id": "SAhP0A7CDosh"
      },
      "source": [
        "import yaml\n",
        "\n",
        "with open(\"nlu.yml\", 'r') as stream:\n",
        "    try:\n",
        "        data = yaml.safe_load(stream)\n",
        "    except yaml.YAMLError as exc:\n",
        "        print(exc)"
      ],
      "execution_count": null,
      "outputs": []
    },
    {
      "cell_type": "code",
      "metadata": {
        "id": "RRipT_vhD4L9",
        "colab": {
          "base_uri": "https://localhost:8080/"
        },
        "outputId": "29bf52f4-fa6a-4039-e04d-8f7237461174"
      },
      "source": [
        "[example.replace('- ', '') for example in data['nlu'][11]['examples'].split('\\n')]"
      ],
      "execution_count": null,
      "outputs": [
        {
          "output_type": "execute_result",
          "data": {
            "text/plain": [
              "['is the fur used in your products real?',\n",
              " 'are all ASOS products vegan?',\n",
              " 'do you use vegan fur?',\n",
              " 'What kind of fur do you use?',\n",
              " 'Does your company use real fur?',\n",
              " 'Is your fur cruelty free?',\n",
              " 'Are your products made of real animal fur?',\n",
              " 'Does your product contain real fur?',\n",
              " 'Is the fur on your product real?',\n",
              " 'Is your fur fake?',\n",
              " 'Is your fur real?',\n",
              " 'Is any of the product on the website made of real fur?',\n",
              " 'wats your fur made of',\n",
              " '']"
            ]
          },
          "metadata": {
            "tags": []
          },
          "execution_count": 5
        }
      ]
    },
    {
      "cell_type": "code",
      "metadata": {
        "colab": {
          "base_uri": "https://localhost:8080/",
          "height": 279,
          "referenced_widgets": [
            "f295dfce44ef49ea9269eca29859b572",
            "c2db76c054f2442f9213f8a81da6bce0",
            "2cfba4d22f284a638ca863ded8f51fe8",
            "aaca38a55c564eefb58b3842a0bbfd8d",
            "4700d619a0c24fd9a30e30ce4bd2b48e",
            "f80f105adbe8413e8cdbe38ca8df5644",
            "ddbb0520470b4860941c8b8b0f586d37",
            "b4d06a781ebf416e8944a139999542e4",
            "c56972816c24483eb52b4e8d59ed91f5",
            "8fa1b1ab2d9048639fcf8cd2df7d0139",
            "095af7a5d52b48d49bfba82978f61f2c",
            "22be0e19f1004543b78743ef477c4cb3",
            "f88db5720b1d4973a4b9e2a4fa222db4",
            "fa4ece699bf84116a0820922b479daeb",
            "d49f663a4c09402d808aa9d39c2e285d",
            "cfb2f3f340674f5796848c66c48c6d8d",
            "d291508c96cb4b2e8e1982d173d972d9",
            "c0851732d24f4094a88f40d9057b4857",
            "34b169285d5a43b79e9e28ff230cb2ac",
            "3bf31f6ed6ef40e8bc3fb907e7cec10a",
            "ea19a4e4ce164c71a567809863f9c2e1",
            "e82c3c9506fb4f4da7884e9f6eb37d6a",
            "75eaf34fecea47e094a9a0b517006b83",
            "d401dc8e08794a8a8ab6e2e1cb9bb139",
            "e42802f4ab3a49aa8a8918c1758da465",
            "41f9714d26da48d885adeabb2011a14c",
            "34916e54a2c84a86a862521af1e97ccb",
            "f4be359cd5ec47fe9659fe363e6955af",
            "4c9c8b2f439144c5be0779a7bf5b414c",
            "850c0110777942e3abc535de18766f5e",
            "c5dd5828a6a34749b53d9b7ec801d7ca",
            "7dbc2e9fe443460c9b3d8ccb01e54dbb",
            "ed5b0a52126743ec838cdee4562db35d",
            "3bf1dd01eb53403aa9e2b1ac2bf282a7",
            "5b210974169e40e48d29e07fcbb120c7",
            "aa0acbda8ab94660965e166e7e51ca1d",
            "a1b4d483788e41acb5a1e4ddc19db024",
            "5c029ba03ef54fbfa3e4928b32f04b17",
            "dbb00d3b7bc14e81b04f166ca74d1ec2",
            "faf1cd1b608a4df1b32dc9b8f7ec7973"
          ]
        },
        "id": "Fvs0NM9cC532",
        "outputId": "f9d27540-a7ca-4f89-dec3-a2ca214b3b7b"
      },
      "source": [
        "from transformers import T5ForConditionalGeneration,T5Tokenizer\n",
        "\n",
        "\n",
        "def set_seed(seed):\n",
        "  torch.manual_seed(seed)\n",
        "  if torch.cuda.is_available():\n",
        "    torch.cuda.manual_seed_all(seed)\n",
        "\n",
        "set_seed(42)\n",
        "\n",
        "model = T5ForConditionalGeneration.from_pretrained('ramsrigouthamg/t5_paraphraser')\n",
        "tokenizer = T5Tokenizer.from_pretrained('ramsrigouthamg/t5_paraphraser')\n",
        "\n",
        "device = torch.device(\"cuda\" if torch.cuda.is_available() else \"cpu\")\n",
        "print (\"device \",device)\n",
        "model = model.to(device)"
      ],
      "execution_count": null,
      "outputs": [
        {
          "output_type": "display_data",
          "data": {
            "application/vnd.jupyter.widget-view+json": {
              "model_id": "f295dfce44ef49ea9269eca29859b572",
              "version_minor": 0,
              "version_major": 2
            },
            "text/plain": [
              "HBox(children=(FloatProgress(value=0.0, description='Downloading', max=1208.0, style=ProgressStyle(description…"
            ]
          },
          "metadata": {
            "tags": []
          }
        },
        {
          "output_type": "stream",
          "text": [
            "\n"
          ],
          "name": "stdout"
        },
        {
          "output_type": "display_data",
          "data": {
            "application/vnd.jupyter.widget-view+json": {
              "model_id": "c56972816c24483eb52b4e8d59ed91f5",
              "version_minor": 0,
              "version_major": 2
            },
            "text/plain": [
              "HBox(children=(FloatProgress(value=0.0, description='Downloading', max=891691413.0, style=ProgressStyle(descri…"
            ]
          },
          "metadata": {
            "tags": []
          }
        },
        {
          "output_type": "stream",
          "text": [
            "\n"
          ],
          "name": "stdout"
        },
        {
          "output_type": "display_data",
          "data": {
            "application/vnd.jupyter.widget-view+json": {
              "model_id": "d291508c96cb4b2e8e1982d173d972d9",
              "version_minor": 0,
              "version_major": 2
            },
            "text/plain": [
              "HBox(children=(FloatProgress(value=0.0, description='Downloading', max=791656.0, style=ProgressStyle(descripti…"
            ]
          },
          "metadata": {
            "tags": []
          }
        },
        {
          "output_type": "stream",
          "text": [
            "\n"
          ],
          "name": "stdout"
        },
        {
          "output_type": "display_data",
          "data": {
            "application/vnd.jupyter.widget-view+json": {
              "model_id": "e42802f4ab3a49aa8a8918c1758da465",
              "version_minor": 0,
              "version_major": 2
            },
            "text/plain": [
              "HBox(children=(FloatProgress(value=0.0, description='Downloading', max=1786.0, style=ProgressStyle(description…"
            ]
          },
          "metadata": {
            "tags": []
          }
        },
        {
          "output_type": "stream",
          "text": [
            "\n"
          ],
          "name": "stdout"
        },
        {
          "output_type": "display_data",
          "data": {
            "application/vnd.jupyter.widget-view+json": {
              "model_id": "ed5b0a52126743ec838cdee4562db35d",
              "version_minor": 0,
              "version_major": 2
            },
            "text/plain": [
              "HBox(children=(FloatProgress(value=0.0, description='Downloading', max=25.0, style=ProgressStyle(description_w…"
            ]
          },
          "metadata": {
            "tags": []
          }
        },
        {
          "output_type": "stream",
          "text": [
            "\n",
            "device  cuda\n"
          ],
          "name": "stdout"
        }
      ]
    },
    {
      "cell_type": "code",
      "metadata": {
        "id": "02ZRX4d3DNAo"
      },
      "source": [
        "def generate_sentences(sentence):\n",
        "\n",
        "\n",
        "  text =  \"paraphrase: \" + sentence + \" </s>\"\n",
        "  print(text)\n",
        "\n",
        "\n",
        "  max_len = 256\n",
        "\n",
        "  encoding = tokenizer.encode_plus(text,pad_to_max_length=True, return_tensors=\"pt\")\n",
        "  input_ids, attention_masks = encoding[\"input_ids\"].to(device), encoding[\"attention_mask\"].to(device)\n",
        "\n",
        "\n",
        "  # set top_k = 50 and set top_p = 0.95 and num_return_sequences = 3\n",
        "  beam_outputs = model.generate(\n",
        "      input_ids=input_ids, attention_mask=attention_masks,\n",
        "      do_sample=True,\n",
        "      max_length=256,\n",
        "      top_k=120,\n",
        "      top_p=0.99,\n",
        "      early_stopping=True,\n",
        "      num_return_sequences=10\n",
        "  )\n",
        "  final_outputs=[]\n",
        "  for beam_output in beam_outputs:\n",
        "      sent = tokenizer.decode(beam_output, skip_special_tokens=True,clean_up_tokenization_spaces=True)\n",
        "      if sent.lower() != sentence.lower() and sent not in final_outputs:\n",
        "          final_outputs.append(sent)\n",
        "\n",
        "  return final_outputs[0:10]"
      ],
      "execution_count": null,
      "outputs": []
    },
    {
      "cell_type": "code",
      "metadata": {
        "id": "gU9q6m4CGs5E",
        "colab": {
          "base_uri": "https://localhost:8080/"
        },
        "outputId": "bee862a0-2ad9-492a-e1c1-dea5c9c54e73"
      },
      "source": [
        "[example.replace('- ', '') for example in data['nlu'][11]['examples'].split('\\n')]"
      ],
      "execution_count": null,
      "outputs": [
        {
          "output_type": "execute_result",
          "data": {
            "text/plain": [
              "['is the fur used in your products real?',\n",
              " 'are all ASOS products vegan?',\n",
              " 'do you use vegan fur?',\n",
              " 'What kind of fur do you use?',\n",
              " 'Does your company use real fur?',\n",
              " 'Is your fur cruelty free?',\n",
              " 'Are your products made of real animal fur?',\n",
              " 'Does your product contain real fur?',\n",
              " 'Is the fur on your product real?',\n",
              " 'Is your fur fake?',\n",
              " 'Is your fur real?',\n",
              " 'Is any of the product on the website made of real fur?',\n",
              " 'wats your fur made of',\n",
              " '']"
            ]
          },
          "metadata": {
            "tags": []
          },
          "execution_count": 8
        }
      ]
    },
    {
      "cell_type": "code",
      "metadata": {
        "id": "0Zd8FvcjGuSL",
        "colab": {
          "base_uri": "https://localhost:8080/"
        },
        "outputId": "b4e63fb6-3cee-499b-8cf0-399f24d495e7"
      },
      "source": [
        "augmented_data = {}\n",
        "for i in range(11, len(data['nlu'])):\n",
        "  intent = data['nlu'][i]['intent']\n",
        "  examples = [example.replace('- ', '') for example in data['nlu'][i]['examples'].split('\\n')]\n",
        "  generated_sentences = []\n",
        "  for example in examples:\n",
        "    generated_sentences.extend(generate_sentences(example))\n",
        "  augmented_data[intent] = generated_sentences\n",
        "  print(f'{np.round(100*(i-10)/39, 2)}% complete')\n",
        "\n"
      ],
      "execution_count": null,
      "outputs": [
        {
          "output_type": "stream",
          "text": [
            "Sequence can't be padded as no maximum length is specified and the model maximum length is too high.\n"
          ],
          "name": "stderr"
        },
        {
          "output_type": "stream",
          "text": [
            "paraphrase: is the fur used in your products real? </s>\n"
          ],
          "name": "stdout"
        },
        {
          "output_type": "stream",
          "text": [
            "Sequence can't be padded as no maximum length is specified and the model maximum length is too high.\n"
          ],
          "name": "stderr"
        },
        {
          "output_type": "stream",
          "text": [
            "paraphrase: are all ASOS products vegan? </s>\n"
          ],
          "name": "stdout"
        },
        {
          "output_type": "stream",
          "text": [
            "Sequence can't be padded as no maximum length is specified and the model maximum length is too high.\n"
          ],
          "name": "stderr"
        },
        {
          "output_type": "stream",
          "text": [
            "paraphrase: do you use vegan fur? </s>\n"
          ],
          "name": "stdout"
        },
        {
          "output_type": "stream",
          "text": [
            "Sequence can't be padded as no maximum length is specified and the model maximum length is too high.\n"
          ],
          "name": "stderr"
        },
        {
          "output_type": "stream",
          "text": [
            "paraphrase: What kind of fur do you use? </s>\n"
          ],
          "name": "stdout"
        },
        {
          "output_type": "stream",
          "text": [
            "Sequence can't be padded as no maximum length is specified and the model maximum length is too high.\n"
          ],
          "name": "stderr"
        },
        {
          "output_type": "stream",
          "text": [
            "paraphrase: Does your company use real fur? </s>\n"
          ],
          "name": "stdout"
        },
        {
          "output_type": "stream",
          "text": [
            "Sequence can't be padded as no maximum length is specified and the model maximum length is too high.\n"
          ],
          "name": "stderr"
        },
        {
          "output_type": "stream",
          "text": [
            "paraphrase: Is your fur cruelty free? </s>\n"
          ],
          "name": "stdout"
        },
        {
          "output_type": "stream",
          "text": [
            "Sequence can't be padded as no maximum length is specified and the model maximum length is too high.\n"
          ],
          "name": "stderr"
        },
        {
          "output_type": "stream",
          "text": [
            "paraphrase: Are your products made of real animal fur? </s>\n"
          ],
          "name": "stdout"
        },
        {
          "output_type": "stream",
          "text": [
            "Sequence can't be padded as no maximum length is specified and the model maximum length is too high.\n"
          ],
          "name": "stderr"
        },
        {
          "output_type": "stream",
          "text": [
            "paraphrase: Does your product contain real fur? </s>\n"
          ],
          "name": "stdout"
        },
        {
          "output_type": "stream",
          "text": [
            "Sequence can't be padded as no maximum length is specified and the model maximum length is too high.\n"
          ],
          "name": "stderr"
        },
        {
          "output_type": "stream",
          "text": [
            "paraphrase: Is the fur on your product real? </s>\n"
          ],
          "name": "stdout"
        },
        {
          "output_type": "stream",
          "text": [
            "Sequence can't be padded as no maximum length is specified and the model maximum length is too high.\n"
          ],
          "name": "stderr"
        },
        {
          "output_type": "stream",
          "text": [
            "paraphrase: Is your fur fake? </s>\n"
          ],
          "name": "stdout"
        },
        {
          "output_type": "stream",
          "text": [
            "Sequence can't be padded as no maximum length is specified and the model maximum length is too high.\n"
          ],
          "name": "stderr"
        },
        {
          "output_type": "stream",
          "text": [
            "paraphrase: Is your fur real? </s>\n"
          ],
          "name": "stdout"
        },
        {
          "output_type": "stream",
          "text": [
            "Sequence can't be padded as no maximum length is specified and the model maximum length is too high.\n"
          ],
          "name": "stderr"
        },
        {
          "output_type": "stream",
          "text": [
            "paraphrase: Is any of the product on the website made of real fur? </s>\n"
          ],
          "name": "stdout"
        },
        {
          "output_type": "stream",
          "text": [
            "Sequence can't be padded as no maximum length is specified and the model maximum length is too high.\n"
          ],
          "name": "stderr"
        },
        {
          "output_type": "stream",
          "text": [
            "paraphrase: wats your fur made of </s>\n"
          ],
          "name": "stdout"
        },
        {
          "output_type": "stream",
          "text": [
            "Sequence can't be padded as no maximum length is specified and the model maximum length is too high.\n"
          ],
          "name": "stderr"
        },
        {
          "output_type": "stream",
          "text": [
            "paraphrase:  </s>\n"
          ],
          "name": "stdout"
        },
        {
          "output_type": "stream",
          "text": [
            "Sequence can't be padded as no maximum length is specified and the model maximum length is too high.\n"
          ],
          "name": "stderr"
        },
        {
          "output_type": "stream",
          "text": [
            "2.56% complete\n",
            "paraphrase: I need my parcel by the latest on Thursday </s>\n"
          ],
          "name": "stdout"
        },
        {
          "output_type": "stream",
          "text": [
            "Sequence can't be padded as no maximum length is specified and the model maximum length is too high.\n"
          ],
          "name": "stderr"
        },
        {
          "output_type": "stream",
          "text": [
            "paraphrase: I need my parcel by the latest on Friday </s>\n"
          ],
          "name": "stdout"
        },
        {
          "output_type": "stream",
          "text": [
            "Sequence can't be padded as no maximum length is specified and the model maximum length is too high.\n"
          ],
          "name": "stderr"
        },
        {
          "output_type": "stream",
          "text": [
            "paraphrase: I need my parcel to arrive on a specific day (UK) </s>\n"
          ],
          "name": "stdout"
        },
        {
          "output_type": "stream",
          "text": [
            "Sequence can't be padded as no maximum length is specified and the model maximum length is too high.\n"
          ],
          "name": "stderr"
        },
        {
          "output_type": "stream",
          "text": [
            "paraphrase: I need my parcel to arrive on a specific day (International) </s>\n"
          ],
          "name": "stdout"
        },
        {
          "output_type": "stream",
          "text": [
            "Sequence can't be padded as no maximum length is specified and the model maximum length is too high.\n"
          ],
          "name": "stderr"
        },
        {
          "output_type": "stream",
          "text": [
            "paraphrase: I need my parcel to arrive on a specific date </s>\n"
          ],
          "name": "stdout"
        },
        {
          "output_type": "stream",
          "text": [
            "Sequence can't be padded as no maximum length is specified and the model maximum length is too high.\n"
          ],
          "name": "stderr"
        },
        {
          "output_type": "stream",
          "text": [
            "paraphrase: I need my parcel to arrive on a specific time </s>\n"
          ],
          "name": "stdout"
        },
        {
          "output_type": "stream",
          "text": [
            "Sequence can't be padded as no maximum length is specified and the model maximum length is too high.\n"
          ],
          "name": "stderr"
        },
        {
          "output_type": "stream",
          "text": [
            "paraphrase: I need my parcel to arrive on a specific time on a specific day </s>\n"
          ],
          "name": "stdout"
        },
        {
          "output_type": "stream",
          "text": [
            "Sequence can't be padded as no maximum length is specified and the model maximum length is too high.\n"
          ],
          "name": "stderr"
        },
        {
          "output_type": "stream",
          "text": [
            "paraphrase: I will be out of the country on delivery date, can you deliver on another date? </s>\n"
          ],
          "name": "stdout"
        },
        {
          "output_type": "stream",
          "text": [
            "Sequence can't be padded as no maximum length is specified and the model maximum length is too high.\n"
          ],
          "name": "stderr"
        },
        {
          "output_type": "stream",
          "text": [
            "paraphrase: Can you deliver my parcel on a specific date? </s>\n"
          ],
          "name": "stdout"
        },
        {
          "output_type": "stream",
          "text": [
            "Sequence can't be padded as no maximum length is specified and the model maximum length is too high.\n"
          ],
          "name": "stderr"
        },
        {
          "output_type": "stream",
          "text": [
            "paraphrase: Can you deliver my parcel on a specific date and time? </s>\n"
          ],
          "name": "stdout"
        },
        {
          "output_type": "stream",
          "text": [
            "Sequence can't be padded as no maximum length is specified and the model maximum length is too high.\n"
          ],
          "name": "stderr"
        },
        {
          "output_type": "stream",
          "text": [
            "paraphrase: My parcel is due tomorrow but I am travelling on that date, can you ship it early so I can receive it in time? </s>\n"
          ],
          "name": "stdout"
        },
        {
          "output_type": "stream",
          "text": [
            "Sequence can't be padded as no maximum length is specified and the model maximum length is too high.\n"
          ],
          "name": "stderr"
        },
        {
          "output_type": "stream",
          "text": [
            "paraphrase: Can I choose a specific time tomorrow to have my order delivered? </s>\n"
          ],
          "name": "stdout"
        },
        {
          "output_type": "stream",
          "text": [
            "Sequence can't be padded as no maximum length is specified and the model maximum length is too high.\n"
          ],
          "name": "stderr"
        },
        {
          "output_type": "stream",
          "text": [
            "paraphrase: i got an email saying my order would be delivered thursday but im not in from 2 </s>\n"
          ],
          "name": "stdout"
        },
        {
          "output_type": "stream",
          "text": [
            "Sequence can't be padded as no maximum length is specified and the model maximum length is too high.\n"
          ],
          "name": "stderr"
        },
        {
          "output_type": "stream",
          "text": [
            "paraphrase: can i get my delivery in the evening </s>\n"
          ],
          "name": "stdout"
        },
        {
          "output_type": "stream",
          "text": [
            "Sequence can't be padded as no maximum length is specified and the model maximum length is too high.\n"
          ],
          "name": "stderr"
        },
        {
          "output_type": "stream",
          "text": [
            "paraphrase:  </s>\n"
          ],
          "name": "stdout"
        },
        {
          "output_type": "stream",
          "text": [
            "Sequence can't be padded as no maximum length is specified and the model maximum length is too high.\n"
          ],
          "name": "stderr"
        },
        {
          "output_type": "stream",
          "text": [
            "5.13% complete\n",
            "paraphrase: I am going on holiday and want my order delivered to my hotel </s>\n"
          ],
          "name": "stdout"
        },
        {
          "output_type": "stream",
          "text": [
            "Sequence can't be padded as no maximum length is specified and the model maximum length is too high.\n"
          ],
          "name": "stderr"
        },
        {
          "output_type": "stream",
          "text": [
            "paraphrase: I live in a different country to my billing address </s>\n"
          ],
          "name": "stdout"
        },
        {
          "output_type": "stream",
          "text": [
            "Sequence can't be padded as no maximum length is specified and the model maximum length is too high.\n"
          ],
          "name": "stderr"
        },
        {
          "output_type": "stream",
          "text": [
            "paraphrase: I have changed my address, can you update it? </s>\n"
          ],
          "name": "stdout"
        },
        {
          "output_type": "stream",
          "text": [
            "Sequence can't be padded as no maximum length is specified and the model maximum length is too high.\n"
          ],
          "name": "stderr"
        },
        {
          "output_type": "stream",
          "text": [
            "paraphrase: I was sent the wrong item how can I have it delivered to another address? </s>\n"
          ],
          "name": "stdout"
        },
        {
          "output_type": "stream",
          "text": [
            "Sequence can't be padded as no maximum length is specified and the model maximum length is too high.\n"
          ],
          "name": "stderr"
        },
        {
          "output_type": "stream",
          "text": [
            "paraphrase: How do I have my order delivered to a different address? </s>\n"
          ],
          "name": "stdout"
        },
        {
          "output_type": "stream",
          "text": [
            "Sequence can't be padded as no maximum length is specified and the model maximum length is too high.\n"
          ],
          "name": "stderr"
        },
        {
          "output_type": "stream",
          "text": [
            "paraphrase: I want to change my address </s>\n"
          ],
          "name": "stdout"
        },
        {
          "output_type": "stream",
          "text": [
            "Sequence can't be padded as no maximum length is specified and the model maximum length is too high.\n"
          ],
          "name": "stderr"
        },
        {
          "output_type": "stream",
          "text": [
            "paraphrase: I want to change my delivery address </s>\n"
          ],
          "name": "stdout"
        },
        {
          "output_type": "stream",
          "text": [
            "Sequence can't be padded as no maximum length is specified and the model maximum length is too high.\n"
          ],
          "name": "stderr"
        },
        {
          "output_type": "stream",
          "text": [
            "paraphrase: I want to ship my order to my friends house </s>\n"
          ],
          "name": "stdout"
        },
        {
          "output_type": "stream",
          "text": [
            "Sequence can't be padded as no maximum length is specified and the model maximum length is too high.\n"
          ],
          "name": "stderr"
        },
        {
          "output_type": "stream",
          "text": [
            "paraphrase: I want to ship my order to my daughter's address </s>\n"
          ],
          "name": "stdout"
        },
        {
          "output_type": "stream",
          "text": [
            "Sequence can't be padded as no maximum length is specified and the model maximum length is too high.\n"
          ],
          "name": "stderr"
        },
        {
          "output_type": "stream",
          "text": [
            "paraphrase: I want to ship my order to my parents house </s>\n"
          ],
          "name": "stdout"
        },
        {
          "output_type": "stream",
          "text": [
            "Sequence can't be padded as no maximum length is specified and the model maximum length is too high.\n"
          ],
          "name": "stderr"
        },
        {
          "output_type": "stream",
          "text": [
            "paraphrase: My shipping address is incorrect how can I fix it? </s>\n"
          ],
          "name": "stdout"
        },
        {
          "output_type": "stream",
          "text": [
            "Sequence can't be padded as no maximum length is specified and the model maximum length is too high.\n"
          ],
          "name": "stderr"
        },
        {
          "output_type": "stream",
          "text": [
            "paraphrase: i need to change where it'll be received </s>\n"
          ],
          "name": "stdout"
        },
        {
          "output_type": "stream",
          "text": [
            "Sequence can't be padded as no maximum length is specified and the model maximum length is too high.\n"
          ],
          "name": "stderr"
        },
        {
          "output_type": "stream",
          "text": [
            "paraphrase: Can I change my delivery address after ordering? </s>\n"
          ],
          "name": "stdout"
        },
        {
          "output_type": "stream",
          "text": [
            "Sequence can't be padded as no maximum length is specified and the model maximum length is too high.\n"
          ],
          "name": "stderr"
        },
        {
          "output_type": "stream",
          "text": [
            "paraphrase:  </s>\n"
          ],
          "name": "stdout"
        },
        {
          "output_type": "stream",
          "text": [
            "Sequence can't be padded as no maximum length is specified and the model maximum length is too high.\n"
          ],
          "name": "stderr"
        },
        {
          "output_type": "stream",
          "text": [
            "7.69% complete\n",
            "paraphrase: I don't like this perfume can I send it back? </s>\n"
          ],
          "name": "stdout"
        },
        {
          "output_type": "stream",
          "text": [
            "Sequence can't be padded as no maximum length is specified and the model maximum length is too high.\n"
          ],
          "name": "stderr"
        },
        {
          "output_type": "stream",
          "text": [
            "paraphrase: Can I return this perfume? </s>\n"
          ],
          "name": "stdout"
        },
        {
          "output_type": "stream",
          "text": [
            "Sequence can't be padded as no maximum length is specified and the model maximum length is too high.\n"
          ],
          "name": "stderr"
        },
        {
          "output_type": "stream",
          "text": [
            "paraphrase: I bought a perfume with an offer of three freebies and I don't like them can I return them </s>\n"
          ],
          "name": "stdout"
        },
        {
          "output_type": "stream",
          "text": [
            "Sequence can't be padded as no maximum length is specified and the model maximum length is too high.\n"
          ],
          "name": "stderr"
        },
        {
          "output_type": "stream",
          "text": [
            "paraphrase: I am not happy with this perfume, can I return it? </s>\n"
          ],
          "name": "stdout"
        },
        {
          "output_type": "stream",
          "text": [
            "Sequence can't be padded as no maximum length is specified and the model maximum length is too high.\n"
          ],
          "name": "stderr"
        },
        {
          "output_type": "stream",
          "text": [
            "paraphrase: I didn't like this perfume can I send it back? </s>\n"
          ],
          "name": "stdout"
        },
        {
          "output_type": "stream",
          "text": [
            "Sequence can't be padded as no maximum length is specified and the model maximum length is too high.\n"
          ],
          "name": "stderr"
        },
        {
          "output_type": "stream",
          "text": [
            "paraphrase: I am not happy with this perfume can I send it back? </s>\n"
          ],
          "name": "stdout"
        },
        {
          "output_type": "stream",
          "text": [
            "Sequence can't be padded as no maximum length is specified and the model maximum length is too high.\n"
          ],
          "name": "stderr"
        },
        {
          "output_type": "stream",
          "text": [
            "paraphrase: I want to return this perfume </s>\n"
          ],
          "name": "stdout"
        },
        {
          "output_type": "stream",
          "text": [
            "Sequence can't be padded as no maximum length is specified and the model maximum length is too high.\n"
          ],
          "name": "stderr"
        },
        {
          "output_type": "stream",
          "text": [
            "paraphrase: I'd like to return this perfume as the lid has come off and the scent is no longer as strong </s>\n"
          ],
          "name": "stdout"
        },
        {
          "output_type": "stream",
          "text": [
            "Sequence can't be padded as no maximum length is specified and the model maximum length is too high.\n"
          ],
          "name": "stderr"
        },
        {
          "output_type": "stream",
          "text": [
            "paraphrase: Can I return this make-up? </s>\n"
          ],
          "name": "stdout"
        },
        {
          "output_type": "stream",
          "text": [
            "Sequence can't be padded as no maximum length is specified and the model maximum length is too high.\n"
          ],
          "name": "stderr"
        },
        {
          "output_type": "stream",
          "text": [
            "paraphrase:  </s>\n"
          ],
          "name": "stdout"
        },
        {
          "output_type": "stream",
          "text": [
            "Sequence can't be padded as no maximum length is specified and the model maximum length is too high.\n"
          ],
          "name": "stderr"
        },
        {
          "output_type": "stream",
          "text": [
            "10.26% complete\n",
            "paraphrase: I would like to change my order to a different item </s>\n"
          ],
          "name": "stdout"
        },
        {
          "output_type": "stream",
          "text": [
            "Sequence can't be padded as no maximum length is specified and the model maximum length is too high.\n"
          ],
          "name": "stderr"
        },
        {
          "output_type": "stream",
          "text": [
            "paraphrase: I want to change the item for a different size </s>\n"
          ],
          "name": "stdout"
        },
        {
          "output_type": "stream",
          "text": [
            "Sequence can't be padded as no maximum length is specified and the model maximum length is too high.\n"
          ],
          "name": "stderr"
        },
        {
          "output_type": "stream",
          "text": [
            "paraphrase: I would like to exchange my item for a different size </s>\n"
          ],
          "name": "stdout"
        },
        {
          "output_type": "stream",
          "text": [
            "Sequence can't be padded as no maximum length is specified and the model maximum length is too high.\n"
          ],
          "name": "stderr"
        },
        {
          "output_type": "stream",
          "text": [
            "paraphrase: I would like to exchange my item for a different style </s>\n"
          ],
          "name": "stdout"
        },
        {
          "output_type": "stream",
          "text": [
            "Sequence can't be padded as no maximum length is specified and the model maximum length is too high.\n"
          ],
          "name": "stderr"
        },
        {
          "output_type": "stream",
          "text": [
            "paraphrase: I want to exchange for a different item </s>\n"
          ],
          "name": "stdout"
        },
        {
          "output_type": "stream",
          "text": [
            "Sequence can't be padded as no maximum length is specified and the model maximum length is too high.\n"
          ],
          "name": "stderr"
        },
        {
          "output_type": "stream",
          "text": [
            "paraphrase: I would like to return the item and exchange for a different size </s>\n"
          ],
          "name": "stdout"
        },
        {
          "output_type": "stream",
          "text": [
            "Sequence can't be padded as no maximum length is specified and the model maximum length is too high.\n"
          ],
          "name": "stderr"
        },
        {
          "output_type": "stream",
          "text": [
            "paraphrase: I would like to return and exchange for a different size </s>\n"
          ],
          "name": "stdout"
        },
        {
          "output_type": "stream",
          "text": [
            "Sequence can't be padded as no maximum length is specified and the model maximum length is too high.\n"
          ],
          "name": "stderr"
        },
        {
          "output_type": "stream",
          "text": [
            "paraphrase: I want to exchange my item for a different size </s>\n"
          ],
          "name": "stdout"
        },
        {
          "output_type": "stream",
          "text": [
            "Sequence can't be padded as no maximum length is specified and the model maximum length is too high.\n"
          ],
          "name": "stderr"
        },
        {
          "output_type": "stream",
          "text": [
            "paraphrase: I would like to swap my item for a different size </s>\n"
          ],
          "name": "stdout"
        },
        {
          "output_type": "stream",
          "text": [
            "Sequence can't be padded as no maximum length is specified and the model maximum length is too high.\n"
          ],
          "name": "stderr"
        },
        {
          "output_type": "stream",
          "text": [
            "paraphrase: Can I exchange an item? </s>\n"
          ],
          "name": "stdout"
        },
        {
          "output_type": "stream",
          "text": [
            "Sequence can't be padded as no maximum length is specified and the model maximum length is too high.\n"
          ],
          "name": "stderr"
        },
        {
          "output_type": "stream",
          "text": [
            "paraphrase:  </s>\n"
          ],
          "name": "stdout"
        },
        {
          "output_type": "stream",
          "text": [
            "Sequence can't be padded as no maximum length is specified and the model maximum length is too high.\n"
          ],
          "name": "stderr"
        },
        {
          "output_type": "stream",
          "text": [
            "12.82% complete\n",
            "paraphrase: Can I send multiple orders back in one bag? </s>\n"
          ],
          "name": "stdout"
        },
        {
          "output_type": "stream",
          "text": [
            "Sequence can't be padded as no maximum length is specified and the model maximum length is too high.\n"
          ],
          "name": "stderr"
        },
        {
          "output_type": "stream",
          "text": [
            "paraphrase: I have multiple returns, can I combine them all in the same bag? </s>\n"
          ],
          "name": "stdout"
        },
        {
          "output_type": "stream",
          "text": [
            "Sequence can't be padded as no maximum length is specified and the model maximum length is too high.\n"
          ],
          "name": "stderr"
        },
        {
          "output_type": "stream",
          "text": [
            "paraphrase: Can I return multiple orders in the same parcel? </s>\n"
          ],
          "name": "stdout"
        },
        {
          "output_type": "stream",
          "text": [
            "Sequence can't be padded as no maximum length is specified and the model maximum length is too high.\n"
          ],
          "name": "stderr"
        },
        {
          "output_type": "stream",
          "text": [
            "paraphrase: Can I send multiple returns in one bag? </s>\n"
          ],
          "name": "stdout"
        },
        {
          "output_type": "stream",
          "text": [
            "Sequence can't be padded as no maximum length is specified and the model maximum length is too high.\n"
          ],
          "name": "stderr"
        },
        {
          "output_type": "stream",
          "text": [
            "paraphrase: Can I return multiple orders in one parcel? </s>\n"
          ],
          "name": "stdout"
        },
        {
          "output_type": "stream",
          "text": [
            "Sequence can't be padded as no maximum length is specified and the model maximum length is too high.\n"
          ],
          "name": "stderr"
        },
        {
          "output_type": "stream",
          "text": [
            "paraphrase: Can I combine multiple orders in one parcel? </s>\n"
          ],
          "name": "stdout"
        },
        {
          "output_type": "stream",
          "text": [
            "Sequence can't be padded as no maximum length is specified and the model maximum length is too high.\n"
          ],
          "name": "stderr"
        },
        {
          "output_type": "stream",
          "text": [
            "paraphrase: Is it OK to combine returns? </s>\n"
          ],
          "name": "stdout"
        },
        {
          "output_type": "stream",
          "text": [
            "Sequence can't be padded as no maximum length is specified and the model maximum length is too high.\n"
          ],
          "name": "stderr"
        },
        {
          "output_type": "stream",
          "text": [
            "paraphrase: Can I send multiple returns in one parcel? </s>\n"
          ],
          "name": "stdout"
        },
        {
          "output_type": "stream",
          "text": [
            "Sequence can't be padded as no maximum length is specified and the model maximum length is too high.\n"
          ],
          "name": "stderr"
        },
        {
          "output_type": "stream",
          "text": [
            "paraphrase: Do you allow combined returns? </s>\n"
          ],
          "name": "stdout"
        },
        {
          "output_type": "stream",
          "text": [
            "Sequence can't be padded as no maximum length is specified and the model maximum length is too high.\n"
          ],
          "name": "stderr"
        },
        {
          "output_type": "stream",
          "text": [
            "paraphrase: Can I send more than one order back in one parcel? </s>\n"
          ],
          "name": "stdout"
        },
        {
          "output_type": "stream",
          "text": [
            "Sequence can't be padded as no maximum length is specified and the model maximum length is too high.\n"
          ],
          "name": "stderr"
        },
        {
          "output_type": "stream",
          "text": [
            "paraphrase: I need to return several items from different orders. Can I send them all together in one bag? </s>\n"
          ],
          "name": "stdout"
        },
        {
          "output_type": "stream",
          "text": [
            "Sequence can't be padded as no maximum length is specified and the model maximum length is too high.\n"
          ],
          "name": "stderr"
        },
        {
          "output_type": "stream",
          "text": [
            "paraphrase: i have a few things to return </s>\n"
          ],
          "name": "stdout"
        },
        {
          "output_type": "stream",
          "text": [
            "Sequence can't be padded as no maximum length is specified and the model maximum length is too high.\n"
          ],
          "name": "stderr"
        },
        {
          "output_type": "stream",
          "text": [
            "paraphrase:  </s>\n"
          ],
          "name": "stdout"
        },
        {
          "output_type": "stream",
          "text": [
            "Sequence can't be padded as no maximum length is specified and the model maximum length is too high.\n"
          ],
          "name": "stderr"
        },
        {
          "output_type": "stream",
          "text": [
            "15.38% complete\n",
            "paraphrase: How do I track my order? </s>\n"
          ],
          "name": "stdout"
        },
        {
          "output_type": "stream",
          "text": [
            "Sequence can't be padded as no maximum length is specified and the model maximum length is too high.\n"
          ],
          "name": "stderr"
        },
        {
          "output_type": "stream",
          "text": [
            "paraphrase: How do I find out where my order is? </s>\n"
          ],
          "name": "stdout"
        },
        {
          "output_type": "stream",
          "text": [
            "Sequence can't be padded as no maximum length is specified and the model maximum length is too high.\n"
          ],
          "name": "stderr"
        },
        {
          "output_type": "stream",
          "text": [
            "paraphrase: How do I know if my purchase has been shipped? </s>\n"
          ],
          "name": "stdout"
        },
        {
          "output_type": "stream",
          "text": [
            "Sequence can't be padded as no maximum length is specified and the model maximum length is too high.\n"
          ],
          "name": "stderr"
        },
        {
          "output_type": "stream",
          "text": [
            "paraphrase: How can I track my order? </s>\n"
          ],
          "name": "stdout"
        },
        {
          "output_type": "stream",
          "text": [
            "Sequence can't be padded as no maximum length is specified and the model maximum length is too high.\n"
          ],
          "name": "stderr"
        },
        {
          "output_type": "stream",
          "text": [
            "paraphrase: How long does it take to get my purchase? </s>\n"
          ],
          "name": "stdout"
        },
        {
          "output_type": "stream",
          "text": [
            "Sequence can't be padded as no maximum length is specified and the model maximum length is too high.\n"
          ],
          "name": "stderr"
        },
        {
          "output_type": "stream",
          "text": [
            "paraphrase: How do I get updates on my order? </s>\n"
          ],
          "name": "stdout"
        },
        {
          "output_type": "stream",
          "text": [
            "Sequence can't be padded as no maximum length is specified and the model maximum length is too high.\n"
          ],
          "name": "stderr"
        },
        {
          "output_type": "stream",
          "text": [
            "paraphrase: What is the tracking number to my order? </s>\n"
          ],
          "name": "stdout"
        },
        {
          "output_type": "stream",
          "text": [
            "Sequence can't be padded as no maximum length is specified and the model maximum length is too high.\n"
          ],
          "name": "stderr"
        },
        {
          "output_type": "stream",
          "text": [
            "paraphrase: What time will my order arrive? </s>\n"
          ],
          "name": "stdout"
        },
        {
          "output_type": "stream",
          "text": [
            "Sequence can't be padded as no maximum length is specified and the model maximum length is too high.\n"
          ],
          "name": "stderr"
        },
        {
          "output_type": "stream",
          "text": [
            "paraphrase: When will my order come? </s>\n"
          ],
          "name": "stdout"
        },
        {
          "output_type": "stream",
          "text": [
            "Sequence can't be padded as no maximum length is specified and the model maximum length is too high.\n"
          ],
          "name": "stderr"
        },
        {
          "output_type": "stream",
          "text": [
            "paraphrase: When will my order be delivered? </s>\n"
          ],
          "name": "stdout"
        },
        {
          "output_type": "stream",
          "text": [
            "Sequence can't be padded as no maximum length is specified and the model maximum length is too high.\n"
          ],
          "name": "stderr"
        },
        {
          "output_type": "stream",
          "text": [
            "paraphrase: wheres my order </s>\n"
          ],
          "name": "stdout"
        },
        {
          "output_type": "stream",
          "text": [
            "Sequence can't be padded as no maximum length is specified and the model maximum length is too high.\n"
          ],
          "name": "stderr"
        },
        {
          "output_type": "stream",
          "text": [
            "paraphrase:  </s>\n"
          ],
          "name": "stdout"
        },
        {
          "output_type": "stream",
          "text": [
            "Sequence can't be padded as no maximum length is specified and the model maximum length is too high.\n"
          ],
          "name": "stderr"
        },
        {
          "output_type": "stream",
          "text": [
            "17.95% complete\n",
            "paraphrase: How long does it take for my order to arrive with premier? </s>\n"
          ],
          "name": "stdout"
        },
        {
          "output_type": "stream",
          "text": [
            "Sequence can't be padded as no maximum length is specified and the model maximum length is too high.\n"
          ],
          "name": "stderr"
        },
        {
          "output_type": "stream",
          "text": [
            "paraphrase: Why do I have to pay for delivery with premier? </s>\n"
          ],
          "name": "stdout"
        },
        {
          "output_type": "stream",
          "text": [
            "Sequence can't be padded as no maximum length is specified and the model maximum length is too high.\n"
          ],
          "name": "stderr"
        },
        {
          "output_type": "stream",
          "text": [
            "paraphrase: Why is my parcel not being delivered next day with premier? </s>\n"
          ],
          "name": "stdout"
        },
        {
          "output_type": "stream",
          "text": [
            "Sequence can't be padded as no maximum length is specified and the model maximum length is too high.\n"
          ],
          "name": "stderr"
        },
        {
          "output_type": "stream",
          "text": [
            "paraphrase: What happens if my items are returned with premier? </s>\n"
          ],
          "name": "stdout"
        },
        {
          "output_type": "stream",
          "text": [
            "Sequence can't be padded as no maximum length is specified and the model maximum length is too high.\n"
          ],
          "name": "stderr"
        },
        {
          "output_type": "stream",
          "text": [
            "paraphrase: Are there any premier delivery restrictions? </s>\n"
          ],
          "name": "stdout"
        },
        {
          "output_type": "stream",
          "text": [
            "Sequence can't be padded as no maximum length is specified and the model maximum length is too high.\n"
          ],
          "name": "stderr"
        },
        {
          "output_type": "stream",
          "text": [
            "paraphrase: I am a premier customer will I be able to use my discount code? </s>\n"
          ],
          "name": "stdout"
        },
        {
          "output_type": "stream",
          "text": [
            "Sequence can't be padded as no maximum length is specified and the model maximum length is too high.\n"
          ],
          "name": "stderr"
        },
        {
          "output_type": "stream",
          "text": [
            "paraphrase: I am a premier customer but I have not received my premier discount code? </s>\n"
          ],
          "name": "stdout"
        },
        {
          "output_type": "stream",
          "text": [
            "Sequence can't be padded as no maximum length is specified and the model maximum length is too high.\n"
          ],
          "name": "stderr"
        },
        {
          "output_type": "stream",
          "text": [
            "paraphrase: Can I get my premier delivery for free? </s>\n"
          ],
          "name": "stdout"
        },
        {
          "output_type": "stream",
          "text": [
            "Sequence can't be padded as no maximum length is specified and the model maximum length is too high.\n"
          ],
          "name": "stderr"
        },
        {
          "output_type": "stream",
          "text": [
            "paraphrase: How do I pay for delivery with premier? </s>\n"
          ],
          "name": "stdout"
        },
        {
          "output_type": "stream",
          "text": [
            "Sequence can't be padded as no maximum length is specified and the model maximum length is too high.\n"
          ],
          "name": "stderr"
        },
        {
          "output_type": "stream",
          "text": [
            "paraphrase: Can I have my items delivered on a specific day with premier? </s>\n"
          ],
          "name": "stdout"
        },
        {
          "output_type": "stream",
          "text": [
            "Sequence can't be padded as no maximum length is specified and the model maximum length is too high.\n"
          ],
          "name": "stderr"
        },
        {
          "output_type": "stream",
          "text": [
            "paraphrase: I would like to know more about premiere? </s>\n"
          ],
          "name": "stdout"
        },
        {
          "output_type": "stream",
          "text": [
            "Sequence can't be padded as no maximum length is specified and the model maximum length is too high.\n"
          ],
          "name": "stderr"
        },
        {
          "output_type": "stream",
          "text": [
            "paraphrase:  </s>\n"
          ],
          "name": "stdout"
        },
        {
          "output_type": "stream",
          "text": [
            "Sequence can't be padded as no maximum length is specified and the model maximum length is too high.\n"
          ],
          "name": "stderr"
        },
        {
          "output_type": "stream",
          "text": [
            "20.51% complete\n",
            "paraphrase: How can I do to guarantee that the materials in my clothing are sourced sustainably? </s>\n"
          ],
          "name": "stdout"
        },
        {
          "output_type": "stream",
          "text": [
            "Sequence can't be padded as no maximum length is specified and the model maximum length is too high.\n"
          ],
          "name": "stderr"
        },
        {
          "output_type": "stream",
          "text": [
            "paraphrase: How can I be sure that the cotton I buy is ethically sourced? </s>\n"
          ],
          "name": "stdout"
        },
        {
          "output_type": "stream",
          "text": [
            "Sequence can't be padded as no maximum length is specified and the model maximum length is too high.\n"
          ],
          "name": "stderr"
        },
        {
          "output_type": "stream",
          "text": [
            "paraphrase: What are ASOS doing to tackle the issue of fast fashion? </s>\n"
          ],
          "name": "stdout"
        },
        {
          "output_type": "stream",
          "text": [
            "Sequence can't be padded as no maximum length is specified and the model maximum length is too high.\n"
          ],
          "name": "stderr"
        },
        {
          "output_type": "stream",
          "text": [
            "paraphrase: Do you have a sustainable fashion policy? </s>\n"
          ],
          "name": "stdout"
        },
        {
          "output_type": "stream",
          "text": [
            "Sequence can't be padded as no maximum length is specified and the model maximum length is too high.\n"
          ],
          "name": "stderr"
        },
        {
          "output_type": "stream",
          "text": [
            "paraphrase: Do you know what recycling is? </s>\n"
          ],
          "name": "stdout"
        },
        {
          "output_type": "stream",
          "text": [
            "Sequence can't be padded as no maximum length is specified and the model maximum length is too high.\n",
            "Sequence can't be padded as no maximum length is specified and the model maximum length is too high.\n"
          ],
          "name": "stderr"
        },
        {
          "output_type": "stream",
          "text": [
            "paraphrase: What should I do with my old clothes? </s>\n",
            "paraphrase: How does ASOS dispose of unsold inventory? </s>\n"
          ],
          "name": "stdout"
        },
        {
          "output_type": "stream",
          "text": [
            "Sequence can't be padded as no maximum length is specified and the model maximum length is too high.\n"
          ],
          "name": "stderr"
        },
        {
          "output_type": "stream",
          "text": [
            "paraphrase: Why can't I return my used items to your stores? </s>\n"
          ],
          "name": "stdout"
        },
        {
          "output_type": "stream",
          "text": [
            "Sequence can't be padded as no maximum length is specified and the model maximum length is too high.\n"
          ],
          "name": "stderr"
        },
        {
          "output_type": "stream",
          "text": [
            "paraphrase: How do you recycle your packaging? </s>\n"
          ],
          "name": "stdout"
        },
        {
          "output_type": "stream",
          "text": [
            "Sequence can't be padded as no maximum length is specified and the model maximum length is too high.\n"
          ],
          "name": "stderr"
        },
        {
          "output_type": "stream",
          "text": [
            "paraphrase: Can I recycle my packaging? </s>\n"
          ],
          "name": "stdout"
        },
        {
          "output_type": "stream",
          "text": [
            "Sequence can't be padded as no maximum length is specified and the model maximum length is too high.\n"
          ],
          "name": "stderr"
        },
        {
          "output_type": "stream",
          "text": [
            "paraphrase: arent you bad for the environment </s>\n"
          ],
          "name": "stdout"
        },
        {
          "output_type": "stream",
          "text": [
            "Sequence can't be padded as no maximum length is specified and the model maximum length is too high.\n"
          ],
          "name": "stderr"
        },
        {
          "output_type": "stream",
          "text": [
            "paraphrase: what are you guys doing about fast fashion waste </s>\n"
          ],
          "name": "stdout"
        },
        {
          "output_type": "stream",
          "text": [
            "Sequence can't be padded as no maximum length is specified and the model maximum length is too high.\n"
          ],
          "name": "stderr"
        },
        {
          "output_type": "stream",
          "text": [
            "paraphrase:  </s>\n"
          ],
          "name": "stdout"
        },
        {
          "output_type": "stream",
          "text": [
            "Sequence can't be padded as no maximum length is specified and the model maximum length is too high.\n"
          ],
          "name": "stderr"
        },
        {
          "output_type": "stream",
          "text": [
            "23.08% complete\n",
            "paraphrase: Can I send something back to you and you refund me the delivery charges? </s>\n"
          ],
          "name": "stdout"
        },
        {
          "output_type": "stream",
          "text": [
            "Sequence can't be padded as no maximum length is specified and the model maximum length is too high.\n"
          ],
          "name": "stderr"
        },
        {
          "output_type": "stream",
          "text": [
            "paraphrase: Do you refund the postage if I return something? </s>\n"
          ],
          "name": "stdout"
        },
        {
          "output_type": "stream",
          "text": [
            "Sequence can't be padded as no maximum length is specified and the model maximum length is too high.\n"
          ],
          "name": "stderr"
        },
        {
          "output_type": "stream",
          "text": [
            "paraphrase: Can I send something back to you and you refund the delivery? </s>\n"
          ],
          "name": "stdout"
        },
        {
          "output_type": "stream",
          "text": [
            "Sequence can't be padded as no maximum length is specified and the model maximum length is too high.\n"
          ],
          "name": "stderr"
        },
        {
          "output_type": "stream",
          "text": [
            "paraphrase: Can I return something and you refund the delivery payments? </s>\n"
          ],
          "name": "stdout"
        },
        {
          "output_type": "stream",
          "text": [
            "Sequence can't be padded as no maximum length is specified and the model maximum length is too high.\n"
          ],
          "name": "stderr"
        },
        {
          "output_type": "stream",
          "text": [
            "paraphrase: Do you pay the delivery charges if I send you my items back? </s>\n"
          ],
          "name": "stdout"
        },
        {
          "output_type": "stream",
          "text": [
            "Sequence can't be padded as no maximum length is specified and the model maximum length is too high.\n"
          ],
          "name": "stderr"
        },
        {
          "output_type": "stream",
          "text": [
            "paraphrase: How much is it to return my items? </s>\n"
          ],
          "name": "stdout"
        },
        {
          "output_type": "stream",
          "text": [
            "Sequence can't be padded as no maximum length is specified and the model maximum length is too high.\n"
          ],
          "name": "stderr"
        },
        {
          "output_type": "stream",
          "text": [
            "paraphrase: I want to return my items but don't want to pay the return fees </s>\n"
          ],
          "name": "stdout"
        },
        {
          "output_type": "stream",
          "text": [
            "Sequence can't be padded as no maximum length is specified and the model maximum length is too high.\n"
          ],
          "name": "stderr"
        },
        {
          "output_type": "stream",
          "text": [
            "paraphrase: I only want to return one item! </s>\n"
          ],
          "name": "stdout"
        },
        {
          "output_type": "stream",
          "text": [
            "Sequence can't be padded as no maximum length is specified and the model maximum length is too high.\n"
          ],
          "name": "stderr"
        },
        {
          "output_type": "stream",
          "text": [
            "paraphrase: What is the return policy? </s>\n"
          ],
          "name": "stdout"
        },
        {
          "output_type": "stream",
          "text": [
            "Sequence can't be padded as no maximum length is specified and the model maximum length is too high.\n"
          ],
          "name": "stderr"
        },
        {
          "output_type": "stream",
          "text": [
            "paraphrase: Can I return something and you pay the postage? </s>\n"
          ],
          "name": "stdout"
        },
        {
          "output_type": "stream",
          "text": [
            "Sequence can't be padded as no maximum length is specified and the model maximum length is too high.\n"
          ],
          "name": "stderr"
        },
        {
          "output_type": "stream",
          "text": [
            "paraphrase: is refund delivery free </s>\n"
          ],
          "name": "stdout"
        },
        {
          "output_type": "stream",
          "text": [
            "Sequence can't be padded as no maximum length is specified and the model maximum length is too high.\n"
          ],
          "name": "stderr"
        },
        {
          "output_type": "stream",
          "text": [
            "paraphrase: do i get charged for the first delivery if i send it back </s>\n"
          ],
          "name": "stdout"
        },
        {
          "output_type": "stream",
          "text": [
            "Sequence can't be padded as no maximum length is specified and the model maximum length is too high.\n"
          ],
          "name": "stderr"
        },
        {
          "output_type": "stream",
          "text": [
            "paraphrase: Is it free to return an order? </s>\n"
          ],
          "name": "stdout"
        },
        {
          "output_type": "stream",
          "text": [
            "Sequence can't be padded as no maximum length is specified and the model maximum length is too high.\n"
          ],
          "name": "stderr"
        },
        {
          "output_type": "stream",
          "text": [
            "paraphrase:  </s>\n"
          ],
          "name": "stdout"
        },
        {
          "output_type": "stream",
          "text": [
            "Sequence can't be padded as no maximum length is specified and the model maximum length is too high.\n"
          ],
          "name": "stderr"
        },
        {
          "output_type": "stream",
          "text": [
            "25.64% complete\n",
            "paraphrase: It has been more than 14 days since I made a return </s>\n"
          ],
          "name": "stdout"
        },
        {
          "output_type": "stream",
          "text": [
            "Sequence can't be padded as no maximum length is specified and the model maximum length is too high.\n"
          ],
          "name": "stderr"
        },
        {
          "output_type": "stream",
          "text": [
            "paraphrase: Where is my return? </s>\n"
          ],
          "name": "stdout"
        },
        {
          "output_type": "stream",
          "text": [
            "Sequence can't be padded as no maximum length is specified and the model maximum length is too high.\n"
          ],
          "name": "stderr"
        },
        {
          "output_type": "stream",
          "text": [
            "paraphrase: I'm waiting for my money, please check if its with you </s>\n"
          ],
          "name": "stdout"
        },
        {
          "output_type": "stream",
          "text": [
            "Sequence can't be padded as no maximum length is specified and the model maximum length is too high.\n"
          ],
          "name": "stderr"
        },
        {
          "output_type": "stream",
          "text": [
            "paraphrase: I want to check if my return was received </s>\n"
          ],
          "name": "stdout"
        },
        {
          "output_type": "stream",
          "text": [
            "Sequence can't be padded as no maximum length is specified and the model maximum length is too high.\n"
          ],
          "name": "stderr"
        },
        {
          "output_type": "stream",
          "text": [
            "paraphrase: I have returned my items more than 14 days ago, can you check if its with you? </s>\n"
          ],
          "name": "stdout"
        },
        {
          "output_type": "stream",
          "text": [
            "Sequence can't be padded as no maximum length is specified and the model maximum length is too high.\n"
          ],
          "name": "stderr"
        },
        {
          "output_type": "stream",
          "text": [
            "paraphrase: Are you holding any of my returns? </s>\n"
          ],
          "name": "stdout"
        },
        {
          "output_type": "stream",
          "text": [
            "Sequence can't be padded as no maximum length is specified and the model maximum length is too high.\n"
          ],
          "name": "stderr"
        },
        {
          "output_type": "stream",
          "text": [
            "paraphrase: I want to check if any of my returns are with you </s>\n"
          ],
          "name": "stdout"
        },
        {
          "output_type": "stream",
          "text": [
            "Sequence can't be padded as no maximum length is specified and the model maximum length is too high.\n"
          ],
          "name": "stderr"
        },
        {
          "output_type": "stream",
          "text": [
            "paraphrase: What does \"awaiting collection\" mean </s>\n"
          ],
          "name": "stdout"
        },
        {
          "output_type": "stream",
          "text": [
            "Sequence can't be padded as no maximum length is specified and the model maximum length is too high.\n"
          ],
          "name": "stderr"
        },
        {
          "output_type": "stream",
          "text": [
            "paraphrase: I haven't received my refund on my account </s>\n"
          ],
          "name": "stdout"
        },
        {
          "output_type": "stream",
          "text": [
            "Sequence can't be padded as no maximum length is specified and the model maximum length is too high.\n"
          ],
          "name": "stderr"
        },
        {
          "output_type": "stream",
          "text": [
            "paraphrase: I returned my stuff more than 14 days ago, where is my refund </s>\n"
          ],
          "name": "stdout"
        },
        {
          "output_type": "stream",
          "text": [
            "Sequence can't be padded as no maximum length is specified and the model maximum length is too high.\n"
          ],
          "name": "stderr"
        },
        {
          "output_type": "stream",
          "text": [
            "paraphrase: Have you received my returned items? </s>\n"
          ],
          "name": "stdout"
        },
        {
          "output_type": "stream",
          "text": [
            "Sequence can't be padded as no maximum length is specified and the model maximum length is too high.\n"
          ],
          "name": "stderr"
        },
        {
          "output_type": "stream",
          "text": [
            "paraphrase: i havent gotten my refund yet </s>\n"
          ],
          "name": "stdout"
        },
        {
          "output_type": "stream",
          "text": [
            "Sequence can't be padded as no maximum length is specified and the model maximum length is too high.\n"
          ],
          "name": "stderr"
        },
        {
          "output_type": "stream",
          "text": [
            "paraphrase: i sent my return back 7 days ago </s>\n"
          ],
          "name": "stdout"
        },
        {
          "output_type": "stream",
          "text": [
            "Sequence can't be padded as no maximum length is specified and the model maximum length is too high.\n"
          ],
          "name": "stderr"
        },
        {
          "output_type": "stream",
          "text": [
            "paraphrase: did you receive my return </s>\n"
          ],
          "name": "stdout"
        },
        {
          "output_type": "stream",
          "text": [
            "Sequence can't be padded as no maximum length is specified and the model maximum length is too high.\n"
          ],
          "name": "stderr"
        },
        {
          "output_type": "stream",
          "text": [
            "paraphrase:  </s>\n"
          ],
          "name": "stdout"
        },
        {
          "output_type": "stream",
          "text": [
            "Sequence can't be padded as no maximum length is specified and the model maximum length is too high.\n"
          ],
          "name": "stderr"
        },
        {
          "output_type": "stream",
          "text": [
            "28.21% complete\n",
            "paraphrase: I need a new returns note </s>\n"
          ],
          "name": "stdout"
        },
        {
          "output_type": "stream",
          "text": [
            "Sequence can't be padded as no maximum length is specified and the model maximum length is too high.\n"
          ],
          "name": "stderr"
        },
        {
          "output_type": "stream",
          "text": [
            "paraphrase: How do I get a new returns slip? </s>\n"
          ],
          "name": "stdout"
        },
        {
          "output_type": "stream",
          "text": [
            "Sequence can't be padded as no maximum length is specified and the model maximum length is too high.\n"
          ],
          "name": "stderr"
        },
        {
          "output_type": "stream",
          "text": [
            "paraphrase: How can I get a new returns note? </s>\n"
          ],
          "name": "stdout"
        },
        {
          "output_type": "stream",
          "text": [
            "Sequence can't be padded as no maximum length is specified and the model maximum length is too high.\n"
          ],
          "name": "stderr"
        },
        {
          "output_type": "stream",
          "text": [
            "paraphrase: I need a new return slip </s>\n"
          ],
          "name": "stdout"
        },
        {
          "output_type": "stream",
          "text": [
            "Sequence can't be padded as no maximum length is specified and the model maximum length is too high.\n"
          ],
          "name": "stderr"
        },
        {
          "output_type": "stream",
          "text": [
            "paraphrase: I have not received my return slip </s>\n"
          ],
          "name": "stdout"
        },
        {
          "output_type": "stream",
          "text": [
            "Sequence can't be padded as no maximum length is specified and the model maximum length is too high.\n"
          ],
          "name": "stderr"
        },
        {
          "output_type": "stream",
          "text": [
            "paraphrase: I have not received a returns label </s>\n"
          ],
          "name": "stdout"
        },
        {
          "output_type": "stream",
          "text": [
            "Sequence can't be padded as no maximum length is specified and the model maximum length is too high.\n"
          ],
          "name": "stderr"
        },
        {
          "output_type": "stream",
          "text": [
            "paraphrase: I did not receive my returns slip </s>\n"
          ],
          "name": "stdout"
        },
        {
          "output_type": "stream",
          "text": [
            "Sequence can't be padded as no maximum length is specified and the model maximum length is too high.\n"
          ],
          "name": "stderr"
        },
        {
          "output_type": "stream",
          "text": [
            "paraphrase: Can I get a new return slip? </s>\n"
          ],
          "name": "stdout"
        },
        {
          "output_type": "stream",
          "text": [
            "Sequence can't be padded as no maximum length is specified and the model maximum length is too high.\n"
          ],
          "name": "stderr"
        },
        {
          "output_type": "stream",
          "text": [
            "paraphrase: Where can I get a return label from? I lost mine </s>\n"
          ],
          "name": "stdout"
        },
        {
          "output_type": "stream",
          "text": [
            "Sequence can't be padded as no maximum length is specified and the model maximum length is too high.\n"
          ],
          "name": "stderr"
        },
        {
          "output_type": "stream",
          "text": [
            "paraphrase: I didnt find the order paper for return </s>\n"
          ],
          "name": "stdout"
        },
        {
          "output_type": "stream",
          "text": [
            "Sequence can't be padded as no maximum length is specified and the model maximum length is too high.\n"
          ],
          "name": "stderr"
        },
        {
          "output_type": "stream",
          "text": [
            "paraphrase:  </s>\n"
          ],
          "name": "stdout"
        },
        {
          "output_type": "stream",
          "text": [
            "Sequence can't be padded as no maximum length is specified and the model maximum length is too high.\n"
          ],
          "name": "stderr"
        },
        {
          "output_type": "stream",
          "text": [
            "30.77% complete\n",
            "paraphrase: Can I put in my card on the website? </s>\n"
          ],
          "name": "stdout"
        },
        {
          "output_type": "stream",
          "text": [
            "Sequence can't be padded as no maximum length is specified and the model maximum length is too high.\n"
          ],
          "name": "stderr"
        },
        {
          "output_type": "stream",
          "text": [
            "paraphrase: Can I pay with Visa? </s>\n"
          ],
          "name": "stdout"
        },
        {
          "output_type": "stream",
          "text": [
            "Sequence can't be padded as no maximum length is specified and the model maximum length is too high.\n"
          ],
          "name": "stderr"
        },
        {
          "output_type": "stream",
          "text": [
            "paraphrase: Can I pay with Mastercard? </s>\n"
          ],
          "name": "stdout"
        },
        {
          "output_type": "stream",
          "text": [
            "Sequence can't be padded as no maximum length is specified and the model maximum length is too high.\n"
          ],
          "name": "stderr"
        },
        {
          "output_type": "stream",
          "text": [
            "paraphrase: Can I pay with a debit card? </s>\n"
          ],
          "name": "stdout"
        },
        {
          "output_type": "stream",
          "text": [
            "Sequence can't be padded as no maximum length is specified and the model maximum length is too high.\n"
          ],
          "name": "stderr"
        },
        {
          "output_type": "stream",
          "text": [
            "paraphrase: Can I pay with my Maestro card? </s>\n"
          ],
          "name": "stdout"
        },
        {
          "output_type": "stream",
          "text": [
            "Sequence can't be padded as no maximum length is specified and the model maximum length is too high.\n"
          ],
          "name": "stderr"
        },
        {
          "output_type": "stream",
          "text": [
            "paraphrase: What payment methods do you have? </s>\n"
          ],
          "name": "stdout"
        },
        {
          "output_type": "stream",
          "text": [
            "Sequence can't be padded as no maximum length is specified and the model maximum length is too high.\n"
          ],
          "name": "stderr"
        },
        {
          "output_type": "stream",
          "text": [
            "paraphrase: What payment method do you accept? </s>\n"
          ],
          "name": "stdout"
        },
        {
          "output_type": "stream",
          "text": [
            "Sequence can't be padded as no maximum length is specified and the model maximum length is too high.\n"
          ],
          "name": "stderr"
        },
        {
          "output_type": "stream",
          "text": [
            "paraphrase: Which credit card do you accept? </s>\n"
          ],
          "name": "stdout"
        },
        {
          "output_type": "stream",
          "text": [
            "Sequence can't be padded as no maximum length is specified and the model maximum length is too high.\n"
          ],
          "name": "stderr"
        },
        {
          "output_type": "stream",
          "text": [
            "paraphrase: Can I pay with MoneyGram? </s>\n"
          ],
          "name": "stdout"
        },
        {
          "output_type": "stream",
          "text": [
            "Sequence can't be padded as no maximum length is specified and the model maximum length is too high.\n"
          ],
          "name": "stderr"
        },
        {
          "output_type": "stream",
          "text": [
            "paraphrase: Can I pay with Postepay? </s>\n"
          ],
          "name": "stdout"
        },
        {
          "output_type": "stream",
          "text": [
            "Sequence can't be padded as no maximum length is specified and the model maximum length is too high.\n"
          ],
          "name": "stderr"
        },
        {
          "output_type": "stream",
          "text": [
            "paraphrase: Can I pay with PayPal? </s>\n"
          ],
          "name": "stdout"
        },
        {
          "output_type": "stream",
          "text": [
            "Sequence can't be padded as no maximum length is specified and the model maximum length is too high.\n"
          ],
          "name": "stderr"
        },
        {
          "output_type": "stream",
          "text": [
            "paraphrase: how do i pay </s>\n"
          ],
          "name": "stdout"
        },
        {
          "output_type": "stream",
          "text": [
            "Sequence can't be padded as no maximum length is specified and the model maximum length is too high.\n"
          ],
          "name": "stderr"
        },
        {
          "output_type": "stream",
          "text": [
            "paraphrase: do you accept amex </s>\n"
          ],
          "name": "stdout"
        },
        {
          "output_type": "stream",
          "text": [
            "Sequence can't be padded as no maximum length is specified and the model maximum length is too high.\n"
          ],
          "name": "stderr"
        },
        {
          "output_type": "stream",
          "text": [
            "paraphrase:  </s>\n"
          ],
          "name": "stdout"
        },
        {
          "output_type": "stream",
          "text": [
            "Sequence can't be padded as no maximum length is specified and the model maximum length is too high.\n"
          ],
          "name": "stderr"
        },
        {
          "output_type": "stream",
          "text": [
            "33.33% complete\n",
            "paraphrase: I'm sick of receiving emails from ASOS, how do I unsubscribe? </s>\n"
          ],
          "name": "stdout"
        },
        {
          "output_type": "stream",
          "text": [
            "Sequence can't be padded as no maximum length is specified and the model maximum length is too high.\n"
          ],
          "name": "stderr"
        },
        {
          "output_type": "stream",
          "text": [
            "paraphrase: how do I stop getting these emails? </s>\n"
          ],
          "name": "stdout"
        },
        {
          "output_type": "stream",
          "text": [
            "Sequence can't be padded as no maximum length is specified and the model maximum length is too high.\n"
          ],
          "name": "stderr"
        },
        {
          "output_type": "stream",
          "text": [
            "paraphrase: I want to stop getting the emails! </s>\n"
          ],
          "name": "stdout"
        },
        {
          "output_type": "stream",
          "text": [
            "Sequence can't be padded as no maximum length is specified and the model maximum length is too high.\n"
          ],
          "name": "stderr"
        },
        {
          "output_type": "stream",
          "text": [
            "paraphrase: please unsubscribe me from asos emails. </s>\n"
          ],
          "name": "stdout"
        },
        {
          "output_type": "stream",
          "text": [
            "Sequence can't be padded as no maximum length is specified and the model maximum length is too high.\n"
          ],
          "name": "stderr"
        },
        {
          "output_type": "stream",
          "text": [
            "paraphrase: I want to stop receiving emails from ASOS </s>\n"
          ],
          "name": "stdout"
        },
        {
          "output_type": "stream",
          "text": [
            "Sequence can't be padded as no maximum length is specified and the model maximum length is too high.\n"
          ],
          "name": "stderr"
        },
        {
          "output_type": "stream",
          "text": [
            "paraphrase: I don't want to get emails anymore </s>\n"
          ],
          "name": "stdout"
        },
        {
          "output_type": "stream",
          "text": [
            "Sequence can't be padded as no maximum length is specified and the model maximum length is too high.\n"
          ],
          "name": "stderr"
        },
        {
          "output_type": "stream",
          "text": [
            "paraphrase: stop sending me emails from ASOS </s>\n"
          ],
          "name": "stdout"
        },
        {
          "output_type": "stream",
          "text": [
            "Sequence can't be padded as no maximum length is specified and the model maximum length is too high.\n"
          ],
          "name": "stderr"
        },
        {
          "output_type": "stream",
          "text": [
            "paraphrase: can you stop sending me emails </s>\n"
          ],
          "name": "stdout"
        },
        {
          "output_type": "stream",
          "text": [
            "Sequence can't be padded as no maximum length is specified and the model maximum length is too high.\n"
          ],
          "name": "stderr"
        },
        {
          "output_type": "stream",
          "text": [
            "paraphrase: I no longer wish to receive emails from ASOS </s>\n"
          ],
          "name": "stdout"
        },
        {
          "output_type": "stream",
          "text": [
            "Sequence can't be padded as no maximum length is specified and the model maximum length is too high.\n"
          ],
          "name": "stderr"
        },
        {
          "output_type": "stream",
          "text": [
            "paraphrase: I don't want to receive emails from ASOS </s>\n"
          ],
          "name": "stdout"
        },
        {
          "output_type": "stream",
          "text": [
            "Sequence can't be padded as no maximum length is specified and the model maximum length is too high.\n"
          ],
          "name": "stderr"
        },
        {
          "output_type": "stream",
          "text": [
            "paraphrase: I've been getting too many emails from asos </s>\n"
          ],
          "name": "stdout"
        },
        {
          "output_type": "stream",
          "text": [
            "Sequence can't be padded as no maximum length is specified and the model maximum length is too high.\n"
          ],
          "name": "stderr"
        },
        {
          "output_type": "stream",
          "text": [
            "paraphrase: How do I stop the texts I've been getting </s>\n"
          ],
          "name": "stdout"
        },
        {
          "output_type": "stream",
          "text": [
            "Sequence can't be padded as no maximum length is specified and the model maximum length is too high.\n"
          ],
          "name": "stderr"
        },
        {
          "output_type": "stream",
          "text": [
            "paraphrase: please stop spamming me </s>\n"
          ],
          "name": "stdout"
        },
        {
          "output_type": "stream",
          "text": [
            "Sequence can't be padded as no maximum length is specified and the model maximum length is too high.\n"
          ],
          "name": "stderr"
        },
        {
          "output_type": "stream",
          "text": [
            "paraphrase: dont want emails anymore </s>\n"
          ],
          "name": "stdout"
        },
        {
          "output_type": "stream",
          "text": [
            "Sequence can't be padded as no maximum length is specified and the model maximum length is too high.\n"
          ],
          "name": "stderr"
        },
        {
          "output_type": "stream",
          "text": [
            "paraphrase: i dont want to be contacted by text </s>\n"
          ],
          "name": "stdout"
        },
        {
          "output_type": "stream",
          "text": [
            "Sequence can't be padded as no maximum length is specified and the model maximum length is too high.\n"
          ],
          "name": "stderr"
        },
        {
          "output_type": "stream",
          "text": [
            "paraphrase:  </s>\n"
          ],
          "name": "stdout"
        },
        {
          "output_type": "stream",
          "text": [
            "Sequence can't be padded as no maximum length is specified and the model maximum length is too high.\n"
          ],
          "name": "stderr"
        },
        {
          "output_type": "stream",
          "text": [
            "35.9% complete\n",
            "paraphrase: I am in India and want to pay in dollars </s>\n"
          ],
          "name": "stdout"
        },
        {
          "output_type": "stream",
          "text": [
            "Sequence can't be padded as no maximum length is specified and the model maximum length is too high.\n"
          ],
          "name": "stderr"
        },
        {
          "output_type": "stream",
          "text": [
            "paraphrase: I want to pay in euros </s>\n"
          ],
          "name": "stdout"
        },
        {
          "output_type": "stream",
          "text": [
            "Sequence can't be padded as no maximum length is specified and the model maximum length is too high.\n"
          ],
          "name": "stderr"
        },
        {
          "output_type": "stream",
          "text": [
            "paraphrase: I am in the UK and want to pay in dollars </s>\n"
          ],
          "name": "stdout"
        },
        {
          "output_type": "stream",
          "text": [
            "Sequence can't be padded as no maximum length is specified and the model maximum length is too high.\n"
          ],
          "name": "stderr"
        },
        {
          "output_type": "stream",
          "text": [
            "paraphrase: I am in Germany and want to pay in Euros </s>\n"
          ],
          "name": "stdout"
        },
        {
          "output_type": "stream",
          "text": [
            "Sequence can't be padded as no maximum length is specified and the model maximum length is too high.\n"
          ],
          "name": "stderr"
        },
        {
          "output_type": "stream",
          "text": [
            "paraphrase: How do I pay in dollars </s>\n"
          ],
          "name": "stdout"
        },
        {
          "output_type": "stream",
          "text": [
            "Sequence can't be padded as no maximum length is specified and the model maximum length is too high.\n"
          ],
          "name": "stderr"
        },
        {
          "output_type": "stream",
          "text": [
            "paraphrase: I am in the USA and would like to pay in US dollars </s>\n"
          ],
          "name": "stdout"
        },
        {
          "output_type": "stream",
          "text": [
            "Sequence can't be padded as no maximum length is specified and the model maximum length is too high.\n"
          ],
          "name": "stderr"
        },
        {
          "output_type": "stream",
          "text": [
            "paraphrase: I am in China and would like to pay in China yuan </s>\n"
          ],
          "name": "stdout"
        },
        {
          "output_type": "stream",
          "text": [
            "Sequence can't be padded as no maximum length is specified and the model maximum length is too high.\n"
          ],
          "name": "stderr"
        },
        {
          "output_type": "stream",
          "text": [
            "paraphrase: I am in US and would like to pay in US dollars </s>\n"
          ],
          "name": "stdout"
        },
        {
          "output_type": "stream",
          "text": [
            "Sequence can't be padded as no maximum length is specified and the model maximum length is too high.\n"
          ],
          "name": "stderr"
        },
        {
          "output_type": "stream",
          "text": [
            "paraphrase: I am in Ireland and would like to pay in Euro </s>\n"
          ],
          "name": "stdout"
        },
        {
          "output_type": "stream",
          "text": [
            "Sequence can't be padded as no maximum length is specified and the model maximum length is too high.\n"
          ],
          "name": "stderr"
        },
        {
          "output_type": "stream",
          "text": [
            "paraphrase: how can I pay in Italian Lira? </s>\n"
          ],
          "name": "stdout"
        },
        {
          "output_type": "stream",
          "text": [
            "Sequence can't be padded as no maximum length is specified and the model maximum length is too high.\n"
          ],
          "name": "stderr"
        },
        {
          "output_type": "stream",
          "text": [
            "paraphrase: accept euros? </s>\n"
          ],
          "name": "stdout"
        },
        {
          "output_type": "stream",
          "text": [
            "Sequence can't be padded as no maximum length is specified and the model maximum length is too high.\n"
          ],
          "name": "stderr"
        },
        {
          "output_type": "stream",
          "text": [
            "paraphrase: can I pay in Euros? </s>\n"
          ],
          "name": "stdout"
        },
        {
          "output_type": "stream",
          "text": [
            "Sequence can't be padded as no maximum length is specified and the model maximum length is too high.\n"
          ],
          "name": "stderr"
        },
        {
          "output_type": "stream",
          "text": [
            "paraphrase: do you accept British pounds? </s>\n"
          ],
          "name": "stdout"
        },
        {
          "output_type": "stream",
          "text": [
            "Sequence can't be padded as no maximum length is specified and the model maximum length is too high.\n"
          ],
          "name": "stderr"
        },
        {
          "output_type": "stream",
          "text": [
            "paraphrase: can I pay in GBP? </s>\n"
          ],
          "name": "stdout"
        },
        {
          "output_type": "stream",
          "text": [
            "Sequence can't be padded as no maximum length is specified and the model maximum length is too high.\n"
          ],
          "name": "stderr"
        },
        {
          "output_type": "stream",
          "text": [
            "paraphrase: you accept euros? </s>\n"
          ],
          "name": "stdout"
        },
        {
          "output_type": "stream",
          "text": [
            "Sequence can't be padded as no maximum length is specified and the model maximum length is too high.\n"
          ],
          "name": "stderr"
        },
        {
          "output_type": "stream",
          "text": [
            "paraphrase: pounds? </s>\n"
          ],
          "name": "stdout"
        },
        {
          "output_type": "stream",
          "text": [
            "Sequence can't be padded as no maximum length is specified and the model maximum length is too high.\n"
          ],
          "name": "stderr"
        },
        {
          "output_type": "stream",
          "text": [
            "paraphrase: do you accept Indian Rupees? </s>\n"
          ],
          "name": "stdout"
        },
        {
          "output_type": "stream",
          "text": [
            "Sequence can't be padded as no maximum length is specified and the model maximum length is too high.\n"
          ],
          "name": "stderr"
        },
        {
          "output_type": "stream",
          "text": [
            "paraphrase: can i pay in yuan </s>\n"
          ],
          "name": "stdout"
        },
        {
          "output_type": "stream",
          "text": [
            "Sequence can't be padded as no maximum length is specified and the model maximum length is too high.\n"
          ],
          "name": "stderr"
        },
        {
          "output_type": "stream",
          "text": [
            "paraphrase:  </s>\n"
          ],
          "name": "stdout"
        },
        {
          "output_type": "stream",
          "text": [
            "Sequence can't be padded as no maximum length is specified and the model maximum length is too high.\n"
          ],
          "name": "stderr"
        },
        {
          "output_type": "stream",
          "text": [
            "38.46% complete\n",
            "paraphrase: Can i return with Hermes? </s>\n"
          ],
          "name": "stdout"
        },
        {
          "output_type": "stream",
          "text": [
            "Sequence can't be padded as no maximum length is specified and the model maximum length is too high.\n"
          ],
          "name": "stderr"
        },
        {
          "output_type": "stream",
          "text": [
            "paraphrase: Can i return with DPD? </s>\n"
          ],
          "name": "stdout"
        },
        {
          "output_type": "stream",
          "text": [
            "Sequence can't be padded as no maximum length is specified and the model maximum length is too high.\n"
          ],
          "name": "stderr"
        },
        {
          "output_type": "stream",
          "text": [
            "paraphrase: How do I return with Hermes? </s>\n"
          ],
          "name": "stdout"
        },
        {
          "output_type": "stream",
          "text": [
            "Sequence can't be padded as no maximum length is specified and the model maximum length is too high.\n"
          ],
          "name": "stderr"
        },
        {
          "output_type": "stream",
          "text": [
            "paraphrase: How do I return with DPD? </s>\n"
          ],
          "name": "stdout"
        },
        {
          "output_type": "stream",
          "text": [
            "Sequence can't be padded as no maximum length is specified and the model maximum length is too high.\n"
          ],
          "name": "stderr"
        },
        {
          "output_type": "stream",
          "text": [
            "paraphrase: I want to return something. How can I do this? </s>\n"
          ],
          "name": "stdout"
        },
        {
          "output_type": "stream",
          "text": [
            "Sequence can't be padded as no maximum length is specified and the model maximum length is too high.\n"
          ],
          "name": "stderr"
        },
        {
          "output_type": "stream",
          "text": [
            "paraphrase: How do I return to ASOS? </s>\n"
          ],
          "name": "stdout"
        },
        {
          "output_type": "stream",
          "text": [
            "Sequence can't be padded as no maximum length is specified and the model maximum length is too high.\n"
          ],
          "name": "stderr"
        },
        {
          "output_type": "stream",
          "text": [
            "paraphrase: How can I return to ASOS? </s>\n"
          ],
          "name": "stdout"
        },
        {
          "output_type": "stream",
          "text": [
            "Sequence can't be padded as no maximum length is specified and the model maximum length is too high.\n"
          ],
          "name": "stderr"
        },
        {
          "output_type": "stream",
          "text": [
            "paraphrase: Can I return with Hermes? </s>\n"
          ],
          "name": "stdout"
        },
        {
          "output_type": "stream",
          "text": [
            "Sequence can't be padded as no maximum length is specified and the model maximum length is too high.\n"
          ],
          "name": "stderr"
        },
        {
          "output_type": "stream",
          "text": [
            "paraphrase: Can I return with DPD? </s>\n"
          ],
          "name": "stdout"
        },
        {
          "output_type": "stream",
          "text": [
            "Sequence can't be padded as no maximum length is specified and the model maximum length is too high.\n"
          ],
          "name": "stderr"
        },
        {
          "output_type": "stream",
          "text": [
            "paraphrase: How do I return an item to DPD? </s>\n"
          ],
          "name": "stdout"
        },
        {
          "output_type": "stream",
          "text": [
            "Sequence can't be padded as no maximum length is specified and the model maximum length is too high.\n"
          ],
          "name": "stderr"
        },
        {
          "output_type": "stream",
          "text": [
            "paraphrase: How do I return something to you? </s>\n"
          ],
          "name": "stdout"
        },
        {
          "output_type": "stream",
          "text": [
            "Sequence can't be padded as no maximum length is specified and the model maximum length is too high.\n"
          ],
          "name": "stderr"
        },
        {
          "output_type": "stream",
          "text": [
            "paraphrase: I would like to return an item. </s>\n"
          ],
          "name": "stdout"
        },
        {
          "output_type": "stream",
          "text": [
            "Sequence can't be padded as no maximum length is specified and the model maximum length is too high.\n"
          ],
          "name": "stderr"
        },
        {
          "output_type": "stream",
          "text": [
            "paraphrase: How do I return some of my items to you? </s>\n"
          ],
          "name": "stdout"
        },
        {
          "output_type": "stream",
          "text": [
            "Sequence can't be padded as no maximum length is specified and the model maximum length is too high.\n"
          ],
          "name": "stderr"
        },
        {
          "output_type": "stream",
          "text": [
            "paraphrase:  </s>\n"
          ],
          "name": "stdout"
        },
        {
          "output_type": "stream",
          "text": [
            "Sequence can't be padded as no maximum length is specified and the model maximum length is too high.\n"
          ],
          "name": "stderr"
        },
        {
          "output_type": "stream",
          "text": [
            "41.03% complete\n",
            "paraphrase: I am a new customer and I want to use my voucher </s>\n"
          ],
          "name": "stdout"
        },
        {
          "output_type": "stream",
          "text": [
            "Sequence can't be padded as no maximum length is specified and the model maximum length is too high.\n"
          ],
          "name": "stderr"
        },
        {
          "output_type": "stream",
          "text": [
            "paraphrase: My voucher code has been used but I havent bought anything </s>\n"
          ],
          "name": "stdout"
        },
        {
          "output_type": "stream",
          "text": [
            "Sequence can't be padded as no maximum length is specified and the model maximum length is too high.\n"
          ],
          "name": "stderr"
        },
        {
          "output_type": "stream",
          "text": [
            "paraphrase: My voucher code hasn't been used, I have a discount code </s>\n"
          ],
          "name": "stdout"
        },
        {
          "output_type": "stream",
          "text": [
            "Sequence can't be padded as no maximum length is specified and the model maximum length is too high.\n"
          ],
          "name": "stderr"
        },
        {
          "output_type": "stream",
          "text": [
            "paraphrase: My voucher code says it's already been used </s>\n"
          ],
          "name": "stdout"
        },
        {
          "output_type": "stream",
          "text": [
            "Sequence can't be padded as no maximum length is specified and the model maximum length is too high.\n"
          ],
          "name": "stderr"
        },
        {
          "output_type": "stream",
          "text": [
            "paraphrase: My gift voucher has expired </s>\n"
          ],
          "name": "stdout"
        },
        {
          "output_type": "stream",
          "text": [
            "Sequence can't be padded as no maximum length is specified and the model maximum length is too high.\n"
          ],
          "name": "stderr"
        },
        {
          "output_type": "stream",
          "text": [
            "paraphrase: My voucher has already been used, I have a discount code </s>\n"
          ],
          "name": "stdout"
        },
        {
          "output_type": "stream",
          "text": [
            "Sequence can't be padded as no maximum length is specified and the model maximum length is too high.\n"
          ],
          "name": "stderr"
        },
        {
          "output_type": "stream",
          "text": [
            "paraphrase: My discount code does not get recognized </s>\n"
          ],
          "name": "stdout"
        },
        {
          "output_type": "stream",
          "text": [
            "Sequence can't be padded as no maximum length is specified and the model maximum length is too high.\n"
          ],
          "name": "stderr"
        },
        {
          "output_type": "stream",
          "text": [
            "paraphrase: My discount code isnt working </s>\n"
          ],
          "name": "stdout"
        },
        {
          "output_type": "stream",
          "text": [
            "Sequence can't be padded as no maximum length is specified and the model maximum length is too high.\n"
          ],
          "name": "stderr"
        },
        {
          "output_type": "stream",
          "text": [
            "paraphrase: I am a new customer and I want to use my discount code </s>\n"
          ],
          "name": "stdout"
        },
        {
          "output_type": "stream",
          "text": [
            "Sequence can't be padded as no maximum length is specified and the model maximum length is too high.\n"
          ],
          "name": "stderr"
        },
        {
          "output_type": "stream",
          "text": [
            "paraphrase: My discount code isn't working </s>\n"
          ],
          "name": "stdout"
        },
        {
          "output_type": "stream",
          "text": [
            "Sequence can't be padded as no maximum length is specified and the model maximum length is too high.\n"
          ],
          "name": "stderr"
        },
        {
          "output_type": "stream",
          "text": [
            "paraphrase: Why can't I use this promo code? </s>\n"
          ],
          "name": "stdout"
        },
        {
          "output_type": "stream",
          "text": [
            "Sequence can't be padded as no maximum length is specified and the model maximum length is too high.\n"
          ],
          "name": "stderr"
        },
        {
          "output_type": "stream",
          "text": [
            "paraphrase:  </s>\n"
          ],
          "name": "stdout"
        },
        {
          "output_type": "stream",
          "text": [
            "Sequence can't be padded as no maximum length is specified and the model maximum length is too high.\n"
          ],
          "name": "stderr"
        },
        {
          "output_type": "stream",
          "text": [
            "43.59% complete\n",
            "paraphrase: How can I track my next day delivery parcel? </s>\n"
          ],
          "name": "stdout"
        },
        {
          "output_type": "stream",
          "text": [
            "Sequence can't be padded as no maximum length is specified and the model maximum length is too high.\n"
          ],
          "name": "stderr"
        },
        {
          "output_type": "stream",
          "text": [
            "paraphrase: How long will it take for next day delivery? </s>\n"
          ],
          "name": "stdout"
        },
        {
          "output_type": "stream",
          "text": [
            "Sequence can't be padded as no maximum length is specified and the model maximum length is too high.\n"
          ],
          "name": "stderr"
        },
        {
          "output_type": "stream",
          "text": [
            "paraphrase: How much does next day delivery cost? </s>\n"
          ],
          "name": "stdout"
        },
        {
          "output_type": "stream",
          "text": [
            "Sequence can't be padded as no maximum length is specified and the model maximum length is too high.\n"
          ],
          "name": "stderr"
        },
        {
          "output_type": "stream",
          "text": [
            "paraphrase: How long does next day delivery take? </s>\n"
          ],
          "name": "stdout"
        },
        {
          "output_type": "stream",
          "text": [
            "Sequence can't be padded as no maximum length is specified and the model maximum length is too high.\n"
          ],
          "name": "stderr"
        },
        {
          "output_type": "stream",
          "text": [
            "paraphrase: Next day delivery tracking? </s>\n"
          ],
          "name": "stdout"
        },
        {
          "output_type": "stream",
          "text": [
            "Sequence can't be padded as no maximum length is specified and the model maximum length is too high.\n"
          ],
          "name": "stderr"
        },
        {
          "output_type": "stream",
          "text": [
            "paraphrase: Next day delivery price? </s>\n"
          ],
          "name": "stdout"
        },
        {
          "output_type": "stream",
          "text": [
            "Sequence can't be padded as no maximum length is specified and the model maximum length is too high.\n"
          ],
          "name": "stderr"
        },
        {
          "output_type": "stream",
          "text": [
            "paraphrase: What is next day delivery? </s>\n"
          ],
          "name": "stdout"
        },
        {
          "output_type": "stream",
          "text": [
            "Sequence can't be padded as no maximum length is specified and the model maximum length is too high.\n"
          ],
          "name": "stderr"
        },
        {
          "output_type": "stream",
          "text": [
            "paraphrase: How much does next day delivery to Europe cost? </s>\n"
          ],
          "name": "stdout"
        },
        {
          "output_type": "stream",
          "text": [
            "Sequence can't be padded as no maximum length is specified and the model maximum length is too high.\n"
          ],
          "name": "stderr"
        },
        {
          "output_type": "stream",
          "text": [
            "paraphrase: How do I track my next day delivery parcel? </s>\n"
          ],
          "name": "stdout"
        },
        {
          "output_type": "stream",
          "text": [
            "Sequence can't be padded as no maximum length is specified and the model maximum length is too high.\n"
          ],
          "name": "stderr"
        },
        {
          "output_type": "stream",
          "text": [
            "paraphrase: When should I expect my parcel with next day delivery? </s>\n"
          ],
          "name": "stdout"
        },
        {
          "output_type": "stream",
          "text": [
            "Sequence can't be padded as no maximum length is specified and the model maximum length is too high.\n"
          ],
          "name": "stderr"
        },
        {
          "output_type": "stream",
          "text": [
            "paraphrase: How much does it cost for next day delivery? </s>\n"
          ],
          "name": "stdout"
        },
        {
          "output_type": "stream",
          "text": [
            "Sequence can't be padded as no maximum length is specified and the model maximum length is too high.\n"
          ],
          "name": "stderr"
        },
        {
          "output_type": "stream",
          "text": [
            "paraphrase: I need the clothes by tomorrow, is it too late? </s>\n"
          ],
          "name": "stdout"
        },
        {
          "output_type": "stream",
          "text": [
            "Sequence can't be padded as no maximum length is specified and the model maximum length is too high.\n"
          ],
          "name": "stderr"
        },
        {
          "output_type": "stream",
          "text": [
            "paraphrase: can i receive the item the next day </s>\n"
          ],
          "name": "stdout"
        },
        {
          "output_type": "stream",
          "text": [
            "Sequence can't be padded as no maximum length is specified and the model maximum length is too high.\n"
          ],
          "name": "stderr"
        },
        {
          "output_type": "stream",
          "text": [
            "paraphrase:  </s>\n"
          ],
          "name": "stdout"
        },
        {
          "output_type": "stream",
          "text": [
            "Sequence can't be padded as no maximum length is specified and the model maximum length is too high.\n"
          ],
          "name": "stderr"
        },
        {
          "output_type": "stream",
          "text": [
            "46.15% complete\n",
            "paraphrase: how do i log in to my account </s>\n"
          ],
          "name": "stdout"
        },
        {
          "output_type": "stream",
          "text": [
            "Sequence can't be padded as no maximum length is specified and the model maximum length is too high.\n"
          ],
          "name": "stderr"
        },
        {
          "output_type": "stream",
          "text": [
            "paraphrase: How to unlock your account </s>\n"
          ],
          "name": "stdout"
        },
        {
          "output_type": "stream",
          "text": [
            "Sequence can't be padded as no maximum length is specified and the model maximum length is too high.\n"
          ],
          "name": "stderr"
        },
        {
          "output_type": "stream",
          "text": [
            "paraphrase: I've forgotten my password and I can't login into my account? </s>\n"
          ],
          "name": "stdout"
        },
        {
          "output_type": "stream",
          "text": [
            "Sequence can't be padded as no maximum length is specified and the model maximum length is too high.\n"
          ],
          "name": "stderr"
        },
        {
          "output_type": "stream",
          "text": [
            "paraphrase: How do I get back into my account? </s>\n"
          ],
          "name": "stdout"
        },
        {
          "output_type": "stream",
          "text": [
            "Sequence can't be padded as no maximum length is specified and the model maximum length is too high.\n"
          ],
          "name": "stderr"
        },
        {
          "output_type": "stream",
          "text": [
            "paraphrase: I can't get into my account </s>\n"
          ],
          "name": "stdout"
        },
        {
          "output_type": "stream",
          "text": [
            "Sequence can't be padded as no maximum length is specified and the model maximum length is too high.\n"
          ],
          "name": "stderr"
        },
        {
          "output_type": "stream",
          "text": [
            "paraphrase: I can't sign in to my account </s>\n"
          ],
          "name": "stdout"
        },
        {
          "output_type": "stream",
          "text": [
            "Sequence can't be padded as no maximum length is specified and the model maximum length is too high.\n"
          ],
          "name": "stderr"
        },
        {
          "output_type": "stream",
          "text": [
            "paraphrase: I can't access my account </s>\n"
          ],
          "name": "stdout"
        },
        {
          "output_type": "stream",
          "text": [
            "Sequence can't be padded as no maximum length is specified and the model maximum length is too high.\n"
          ],
          "name": "stderr"
        },
        {
          "output_type": "stream",
          "text": [
            "paraphrase: My account says it's blocked </s>\n"
          ],
          "name": "stdout"
        },
        {
          "output_type": "stream",
          "text": [
            "Sequence can't be padded as no maximum length is specified and the model maximum length is too high.\n"
          ],
          "name": "stderr"
        },
        {
          "output_type": "stream",
          "text": [
            "paraphrase: how do i get into my account </s>\n"
          ],
          "name": "stdout"
        },
        {
          "output_type": "stream",
          "text": [
            "Sequence can't be padded as no maximum length is specified and the model maximum length is too high.\n"
          ],
          "name": "stderr"
        },
        {
          "output_type": "stream",
          "text": [
            "paraphrase: I can't login to my account </s>\n"
          ],
          "name": "stdout"
        },
        {
          "output_type": "stream",
          "text": [
            "Sequence can't be padded as no maximum length is specified and the model maximum length is too high.\n"
          ],
          "name": "stderr"
        },
        {
          "output_type": "stream",
          "text": [
            "paraphrase: I can't log into my account </s>\n"
          ],
          "name": "stdout"
        },
        {
          "output_type": "stream",
          "text": [
            "Sequence can't be padded as no maximum length is specified and the model maximum length is too high.\n"
          ],
          "name": "stderr"
        },
        {
          "output_type": "stream",
          "text": [
            "paraphrase: I haven't received a password reset email </s>\n"
          ],
          "name": "stdout"
        },
        {
          "output_type": "stream",
          "text": [
            "Sequence can't be padded as no maximum length is specified and the model maximum length is too high.\n"
          ],
          "name": "stderr"
        },
        {
          "output_type": "stream",
          "text": [
            "paraphrase: I'm locked out of my account </s>\n"
          ],
          "name": "stdout"
        },
        {
          "output_type": "stream",
          "text": [
            "Sequence can't be padded as no maximum length is specified and the model maximum length is too high.\n"
          ],
          "name": "stderr"
        },
        {
          "output_type": "stream",
          "text": [
            "paraphrase: Have I been banned from ASOS? </s>\n"
          ],
          "name": "stdout"
        },
        {
          "output_type": "stream",
          "text": [
            "Sequence can't be padded as no maximum length is specified and the model maximum length is too high.\n"
          ],
          "name": "stderr"
        },
        {
          "output_type": "stream",
          "text": [
            "paraphrase: I can't remember my login details </s>\n"
          ],
          "name": "stdout"
        },
        {
          "output_type": "stream",
          "text": [
            "Sequence can't be padded as no maximum length is specified and the model maximum length is too high.\n"
          ],
          "name": "stderr"
        },
        {
          "output_type": "stream",
          "text": [
            "paraphrase: Do I have to create an account before I order? </s>\n"
          ],
          "name": "stdout"
        },
        {
          "output_type": "stream",
          "text": [
            "Sequence can't be padded as no maximum length is specified and the model maximum length is too high.\n"
          ],
          "name": "stderr"
        },
        {
          "output_type": "stream",
          "text": [
            "paraphrase: I have trouble logging in to the website </s>\n"
          ],
          "name": "stdout"
        },
        {
          "output_type": "stream",
          "text": [
            "Sequence can't be padded as no maximum length is specified and the model maximum length is too high.\n"
          ],
          "name": "stderr"
        },
        {
          "output_type": "stream",
          "text": [
            "paraphrase: I've forgotten my email address that I registered with </s>\n"
          ],
          "name": "stdout"
        },
        {
          "output_type": "stream",
          "text": [
            "Sequence can't be padded as no maximum length is specified and the model maximum length is too high.\n"
          ],
          "name": "stderr"
        },
        {
          "output_type": "stream",
          "text": [
            "paraphrase:  </s>\n"
          ],
          "name": "stdout"
        },
        {
          "output_type": "stream",
          "text": [
            "Sequence can't be padded as no maximum length is specified and the model maximum length is too high.\n"
          ],
          "name": "stderr"
        },
        {
          "output_type": "stream",
          "text": [
            "48.72% complete\n",
            "paraphrase: My order wasn't delivered, what's going on? </s>\n"
          ],
          "name": "stdout"
        },
        {
          "output_type": "stream",
          "text": [
            "Sequence can't be padded as no maximum length is specified and the model maximum length is too high.\n"
          ],
          "name": "stderr"
        },
        {
          "output_type": "stream",
          "text": [
            "paraphrase: How to find out where is my order? </s>\n"
          ],
          "name": "stdout"
        },
        {
          "output_type": "stream",
          "text": [
            "Sequence can't be padded as no maximum length is specified and the model maximum length is too high.\n"
          ],
          "name": "stderr"
        },
        {
          "output_type": "stream",
          "text": [
            "paraphrase: Hey I did not receive my order </s>\n"
          ],
          "name": "stdout"
        },
        {
          "output_type": "stream",
          "text": [
            "Sequence can't be padded as no maximum length is specified and the model maximum length is too high.\n"
          ],
          "name": "stderr"
        },
        {
          "output_type": "stream",
          "text": [
            "paraphrase: My order hasn't been delivered, what should I do? </s>\n"
          ],
          "name": "stdout"
        },
        {
          "output_type": "stream",
          "text": [
            "Sequence can't be padded as no maximum length is specified and the model maximum length is too high.\n"
          ],
          "name": "stderr"
        },
        {
          "output_type": "stream",
          "text": [
            "paraphrase: What should I do if my order hasn't been delivered yet? </s>\n"
          ],
          "name": "stdout"
        },
        {
          "output_type": "stream",
          "text": [
            "Sequence can't be padded as no maximum length is specified and the model maximum length is too high.\n"
          ],
          "name": "stderr"
        },
        {
          "output_type": "stream",
          "text": [
            "paraphrase: My order says delivered, but I haven't received it </s>\n"
          ],
          "name": "stdout"
        },
        {
          "output_type": "stream",
          "text": [
            "Sequence can't be padded as no maximum length is specified and the model maximum length is too high.\n"
          ],
          "name": "stderr"
        },
        {
          "output_type": "stream",
          "text": [
            "paraphrase: How long do I have to wait for my order? </s>\n"
          ],
          "name": "stdout"
        },
        {
          "output_type": "stream",
          "text": [
            "Sequence can't be padded as no maximum length is specified and the model maximum length is too high.\n"
          ],
          "name": "stderr"
        },
        {
          "output_type": "stream",
          "text": [
            "paraphrase: Also what can I do if my order has not arrived? </s>\n"
          ],
          "name": "stdout"
        },
        {
          "output_type": "stream",
          "text": [
            "Sequence can't be padded as no maximum length is specified and the model maximum length is too high.\n"
          ],
          "name": "stderr"
        },
        {
          "output_type": "stream",
          "text": [
            "paraphrase: What happens if my order hasn't arrived yet? </s>\n"
          ],
          "name": "stdout"
        },
        {
          "output_type": "stream",
          "text": [
            "Sequence can't be padded as no maximum length is specified and the model maximum length is too high.\n"
          ],
          "name": "stderr"
        },
        {
          "output_type": "stream",
          "text": [
            "paraphrase: when will my order arrive? </s>\n"
          ],
          "name": "stdout"
        },
        {
          "output_type": "stream",
          "text": [
            "Sequence can't be padded as no maximum length is specified and the model maximum length is too high.\n"
          ],
          "name": "stderr"
        },
        {
          "output_type": "stream",
          "text": [
            "paraphrase: my order hasn't been delivered yet </s>\n"
          ],
          "name": "stdout"
        },
        {
          "output_type": "stream",
          "text": [
            "Sequence can't be padded as no maximum length is specified and the model maximum length is too high.\n"
          ],
          "name": "stderr"
        },
        {
          "output_type": "stream",
          "text": [
            "paraphrase: what do i do if my order hasn't arrived? </s>\n"
          ],
          "name": "stdout"
        },
        {
          "output_type": "stream",
          "text": [
            "Sequence can't be padded as no maximum length is specified and the model maximum length is too high.\n"
          ],
          "name": "stderr"
        },
        {
          "output_type": "stream",
          "text": [
            "paraphrase: how long does it take to get my order? </s>\n"
          ],
          "name": "stdout"
        },
        {
          "output_type": "stream",
          "text": [
            "Sequence can't be padded as no maximum length is specified and the model maximum length is too high.\n"
          ],
          "name": "stderr"
        },
        {
          "output_type": "stream",
          "text": [
            "paraphrase: when will it get here? </s>\n"
          ],
          "name": "stdout"
        },
        {
          "output_type": "stream",
          "text": [
            "Sequence can't be padded as no maximum length is specified and the model maximum length is too high.\n"
          ],
          "name": "stderr"
        },
        {
          "output_type": "stream",
          "text": [
            "paraphrase: do i have to wait long for my order? </s>\n"
          ],
          "name": "stdout"
        },
        {
          "output_type": "stream",
          "text": [
            "Sequence can't be padded as no maximum length is specified and the model maximum length is too high.\n"
          ],
          "name": "stderr"
        },
        {
          "output_type": "stream",
          "text": [
            "paraphrase: Why hasn't my order arrived yet? </s>\n"
          ],
          "name": "stdout"
        },
        {
          "output_type": "stream",
          "text": [
            "Sequence can't be padded as no maximum length is specified and the model maximum length is too high.\n"
          ],
          "name": "stderr"
        },
        {
          "output_type": "stream",
          "text": [
            "paraphrase: One of my orders has arrived but the other one hasn't </s>\n"
          ],
          "name": "stdout"
        },
        {
          "output_type": "stream",
          "text": [
            "Sequence can't be padded as no maximum length is specified and the model maximum length is too high.\n"
          ],
          "name": "stderr"
        },
        {
          "output_type": "stream",
          "text": [
            "paraphrase: When did my order get delivered? </s>\n"
          ],
          "name": "stdout"
        },
        {
          "output_type": "stream",
          "text": [
            "Sequence can't be padded as no maximum length is specified and the model maximum length is too high.\n"
          ],
          "name": "stderr"
        },
        {
          "output_type": "stream",
          "text": [
            "paraphrase: My order was meant to be here a week ago </s>\n"
          ],
          "name": "stdout"
        },
        {
          "output_type": "stream",
          "text": [
            "Sequence can't be padded as no maximum length is specified and the model maximum length is too high.\n"
          ],
          "name": "stderr"
        },
        {
          "output_type": "stream",
          "text": [
            "paraphrase: the email said it would be delivered now but i havent received it </s>\n"
          ],
          "name": "stdout"
        },
        {
          "output_type": "stream",
          "text": [
            "Sequence can't be padded as no maximum length is specified and the model maximum length is too high.\n"
          ],
          "name": "stderr"
        },
        {
          "output_type": "stream",
          "text": [
            "paraphrase: why havent i gotten my shopping </s>\n"
          ],
          "name": "stdout"
        },
        {
          "output_type": "stream",
          "text": [
            "Sequence can't be padded as no maximum length is specified and the model maximum length is too high.\n"
          ],
          "name": "stderr"
        },
        {
          "output_type": "stream",
          "text": [
            "paraphrase: i ordered a few weeks ago but havent received </s>\n"
          ],
          "name": "stdout"
        },
        {
          "output_type": "stream",
          "text": [
            "Sequence can't be padded as no maximum length is specified and the model maximum length is too high.\n"
          ],
          "name": "stderr"
        },
        {
          "output_type": "stream",
          "text": [
            "paraphrase:  </s>\n"
          ],
          "name": "stdout"
        },
        {
          "output_type": "stream",
          "text": [
            "Sequence can't be padded as no maximum length is specified and the model maximum length is too high.\n"
          ],
          "name": "stderr"
        },
        {
          "output_type": "stream",
          "text": [
            "51.28% complete\n",
            "paraphrase: I ordered a coat and a scarf but I received only one of them </s>\n"
          ],
          "name": "stdout"
        },
        {
          "output_type": "stream",
          "text": [
            "Sequence can't be padded as no maximum length is specified and the model maximum length is too high.\n"
          ],
          "name": "stderr"
        },
        {
          "output_type": "stream",
          "text": [
            "paraphrase: I'm missing an item from my order, what do I do? </s>\n"
          ],
          "name": "stdout"
        },
        {
          "output_type": "stream",
          "text": [
            "Sequence can't be padded as no maximum length is specified and the model maximum length is too high.\n"
          ],
          "name": "stderr"
        },
        {
          "output_type": "stream",
          "text": [
            "paraphrase: My shirt is missing from my order, help! </s>\n"
          ],
          "name": "stdout"
        },
        {
          "output_type": "stream",
          "text": [
            "Sequence can't be padded as no maximum length is specified and the model maximum length is too high.\n"
          ],
          "name": "stderr"
        },
        {
          "output_type": "stream",
          "text": [
            "paraphrase: Two items in my order are missing </s>\n"
          ],
          "name": "stdout"
        },
        {
          "output_type": "stream",
          "text": [
            "Sequence can't be padded as no maximum length is specified and the model maximum length is too high.\n"
          ],
          "name": "stderr"
        },
        {
          "output_type": "stream",
          "text": [
            "paraphrase: The jeans are missing in my parcel! </s>\n"
          ],
          "name": "stdout"
        },
        {
          "output_type": "stream",
          "text": [
            "Sequence can't be padded as no maximum length is specified and the model maximum length is too high.\n"
          ],
          "name": "stderr"
        },
        {
          "output_type": "stream",
          "text": [
            "paraphrase: I received the t-shirt and the socks but not the dress </s>\n"
          ],
          "name": "stdout"
        },
        {
          "output_type": "stream",
          "text": [
            "Sequence can't be padded as no maximum length is specified and the model maximum length is too high.\n"
          ],
          "name": "stderr"
        },
        {
          "output_type": "stream",
          "text": [
            "paraphrase: I haven't received my t-shirt in my parcel </s>\n"
          ],
          "name": "stdout"
        },
        {
          "output_type": "stream",
          "text": [
            "Sequence can't be padded as no maximum length is specified and the model maximum length is too high.\n"
          ],
          "name": "stderr"
        },
        {
          "output_type": "stream",
          "text": [
            "paraphrase: I ordered a brand new coat with many other items, received everything but not the coat </s>\n"
          ],
          "name": "stdout"
        },
        {
          "output_type": "stream",
          "text": [
            "Sequence can't be padded as no maximum length is specified and the model maximum length is too high.\n"
          ],
          "name": "stderr"
        },
        {
          "output_type": "stream",
          "text": [
            "paraphrase: I haven't' received my t-shirt in my parcel </s>\n"
          ],
          "name": "stdout"
        },
        {
          "output_type": "stream",
          "text": [
            "Sequence can't be padded as no maximum length is specified and the model maximum length is too high.\n"
          ],
          "name": "stderr"
        },
        {
          "output_type": "stream",
          "text": [
            "paraphrase:  </s>\n"
          ],
          "name": "stdout"
        },
        {
          "output_type": "stream",
          "text": [
            "Sequence can't be padded as no maximum length is specified and the model maximum length is too high.\n"
          ],
          "name": "stderr"
        },
        {
          "output_type": "stream",
          "text": [
            "53.85% complete\n",
            "paraphrase: I can't change my password </s>\n"
          ],
          "name": "stdout"
        },
        {
          "output_type": "stream",
          "text": [
            "Sequence can't be padded as no maximum length is specified and the model maximum length is too high.\n"
          ],
          "name": "stderr"
        },
        {
          "output_type": "stream",
          "text": [
            "paraphrase: I can't remember my pass phrase </s>\n"
          ],
          "name": "stdout"
        },
        {
          "output_type": "stream",
          "text": [
            "Sequence can't be padded as no maximum length is specified and the model maximum length is too high.\n"
          ],
          "name": "stderr"
        },
        {
          "output_type": "stream",
          "text": [
            "paraphrase: I lost my login password </s>\n"
          ],
          "name": "stdout"
        },
        {
          "output_type": "stream",
          "text": [
            "Sequence can't be padded as no maximum length is specified and the model maximum length is too high.\n"
          ],
          "name": "stderr"
        },
        {
          "output_type": "stream",
          "text": [
            "paraphrase: I forgot my password </s>\n"
          ],
          "name": "stdout"
        },
        {
          "output_type": "stream",
          "text": [
            "Sequence can't be padded as no maximum length is specified and the model maximum length is too high.\n"
          ],
          "name": "stderr"
        },
        {
          "output_type": "stream",
          "text": [
            "paraphrase: My password doesn't work </s>\n"
          ],
          "name": "stdout"
        },
        {
          "output_type": "stream",
          "text": [
            "Sequence can't be padded as no maximum length is specified and the model maximum length is too high.\n"
          ],
          "name": "stderr"
        },
        {
          "output_type": "stream",
          "text": [
            "paraphrase: I can't log in </s>\n"
          ],
          "name": "stdout"
        },
        {
          "output_type": "stream",
          "text": [
            "Sequence can't be padded as no maximum length is specified and the model maximum length is too high.\n"
          ],
          "name": "stderr"
        },
        {
          "output_type": "stream",
          "text": [
            "paraphrase: I can't log in to my account </s>\n"
          ],
          "name": "stdout"
        },
        {
          "output_type": "stream",
          "text": [
            "Sequence can't be padded as no maximum length is specified and the model maximum length is too high.\n"
          ],
          "name": "stderr"
        },
        {
          "output_type": "stream",
          "text": [
            "paraphrase: What is my passephrase </s>\n"
          ],
          "name": "stdout"
        },
        {
          "output_type": "stream",
          "text": [
            "Sequence can't be padded as no maximum length is specified and the model maximum length is too high.\n"
          ],
          "name": "stderr"
        },
        {
          "output_type": "stream",
          "text": [
            "paraphrase: I forgot my passphrase </s>\n"
          ],
          "name": "stdout"
        },
        {
          "output_type": "stream",
          "text": [
            "Sequence can't be padded as no maximum length is specified and the model maximum length is too high.\n"
          ],
          "name": "stderr"
        },
        {
          "output_type": "stream",
          "text": [
            "paraphrase: How do I update my passephrase </s>\n"
          ],
          "name": "stdout"
        },
        {
          "output_type": "stream",
          "text": [
            "Sequence can't be padded as no maximum length is specified and the model maximum length is too high.\n"
          ],
          "name": "stderr"
        },
        {
          "output_type": "stream",
          "text": [
            "paraphrase: What is my pass phrase </s>\n"
          ],
          "name": "stdout"
        },
        {
          "output_type": "stream",
          "text": [
            "Sequence can't be padded as no maximum length is specified and the model maximum length is too high.\n"
          ],
          "name": "stderr"
        },
        {
          "output_type": "stream",
          "text": [
            "paraphrase:  </s>\n"
          ],
          "name": "stdout"
        },
        {
          "output_type": "stream",
          "text": [
            "Sequence can't be padded as no maximum length is specified and the model maximum length is too high.\n"
          ],
          "name": "stderr"
        },
        {
          "output_type": "stream",
          "text": [
            "56.41% complete\n",
            "paraphrase: My jeans ripped after 3 washes </s>\n"
          ],
          "name": "stdout"
        },
        {
          "output_type": "stream",
          "text": [
            "Sequence can't be padded as no maximum length is specified and the model maximum length is too high.\n"
          ],
          "name": "stderr"
        },
        {
          "output_type": "stream",
          "text": [
            "paraphrase: The zip on my jeans is faulty </s>\n"
          ],
          "name": "stdout"
        },
        {
          "output_type": "stream",
          "text": [
            "Sequence can't be padded as no maximum length is specified and the model maximum length is too high.\n"
          ],
          "name": "stderr"
        },
        {
          "output_type": "stream",
          "text": [
            "paraphrase: My t-shirt is faded </s>\n"
          ],
          "name": "stdout"
        },
        {
          "output_type": "stream",
          "text": [
            "Sequence can't be padded as no maximum length is specified and the model maximum length is too high.\n"
          ],
          "name": "stderr"
        },
        {
          "output_type": "stream",
          "text": [
            "paraphrase: My jumper has a burn mark </s>\n"
          ],
          "name": "stdout"
        },
        {
          "output_type": "stream",
          "text": [
            "Sequence can't be padded as no maximum length is specified and the model maximum length is too high.\n"
          ],
          "name": "stderr"
        },
        {
          "output_type": "stream",
          "text": [
            "paraphrase: My underwired bra has broken wires </s>\n"
          ],
          "name": "stdout"
        },
        {
          "output_type": "stream",
          "text": [
            "Sequence can't be padded as no maximum length is specified and the model maximum length is too high.\n"
          ],
          "name": "stderr"
        },
        {
          "output_type": "stream",
          "text": [
            "paraphrase: I have a problem with my order </s>\n"
          ],
          "name": "stdout"
        },
        {
          "output_type": "stream",
          "text": [
            "Sequence can't be padded as no maximum length is specified and the model maximum length is too high.\n"
          ],
          "name": "stderr"
        },
        {
          "output_type": "stream",
          "text": [
            "paraphrase: My order was damaged </s>\n"
          ],
          "name": "stdout"
        },
        {
          "output_type": "stream",
          "text": [
            "Sequence can't be padded as no maximum length is specified and the model maximum length is too high.\n"
          ],
          "name": "stderr"
        },
        {
          "output_type": "stream",
          "text": [
            "paraphrase: There is a mark on my product </s>\n"
          ],
          "name": "stdout"
        },
        {
          "output_type": "stream",
          "text": [
            "Sequence can't be padded as no maximum length is specified and the model maximum length is too high.\n"
          ],
          "name": "stderr"
        },
        {
          "output_type": "stream",
          "text": [
            "paraphrase: I've received a faulty item, what should I do? </s>\n"
          ],
          "name": "stdout"
        },
        {
          "output_type": "stream",
          "text": [
            "Sequence can't be padded as no maximum length is specified and the model maximum length is too high.\n"
          ],
          "name": "stderr"
        },
        {
          "output_type": "stream",
          "text": [
            "paraphrase: What if my item is damaged? </s>\n"
          ],
          "name": "stdout"
        },
        {
          "output_type": "stream",
          "text": [
            "Sequence can't be padded as no maximum length is specified and the model maximum length is too high.\n"
          ],
          "name": "stderr"
        },
        {
          "output_type": "stream",
          "text": [
            "paraphrase: One of my item is damaged </s>\n"
          ],
          "name": "stdout"
        },
        {
          "output_type": "stream",
          "text": [
            "Sequence can't be padded as no maximum length is specified and the model maximum length is too high.\n"
          ],
          "name": "stderr"
        },
        {
          "output_type": "stream",
          "text": [
            "paraphrase:  </s>\n"
          ],
          "name": "stdout"
        },
        {
          "output_type": "stream",
          "text": [
            "Sequence can't be padded as no maximum length is specified and the model maximum length is too high.\n"
          ],
          "name": "stderr"
        },
        {
          "output_type": "stream",
          "text": [
            "58.97% complete\n",
            "paraphrase: I ordered a dress but you sent me the wrong size </s>\n"
          ],
          "name": "stdout"
        },
        {
          "output_type": "stream",
          "text": [
            "Sequence can't be padded as no maximum length is specified and the model maximum length is too high.\n"
          ],
          "name": "stderr"
        },
        {
          "output_type": "stream",
          "text": [
            "paraphrase: The item is the wrong color </s>\n"
          ],
          "name": "stdout"
        },
        {
          "output_type": "stream",
          "text": [
            "Sequence can't be padded as no maximum length is specified and the model maximum length is too high.\n"
          ],
          "name": "stderr"
        },
        {
          "output_type": "stream",
          "text": [
            "paraphrase: I received the wrong item </s>\n"
          ],
          "name": "stdout"
        },
        {
          "output_type": "stream",
          "text": [
            "Sequence can't be padded as no maximum length is specified and the model maximum length is too high.\n"
          ],
          "name": "stderr"
        },
        {
          "output_type": "stream",
          "text": [
            "paraphrase: The item is a different colour </s>\n"
          ],
          "name": "stdout"
        },
        {
          "output_type": "stream",
          "text": [
            "Sequence can't be padded as no maximum length is specified and the model maximum length is too high.\n"
          ],
          "name": "stderr"
        },
        {
          "output_type": "stream",
          "text": [
            "paraphrase: I have an incorrect item </s>\n"
          ],
          "name": "stdout"
        },
        {
          "output_type": "stream",
          "text": [
            "Sequence can't be padded as no maximum length is specified and the model maximum length is too high.\n"
          ],
          "name": "stderr"
        },
        {
          "output_type": "stream",
          "text": [
            "paraphrase: I received the incorrect item </s>\n"
          ],
          "name": "stdout"
        },
        {
          "output_type": "stream",
          "text": [
            "Sequence can't be padded as no maximum length is specified and the model maximum length is too high.\n"
          ],
          "name": "stderr"
        },
        {
          "output_type": "stream",
          "text": [
            "paraphrase: I have received the wrong colour </s>\n"
          ],
          "name": "stdout"
        },
        {
          "output_type": "stream",
          "text": [
            "Sequence can't be padded as no maximum length is specified and the model maximum length is too high.\n"
          ],
          "name": "stderr"
        },
        {
          "output_type": "stream",
          "text": [
            "paraphrase: I have received the wrong size </s>\n"
          ],
          "name": "stdout"
        },
        {
          "output_type": "stream",
          "text": [
            "Sequence can't be padded as no maximum length is specified and the model maximum length is too high.\n"
          ],
          "name": "stderr"
        },
        {
          "output_type": "stream",
          "text": [
            "paraphrase: I have received the wrong style </s>\n"
          ],
          "name": "stdout"
        },
        {
          "output_type": "stream",
          "text": [
            "Sequence can't be padded as no maximum length is specified and the model maximum length is too high.\n"
          ],
          "name": "stderr"
        },
        {
          "output_type": "stream",
          "text": [
            "paraphrase: I have received the incorrect item </s>\n"
          ],
          "name": "stdout"
        },
        {
          "output_type": "stream",
          "text": [
            "Sequence can't be padded as no maximum length is specified and the model maximum length is too high.\n"
          ],
          "name": "stderr"
        },
        {
          "output_type": "stream",
          "text": [
            "paraphrase: I got sent the wrong item </s>\n"
          ],
          "name": "stdout"
        },
        {
          "output_type": "stream",
          "text": [
            "Sequence can't be padded as no maximum length is specified and the model maximum length is too high.\n"
          ],
          "name": "stderr"
        },
        {
          "output_type": "stream",
          "text": [
            "paraphrase: I bought these shoes and exchanged for a different size, but they came back in the wrong colour. Can you help? </s>\n"
          ],
          "name": "stdout"
        },
        {
          "output_type": "stream",
          "text": [
            "Sequence can't be padded as no maximum length is specified and the model maximum length is too high.\n"
          ],
          "name": "stderr"
        },
        {
          "output_type": "stream",
          "text": [
            "paraphrase:  </s>\n"
          ],
          "name": "stdout"
        },
        {
          "output_type": "stream",
          "text": [
            "Sequence can't be padded as no maximum length is specified and the model maximum length is too high.\n"
          ],
          "name": "stderr"
        },
        {
          "output_type": "stream",
          "text": [
            "61.54% complete\n",
            "paraphrase: Im a student I did not receive a confirmation email for my coupon </s>\n"
          ],
          "name": "stdout"
        },
        {
          "output_type": "stream",
          "text": [
            "Sequence can't be padded as no maximum length is specified and the model maximum length is too high.\n"
          ],
          "name": "stderr"
        },
        {
          "output_type": "stream",
          "text": [
            "paraphrase: How do I activate my student code </s>\n"
          ],
          "name": "stdout"
        },
        {
          "output_type": "stream",
          "text": [
            "Sequence can't be padded as no maximum length is specified and the model maximum length is too high.\n"
          ],
          "name": "stderr"
        },
        {
          "output_type": "stream",
          "text": [
            "paraphrase: I did not receive my validation email on my university mailbox </s>\n"
          ],
          "name": "stdout"
        },
        {
          "output_type": "stream",
          "text": [
            "Sequence can't be padded as no maximum length is specified and the model maximum length is too high.\n"
          ],
          "name": "stderr"
        },
        {
          "output_type": "stream",
          "text": [
            "paraphrase: I have changed my email address but I have not received a new validation email </s>\n"
          ],
          "name": "stdout"
        },
        {
          "output_type": "stream",
          "text": [
            "Sequence can't be padded as no maximum length is specified and the model maximum length is too high.\n"
          ],
          "name": "stderr"
        },
        {
          "output_type": "stream",
          "text": [
            "paraphrase: I have changed my phone number but I have not received a new validation email </s>\n"
          ],
          "name": "stdout"
        },
        {
          "output_type": "stream",
          "text": [
            "Sequence can't be padded as no maximum length is specified and the model maximum length is too high.\n"
          ],
          "name": "stderr"
        },
        {
          "output_type": "stream",
          "text": [
            "paraphrase: I am a student but my student email address is not validated </s>\n"
          ],
          "name": "stdout"
        },
        {
          "output_type": "stream",
          "text": [
            "Sequence can't be padded as no maximum length is specified and the model maximum length is too high.\n"
          ],
          "name": "stderr"
        },
        {
          "output_type": "stream",
          "text": [
            "paraphrase: I'm a student but I don't have the validation email </s>\n"
          ],
          "name": "stdout"
        },
        {
          "output_type": "stream",
          "text": [
            "Sequence can't be padded as no maximum length is specified and the model maximum length is too high.\n"
          ],
          "name": "stderr"
        },
        {
          "output_type": "stream",
          "text": [
            "paraphrase: I'm a student but I never received the validation email </s>\n"
          ],
          "name": "stdout"
        },
        {
          "output_type": "stream",
          "text": [
            "Sequence can't be padded as no maximum length is specified and the model maximum length is too high.\n"
          ],
          "name": "stderr"
        },
        {
          "output_type": "stream",
          "text": [
            "paraphrase: I have been trying to login with my student discount code but I have not received a validation email </s>\n"
          ],
          "name": "stdout"
        },
        {
          "output_type": "stream",
          "text": [
            "Sequence can't be padded as no maximum length is specified and the model maximum length is too high.\n"
          ],
          "name": "stderr"
        },
        {
          "output_type": "stream",
          "text": [
            "paraphrase: How do I get a student discount code </s>\n"
          ],
          "name": "stdout"
        },
        {
          "output_type": "stream",
          "text": [
            "Sequence can't be padded as no maximum length is specified and the model maximum length is too high.\n"
          ],
          "name": "stderr"
        },
        {
          "output_type": "stream",
          "text": [
            "paraphrase: I can't register as a student </s>\n"
          ],
          "name": "stdout"
        },
        {
          "output_type": "stream",
          "text": [
            "Sequence can't be padded as no maximum length is specified and the model maximum length is too high.\n"
          ],
          "name": "stderr"
        },
        {
          "output_type": "stream",
          "text": [
            "paraphrase: i still cant get my student discount </s>\n"
          ],
          "name": "stdout"
        },
        {
          "output_type": "stream",
          "text": [
            "Sequence can't be padded as no maximum length is specified and the model maximum length is too high.\n"
          ],
          "name": "stderr"
        },
        {
          "output_type": "stream",
          "text": [
            "paraphrase:  </s>\n"
          ],
          "name": "stdout"
        },
        {
          "output_type": "stream",
          "text": [
            "Sequence can't be padded as no maximum length is specified and the model maximum length is too high.\n"
          ],
          "name": "stderr"
        },
        {
          "output_type": "stream",
          "text": [
            "64.1% complete\n",
            "paraphrase: I received a confirmation email but I've never received an order number </s>\n"
          ],
          "name": "stdout"
        },
        {
          "output_type": "stream",
          "text": [
            "Sequence can't be padded as no maximum length is specified and the model maximum length is too high.\n"
          ],
          "name": "stderr"
        },
        {
          "output_type": "stream",
          "text": [
            "paraphrase: I got an order number for an order but I haven't received a confirmation email </s>\n"
          ],
          "name": "stdout"
        },
        {
          "output_type": "stream",
          "text": [
            "Sequence can't be padded as no maximum length is specified and the model maximum length is too high.\n"
          ],
          "name": "stderr"
        },
        {
          "output_type": "stream",
          "text": [
            "paraphrase: I am waiting for an order but I haven't heard anything from ASOS </s>\n"
          ],
          "name": "stdout"
        },
        {
          "output_type": "stream",
          "text": [
            "Sequence can't be padded as no maximum length is specified and the model maximum length is too high.\n"
          ],
          "name": "stderr"
        },
        {
          "output_type": "stream",
          "text": [
            "paraphrase: ASOS isn't contacting me about my order </s>\n"
          ],
          "name": "stdout"
        },
        {
          "output_type": "stream",
          "text": [
            "Sequence can't be padded as no maximum length is specified and the model maximum length is too high.\n"
          ],
          "name": "stderr"
        },
        {
          "output_type": "stream",
          "text": [
            "paraphrase: I haven't received an order confirmation email from ASOS </s>\n"
          ],
          "name": "stdout"
        },
        {
          "output_type": "stream",
          "text": [
            "Sequence can't be padded as no maximum length is specified and the model maximum length is too high.\n"
          ],
          "name": "stderr"
        },
        {
          "output_type": "stream",
          "text": [
            "paraphrase: I haven't received an order number for an order </s>\n"
          ],
          "name": "stdout"
        },
        {
          "output_type": "stream",
          "text": [
            "Sequence can't be padded as no maximum length is specified and the model maximum length is too high.\n"
          ],
          "name": "stderr"
        },
        {
          "output_type": "stream",
          "text": [
            "paraphrase: I haven't received an order confirmation email </s>\n"
          ],
          "name": "stdout"
        },
        {
          "output_type": "stream",
          "text": [
            "Sequence can't be padded as no maximum length is specified and the model maximum length is too high.\n"
          ],
          "name": "stderr"
        },
        {
          "output_type": "stream",
          "text": [
            "paraphrase: I haven't received a shipping confirmation email </s>\n"
          ],
          "name": "stdout"
        },
        {
          "output_type": "stream",
          "text": [
            "Sequence can't be padded as no maximum length is specified and the model maximum length is too high.\n"
          ],
          "name": "stderr"
        },
        {
          "output_type": "stream",
          "text": [
            "paraphrase: I haven't received a payment confirmation email from ASOS </s>\n"
          ],
          "name": "stdout"
        },
        {
          "output_type": "stream",
          "text": [
            "Sequence can't be padded as no maximum length is specified and the model maximum length is too high.\n"
          ],
          "name": "stderr"
        },
        {
          "output_type": "stream",
          "text": [
            "paraphrase: I haven't received a refund confirmation email from ASOS </s>\n"
          ],
          "name": "stdout"
        },
        {
          "output_type": "stream",
          "text": [
            "Sequence can't be padded as no maximum length is specified and the model maximum length is too high.\n"
          ],
          "name": "stderr"
        },
        {
          "output_type": "stream",
          "text": [
            "paraphrase: I have not received my order number </s>\n"
          ],
          "name": "stdout"
        },
        {
          "output_type": "stream",
          "text": [
            "Sequence can't be padded as no maximum length is specified and the model maximum length is too high.\n"
          ],
          "name": "stderr"
        },
        {
          "output_type": "stream",
          "text": [
            "paraphrase: I just placed an order and I did not receive my confirmation email </s>\n"
          ],
          "name": "stdout"
        },
        {
          "output_type": "stream",
          "text": [
            "Sequence can't be padded as no maximum length is specified and the model maximum length is too high.\n"
          ],
          "name": "stderr"
        },
        {
          "output_type": "stream",
          "text": [
            "paraphrase:  </s>\n"
          ],
          "name": "stdout"
        },
        {
          "output_type": "stream",
          "text": [
            "Sequence can't be padded as no maximum length is specified and the model maximum length is too high.\n"
          ],
          "name": "stderr"
        },
        {
          "output_type": "stream",
          "text": [
            "66.67% complete\n",
            "paraphrase: What do I do if I've changed my card details? </s>\n"
          ],
          "name": "stdout"
        },
        {
          "output_type": "stream",
          "text": [
            "Sequence can't be padded as no maximum length is specified and the model maximum length is too high.\n"
          ],
          "name": "stderr"
        },
        {
          "output_type": "stream",
          "text": [
            "paraphrase: Where will my refund go if my card details have changed? </s>\n"
          ],
          "name": "stdout"
        },
        {
          "output_type": "stream",
          "text": [
            "Sequence can't be padded as no maximum length is specified and the model maximum length is too high.\n"
          ],
          "name": "stderr"
        },
        {
          "output_type": "stream",
          "text": [
            "paraphrase: What happens to my refund if my card is no longer in use? </s>\n"
          ],
          "name": "stdout"
        },
        {
          "output_type": "stream",
          "text": [
            "Sequence can't be padded as no maximum length is specified and the model maximum length is too high.\n"
          ],
          "name": "stderr"
        },
        {
          "output_type": "stream",
          "text": [
            "paraphrase: If my bank details change will you refund my order? </s>\n"
          ],
          "name": "stdout"
        },
        {
          "output_type": "stream",
          "text": [
            "Sequence can't be padded as no maximum length is specified and the model maximum length is too high.\n"
          ],
          "name": "stderr"
        },
        {
          "output_type": "stream",
          "text": [
            "paraphrase: Can I get a refund to a different card? </s>\n"
          ],
          "name": "stdout"
        },
        {
          "output_type": "stream",
          "text": [
            "Sequence can't be padded as no maximum length is specified and the model maximum length is too high.\n"
          ],
          "name": "stderr"
        },
        {
          "output_type": "stream",
          "text": [
            "paraphrase: What happens to my refund if my bank details have changed? </s>\n"
          ],
          "name": "stdout"
        },
        {
          "output_type": "stream",
          "text": [
            "Sequence can't be padded as no maximum length is specified and the model maximum length is too high.\n"
          ],
          "name": "stderr"
        },
        {
          "output_type": "stream",
          "text": [
            "paraphrase: Can I change my card details after I have requested a refund? </s>\n"
          ],
          "name": "stdout"
        },
        {
          "output_type": "stream",
          "text": [
            "Sequence can't be padded as no maximum length is specified and the model maximum length is too high.\n"
          ],
          "name": "stderr"
        },
        {
          "output_type": "stream",
          "text": [
            "paraphrase: i lost my card but i want my money back </s>\n"
          ],
          "name": "stdout"
        },
        {
          "output_type": "stream",
          "text": [
            "Sequence can't be padded as no maximum length is specified and the model maximum length is too high.\n"
          ],
          "name": "stderr"
        },
        {
          "output_type": "stream",
          "text": [
            "paraphrase: The card I used to make the order is now cancelled, if I got a refund where does the money go? </s>\n"
          ],
          "name": "stdout"
        },
        {
          "output_type": "stream",
          "text": [
            "Sequence can't be padded as no maximum length is specified and the model maximum length is too high.\n"
          ],
          "name": "stderr"
        },
        {
          "output_type": "stream",
          "text": [
            "paraphrase:  </s>\n"
          ],
          "name": "stdout"
        },
        {
          "output_type": "stream",
          "text": [
            "Sequence can't be padded as no maximum length is specified and the model maximum length is too high.\n"
          ],
          "name": "stderr"
        },
        {
          "output_type": "stream",
          "text": [
            "69.23% complete\n",
            "paraphrase: What do you consider animal welfare? </s>\n"
          ],
          "name": "stdout"
        },
        {
          "output_type": "stream",
          "text": [
            "Sequence can't be padded as no maximum length is specified and the model maximum length is too high.\n"
          ],
          "name": "stderr"
        },
        {
          "output_type": "stream",
          "text": [
            "paraphrase: Are you cruelty-free? </s>\n"
          ],
          "name": "stdout"
        },
        {
          "output_type": "stream",
          "text": [
            "Sequence can't be padded as no maximum length is specified and the model maximum length is too high.\n"
          ],
          "name": "stderr"
        },
        {
          "output_type": "stream",
          "text": [
            "paraphrase: How do you ensure your products are cruelty-free? </s>\n"
          ],
          "name": "stdout"
        },
        {
          "output_type": "stream",
          "text": [
            "Sequence can't be padded as no maximum length is specified and the model maximum length is too high.\n"
          ],
          "name": "stderr"
        },
        {
          "output_type": "stream",
          "text": [
            "paraphrase: Do you use real leather in your products? </s>\n"
          ],
          "name": "stdout"
        },
        {
          "output_type": "stream",
          "text": [
            "Sequence can't be padded as no maximum length is specified and the model maximum length is too high.\n"
          ],
          "name": "stderr"
        },
        {
          "output_type": "stream",
          "text": [
            "paraphrase: Do you use animal skin in your products? </s>\n"
          ],
          "name": "stdout"
        },
        {
          "output_type": "stream",
          "text": [
            "Sequence can't be padded as no maximum length is specified and the model maximum length is too high.\n"
          ],
          "name": "stderr"
        },
        {
          "output_type": "stream",
          "text": [
            "paraphrase: Is your whole collection vegan? </s>\n"
          ],
          "name": "stdout"
        },
        {
          "output_type": "stream",
          "text": [
            "Sequence can't be padded as no maximum length is specified and the model maximum length is too high.\n"
          ],
          "name": "stderr"
        },
        {
          "output_type": "stream",
          "text": [
            "paraphrase: Is ASOS vegan? </s>\n"
          ],
          "name": "stdout"
        },
        {
          "output_type": "stream",
          "text": [
            "Sequence can't be padded as no maximum length is specified and the model maximum length is too high.\n"
          ],
          "name": "stderr"
        },
        {
          "output_type": "stream",
          "text": [
            "paraphrase: What is your animal protection policy? </s>\n"
          ],
          "name": "stdout"
        },
        {
          "output_type": "stream",
          "text": [
            "Sequence can't be padded as no maximum length is specified and the model maximum length is too high.\n"
          ],
          "name": "stderr"
        },
        {
          "output_type": "stream",
          "text": [
            "paraphrase: do you use animal skin </s>\n"
          ],
          "name": "stdout"
        },
        {
          "output_type": "stream",
          "text": [
            "Sequence can't be padded as no maximum length is specified and the model maximum length is too high.\n"
          ],
          "name": "stderr"
        },
        {
          "output_type": "stream",
          "text": [
            "paraphrase: is that real crocodile </s>\n"
          ],
          "name": "stdout"
        },
        {
          "output_type": "stream",
          "text": [
            "Sequence can't be padded as no maximum length is specified and the model maximum length is too high.\n"
          ],
          "name": "stderr"
        },
        {
          "output_type": "stream",
          "text": [
            "paraphrase: do you guys make stuff from animals </s>\n"
          ],
          "name": "stdout"
        },
        {
          "output_type": "stream",
          "text": [
            "Sequence can't be padded as no maximum length is specified and the model maximum length is too high.\n"
          ],
          "name": "stderr"
        },
        {
          "output_type": "stream",
          "text": [
            "paraphrase: are there any animal products </s>\n"
          ],
          "name": "stdout"
        },
        {
          "output_type": "stream",
          "text": [
            "Sequence can't be padded as no maximum length is specified and the model maximum length is too high.\n"
          ],
          "name": "stderr"
        },
        {
          "output_type": "stream",
          "text": [
            "paraphrase:  </s>\n"
          ],
          "name": "stdout"
        },
        {
          "output_type": "stream",
          "text": [
            "Sequence can't be padded as no maximum length is specified and the model maximum length is too high.\n"
          ],
          "name": "stderr"
        },
        {
          "output_type": "stream",
          "text": [
            "71.79% complete\n",
            "paraphrase: What if I have a question about my order? </s>\n"
          ],
          "name": "stdout"
        },
        {
          "output_type": "stream",
          "text": [
            "Sequence can't be padded as no maximum length is specified and the model maximum length is too high.\n"
          ],
          "name": "stderr"
        },
        {
          "output_type": "stream",
          "text": [
            "paraphrase: How long do I have to return an item? </s>\n"
          ],
          "name": "stdout"
        },
        {
          "output_type": "stream",
          "text": [
            "Sequence can't be padded as no maximum length is specified and the model maximum length is too high.\n"
          ],
          "name": "stderr"
        },
        {
          "output_type": "stream",
          "text": [
            "paraphrase: Can I return something that I've worn once? </s>\n"
          ],
          "name": "stdout"
        },
        {
          "output_type": "stream",
          "text": [
            "Sequence can't be padded as no maximum length is specified and the model maximum length is too high.\n"
          ],
          "name": "stderr"
        },
        {
          "output_type": "stream",
          "text": [
            "paraphrase: How long do I have the option to return my order? </s>\n"
          ],
          "name": "stdout"
        },
        {
          "output_type": "stream",
          "text": [
            "Sequence can't be padded as no maximum length is specified and the model maximum length is too high.\n"
          ],
          "name": "stderr"
        },
        {
          "output_type": "stream",
          "text": [
            "paraphrase: Can I return some makeup after I've tried it? </s>\n"
          ],
          "name": "stdout"
        },
        {
          "output_type": "stream",
          "text": [
            "Sequence can't be padded as no maximum length is specified and the model maximum length is too high.\n"
          ],
          "name": "stderr"
        },
        {
          "output_type": "stream",
          "text": [
            "paraphrase: My dress ripped after one wear, can I return it as defective? </s>\n"
          ],
          "name": "stdout"
        },
        {
          "output_type": "stream",
          "text": [
            "Sequence can't be padded as no maximum length is specified and the model maximum length is too high.\n"
          ],
          "name": "stderr"
        },
        {
          "output_type": "stream",
          "text": [
            "paraphrase: How long can I return items for? </s>\n"
          ],
          "name": "stdout"
        },
        {
          "output_type": "stream",
          "text": [
            "Sequence can't be padded as no maximum length is specified and the model maximum length is too high.\n"
          ],
          "name": "stderr"
        },
        {
          "output_type": "stream",
          "text": [
            "paraphrase: My item arrived damaged </s>\n"
          ],
          "name": "stdout"
        },
        {
          "output_type": "stream",
          "text": [
            "Sequence can't be padded as no maximum length is specified and the model maximum length is too high.\n"
          ],
          "name": "stderr"
        },
        {
          "output_type": "stream",
          "text": [
            "paraphrase: What can I do if an item doesn't fit me? </s>\n"
          ],
          "name": "stdout"
        },
        {
          "output_type": "stream",
          "text": [
            "Sequence can't be padded as no maximum length is specified and the model maximum length is too high.\n"
          ],
          "name": "stderr"
        },
        {
          "output_type": "stream",
          "text": [
            "paraphrase: Do I need to return all items in an order? </s>\n"
          ],
          "name": "stdout"
        },
        {
          "output_type": "stream",
          "text": [
            "Sequence can't be padded as no maximum length is specified and the model maximum length is too high.\n"
          ],
          "name": "stderr"
        },
        {
          "output_type": "stream",
          "text": [
            "paraphrase: What is your Returns Policy? </s>\n"
          ],
          "name": "stdout"
        },
        {
          "output_type": "stream",
          "text": [
            "Sequence can't be padded as no maximum length is specified and the model maximum length is too high.\n"
          ],
          "name": "stderr"
        },
        {
          "output_type": "stream",
          "text": [
            "paraphrase: ive changed my mind about my order </s>\n"
          ],
          "name": "stdout"
        },
        {
          "output_type": "stream",
          "text": [
            "Sequence can't be padded as no maximum length is specified and the model maximum length is too high.\n"
          ],
          "name": "stderr"
        },
        {
          "output_type": "stream",
          "text": [
            "paraphrase:  </s>\n"
          ],
          "name": "stdout"
        },
        {
          "output_type": "stream",
          "text": [
            "Sequence can't be padded as no maximum length is specified and the model maximum length is too high.\n"
          ],
          "name": "stderr"
        },
        {
          "output_type": "stream",
          "text": [
            "74.36% complete\n",
            "paraphrase: Does ASOS have plus size? </s>\n"
          ],
          "name": "stdout"
        },
        {
          "output_type": "stream",
          "text": [
            "Sequence can't be padded as no maximum length is specified and the model maximum length is too high.\n"
          ],
          "name": "stderr"
        },
        {
          "output_type": "stream",
          "text": [
            "paraphrase: Why doesn't ASOS have plus sizes? </s>\n"
          ],
          "name": "stdout"
        },
        {
          "output_type": "stream",
          "text": [
            "Sequence can't be padded as no maximum length is specified and the model maximum length is too high.\n"
          ],
          "name": "stderr"
        },
        {
          "output_type": "stream",
          "text": [
            "paraphrase: I am a size XXL/6XL/14/16/18, what size should I order from ASOS? </s>\n"
          ],
          "name": "stdout"
        },
        {
          "output_type": "stream",
          "text": [
            "Sequence can't be padded as no maximum length is specified and the model maximum length is too high.\n"
          ],
          "name": "stderr"
        },
        {
          "output_type": "stream",
          "text": [
            "paraphrase: Where can I find out about your ASOS plus size range? </s>\n"
          ],
          "name": "stdout"
        },
        {
          "output_type": "stream",
          "text": [
            "Sequence can't be padded as no maximum length is specified and the model maximum length is too high.\n"
          ],
          "name": "stderr"
        },
        {
          "output_type": "stream",
          "text": [
            "paraphrase: What is the difference between regular and plus size? </s>\n"
          ],
          "name": "stdout"
        },
        {
          "output_type": "stream",
          "text": [
            "Sequence can't be padded as no maximum length is specified and the model maximum length is too high.\n"
          ],
          "name": "stderr"
        },
        {
          "output_type": "stream",
          "text": [
            "paraphrase: Do you have any plus size tips? </s>\n"
          ],
          "name": "stdout"
        },
        {
          "output_type": "stream",
          "text": [
            "Sequence can't be padded as no maximum length is specified and the model maximum length is too high.\n"
          ],
          "name": "stderr"
        },
        {
          "output_type": "stream",
          "text": [
            "paraphrase: How can I make sure I order the right size? </s>\n"
          ],
          "name": "stdout"
        },
        {
          "output_type": "stream",
          "text": [
            "Sequence can't be padded as no maximum length is specified and the model maximum length is too high.\n"
          ],
          "name": "stderr"
        },
        {
          "output_type": "stream",
          "text": [
            "paraphrase: Do you have US size guides? </s>\n"
          ],
          "name": "stdout"
        },
        {
          "output_type": "stream",
          "text": [
            "Sequence can't be padded as no maximum length is specified and the model maximum length is too high.\n"
          ],
          "name": "stderr"
        },
        {
          "output_type": "stream",
          "text": [
            "paraphrase: Do you have EU size guides? </s>\n"
          ],
          "name": "stdout"
        },
        {
          "output_type": "stream",
          "text": [
            "Sequence can't be padded as no maximum length is specified and the model maximum length is too high.\n"
          ],
          "name": "stderr"
        },
        {
          "output_type": "stream",
          "text": [
            "paraphrase: Where can I find specific details about sizing? </s>\n"
          ],
          "name": "stdout"
        },
        {
          "output_type": "stream",
          "text": [
            "Sequence can't be padded as no maximum length is specified and the model maximum length is too high.\n"
          ],
          "name": "stderr"
        },
        {
          "output_type": "stream",
          "text": [
            "paraphrase: how do i know which size you use </s>\n"
          ],
          "name": "stdout"
        },
        {
          "output_type": "stream",
          "text": [
            "Sequence can't be padded as no maximum length is specified and the model maximum length is too high.\n"
          ],
          "name": "stderr"
        },
        {
          "output_type": "stream",
          "text": [
            "paraphrase: do you guys do vanity sizing </s>\n"
          ],
          "name": "stdout"
        },
        {
          "output_type": "stream",
          "text": [
            "Sequence can't be padded as no maximum length is specified and the model maximum length is too high.\n"
          ],
          "name": "stderr"
        },
        {
          "output_type": "stream",
          "text": [
            "paraphrase: im a medium in some places but large in others </s>\n"
          ],
          "name": "stdout"
        },
        {
          "output_type": "stream",
          "text": [
            "Sequence can't be padded as no maximum length is specified and the model maximum length is too high.\n"
          ],
          "name": "stderr"
        },
        {
          "output_type": "stream",
          "text": [
            "paraphrase:  </s>\n"
          ],
          "name": "stdout"
        },
        {
          "output_type": "stream",
          "text": [
            "Sequence can't be padded as no maximum length is specified and the model maximum length is too high.\n"
          ],
          "name": "stderr"
        },
        {
          "output_type": "stream",
          "text": [
            "76.92% complete\n",
            "paraphrase: Why isn't there an app for marketplace? </s>\n"
          ],
          "name": "stdout"
        },
        {
          "output_type": "stream",
          "text": [
            "Sequence can't be padded as no maximum length is specified and the model maximum length is too high.\n"
          ],
          "name": "stderr"
        },
        {
          "output_type": "stream",
          "text": [
            "paraphrase: Why doesn't the marketplace have an app? </s>\n"
          ],
          "name": "stdout"
        },
        {
          "output_type": "stream",
          "text": [
            "Sequence can't be padded as no maximum length is specified and the model maximum length is too high.\n"
          ],
          "name": "stderr"
        },
        {
          "output_type": "stream",
          "text": [
            "paraphrase: Why doesn't ASOS have an app for marketplace? </s>\n"
          ],
          "name": "stdout"
        },
        {
          "output_type": "stream",
          "text": [
            "Sequence can't be padded as no maximum length is specified and the model maximum length is too high.\n"
          ],
          "name": "stderr"
        },
        {
          "output_type": "stream",
          "text": [
            "paraphrase: Why there isn't an ASOS Marketplace app? </s>\n"
          ],
          "name": "stdout"
        },
        {
          "output_type": "stream",
          "text": [
            "Sequence can't be padded as no maximum length is specified and the model maximum length is too high.\n"
          ],
          "name": "stderr"
        },
        {
          "output_type": "stream",
          "text": [
            "paraphrase: Why is there no marketplace in the app? </s>\n"
          ],
          "name": "stdout"
        },
        {
          "output_type": "stream",
          "text": [
            "Sequence can't be padded as no maximum length is specified and the model maximum length is too high.\n"
          ],
          "name": "stderr"
        },
        {
          "output_type": "stream",
          "text": [
            "paraphrase: Why isn't marketplace in the app? </s>\n"
          ],
          "name": "stdout"
        },
        {
          "output_type": "stream",
          "text": [
            "Sequence can't be padded as no maximum length is specified and the model maximum length is too high.\n"
          ],
          "name": "stderr"
        },
        {
          "output_type": "stream",
          "text": [
            "paraphrase: ASOS Why can't I find marketplace on the app? </s>\n"
          ],
          "name": "stdout"
        },
        {
          "output_type": "stream",
          "text": [
            "Sequence can't be padded as no maximum length is specified and the model maximum length is too high.\n"
          ],
          "name": "stderr"
        },
        {
          "output_type": "stream",
          "text": [
            "paraphrase: Where is Market Place on the app? </s>\n"
          ],
          "name": "stdout"
        },
        {
          "output_type": "stream",
          "text": [
            "Sequence can't be padded as no maximum length is specified and the model maximum length is too high.\n"
          ],
          "name": "stderr"
        },
        {
          "output_type": "stream",
          "text": [
            "paraphrase: I cant see market place on the app </s>\n"
          ],
          "name": "stdout"
        },
        {
          "output_type": "stream",
          "text": [
            "Sequence can't be padded as no maximum length is specified and the model maximum length is too high.\n"
          ],
          "name": "stderr"
        },
        {
          "output_type": "stream",
          "text": [
            "paraphrase: Does the app have Market Place? </s>\n"
          ],
          "name": "stdout"
        },
        {
          "output_type": "stream",
          "text": [
            "Sequence can't be padded as no maximum length is specified and the model maximum length is too high.\n"
          ],
          "name": "stderr"
        },
        {
          "output_type": "stream",
          "text": [
            "paraphrase: Where is marketplace on the app? </s>\n"
          ],
          "name": "stdout"
        },
        {
          "output_type": "stream",
          "text": [
            "Sequence can't be padded as no maximum length is specified and the model maximum length is too high.\n"
          ],
          "name": "stderr"
        },
        {
          "output_type": "stream",
          "text": [
            "paraphrase: is marketplace only on the web </s>\n"
          ],
          "name": "stdout"
        },
        {
          "output_type": "stream",
          "text": [
            "Sequence can't be padded as no maximum length is specified and the model maximum length is too high.\n"
          ],
          "name": "stderr"
        },
        {
          "output_type": "stream",
          "text": [
            "paraphrase:  </s>\n"
          ],
          "name": "stdout"
        },
        {
          "output_type": "stream",
          "text": [
            "Sequence can't be padded as no maximum length is specified and the model maximum length is too high.\n"
          ],
          "name": "stderr"
        },
        {
          "output_type": "stream",
          "text": [
            "79.49% complete\n",
            "paraphrase: Have you got any more stock coming in? </s>\n"
          ],
          "name": "stdout"
        },
        {
          "output_type": "stream",
          "text": [
            "Sequence can't be padded as no maximum length is specified and the model maximum length is too high.\n"
          ],
          "name": "stderr"
        },
        {
          "output_type": "stream",
          "text": [
            "paraphrase: Do you have any more stock coming in? </s>\n"
          ],
          "name": "stdout"
        },
        {
          "output_type": "stream",
          "text": [
            "Sequence can't be padded as no maximum length is specified and the model maximum length is too high.\n"
          ],
          "name": "stderr"
        },
        {
          "output_type": "stream",
          "text": [
            "paraphrase: When are you getting more stock in? </s>\n"
          ],
          "name": "stdout"
        },
        {
          "output_type": "stream",
          "text": [
            "Sequence can't be padded as no maximum length is specified and the model maximum length is too high.\n"
          ],
          "name": "stderr"
        },
        {
          "output_type": "stream",
          "text": [
            "paraphrase: When will you get more in? </s>\n"
          ],
          "name": "stdout"
        },
        {
          "output_type": "stream",
          "text": [
            "Sequence can't be padded as no maximum length is specified and the model maximum length is too high.\n"
          ],
          "name": "stderr"
        },
        {
          "output_type": "stream",
          "text": [
            "paraphrase: What's your next restock date? </s>\n"
          ],
          "name": "stdout"
        },
        {
          "output_type": "stream",
          "text": [
            "Sequence can't be padded as no maximum length is specified and the model maximum length is too high.\n"
          ],
          "name": "stderr"
        },
        {
          "output_type": "stream",
          "text": [
            "paraphrase: When are you getting more stock? </s>\n"
          ],
          "name": "stdout"
        },
        {
          "output_type": "stream",
          "text": [
            "Sequence can't be padded as no maximum length is specified and the model maximum length is too high.\n"
          ],
          "name": "stderr"
        },
        {
          "output_type": "stream",
          "text": [
            "paraphrase: Do you know when you get more stock? </s>\n"
          ],
          "name": "stdout"
        },
        {
          "output_type": "stream",
          "text": [
            "Sequence can't be padded as no maximum length is specified and the model maximum length is too high.\n"
          ],
          "name": "stderr"
        },
        {
          "output_type": "stream",
          "text": [
            "paraphrase: When will you be getting more? </s>\n"
          ],
          "name": "stdout"
        },
        {
          "output_type": "stream",
          "text": [
            "Sequence can't be padded as no maximum length is specified and the model maximum length is too high.\n"
          ],
          "name": "stderr"
        },
        {
          "output_type": "stream",
          "text": [
            "paraphrase: Will you be getting more in? </s>\n"
          ],
          "name": "stdout"
        },
        {
          "output_type": "stream",
          "text": [
            "Sequence can't be padded as no maximum length is specified and the model maximum length is too high.\n"
          ],
          "name": "stderr"
        },
        {
          "output_type": "stream",
          "text": [
            "paraphrase: Do you still have Nike Air Force one in stock? </s>\n"
          ],
          "name": "stdout"
        },
        {
          "output_type": "stream",
          "text": [
            "Sequence can't be padded as no maximum length is specified and the model maximum length is too high.\n"
          ],
          "name": "stderr"
        },
        {
          "output_type": "stream",
          "text": [
            "paraphrase: When do you get my shoes back in stock? </s>\n"
          ],
          "name": "stdout"
        },
        {
          "output_type": "stream",
          "text": [
            "Sequence can't be padded as no maximum length is specified and the model maximum length is too high.\n"
          ],
          "name": "stderr"
        },
        {
          "output_type": "stream",
          "text": [
            "paraphrase: Can you check if this dress is coming back in stock? </s>\n"
          ],
          "name": "stdout"
        },
        {
          "output_type": "stream",
          "text": [
            "Sequence can't be padded as no maximum length is specified and the model maximum length is too high.\n"
          ],
          "name": "stderr"
        },
        {
          "output_type": "stream",
          "text": [
            "paraphrase: When will this shirt be back in stock? </s>\n"
          ],
          "name": "stdout"
        },
        {
          "output_type": "stream",
          "text": [
            "Sequence can't be padded as no maximum length is specified and the model maximum length is too high.\n"
          ],
          "name": "stderr"
        },
        {
          "output_type": "stream",
          "text": [
            "paraphrase: do you guys get more of these sneakers soon </s>\n"
          ],
          "name": "stdout"
        },
        {
          "output_type": "stream",
          "text": [
            "Sequence can't be padded as no maximum length is specified and the model maximum length is too high.\n"
          ],
          "name": "stderr"
        },
        {
          "output_type": "stream",
          "text": [
            "paraphrase:  </s>\n"
          ],
          "name": "stdout"
        },
        {
          "output_type": "stream",
          "text": [
            "Sequence can't be padded as no maximum length is specified and the model maximum length is too high.\n"
          ],
          "name": "stderr"
        },
        {
          "output_type": "stream",
          "text": [
            "82.05% complete\n",
            "paraphrase: How do I order from France? </s>\n"
          ],
          "name": "stdout"
        },
        {
          "output_type": "stream",
          "text": [
            "Sequence can't be padded as no maximum length is specified and the model maximum length is too high.\n"
          ],
          "name": "stderr"
        },
        {
          "output_type": "stream",
          "text": [
            "paraphrase: How do I order from Spain? </s>\n"
          ],
          "name": "stdout"
        },
        {
          "output_type": "stream",
          "text": [
            "Sequence can't be padded as no maximum length is specified and the model maximum length is too high.\n"
          ],
          "name": "stderr"
        },
        {
          "output_type": "stream",
          "text": [
            "paraphrase: Can I order from Europe? </s>\n"
          ],
          "name": "stdout"
        },
        {
          "output_type": "stream",
          "text": [
            "Sequence can't be padded as no maximum length is specified and the model maximum length is too high.\n"
          ],
          "name": "stderr"
        },
        {
          "output_type": "stream",
          "text": [
            "paraphrase: Can I order from outside of the UK? </s>\n"
          ],
          "name": "stdout"
        },
        {
          "output_type": "stream",
          "text": [
            "Sequence can't be padded as no maximum length is specified and the model maximum length is too high.\n"
          ],
          "name": "stderr"
        },
        {
          "output_type": "stream",
          "text": [
            "paraphrase: Can you tell me more about shipping fees in Spain? </s>\n"
          ],
          "name": "stdout"
        },
        {
          "output_type": "stream",
          "text": [
            "Sequence can't be padded as no maximum length is specified and the model maximum length is too high.\n"
          ],
          "name": "stderr"
        },
        {
          "output_type": "stream",
          "text": [
            "paraphrase: Can you tell me more about shipping fees in Europe? </s>\n"
          ],
          "name": "stdout"
        },
        {
          "output_type": "stream",
          "text": [
            "Sequence can't be padded as no maximum length is specified and the model maximum length is too high.\n"
          ],
          "name": "stderr"
        },
        {
          "output_type": "stream",
          "text": [
            "paraphrase: Do you deliver to Israel? </s>\n"
          ],
          "name": "stdout"
        },
        {
          "output_type": "stream",
          "text": [
            "Sequence can't be padded as no maximum length is specified and the model maximum length is too high.\n"
          ],
          "name": "stderr"
        },
        {
          "output_type": "stream",
          "text": [
            "paraphrase: How long will it take to deliver to Bahrain? </s>\n"
          ],
          "name": "stdout"
        },
        {
          "output_type": "stream",
          "text": [
            "Sequence can't be padded as no maximum length is specified and the model maximum length is too high.\n"
          ],
          "name": "stderr"
        },
        {
          "output_type": "stream",
          "text": [
            "paraphrase:  </s>\n"
          ],
          "name": "stdout"
        },
        {
          "output_type": "stream",
          "text": [
            "Sequence can't be padded as no maximum length is specified and the model maximum length is too high.\n"
          ],
          "name": "stderr"
        },
        {
          "output_type": "stream",
          "text": [
            "84.62% complete\n",
            "paraphrase: Can you tell me more about shipping fees in UK? </s>\n"
          ],
          "name": "stdout"
        },
        {
          "output_type": "stream",
          "text": [
            "Sequence can't be padded as no maximum length is specified and the model maximum length is too high.\n"
          ],
          "name": "stderr"
        },
        {
          "output_type": "stream",
          "text": [
            "paraphrase: How does your UK Standard Delivery service work? </s>\n"
          ],
          "name": "stdout"
        },
        {
          "output_type": "stream",
          "text": [
            "Sequence can't be padded as no maximum length is specified and the model maximum length is too high.\n"
          ],
          "name": "stderr"
        },
        {
          "output_type": "stream",
          "text": [
            "paraphrase: How much is the standard delivery in the UK? </s>\n"
          ],
          "name": "stdout"
        },
        {
          "output_type": "stream",
          "text": [
            "Sequence can't be padded as no maximum length is specified and the model maximum length is too high.\n"
          ],
          "name": "stderr"
        },
        {
          "output_type": "stream",
          "text": [
            "paraphrase: How do I order from UK? </s>\n"
          ],
          "name": "stdout"
        },
        {
          "output_type": "stream",
          "text": [
            "Sequence can't be padded as no maximum length is specified and the model maximum length is too high.\n"
          ],
          "name": "stderr"
        },
        {
          "output_type": "stream",
          "text": [
            "paraphrase: If I order today, when will I receive it </s>\n"
          ],
          "name": "stdout"
        },
        {
          "output_type": "stream",
          "text": [
            "Sequence can't be padded as no maximum length is specified and the model maximum length is too high.\n"
          ],
          "name": "stderr"
        },
        {
          "output_type": "stream",
          "text": [
            "paraphrase:  </s>\n"
          ],
          "name": "stdout"
        },
        {
          "output_type": "stream",
          "text": [
            "Sequence can't be padded as no maximum length is specified and the model maximum length is too high.\n"
          ],
          "name": "stderr"
        },
        {
          "output_type": "stream",
          "text": [
            "87.18% complete\n",
            "paraphrase: Where do carbon emissions from ASOS Deliveries come from? </s>\n"
          ],
          "name": "stdout"
        },
        {
          "output_type": "stream",
          "text": [
            "Sequence can't be padded as no maximum length is specified and the model maximum length is too high.\n"
          ],
          "name": "stderr"
        },
        {
          "output_type": "stream",
          "text": [
            "paraphrase: What is the carbon footprint of an order? </s>\n"
          ],
          "name": "stdout"
        },
        {
          "output_type": "stream",
          "text": [
            "Sequence can't be padded as no maximum length is specified and the model maximum length is too high.\n"
          ],
          "name": "stderr"
        },
        {
          "output_type": "stream",
          "text": [
            "paraphrase: How can I find the carbon footpring of my order? </s>\n"
          ],
          "name": "stdout"
        },
        {
          "output_type": "stream",
          "text": [
            "Sequence can't be padded as no maximum length is specified and the model maximum length is too high.\n"
          ],
          "name": "stderr"
        },
        {
          "output_type": "stream",
          "text": [
            "paraphrase: What is ASOS doing about its carbon footprint? </s>\n"
          ],
          "name": "stdout"
        },
        {
          "output_type": "stream",
          "text": [
            "Sequence can't be padded as no maximum length is specified and the model maximum length is too high.\n"
          ],
          "name": "stderr"
        },
        {
          "output_type": "stream",
          "text": [
            "paraphrase:  </s>\n"
          ],
          "name": "stdout"
        },
        {
          "output_type": "stream",
          "text": [
            "Sequence can't be padded as no maximum length is specified and the model maximum length is too high.\n"
          ],
          "name": "stderr"
        },
        {
          "output_type": "stream",
          "text": [
            "89.74% complete\n",
            "paraphrase: Do I have to pay for the custom fees from Russia? </s>\n"
          ],
          "name": "stdout"
        },
        {
          "output_type": "stream",
          "text": [
            "Sequence can't be padded as no maximum length is specified and the model maximum length is too high.\n"
          ],
          "name": "stderr"
        },
        {
          "output_type": "stream",
          "text": [
            "paraphrase: How much are the custom fees in Europe? </s>\n"
          ],
          "name": "stdout"
        },
        {
          "output_type": "stream",
          "text": [
            "Sequence can't be padded as no maximum length is specified and the model maximum length is too high.\n"
          ],
          "name": "stderr"
        },
        {
          "output_type": "stream",
          "text": [
            "paraphrase: Do I have to pay for the custom fees? </s>\n"
          ],
          "name": "stdout"
        },
        {
          "output_type": "stream",
          "text": [
            "Sequence can't be padded as no maximum length is specified and the model maximum length is too high.\n"
          ],
          "name": "stderr"
        },
        {
          "output_type": "stream",
          "text": [
            "paraphrase: I am a premiere customer, can you provide details on custom fees? </s>\n"
          ],
          "name": "stdout"
        },
        {
          "output_type": "stream",
          "text": [
            "Sequence can't be padded as no maximum length is specified and the model maximum length is too high.\n"
          ],
          "name": "stderr"
        },
        {
          "output_type": "stream",
          "text": [
            "paraphrase: Do I have to pay import tax when I buy from you? </s>\n"
          ],
          "name": "stdout"
        },
        {
          "output_type": "stream",
          "text": [
            "Sequence can't be padded as no maximum length is specified and the model maximum length is too high.\n"
          ],
          "name": "stderr"
        },
        {
          "output_type": "stream",
          "text": [
            "paraphrase:  </s>\n"
          ],
          "name": "stdout"
        },
        {
          "output_type": "stream",
          "text": [
            "Sequence can't be padded as no maximum length is specified and the model maximum length is too high.\n"
          ],
          "name": "stderr"
        },
        {
          "output_type": "stream",
          "text": [
            "92.31% complete\n",
            "paraphrase: Can I amend my order after I've placed it? </s>\n"
          ],
          "name": "stdout"
        },
        {
          "output_type": "stream",
          "text": [
            "Sequence can't be padded as no maximum length is specified and the model maximum length is too high.\n"
          ],
          "name": "stderr"
        },
        {
          "output_type": "stream",
          "text": [
            "paraphrase: Is it too late to change the details of my order? </s>\n"
          ],
          "name": "stdout"
        },
        {
          "output_type": "stream",
          "text": [
            "Sequence can't be padded as no maximum length is specified and the model maximum length is too high.\n"
          ],
          "name": "stderr"
        },
        {
          "output_type": "stream",
          "text": [
            "paraphrase: Is it possible to make changes to my order? </s>\n"
          ],
          "name": "stdout"
        },
        {
          "output_type": "stream",
          "text": [
            "Sequence can't be padded as no maximum length is specified and the model maximum length is too high.\n"
          ],
          "name": "stderr"
        },
        {
          "output_type": "stream",
          "text": [
            "paraphrase: I want to change the details of my order. </s>\n"
          ],
          "name": "stdout"
        },
        {
          "output_type": "stream",
          "text": [
            "Sequence can't be padded as no maximum length is specified and the model maximum length is too high.\n"
          ],
          "name": "stderr"
        },
        {
          "output_type": "stream",
          "text": [
            "paraphrase: Can i make some changes to my order before you deliver it? </s>\n"
          ],
          "name": "stdout"
        },
        {
          "output_type": "stream",
          "text": [
            "Sequence can't be padded as no maximum length is specified and the model maximum length is too high.\n"
          ],
          "name": "stderr"
        },
        {
          "output_type": "stream",
          "text": [
            "paraphrase:  </s>\n"
          ],
          "name": "stdout"
        },
        {
          "output_type": "stream",
          "text": [
            "Sequence can't be padded as no maximum length is specified and the model maximum length is too high.\n"
          ],
          "name": "stderr"
        },
        {
          "output_type": "stream",
          "text": [
            "94.87% complete\n",
            "paraphrase: Is it safe to pay online? </s>\n"
          ],
          "name": "stdout"
        },
        {
          "output_type": "stream",
          "text": [
            "Sequence can't be padded as no maximum length is specified and the model maximum length is too high.\n"
          ],
          "name": "stderr"
        },
        {
          "output_type": "stream",
          "text": [
            "paraphrase: Are my details safe when ordering online with ASOS? </s>\n"
          ],
          "name": "stdout"
        },
        {
          "output_type": "stream",
          "text": [
            "Sequence can't be padded as no maximum length is specified and the model maximum length is too high.\n"
          ],
          "name": "stderr"
        },
        {
          "output_type": "stream",
          "text": [
            "paraphrase: How do you ensure my details are safe? </s>\n"
          ],
          "name": "stdout"
        },
        {
          "output_type": "stream",
          "text": [
            "Sequence can't be padded as no maximum length is specified and the model maximum length is too high.\n"
          ],
          "name": "stderr"
        },
        {
          "output_type": "stream",
          "text": [
            "paraphrase: Is your payment system safe? </s>\n"
          ],
          "name": "stdout"
        },
        {
          "output_type": "stream",
          "text": [
            "Sequence can't be padded as no maximum length is specified and the model maximum length is too high.\n"
          ],
          "name": "stderr"
        },
        {
          "output_type": "stream",
          "text": [
            "paraphrase: My card has been used without my authorisation. </s>\n"
          ],
          "name": "stdout"
        },
        {
          "output_type": "stream",
          "text": [
            "Sequence can't be padded as no maximum length is specified and the model maximum length is too high.\n"
          ],
          "name": "stderr"
        },
        {
          "output_type": "stream",
          "text": [
            "paraphrase:  </s>\n"
          ],
          "name": "stdout"
        },
        {
          "output_type": "stream",
          "text": [
            "Sequence can't be padded as no maximum length is specified and the model maximum length is too high.\n"
          ],
          "name": "stderr"
        },
        {
          "output_type": "stream",
          "text": [
            "97.44% complete\n",
            "paraphrase: I am travelling to Germany how do I change the currency on the app? </s>\n"
          ],
          "name": "stdout"
        },
        {
          "output_type": "stream",
          "text": [
            "Sequence can't be padded as no maximum length is specified and the model maximum length is too high.\n"
          ],
          "name": "stderr"
        },
        {
          "output_type": "stream",
          "text": [
            "paraphrase: How do I change the currency on the app? </s>\n"
          ],
          "name": "stdout"
        },
        {
          "output_type": "stream",
          "text": [
            "Sequence can't be padded as no maximum length is specified and the model maximum length is too high.\n"
          ],
          "name": "stderr"
        },
        {
          "output_type": "stream",
          "text": [
            "paraphrase: Can I use a different currency on the app? </s>\n"
          ],
          "name": "stdout"
        },
        {
          "output_type": "stream",
          "text": [
            "Sequence can't be padded as no maximum length is specified and the model maximum length is too high.\n"
          ],
          "name": "stderr"
        },
        {
          "output_type": "stream",
          "text": [
            "paraphrase: Which currencies can I use on the app? </s>\n"
          ],
          "name": "stdout"
        },
        {
          "output_type": "stream",
          "text": [
            "Sequence can't be padded as no maximum length is specified and the model maximum length is too high.\n"
          ],
          "name": "stderr"
        },
        {
          "output_type": "stream",
          "text": [
            "paraphrase: Can I choose a different currency on the app? </s>\n",
            "100.0% complete\n"
          ],
          "name": "stdout"
        }
      ]
    },
    {
      "cell_type": "code",
      "metadata": {
        "id": "CQ-rCNkxId4D"
      },
      "source": [
        "with open('augmented_data.yml', 'w') as outfile:\n",
        "    yaml.dump(augmented_data, outfile, default_flow_style=False)"
      ],
      "execution_count": null,
      "outputs": []
    },
    {
      "cell_type": "code",
      "metadata": {
        "id": "ax7PepK_J2a_"
      },
      "source": [
        ""
      ],
      "execution_count": null,
      "outputs": []
    }
  ]
}