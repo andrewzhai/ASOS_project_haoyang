{
  "nbformat": 4,
  "nbformat_minor": 0,
  "metadata": {
    "accelerator": "GPU",
    "colab": {
      "name": "Data_augmentaion and confient learning RASA evaluation.ipynb",
      "provenance": [],
      "collapsed_sections": [
        "AbomffY2E7xU"
      ],
      "include_colab_link": true
    },
    "kernelspec": {
      "display_name": "Python 3",
      "name": "python3"
    },
    "language_info": {
      "name": "python"
    }
  },
  "cells": [
    {
      "cell_type": "markdown",
      "metadata": {
        "id": "view-in-github",
        "colab_type": "text"
      },
      "source": [
        "<a href=\"https://colab.research.google.com/github/andrewzhai/ASOS_project_haoyang/blob/master/Data_augmentaion_and_confient_learning_RASA_evaluation.ipynb\" target=\"_parent\"><img src=\"https://colab.research.google.com/assets/colab-badge.svg\" alt=\"Open In Colab\"/></a>"
      ]
    },
    {
      "cell_type": "markdown",
      "metadata": {
        "id": "AbomffY2E7xU"
      },
      "source": [
        "# Setting Git and Install Packages"
      ]
    },
    {
      "cell_type": "markdown",
      "metadata": {
        "id": "fzEcNreCBQP9"
      },
      "source": [
        "augumented 20  chose (1-10)"
      ]
    },
    {
      "cell_type": "code",
      "metadata": {
        "id": "sim-dyoff5i0"
      },
      "source": [
        ""
      ],
      "execution_count": null,
      "outputs": []
    },
    {
      "cell_type": "code",
      "metadata": {
        "colab": {
          "base_uri": "https://localhost:8080/"
        },
        "id": "xHz88e2ZLBTL",
        "outputId": "be966bba-6b57-4ebe-dc1d-79db01be9ee1"
      },
      "source": [
        "!git clone https://github.com/andrewzhai/ASOS_project_haoyang.git"
      ],
      "execution_count": 1,
      "outputs": [
        {
          "output_type": "stream",
          "text": [
            "Cloning into 'ASOS_project_haoyang'...\n",
            "remote: Enumerating objects: 3895, done.\u001b[K\n",
            "remote: Counting objects: 100% (54/54), done.\u001b[K\n",
            "remote: Compressing objects: 100% (12/12), done.\u001b[K\n",
            "remote: Total 3895 (delta 43), reused 52 (delta 42), pack-reused 3841\u001b[K\n",
            "Receiving objects: 100% (3895/3895), 252.02 MiB | 37.05 MiB/s, done.\n",
            "Resolving deltas: 100% (1796/1796), done.\n",
            "Checking out files: 100% (3352/3352), done.\n"
          ],
          "name": "stdout"
        }
      ]
    },
    {
      "cell_type": "code",
      "metadata": {
        "colab": {
          "base_uri": "https://localhost:8080/"
        },
        "id": "TC76qsCBLJZL",
        "outputId": "97b20265-355f-4d87-a48d-80c96e82dc70"
      },
      "source": [
        "%cd /content/ASOS_project_haoyang/RASA_asos/ayo-faq"
      ],
      "execution_count": 2,
      "outputs": [
        {
          "output_type": "stream",
          "text": [
            "/content/ASOS_project_haoyang/RASA_asos/ayo-faq\n"
          ],
          "name": "stdout"
        }
      ]
    },
    {
      "cell_type": "code",
      "metadata": {
        "colab": {
          "base_uri": "https://localhost:8080/"
        },
        "id": "Mp-NdAdQFO_l",
        "outputId": "5369f017-8583-4c35-a748-e7ec15490199"
      },
      "source": [
        "# Install requirements\n",
        "!pip3 install -r requirements.txt -q\n",
        "!pip3 install \"prompt_toolkit==2.0.1\" -q\n",
        "!pip3 install -U ipython -q"
      ],
      "execution_count": 3,
      "outputs": [
        {
          "output_type": "stream",
          "text": [
            "\u001b[K     |████████████████████████████████| 689 kB 9.6 MB/s \n",
            "\u001b[K     |████████████████████████████████| 70 kB 10.1 MB/s \n",
            "\u001b[K     |████████████████████████████████| 340 kB 31.4 MB/s \n",
            "\u001b[K     |████████████████████████████████| 50 kB 7.7 MB/s \n",
            "\u001b[K     |████████████████████████████████| 80 kB 9.9 MB/s \n",
            "\u001b[K     |████████████████████████████████| 457 kB 59.9 MB/s \n",
            "\u001b[K     |████████████████████████████████| 40 kB 6.1 MB/s \n",
            "\u001b[K     |████████████████████████████████| 104 kB 60.6 MB/s \n",
            "\u001b[K     |████████████████████████████████| 3.0 MB 51.3 MB/s \n",
            "\u001b[K     |████████████████████████████████| 131 kB 62.6 MB/s \n",
            "\u001b[K     |████████████████████████████████| 128 kB 66.9 MB/s \n",
            "\u001b[K     |████████████████████████████████| 459 kB 44.5 MB/s \n",
            "\u001b[K     |████████████████████████████████| 662 kB 63.2 MB/s \n",
            "\u001b[K     |████████████████████████████████| 51 kB 720 kB/s \n",
            "\u001b[K     |████████████████████████████████| 298 kB 74.2 MB/s \n",
            "\u001b[K     |████████████████████████████████| 42 kB 1.1 MB/s \n",
            "\u001b[K     |████████████████████████████████| 1.3 MB 35.5 MB/s \n",
            "\u001b[K     |████████████████████████████████| 17.3 MB 141 kB/s \n",
            "\u001b[K     |████████████████████████████████| 103 kB 75.3 MB/s \n",
            "\u001b[K     |████████████████████████████████| 320.6 MB 50 kB/s \n",
            "\u001b[K     |████████████████████████████████| 703 kB 52.5 MB/s \n",
            "\u001b[K     |████████████████████████████████| 58 kB 6.9 MB/s \n",
            "\u001b[K     |████████████████████████████████| 510 kB 62.1 MB/s \n",
            "\u001b[K     |████████████████████████████████| 111 kB 63.8 MB/s \n",
            "\u001b[K     |████████████████████████████████| 40 kB 5.7 MB/s \n",
            "\u001b[K     |████████████████████████████████| 246 kB 75.8 MB/s \n",
            "\u001b[K     |████████████████████████████████| 1.6 MB 59.9 MB/s \n",
            "\u001b[K     |████████████████████████████████| 462 kB 66.4 MB/s \n",
            "\u001b[K     |████████████████████████████████| 127 kB 80.6 MB/s \n",
            "\u001b[K     |████████████████████████████████| 4.3 MB 69.0 MB/s \n",
            "\u001b[K     |████████████████████████████████| 96 kB 7.0 MB/s \n",
            "\u001b[K     |████████████████████████████████| 179 kB 80.8 MB/s \n",
            "\u001b[K     |████████████████████████████████| 48 kB 5.9 MB/s \n",
            "\u001b[K     |████████████████████████████████| 56 kB 5.4 MB/s \n",
            "\u001b[K     |████████████████████████████████| 72 kB 596 kB/s \n",
            "\u001b[K     |████████████████████████████████| 149 kB 71.4 MB/s \n",
            "\u001b[K     |████████████████████████████████| 2.6 MB 63.9 MB/s \n",
            "\u001b[K     |████████████████████████████████| 44 kB 4.0 MB/s \n",
            "\u001b[K     |████████████████████████████████| 1.2 MB 58.8 MB/s \n",
            "\u001b[K     |████████████████████████████████| 113 kB 61.5 MB/s \n",
            "\u001b[K     |████████████████████████████████| 43 kB 2.5 MB/s \n",
            "\u001b[K     |████████████████████████████████| 294 kB 61.8 MB/s \n",
            "\u001b[K     |████████████████████████████████| 258 kB 77.7 MB/s \n",
            "\u001b[K     |████████████████████████████████| 7.8 MB 56.0 MB/s \n",
            "\u001b[K     |████████████████████████████████| 79 kB 8.5 MB/s \n",
            "\u001b[K     |████████████████████████████████| 138 kB 67.4 MB/s \n",
            "\u001b[K     |████████████████████████████████| 86 kB 7.8 MB/s \n",
            "\u001b[K     |████████████████████████████████| 3.0 MB 68.6 MB/s \n",
            "\u001b[K     |████████████████████████████████| 188 kB 70.0 MB/s \n",
            "\u001b[K     |████████████████████████████████| 3.8 MB 25.5 MB/s \n",
            "\u001b[K     |████████████████████████████████| 61 kB 10.4 MB/s \n",
            "\u001b[K     |████████████████████████████████| 546 kB 77.2 MB/s \n",
            "\u001b[K     |████████████████████████████████| 402 kB 45.5 MB/s \n",
            "\u001b[K     |████████████████████████████████| 79 kB 9.8 MB/s \n",
            "\u001b[K     |████████████████████████████████| 65 kB 4.6 MB/s \n",
            "\u001b[K     |████████████████████████████████| 79 kB 10.4 MB/s \n",
            "\u001b[K     |████████████████████████████████| 79 kB 8.7 MB/s \n",
            "\u001b[K     |████████████████████████████████| 79 kB 10.0 MB/s \n",
            "\u001b[K     |████████████████████████████████| 79 kB 9.3 MB/s \n",
            "\u001b[K     |████████████████████████████████| 79 kB 8.7 MB/s \n",
            "\u001b[K     |████████████████████████████████| 52 kB 1.8 MB/s \n",
            "\u001b[K     |████████████████████████████████| 53 kB 2.8 MB/s \n",
            "\u001b[K     |████████████████████████████████| 743 kB 60.2 MB/s \n",
            "\u001b[K     |████████████████████████████████| 2.9 MB 57.5 MB/s \n",
            "\u001b[K     |████████████████████████████████| 54 kB 3.0 MB/s \n",
            "\u001b[?25h  Building wheel for colorclass (setup.py) ... \u001b[?25l\u001b[?25hdone\n",
            "  Building wheel for mattermostwrapper (setup.py) ... \u001b[?25l\u001b[?25hdone\n",
            "  Building wheel for pyTelegramBotAPI (setup.py) ... \u001b[?25l\u001b[?25hdone\n",
            "  Building wheel for terminaltables (setup.py) ... \u001b[?25l\u001b[?25hdone\n",
            "  Building wheel for twilio (setup.py) ... \u001b[?25l\u001b[?25hdone\n",
            "\u001b[31mERROR: pip's dependency resolver does not currently take into account all the packages that are installed. This behaviour is the source of the following dependency conflicts.\n",
            "xarray 0.18.2 requires numpy>=1.17, but you have numpy 1.16.6 which is incompatible.\n",
            "pyerfa 2.0.0 requires numpy>=1.17, but you have numpy 1.16.6 which is incompatible.\n",
            "nbclient 0.5.4 requires jupyter-client>=6.1.5, but you have jupyter-client 5.3.5 which is incompatible.\n",
            "kapre 0.3.5 requires numpy>=1.18.5, but you have numpy 1.16.6 which is incompatible.\n",
            "jupyter-console 5.2.0 requires prompt-toolkit<2.0.0,>=1.0.0, but you have prompt-toolkit 2.0.10 which is incompatible.\n",
            "jaxlib 0.1.70+cuda110 requires numpy>=1.18, but you have numpy 1.16.6 which is incompatible.\n",
            "jax 0.2.19 requires numpy>=1.18, but you have numpy 1.16.6 which is incompatible.\n",
            "ipython 5.5.0 requires prompt-toolkit<2.0.0,>=1.0.4, but you have prompt-toolkit 2.0.10 which is incompatible.\n",
            "google-colab 1.0.0 requires requests~=2.23.0, but you have requests 2.25.1 which is incompatible.\n",
            "datascience 0.10.6 requires folium==0.2.1, but you have folium 0.8.3 which is incompatible.\n",
            "cupy-cuda101 9.1.0 requires numpy>=1.17, but you have numpy 1.16.6 which is incompatible.\n",
            "astropy 4.3.1 requires numpy>=1.17, but you have numpy 1.16.6 which is incompatible.\n",
            "albumentations 0.1.12 requires imgaug<0.2.7,>=0.2.5, but you have imgaug 0.2.9 which is incompatible.\u001b[0m\n",
            "\u001b[K     |████████████████████████████████| 322 kB 8.2 MB/s \n",
            "\u001b[31mERROR: pip's dependency resolver does not currently take into account all the packages that are installed. This behaviour is the source of the following dependency conflicts.\n",
            "jupyter-console 5.2.0 requires prompt-toolkit<2.0.0,>=1.0.0, but you have prompt-toolkit 2.0.1 which is incompatible.\n",
            "ipython 5.5.0 requires prompt-toolkit<2.0.0,>=1.0.4, but you have prompt-toolkit 2.0.1 which is incompatible.\n",
            "google-colab 1.0.0 requires requests~=2.23.0, but you have requests 2.25.1 which is incompatible.\u001b[0m\n",
            "\u001b[K     |████████████████████████████████| 786 kB 9.4 MB/s \n",
            "\u001b[31mERROR: pip's dependency resolver does not currently take into account all the packages that are installed. This behaviour is the source of the following dependency conflicts.\n",
            "jupyter-console 5.2.0 requires prompt-toolkit<2.0.0,>=1.0.0, but you have prompt-toolkit 2.0.1 which is incompatible.\n",
            "google-colab 1.0.0 requires ipython~=5.5.0, but you have ipython 7.26.0 which is incompatible.\n",
            "google-colab 1.0.0 requires requests~=2.23.0, but you have requests 2.25.1 which is incompatible.\u001b[0m\n",
            "\u001b[?25h"
          ],
          "name": "stdout"
        }
      ]
    },
    {
      "cell_type": "code",
      "metadata": {
        "colab": {
          "base_uri": "https://localhost:8080/"
        },
        "id": "h6LUUc-TXL1E",
        "outputId": "f2a03b9a-dae7-4c04-ace5-d31c19e9494d"
      },
      "source": [
        "!pip3 install rasa[convert]"
      ],
      "execution_count": 4,
      "outputs": [
        {
          "output_type": "stream",
          "text": [
            "Requirement already satisfied: rasa[convert] in /usr/local/lib/python3.7/dist-packages (2.2.10)\n",
            "\u001b[33mWARNING: rasa 2.2.10 does not provide the extra 'convert'\u001b[0m\n",
            "Requirement already satisfied: fbmessenger<6.1.0,>=6.0.0 in /usr/local/lib/python3.7/dist-packages (from rasa[convert]) (6.0.0)\n",
            "Requirement already satisfied: sentry-sdk<0.20.0,>=0.17.0 in /usr/local/lib/python3.7/dist-packages (from rasa[convert]) (0.19.5)\n",
            "Requirement already satisfied: python-socketio<4.7,>=4.4 in /usr/local/lib/python3.7/dist-packages (from rasa[convert]) (4.6.1)\n",
            "Requirement already satisfied: twilio<6.46,>=6.26 in /usr/local/lib/python3.7/dist-packages (from rasa[convert]) (6.45.4)\n",
            "Requirement already satisfied: setuptools>=41.0.0 in /usr/local/lib/python3.7/dist-packages (from rasa[convert]) (57.4.0)\n",
            "Requirement already satisfied: tensorflow-text<2.4,>=2.3 in /usr/local/lib/python3.7/dist-packages (from rasa[convert]) (2.3.0)\n",
            "Requirement already satisfied: colorclass<2.3,>=2.2 in /usr/local/lib/python3.7/dist-packages (from rasa[convert]) (2.2.0)\n",
            "Requirement already satisfied: matplotlib<3.4,>=3.1 in /usr/local/lib/python3.7/dist-packages (from rasa[convert]) (3.2.2)\n",
            "Requirement already satisfied: sanic-jwt<2.0,>=1.3.2 in /usr/local/lib/python3.7/dist-packages (from rasa[convert]) (1.7.0)\n",
            "Requirement already satisfied: tensorflow_hub<0.10,>=0.9 in /usr/local/lib/python3.7/dist-packages (from rasa[convert]) (0.9.0)\n",
            "Requirement already satisfied: slackclient<3.0.0,>=2.0.0 in /usr/local/lib/python3.7/dist-packages (from rasa[convert]) (2.9.3)\n",
            "Requirement already satisfied: scipy<2.0.0,>=1.4.1 in /usr/local/lib/python3.7/dist-packages (from rasa[convert]) (1.4.1)\n",
            "Requirement already satisfied: psycopg2-binary<2.9.0,>=2.8.2 in /usr/local/lib/python3.7/dist-packages (from rasa[convert]) (2.8.6)\n",
            "Requirement already satisfied: jsonpickle<1.5,>=1.3 in /usr/local/lib/python3.7/dist-packages (from rasa[convert]) (1.4.2)\n",
            "Requirement already satisfied: async_generator<1.11,>=1.10 in /usr/local/lib/python3.7/dist-packages (from rasa[convert]) (1.10)\n",
            "Requirement already satisfied: sanic-cors<0.11.0,>=0.10.0b1 in /usr/local/lib/python3.7/dist-packages (from rasa[convert]) (0.10.0.post3)\n",
            "Requirement already satisfied: tensorflow<2.4,>=2.3 in /usr/local/lib/python3.7/dist-packages (from rasa[convert]) (2.3.4)\n",
            "Requirement already satisfied: pykwalify<1.8.0,>=1.7.0 in /usr/local/lib/python3.7/dist-packages (from rasa[convert]) (1.7.0)\n",
            "Requirement already satisfied: sanic<21.0.0,>=19.12.2 in /usr/local/lib/python3.7/dist-packages (from rasa[convert]) (20.9.0)\n",
            "Requirement already satisfied: cloudpickle<1.5,>=1.2 in /usr/local/lib/python3.7/dist-packages (from rasa[convert]) (1.3.0)\n",
            "Requirement already satisfied: apscheduler<3.7,>=3.6 in /usr/local/lib/python3.7/dist-packages (from rasa[convert]) (3.6.3)\n",
            "Requirement already satisfied: colorhash<1.1.0,>=1.0.2 in /usr/local/lib/python3.7/dist-packages (from rasa[convert]) (1.0.3)\n",
            "Requirement already satisfied: kafka-python<3.0,>=1.4 in /usr/local/lib/python3.7/dist-packages (from rasa[convert]) (2.0.2)\n",
            "Requirement already satisfied: prompt-toolkit<3.0,>=2.0 in /usr/local/lib/python3.7/dist-packages (from rasa[convert]) (2.0.1)\n",
            "Requirement already satisfied: jsonschema<3.3,>=3.2 in /usr/local/lib/python3.7/dist-packages (from rasa[convert]) (3.2.0)\n",
            "Requirement already satisfied: coloredlogs<15,>=10 in /usr/local/lib/python3.7/dist-packages (from rasa[convert]) (14.3)\n",
            "Requirement already satisfied: ruamel.yaml<0.17.0,>=0.16.5 in /usr/local/lib/python3.7/dist-packages (from rasa[convert]) (0.16.13)\n",
            "Requirement already satisfied: sklearn-crfsuite<0.4,>=0.3 in /usr/local/lib/python3.7/dist-packages (from rasa[convert]) (0.3.6)\n",
            "Requirement already satisfied: pytz<2021.0,>=2019.1 in /usr/local/lib/python3.7/dist-packages (from rasa[convert]) (2020.5)\n",
            "Requirement already satisfied: requests<3.0,>=2.23 in /usr/local/lib/python3.7/dist-packages (from rasa[convert]) (2.25.1)\n",
            "Requirement already satisfied: aiohttp<3.7,>=3.6 in /usr/local/lib/python3.7/dist-packages (from rasa[convert]) (3.6.3)\n",
            "Requirement already satisfied: numpy<1.17,>=1.16 in /usr/local/lib/python3.7/dist-packages (from rasa[convert]) (1.16.6)\n",
            "Requirement already satisfied: pyTelegramBotAPI<4.0.0,>=3.7.3 in /usr/local/lib/python3.7/dist-packages (from rasa[convert]) (3.8.3)\n",
            "Requirement already satisfied: aio-pika<7.0.0,>=6.7.1 in /usr/local/lib/python3.7/dist-packages (from rasa[convert]) (6.8.0)\n",
            "Requirement already satisfied: tensorflow-probability<0.12,>=0.11 in /usr/local/lib/python3.7/dist-packages (from rasa[convert]) (0.11.1)\n",
            "Requirement already satisfied: terminaltables<3.2.0,>=3.1.0 in /usr/local/lib/python3.7/dist-packages (from rasa[convert]) (3.1.0)\n",
            "Requirement already satisfied: attrs<20.3,>=19.3 in /usr/local/lib/python3.7/dist-packages (from rasa[convert]) (20.2.0)\n",
            "Requirement already satisfied: rocketchat_API<1.10.0,>=0.6.31 in /usr/local/lib/python3.7/dist-packages (from rasa[convert]) (1.9.1)\n",
            "Requirement already satisfied: tqdm<4.51,>=4.31 in /usr/local/lib/python3.7/dist-packages (from rasa[convert]) (4.50.2)\n",
            "Requirement already satisfied: ujson<4.0,>=1.35 in /usr/local/lib/python3.7/dist-packages (from rasa[convert]) (3.2.0)\n",
            "Requirement already satisfied: pydot<1.5,>=1.4 in /usr/local/lib/python3.7/dist-packages (from rasa[convert]) (1.4.2)\n",
            "Requirement already satisfied: regex<2020.10,>=2020.6 in /usr/local/lib/python3.7/dist-packages (from rasa[convert]) (2020.9.27)\n",
            "Requirement already satisfied: multidict<5.0,>=4.6 in /usr/local/lib/python3.7/dist-packages (from rasa[convert]) (4.7.6)\n",
            "Requirement already satisfied: rasa-sdk<3.0.0,>=2.2.0 in /usr/local/lib/python3.7/dist-packages (from rasa[convert]) (2.8.1)\n",
            "Requirement already satisfied: PyJWT[crypto]<3.0.0,>=2.0.0 in /usr/local/lib/python3.7/dist-packages (from rasa[convert]) (2.1.0)\n",
            "Requirement already satisfied: joblib<0.16.0,>=0.15.1 in /usr/local/lib/python3.7/dist-packages (from rasa[convert]) (0.15.1)\n",
            "Requirement already satisfied: pymongo[srv,tls]<3.11,>=3.8 in /usr/local/lib/python3.7/dist-packages (from rasa[convert]) (3.10.1)\n",
            "Requirement already satisfied: python-engineio<3.14,>=3.11 in /usr/local/lib/python3.7/dist-packages (from rasa[convert]) (3.13.2)\n",
            "Requirement already satisfied: boto3<2.0,>=1.12 in /usr/local/lib/python3.7/dist-packages (from rasa[convert]) (1.18.28)\n",
            "Requirement already satisfied: scikit-learn<0.24,>=0.22 in /usr/local/lib/python3.7/dist-packages (from rasa[convert]) (0.22.2.post1)\n",
            "Requirement already satisfied: SQLAlchemy<1.4.0,>=1.3.3 in /usr/local/lib/python3.7/dist-packages (from rasa[convert]) (1.3.24)\n",
            "Requirement already satisfied: questionary<1.6.0,>=1.5.1 in /usr/local/lib/python3.7/dist-packages (from rasa[convert]) (1.5.2)\n",
            "Requirement already satisfied: mattermostwrapper<2.3,>=2.2 in /usr/local/lib/python3.7/dist-packages (from rasa[convert]) (2.2)\n",
            "Requirement already satisfied: redis<4.0,>=3.4 in /usr/local/lib/python3.7/dist-packages (from rasa[convert]) (3.5.3)\n",
            "Requirement already satisfied: packaging<21.0,>=20.0 in /usr/local/lib/python3.7/dist-packages (from rasa[convert]) (20.9)\n",
            "Requirement already satisfied: absl-py<0.11,>=0.9 in /usr/local/lib/python3.7/dist-packages (from rasa[convert]) (0.10.0)\n",
            "Requirement already satisfied: tensorflow-addons<=0.12,>=0.10 in /usr/local/lib/python3.7/dist-packages (from rasa[convert]) (0.12.0)\n",
            "Requirement already satisfied: webexteamssdk<1.7.0,>=1.1.1 in /usr/local/lib/python3.7/dist-packages (from rasa[convert]) (1.6)\n",
            "Requirement already satisfied: oauth2client==4.1.3 in /usr/local/lib/python3.7/dist-packages (from rasa[convert]) (4.1.3)\n",
            "Requirement already satisfied: python-dateutil<2.9,>=2.8 in /usr/local/lib/python3.7/dist-packages (from rasa[convert]) (2.8.2)\n",
            "Requirement already satisfied: tensorflow-estimator<2.4,>=2.3 in /usr/local/lib/python3.7/dist-packages (from rasa[convert]) (2.3.0)\n",
            "Requirement already satisfied: networkx<2.6,>=2.4 in /usr/local/lib/python3.7/dist-packages (from rasa[convert]) (2.5.1)\n",
            "Requirement already satisfied: pyasn1>=0.1.7 in /usr/local/lib/python3.7/dist-packages (from oauth2client==4.1.3->rasa[convert]) (0.4.8)\n",
            "Requirement already satisfied: httplib2>=0.9.1 in /usr/local/lib/python3.7/dist-packages (from oauth2client==4.1.3->rasa[convert]) (0.17.4)\n",
            "Requirement already satisfied: rsa>=3.1.4 in /usr/local/lib/python3.7/dist-packages (from oauth2client==4.1.3->rasa[convert]) (4.7.2)\n",
            "Requirement already satisfied: pyasn1-modules>=0.0.5 in /usr/local/lib/python3.7/dist-packages (from oauth2client==4.1.3->rasa[convert]) (0.2.8)\n",
            "Requirement already satisfied: six>=1.6.1 in /usr/local/lib/python3.7/dist-packages (from oauth2client==4.1.3->rasa[convert]) (1.15.0)\n",
            "Requirement already satisfied: yarl in /usr/local/lib/python3.7/dist-packages (from aio-pika<7.0.0,>=6.7.1->rasa[convert]) (1.5.1)\n",
            "Requirement already satisfied: aiormq<4,>=3.2.3 in /usr/local/lib/python3.7/dist-packages (from aio-pika<7.0.0,>=6.7.1->rasa[convert]) (3.3.1)\n",
            "Requirement already satisfied: async-timeout<4.0,>=3.0 in /usr/local/lib/python3.7/dist-packages (from aiohttp<3.7,>=3.6->rasa[convert]) (3.0.1)\n",
            "Requirement already satisfied: chardet<4.0,>=2.0 in /usr/local/lib/python3.7/dist-packages (from aiohttp<3.7,>=3.6->rasa[convert]) (3.0.4)\n",
            "Requirement already satisfied: pamqp==2.3.0 in /usr/local/lib/python3.7/dist-packages (from aiormq<4,>=3.2.3->aio-pika<7.0.0,>=6.7.1->rasa[convert]) (2.3.0)\n",
            "Requirement already satisfied: tzlocal>=1.2 in /usr/local/lib/python3.7/dist-packages (from apscheduler<3.7,>=3.6->rasa[convert]) (1.5.1)\n",
            "Requirement already satisfied: botocore<1.22.0,>=1.21.28 in /usr/local/lib/python3.7/dist-packages (from boto3<2.0,>=1.12->rasa[convert]) (1.21.28)\n",
            "Requirement already satisfied: jmespath<1.0.0,>=0.7.1 in /usr/local/lib/python3.7/dist-packages (from boto3<2.0,>=1.12->rasa[convert]) (0.10.0)\n",
            "Requirement already satisfied: s3transfer<0.6.0,>=0.5.0 in /usr/local/lib/python3.7/dist-packages (from boto3<2.0,>=1.12->rasa[convert]) (0.5.0)\n",
            "Requirement already satisfied: urllib3<1.27,>=1.25.4 in /usr/local/lib/python3.7/dist-packages (from botocore<1.22.0,>=1.21.28->boto3<2.0,>=1.12->rasa[convert]) (1.26.6)\n",
            "Requirement already satisfied: humanfriendly>=7.1 in /usr/local/lib/python3.7/dist-packages (from coloredlogs<15,>=10->rasa[convert]) (9.2)\n",
            "Requirement already satisfied: importlib-metadata in /usr/local/lib/python3.7/dist-packages (from jsonpickle<1.5,>=1.3->rasa[convert]) (4.6.4)\n",
            "Requirement already satisfied: pyrsistent>=0.14.0 in /usr/local/lib/python3.7/dist-packages (from jsonschema<3.3,>=3.2->rasa[convert]) (0.18.0)\n",
            "Requirement already satisfied: kiwisolver>=1.0.1 in /usr/local/lib/python3.7/dist-packages (from matplotlib<3.4,>=3.1->rasa[convert]) (1.3.1)\n",
            "Requirement already satisfied: cycler>=0.10 in /usr/local/lib/python3.7/dist-packages (from matplotlib<3.4,>=3.1->rasa[convert]) (0.10.0)\n",
            "Requirement already satisfied: pyparsing!=2.0.4,!=2.1.2,!=2.1.6,>=2.0.1 in /usr/local/lib/python3.7/dist-packages (from matplotlib<3.4,>=3.1->rasa[convert]) (2.4.7)\n",
            "Requirement already satisfied: decorator<5,>=4.3 in /usr/local/lib/python3.7/dist-packages (from networkx<2.6,>=2.4->rasa[convert]) (4.4.2)\n",
            "Requirement already satisfied: wcwidth in /usr/local/lib/python3.7/dist-packages (from prompt-toolkit<3.0,>=2.0->rasa[convert]) (0.2.5)\n",
            "Requirement already satisfied: cryptography<4.0.0,>=3.3.1 in /usr/local/lib/python3.7/dist-packages (from PyJWT[crypto]<3.0.0,>=2.0.0->rasa[convert]) (3.4.8)\n",
            "Requirement already satisfied: cffi>=1.12 in /usr/local/lib/python3.7/dist-packages (from cryptography<4.0.0,>=3.3.1->PyJWT[crypto]<3.0.0,>=2.0.0->rasa[convert]) (1.14.6)\n",
            "Requirement already satisfied: pycparser in /usr/local/lib/python3.7/dist-packages (from cffi>=1.12->cryptography<4.0.0,>=3.3.1->PyJWT[crypto]<3.0.0,>=2.0.0->rasa[convert]) (2.20)\n",
            "Requirement already satisfied: PyYAML>=3.11 in /usr/local/lib/python3.7/dist-packages (from pykwalify<1.8.0,>=1.7.0->rasa[convert]) (3.13)\n",
            "Requirement already satisfied: docopt>=0.6.2 in /usr/local/lib/python3.7/dist-packages (from pykwalify<1.8.0,>=1.7.0->rasa[convert]) (0.6.2)\n",
            "Requirement already satisfied: dnspython<2.0.0,>=1.16.0 in /usr/local/lib/python3.7/dist-packages (from pymongo[srv,tls]<3.11,>=3.8->rasa[convert]) (1.16.0)\n",
            "Requirement already satisfied: uvloop<0.15.0 in /usr/local/lib/python3.7/dist-packages (from rasa-sdk<3.0.0,>=2.2.0->rasa[convert]) (0.14.0)\n",
            "Requirement already satisfied: typing-extensions<4.0.0,>=3.7.4 in /usr/local/lib/python3.7/dist-packages (from rasa-sdk<3.0.0,>=2.2.0->rasa[convert]) (3.7.4.3)\n",
            "Requirement already satisfied: idna<3,>=2.5 in /usr/local/lib/python3.7/dist-packages (from requests<3.0,>=2.23->rasa[convert]) (2.10)\n",
            "Requirement already satisfied: certifi>=2017.4.17 in /usr/local/lib/python3.7/dist-packages (from requests<3.0,>=2.23->rasa[convert]) (2021.5.30)\n",
            "Requirement already satisfied: ruamel.yaml.clib>=0.1.2 in /usr/local/lib/python3.7/dist-packages (from ruamel.yaml<0.17.0,>=0.16.5->rasa[convert]) (0.2.6)\n",
            "Requirement already satisfied: httptools>=0.0.10 in /usr/local/lib/python3.7/dist-packages (from sanic<21.0.0,>=19.12.2->rasa[convert]) (0.3.0)\n",
            "Requirement already satisfied: httpx==0.15.4 in /usr/local/lib/python3.7/dist-packages (from sanic<21.0.0,>=19.12.2->rasa[convert]) (0.15.4)\n",
            "Requirement already satisfied: aiofiles>=0.3.0 in /usr/local/lib/python3.7/dist-packages (from sanic<21.0.0,>=19.12.2->rasa[convert]) (0.7.0)\n",
            "Requirement already satisfied: websockets<9.0,>=8.1 in /usr/local/lib/python3.7/dist-packages (from sanic<21.0.0,>=19.12.2->rasa[convert]) (8.1)\n",
            "Requirement already satisfied: sniffio in /usr/local/lib/python3.7/dist-packages (from httpx==0.15.4->sanic<21.0.0,>=19.12.2->rasa[convert]) (1.2.0)\n",
            "Requirement already satisfied: rfc3986[idna2008]<2,>=1.3 in /usr/local/lib/python3.7/dist-packages (from httpx==0.15.4->sanic<21.0.0,>=19.12.2->rasa[convert]) (1.5.0)\n",
            "Requirement already satisfied: httpcore==0.11.* in /usr/local/lib/python3.7/dist-packages (from httpx==0.15.4->sanic<21.0.0,>=19.12.2->rasa[convert]) (0.11.1)\n",
            "Requirement already satisfied: h11<0.10,>=0.8 in /usr/local/lib/python3.7/dist-packages (from httpcore==0.11.*->httpx==0.15.4->sanic<21.0.0,>=19.12.2->rasa[convert]) (0.9.0)\n",
            "Requirement already satisfied: sanic-plugins-framework>=0.9.0 in /usr/local/lib/python3.7/dist-packages (from sanic-cors<0.11.0,>=0.10.0b1->rasa[convert]) (0.9.5)\n",
            "Requirement already satisfied: tabulate in /usr/local/lib/python3.7/dist-packages (from sklearn-crfsuite<0.4,>=0.3->rasa[convert]) (0.8.9)\n",
            "Requirement already satisfied: python-crfsuite>=0.8.3 in /usr/local/lib/python3.7/dist-packages (from sklearn-crfsuite<0.4,>=0.3->rasa[convert]) (0.9.7)\n",
            "Requirement already satisfied: protobuf>=3.9.2 in /usr/local/lib/python3.7/dist-packages (from tensorflow<2.4,>=2.3->rasa[convert]) (3.17.3)\n",
            "Requirement already satisfied: astunparse==1.6.3 in /usr/local/lib/python3.7/dist-packages (from tensorflow<2.4,>=2.3->rasa[convert]) (1.6.3)\n",
            "Requirement already satisfied: tensorboard<3,>=2.3.0 in /usr/local/lib/python3.7/dist-packages (from tensorflow<2.4,>=2.3->rasa[convert]) (2.6.0)\n",
            "Requirement already satisfied: grpcio>=1.8.6 in /usr/local/lib/python3.7/dist-packages (from tensorflow<2.4,>=2.3->rasa[convert]) (1.39.0)\n",
            "Requirement already satisfied: h5py<2.11.0,>=2.10.0 in /usr/local/lib/python3.7/dist-packages (from tensorflow<2.4,>=2.3->rasa[convert]) (2.10.0)\n",
            "Requirement already satisfied: gast==0.3.3 in /usr/local/lib/python3.7/dist-packages (from tensorflow<2.4,>=2.3->rasa[convert]) (0.3.3)\n",
            "Requirement already satisfied: google-pasta>=0.1.8 in /usr/local/lib/python3.7/dist-packages (from tensorflow<2.4,>=2.3->rasa[convert]) (0.2.0)\n",
            "Requirement already satisfied: wrapt>=1.11.1 in /usr/local/lib/python3.7/dist-packages (from tensorflow<2.4,>=2.3->rasa[convert]) (1.12.1)\n",
            "Requirement already satisfied: keras-preprocessing<1.2,>=1.1.1 in /usr/local/lib/python3.7/dist-packages (from tensorflow<2.4,>=2.3->rasa[convert]) (1.1.2)\n",
            "Requirement already satisfied: termcolor>=1.1.0 in /usr/local/lib/python3.7/dist-packages (from tensorflow<2.4,>=2.3->rasa[convert]) (1.1.0)\n",
            "Requirement already satisfied: opt-einsum>=2.3.2 in /usr/local/lib/python3.7/dist-packages (from tensorflow<2.4,>=2.3->rasa[convert]) (3.3.0)\n",
            "Requirement already satisfied: wheel>=0.26 in /usr/local/lib/python3.7/dist-packages (from tensorflow<2.4,>=2.3->rasa[convert]) (0.37.0)\n",
            "Requirement already satisfied: tensorboard-plugin-wit>=1.6.0 in /usr/local/lib/python3.7/dist-packages (from tensorboard<3,>=2.3.0->tensorflow<2.4,>=2.3->rasa[convert]) (1.8.0)\n",
            "Requirement already satisfied: werkzeug>=0.11.15 in /usr/local/lib/python3.7/dist-packages (from tensorboard<3,>=2.3.0->tensorflow<2.4,>=2.3->rasa[convert]) (1.0.1)\n",
            "Requirement already satisfied: google-auth<2,>=1.6.3 in /usr/local/lib/python3.7/dist-packages (from tensorboard<3,>=2.3.0->tensorflow<2.4,>=2.3->rasa[convert]) (1.34.0)\n",
            "Requirement already satisfied: google-auth-oauthlib<0.5,>=0.4.1 in /usr/local/lib/python3.7/dist-packages (from tensorboard<3,>=2.3.0->tensorflow<2.4,>=2.3->rasa[convert]) (0.4.5)\n",
            "Requirement already satisfied: markdown>=2.6.8 in /usr/local/lib/python3.7/dist-packages (from tensorboard<3,>=2.3.0->tensorflow<2.4,>=2.3->rasa[convert]) (3.3.4)\n",
            "Requirement already satisfied: tensorboard-data-server<0.7.0,>=0.6.0 in /usr/local/lib/python3.7/dist-packages (from tensorboard<3,>=2.3.0->tensorflow<2.4,>=2.3->rasa[convert]) (0.6.1)\n",
            "Requirement already satisfied: cachetools<5.0,>=2.0.0 in /usr/local/lib/python3.7/dist-packages (from google-auth<2,>=1.6.3->tensorboard<3,>=2.3.0->tensorflow<2.4,>=2.3->rasa[convert]) (4.2.2)\n",
            "Requirement already satisfied: requests-oauthlib>=0.7.0 in /usr/local/lib/python3.7/dist-packages (from google-auth-oauthlib<0.5,>=0.4.1->tensorboard<3,>=2.3.0->tensorflow<2.4,>=2.3->rasa[convert]) (1.3.0)\n",
            "Requirement already satisfied: oauthlib>=3.0.0 in /usr/local/lib/python3.7/dist-packages (from requests-oauthlib>=0.7.0->google-auth-oauthlib<0.5,>=0.4.1->tensorboard<3,>=2.3.0->tensorflow<2.4,>=2.3->rasa[convert]) (3.1.1)\n",
            "Requirement already satisfied: typeguard>=2.7 in /usr/local/lib/python3.7/dist-packages (from tensorflow-addons<=0.12,>=0.10->rasa[convert]) (2.7.1)\n",
            "Requirement already satisfied: dm-tree in /usr/local/lib/python3.7/dist-packages (from tensorflow-probability<0.12,>=0.11->rasa[convert]) (0.1.6)\n",
            "Requirement already satisfied: future in /usr/local/lib/python3.7/dist-packages (from webexteamssdk<1.7.0,>=1.1.1->rasa[convert]) (0.16.0)\n",
            "Requirement already satisfied: requests-toolbelt in /usr/local/lib/python3.7/dist-packages (from webexteamssdk<1.7.0,>=1.1.1->rasa[convert]) (0.9.1)\n",
            "Requirement already satisfied: zipp>=0.5 in /usr/local/lib/python3.7/dist-packages (from importlib-metadata->jsonpickle<1.5,>=1.3->rasa[convert]) (3.5.0)\n"
          ],
          "name": "stdout"
        }
      ]
    },
    {
      "cell_type": "code",
      "metadata": {
        "id": "NezEyPMsEeic"
      },
      "source": [
        ""
      ],
      "execution_count": null,
      "outputs": []
    },
    {
      "cell_type": "markdown",
      "metadata": {
        "id": "K-2_Pd2bE1LW"
      },
      "source": [
        "# RASA train for T5 Data augmentation"
      ]
    },
    {
      "cell_type": "markdown",
      "metadata": {
        "id": "-FbSpxpjE1LW"
      },
      "source": [
        "## AD - Pipeline 1: no pre-trained word embeddings (CountVectorsFeaturizer + DIETClassifier)"
      ]
    },
    {
      "cell_type": "code",
      "metadata": {
        "colab": {
          "base_uri": "https://localhost:8080/"
        },
        "id": "JycgNKFRE1LW",
        "outputId": "933d9f6a-afc3-4002-a871-84b3426a6899"
      },
      "source": [
        "# Printing config file\n",
        "ConfigFile_path = \"/content/ASOS_project_haoyang/RASA_asos/ayo-faq/configs/config-DIET.yml\"\n",
        "ConfigFile = open(ConfigFile_path, \"r\")\n",
        "print(ConfigFile.read())"
      ],
      "execution_count": null,
      "outputs": [
        {
          "output_type": "stream",
          "text": [
            "# https://rasa.com/docs/rasa/tuning-your-model/\n",
            "# Does NOT use pre-trained word embeddings: CountVectorsFeaturizer trains only on given training data\n",
            "\n",
            "language: en\n",
            "pipeline:\n",
            "#   - name: WhitespaceTokenizer\n",
            "#   - name: CountVectorsFeaturizer\n",
            "#   - name: CountVectorsFeaturizer\n",
            "#     analyzer: char_wb\n",
            "#     min_ngram: 1\n",
            "#     max_ngram: 4\n",
            "#   - name: DIETClassifier\n",
            "#     epochs: 100\n",
            "  - name: WhitespaceTokenizer\n",
            "  - name: RegexFeaturizer\n",
            "  - name: LexicalSyntacticFeaturizer\n",
            "  - name: CountVectorsFeaturizer\n",
            "  - name: CountVectorsFeaturizer\n",
            "    analyzer: char_wb\n",
            "    min_ngram: 1\n",
            "    max_ngram: 4\n",
            "  - name: DIETClassifier\n",
            "    epochs: 100\n",
            "    # constrain_similarities: True\n",
            "    # model_confidence: linear_norm\n",
            "  - name: EntitySynonymMapper\n",
            "  - name: ResponseSelector\n",
            "    epochs: 100\n",
            "    retrieval_intent: faq   # Added\n",
            "    # constrain_similarities: True\n",
            "    # model_confidence: linear_norm\n",
            "  # - name: FallbackClassifier\n",
            "  #   threshold: 0.3\n",
            "  #   ambiguity_threshold: 0.1\n"
          ],
          "name": "stdout"
        }
      ]
    },
    {
      "cell_type": "code",
      "metadata": {
        "colab": {
          "base_uri": "https://localhost:8080/"
        },
        "id": "OSncOFnbE1LX",
        "outputId": "d69d4b3c-5dcb-49d4-b8f4-6e809e5979c0"
      },
      "source": [
        "for i in range(1,6):\n",
        "# input original data for comparsion\n",
        "  !rasa train nlu --nlu /content/ASOS_project_haoyang/output_result_by_haoyang/data/original_data_5fold/{i}cv_original_train.yml --config /content/ASOS_project_haoyang/RASA_asos/ayo-faq/configs/config-DIET.yml --out models --fixed-model-name /content/enter_location_you_like/T5models/{i}cv_p1_0\n",
        "\n",
        " \n",
        " \n",
        "\n",
        " \n",
        "for j in range(1,6):\n",
        "  for i in range(1,11):\n",
        "\n",
        "    \n",
        "      \n",
        "    !rasa train nlu --nlu /content/ASOS_project_haoyang/output_result_by_haoyang/data/cv_T5_augmented_data/{j}cv_{i}augumented_fixed.yml --config /content/ASOS_project_haoyang/RASA_asos/ayo-faq/configs/config-DIET.yml --out models --fixed-model-name /content/enter_location_you_like/T5models/{j}cv_p1_{i}\n",
        "\n",
        "\n"
      ],
      "execution_count": null,
      "outputs": [
        {
          "output_type": "stream",
          "text": [
            "2021-08-25 21:33:07.651819: I tensorflow/stream_executor/platform/default/dso_loader.cc:48] Successfully opened dynamic library libcuda.so.1\n",
            "2021-08-25 21:33:07.677464: I tensorflow/stream_executor/cuda/cuda_gpu_executor.cc:982] successful NUMA node read from SysFS had negative value (-1), but there must be at least one NUMA node, so returning NUMA node zero\n",
            "2021-08-25 21:33:07.678035: I tensorflow/core/common_runtime/gpu/gpu_device.cc:1716] Found device 0 with properties: \n",
            "pciBusID: 0000:00:04.0 name: Tesla T4 computeCapability: 7.5\n",
            "coreClock: 1.59GHz coreCount: 40 deviceMemorySize: 14.75GiB deviceMemoryBandwidth: 298.08GiB/s\n",
            "2021-08-25 21:33:07.678084: I tensorflow/stream_executor/platform/default/dso_loader.cc:48] Successfully opened dynamic library libcudart.so.10.1\n",
            "2021-08-25 21:33:07.679804: I tensorflow/stream_executor/platform/default/dso_loader.cc:48] Successfully opened dynamic library libcublas.so.10\n",
            "2021-08-25 21:33:07.681408: I tensorflow/stream_executor/platform/default/dso_loader.cc:48] Successfully opened dynamic library libcufft.so.10\n",
            "2021-08-25 21:33:07.681872: I tensorflow/stream_executor/platform/default/dso_loader.cc:48] Successfully opened dynamic library libcurand.so.10\n",
            "2021-08-25 21:33:07.683501: I tensorflow/stream_executor/platform/default/dso_loader.cc:48] Successfully opened dynamic library libcusolver.so.10\n",
            "2021-08-25 21:33:07.684582: I tensorflow/stream_executor/platform/default/dso_loader.cc:48] Successfully opened dynamic library libcusparse.so.10\n",
            "2021-08-25 21:33:07.688455: I tensorflow/stream_executor/platform/default/dso_loader.cc:48] Successfully opened dynamic library libcudnn.so.7\n",
            "2021-08-25 21:33:07.688573: I tensorflow/stream_executor/cuda/cuda_gpu_executor.cc:982] successful NUMA node read from SysFS had negative value (-1), but there must be at least one NUMA node, so returning NUMA node zero\n",
            "2021-08-25 21:33:07.689164: I tensorflow/stream_executor/cuda/cuda_gpu_executor.cc:982] successful NUMA node read from SysFS had negative value (-1), but there must be at least one NUMA node, so returning NUMA node zero\n",
            "2021-08-25 21:33:07.689667: I tensorflow/core/common_runtime/gpu/gpu_device.cc:1858] Adding visible gpu devices: 0\n",
            "\u001b[94mTraining NLU model...\u001b[0m\n",
            "2021-08-25 21:33:08 \u001b[1;30mINFO    \u001b[0m \u001b[34mrasa.shared.nlu.training_data.training_data\u001b[0m  - Training data stats:\n",
            "2021-08-25 21:33:08 \u001b[1;30mINFO    \u001b[0m \u001b[34mrasa.shared.nlu.training_data.training_data\u001b[0m  - Number of intent examples: 515 (32 distinct intents)\n",
            "\n",
            "2021-08-25 21:33:08 \u001b[1;30mINFO    \u001b[0m \u001b[34mrasa.shared.nlu.training_data.training_data\u001b[0m  -   Found intents: 'faq_stock', 'faq_payment_currency', 'faq_return_multiple_orders', 'faq_returns_policy', 'faq_fur', 'faq_unsubscribe_email', 'faq_return_format', 'faq_order_not_received', 'faq_delivery_slot', 'faq_faulty_item', 'faq_next_day_delivery', 'faq_responsible_shopping', 'faq_delivery_address', 'faq_track_delivery', 'faq_change_password', 'faq_missing_comms', 'faq_student_discount', 'faq_return_received', 'faq_exchange_item', 'faq_marketplace_app', 'faq_payment_card_refund', 'faq_size_guide', 'faq_missing_item', 'faq_animal_welfare', 'faq_wrong_item_received', 'faq_return_prohibited_items', 'faq_refund_delivery_charge', 'faq_enquire_premier', 'faq_payment_options', 'faq_account_sign_in', 'faq_return_slip', 'faq_gift_voucher'\n",
            "2021-08-25 21:33:08 \u001b[1;30mINFO    \u001b[0m \u001b[34mrasa.shared.nlu.training_data.training_data\u001b[0m  - Number of response examples: 0 (0 distinct responses)\n",
            "2021-08-25 21:33:08 \u001b[1;30mINFO    \u001b[0m \u001b[34mrasa.shared.nlu.training_data.training_data\u001b[0m  - Number of entity examples: 0 (0 distinct entities)\n",
            "2021-08-25 21:33:08 \u001b[1;30mINFO    \u001b[0m \u001b[34mrasa.nlu.model\u001b[0m  - Starting to train component WhitespaceTokenizer\n",
            "2021-08-25 21:33:08 \u001b[1;30mINFO    \u001b[0m \u001b[34mrasa.nlu.model\u001b[0m  - Finished training component.\n",
            "2021-08-25 21:33:08 \u001b[1;30mINFO    \u001b[0m \u001b[34mrasa.nlu.model\u001b[0m  - Starting to train component RegexFeaturizer\n",
            "2021-08-25 21:33:08 \u001b[1;30mINFO    \u001b[0m \u001b[34mrasa.nlu.model\u001b[0m  - Finished training component.\n",
            "2021-08-25 21:33:08 \u001b[1;30mINFO    \u001b[0m \u001b[34mrasa.nlu.model\u001b[0m  - Starting to train component LexicalSyntacticFeaturizer\n",
            "2021-08-25 21:33:08 \u001b[1;30mINFO    \u001b[0m \u001b[34mrasa.nlu.model\u001b[0m  - Finished training component.\n",
            "2021-08-25 21:33:08 \u001b[1;30mINFO    \u001b[0m \u001b[34mrasa.nlu.model\u001b[0m  - Starting to train component CountVectorsFeaturizer\n",
            "2021-08-25 21:33:08 \u001b[1;30mINFO    \u001b[0m \u001b[34mrasa.nlu.featurizers.sparse_featurizer.count_vectors_featurizer\u001b[0m  - 511 vocabulary slots consumed out of 1511 slots configured for text attribute.\n",
            "2021-08-25 21:33:08 \u001b[1;30mINFO    \u001b[0m \u001b[34mrasa.nlu.model\u001b[0m  - Finished training component.\n",
            "2021-08-25 21:33:08 \u001b[1;30mINFO    \u001b[0m \u001b[34mrasa.nlu.model\u001b[0m  - Starting to train component CountVectorsFeaturizer\n",
            "2021-08-25 21:33:08 \u001b[1;30mINFO    \u001b[0m \u001b[34mrasa.nlu.featurizers.sparse_featurizer.count_vectors_featurizer\u001b[0m  - 3333 vocabulary slots consumed out of 4999 slots configured for text attribute.\n",
            "2021-08-25 21:33:09 \u001b[1;30mINFO    \u001b[0m \u001b[34mrasa.nlu.model\u001b[0m  - Finished training component.\n",
            "2021-08-25 21:33:09 \u001b[1;30mINFO    \u001b[0m \u001b[34mrasa.nlu.model\u001b[0m  - Starting to train component DIETClassifier\n",
            "2021-08-25 21:33:09.451704: I tensorflow/core/platform/cpu_feature_guard.cc:142] This TensorFlow binary is optimized with oneAPI Deep Neural Network Library (oneDNN)to use the following CPU instructions in performance-critical operations:  AVX2 AVX512F FMA\n",
            "To enable them in other operations, rebuild TensorFlow with the appropriate compiler flags.\n",
            "2021-08-25 21:33:09.456932: I tensorflow/core/platform/profile_utils/cpu_utils.cc:104] CPU Frequency: 2000140000 Hz\n",
            "2021-08-25 21:33:09.457145: I tensorflow/compiler/xla/service/service.cc:168] XLA service 0x5617bab85a40 initialized for platform Host (this does not guarantee that XLA will be used). Devices:\n",
            "2021-08-25 21:33:09.457180: I tensorflow/compiler/xla/service/service.cc:176]   StreamExecutor device (0): Host, Default Version\n",
            "2021-08-25 21:33:09.541420: I tensorflow/stream_executor/cuda/cuda_gpu_executor.cc:982] successful NUMA node read from SysFS had negative value (-1), but there must be at least one NUMA node, so returning NUMA node zero\n",
            "2021-08-25 21:33:09.542191: I tensorflow/compiler/xla/service/service.cc:168] XLA service 0x5617bab85c00 initialized for platform CUDA (this does not guarantee that XLA will be used). Devices:\n",
            "2021-08-25 21:33:09.542227: I tensorflow/compiler/xla/service/service.cc:176]   StreamExecutor device (0): Tesla T4, Compute Capability 7.5\n",
            "2021-08-25 21:33:09.542423: I tensorflow/stream_executor/cuda/cuda_gpu_executor.cc:982] successful NUMA node read from SysFS had negative value (-1), but there must be at least one NUMA node, so returning NUMA node zero\n",
            "2021-08-25 21:33:09.542949: I tensorflow/core/common_runtime/gpu/gpu_device.cc:1716] Found device 0 with properties: \n",
            "pciBusID: 0000:00:04.0 name: Tesla T4 computeCapability: 7.5\n",
            "coreClock: 1.59GHz coreCount: 40 deviceMemorySize: 14.75GiB deviceMemoryBandwidth: 298.08GiB/s\n",
            "2021-08-25 21:33:09.543012: I tensorflow/stream_executor/platform/default/dso_loader.cc:48] Successfully opened dynamic library libcudart.so.10.1\n",
            "2021-08-25 21:33:09.543060: I tensorflow/stream_executor/platform/default/dso_loader.cc:48] Successfully opened dynamic library libcublas.so.10\n",
            "2021-08-25 21:33:09.543082: I tensorflow/stream_executor/platform/default/dso_loader.cc:48] Successfully opened dynamic library libcufft.so.10\n",
            "2021-08-25 21:33:09.543107: I tensorflow/stream_executor/platform/default/dso_loader.cc:48] Successfully opened dynamic library libcurand.so.10\n",
            "2021-08-25 21:33:09.543127: I tensorflow/stream_executor/platform/default/dso_loader.cc:48] Successfully opened dynamic library libcusolver.so.10\n",
            "2021-08-25 21:33:09.543147: I tensorflow/stream_executor/platform/default/dso_loader.cc:48] Successfully opened dynamic library libcusparse.so.10\n",
            "2021-08-25 21:33:09.543168: I tensorflow/stream_executor/platform/default/dso_loader.cc:48] Successfully opened dynamic library libcudnn.so.7\n",
            "2021-08-25 21:33:09.543246: I tensorflow/stream_executor/cuda/cuda_gpu_executor.cc:982] successful NUMA node read from SysFS had negative value (-1), but there must be at least one NUMA node, so returning NUMA node zero\n",
            "2021-08-25 21:33:09.543790: I tensorflow/stream_executor/cuda/cuda_gpu_executor.cc:982] successful NUMA node read from SysFS had negative value (-1), but there must be at least one NUMA node, so returning NUMA node zero\n",
            "2021-08-25 21:33:09.544305: I tensorflow/core/common_runtime/gpu/gpu_device.cc:1858] Adding visible gpu devices: 0\n",
            "2021-08-25 21:33:09.544360: I tensorflow/stream_executor/platform/default/dso_loader.cc:48] Successfully opened dynamic library libcudart.so.10.1\n",
            "2021-08-25 21:33:10.069424: I tensorflow/core/common_runtime/gpu/gpu_device.cc:1257] Device interconnect StreamExecutor with strength 1 edge matrix:\n",
            "2021-08-25 21:33:10.069487: I tensorflow/core/common_runtime/gpu/gpu_device.cc:1263]      0 \n",
            "2021-08-25 21:33:10.069501: I tensorflow/core/common_runtime/gpu/gpu_device.cc:1276] 0:   N \n",
            "2021-08-25 21:33:10.069712: I tensorflow/stream_executor/cuda/cuda_gpu_executor.cc:982] successful NUMA node read from SysFS had negative value (-1), but there must be at least one NUMA node, so returning NUMA node zero\n",
            "2021-08-25 21:33:10.070414: I tensorflow/stream_executor/cuda/cuda_gpu_executor.cc:982] successful NUMA node read from SysFS had negative value (-1), but there must be at least one NUMA node, so returning NUMA node zero\n",
            "2021-08-25 21:33:10.070957: W tensorflow/core/common_runtime/gpu/gpu_bfc_allocator.cc:39] Overriding allow_growth setting because the TF_FORCE_GPU_ALLOW_GROWTH environment variable is set. Original config value was 0.\n",
            "2021-08-25 21:33:10.071009: I tensorflow/core/common_runtime/gpu/gpu_device.cc:1402] Created TensorFlow device (/job:localhost/replica:0/task:0/device:GPU:0 with 13970 MB memory) -> physical GPU (device: 0, name: Tesla T4, pci bus id: 0000:00:04.0, compute capability: 7.5)\n"
          ],
          "name": "stdout"
        }
      ]
    },
    {
      "cell_type": "markdown",
      "metadata": {
        "id": "zfCP8glcE1LX"
      },
      "source": [
        "\n",
        "## AD - Pipeline 2: Using DIET with pre-trained word embeddings (ConveRTFeaturizer)\n",
        "\n"
      ]
    },
    {
      "cell_type": "code",
      "metadata": {
        "colab": {
          "base_uri": "https://localhost:8080/"
        },
        "id": "PGj_f8yxE1LX",
        "outputId": "5c6360e7-bd48-42b9-c5bd-ddf3818f7047"
      },
      "source": [
        "# Printing config file\n",
        "ConfigFile_path = \"/content/ASOS_project_haoyang/RASA_asos/ayo-faq/configs/config-DIET-PreTrained.yml\"\n",
        "ConfigFile = open(ConfigFile_path, \"r\")\n",
        "print(ConfigFile.read())  "
      ],
      "execution_count": null,
      "outputs": [
        {
          "output_type": "stream",
          "text": [
            "# https://rasa.com/docs/rasa/tuning-your-model/\n",
            "# DOES use pre-trained word embeddings: ConveRT model is trained on English corpus of conversations\n",
            "\n",
            "language: en\n",
            "pipeline:\n",
            "  - name: WhitespaceTokenizer\n",
            "  - name: ConveRTFeaturizer # contains pre-trained word embeddings\n",
            "    model_url: https://github.com/connorbrinton/polyai-models/releases/download/v1.0/model.tar.gz\n",
            "  - name: CountVectorsFeaturizer\n",
            "    analyzer: char_wb\n",
            "    min_ngram: 1\n",
            "    max_ngram: 4\n",
            "  - name: DIETClassifier\n",
            "    epochs: 100\n",
            "    # constrain_similarities: True\n",
            "    # model_confidence: linear_norm\n",
            "  - name: EntitySynonymMapper\n",
            "  - name: ResponseSelector\n",
            "    epochs: 100\n",
            "    retrieval_intent: faq   # Added\n",
            "    # constrain_similarities: True\n",
            "    # model_confidence: linear_norm\n",
            "  # - name: FallbackClassifier\n",
            "  #   threshold: 0.3\n",
            "  #   ambiguity_threshold: 0.1\n"
          ],
          "name": "stdout"
        }
      ]
    },
    {
      "cell_type": "code",
      "metadata": {
        "id": "J39BrigWE1LX"
      },
      "source": [
        "\n",
        "\n",
        "\n",
        "for i in range(1,6):\n",
        "# input original data for comparsion\n",
        "  !rasa train nlu --nlu /content/ASOS_project_haoyang/output_result_by_haoyang/data/original_data_5fold/{i}cv_original_train.yml --config /content/ASOS_project_haoyang/RASA_asos/ayo-faq/configs/config-DIET-PreTrained.yml --out models --fixed-model-name /content/enter_location_you_like/T5models/{i}cv_p2_0\n",
        "\n",
        " \n",
        " \n",
        "\n",
        " \n",
        "for j in range(1,6):\n",
        "  for i in range(1,11):\n",
        "\n",
        "    \n",
        "      \n",
        "    !rasa train nlu --nlu /content/ASOS_project_haoyang/output_result_by_haoyang/data/cv_T5_augmented_data/{j}cv_{i}augumented_fixed.yml --config /content/ASOS_project_haoyang/RASA_asos/ayo-faq/configs/config-DIET-PreTrained.yml --out models --fixed-model-name /content/enter_location_you_like/T5models/{j}cv_p2_{i}\n",
        "\n",
        "\n",
        "\n",
        "\n",
        "\n",
        "\n",
        "\n"
      ],
      "execution_count": null,
      "outputs": []
    },
    {
      "cell_type": "markdown",
      "metadata": {
        "id": "pQ2Tl6sdE1LX"
      },
      "source": [
        "## AD - Pipeline 3: Using pre-trained BERT language model (Bert tokenizer/featurizer + DIETClassifier)"
      ]
    },
    {
      "cell_type": "code",
      "metadata": {
        "colab": {
          "base_uri": "https://localhost:8080/"
        },
        "id": "AR-6UsOAE1LX",
        "outputId": "7756a409-dc41-42b3-e52a-1c1861545ce1"
      },
      "source": [
        "# Printing config file\n",
        "ConfigFile_path = \"/content/ASOS_project_haoyang/RASA_asos/ayo-faq/configs/config-BERT.yml\"\n",
        "ConfigFile = open(ConfigFile_path, \"r\")\n",
        "print(ConfigFile.read()) "
      ],
      "execution_count": 1,
      "outputs": [
        {
          "output_type": "stream",
          "text": [
            "# https://rasa.com/docs/rasa/tuning-your-model/\n",
            "# Uses pre-trained BERT language model (not fine-tuned)\n",
            "\n",
            "\n",
            "language: en\n",
            "pipeline:\n",
            "  - name: LanguageModelTokenizer\n",
            "  - name: LanguageModelFeaturizer\n",
            "    # Name of the language model to use\n",
            "    model_name: \"bert\"\n",
            "    # Pre-Trained weights to be loaded\n",
            "    model_weights: \"rasa/LaBSE\"\n",
            "\n",
            "    # An optional path to a specific directory to download and cache the pre-trained model weights.\n",
            "    # The `default` cache_dir is the same as https://huggingface.co/transformers/serialization.html#cache-directory .\n",
            "    cache_dir: null\n",
            "  - name: DIETClassifier\n",
            "    epochs: 100\n",
            "    # constrain_similarities: True\n",
            "    # model_confidence: linear_norm\n",
            "  - name: EntitySynonymMapper\n",
            "  - name: ResponseSelector\n",
            "    epochs: 100\n",
            "    retrieval_intent: faq   # Added\n",
            "    # constrain_similarities: True\n",
            "    # model_confidence: linear_norm\n",
            "  # - name: FallbackClassifier\n",
            "  #   threshold: 0.3\n",
            "  #   ambiguity_threshold: 0.1\n",
            "\n",
            "# language: en\n",
            "# pipeline:\n",
            "# - name: HFTransformersNLP\n",
            "# model_weights: \"bert-base-uncased\"\n",
            "# model_name: \"bert\"\n",
            "# - name: LanguageModelTokenizer\n",
            "# - name: LanguageModelFeaturizer\n",
            "# - name: DIETClassifier\n",
            "# epochs: 100\n",
            "\n"
          ],
          "name": "stdout"
        }
      ]
    },
    {
      "cell_type": "code",
      "metadata": {
        "colab": {
          "base_uri": "https://localhost:8080/"
        },
        "id": "Sl_t4QSfE1LY",
        "outputId": "edfa176c-95db-46d7-885e-17a099f048b2"
      },
      "source": [
        "!pip install transformers"
      ],
      "execution_count": 2,
      "outputs": [
        {
          "output_type": "stream",
          "text": [
            "Requirement already satisfied: transformers in /usr/local/lib/python3.7/dist-packages (4.9.2)\n",
            "Requirement already satisfied: tokenizers<0.11,>=0.10.1 in /usr/local/lib/python3.7/dist-packages (from transformers) (0.10.3)\n",
            "Requirement already satisfied: regex!=2019.12.17 in /usr/local/lib/python3.7/dist-packages (from transformers) (2020.9.27)\n",
            "Requirement already satisfied: requests in /usr/local/lib/python3.7/dist-packages (from transformers) (2.25.1)\n",
            "Requirement already satisfied: filelock in /usr/local/lib/python3.7/dist-packages (from transformers) (3.0.12)\n",
            "Requirement already satisfied: importlib-metadata in /usr/local/lib/python3.7/dist-packages (from transformers) (4.6.4)\n",
            "Requirement already satisfied: packaging in /usr/local/lib/python3.7/dist-packages (from transformers) (20.9)\n",
            "Requirement already satisfied: huggingface-hub==0.0.12 in /usr/local/lib/python3.7/dist-packages (from transformers) (0.0.12)\n",
            "Requirement already satisfied: tqdm>=4.27 in /usr/local/lib/python3.7/dist-packages (from transformers) (4.50.2)\n",
            "Requirement already satisfied: sacremoses in /usr/local/lib/python3.7/dist-packages (from transformers) (0.0.45)\n",
            "Requirement already satisfied: numpy>=1.17 in /usr/local/lib/python3.7/dist-packages (from transformers) (1.19.5)\n",
            "Requirement already satisfied: pyyaml>=5.1 in /usr/local/lib/python3.7/dist-packages (from transformers) (5.4.1)\n",
            "Requirement already satisfied: typing-extensions in /usr/local/lib/python3.7/dist-packages (from huggingface-hub==0.0.12->transformers) (3.7.4.3)\n",
            "Requirement already satisfied: pyparsing>=2.0.2 in /usr/local/lib/python3.7/dist-packages (from packaging->transformers) (2.4.7)\n",
            "Requirement already satisfied: zipp>=0.5 in /usr/local/lib/python3.7/dist-packages (from importlib-metadata->transformers) (3.5.0)\n",
            "Requirement already satisfied: chardet<5,>=3.0.2 in /usr/local/lib/python3.7/dist-packages (from requests->transformers) (3.0.4)\n",
            "Requirement already satisfied: certifi>=2017.4.17 in /usr/local/lib/python3.7/dist-packages (from requests->transformers) (2021.5.30)\n",
            "Requirement already satisfied: idna<3,>=2.5 in /usr/local/lib/python3.7/dist-packages (from requests->transformers) (2.10)\n",
            "Requirement already satisfied: urllib3<1.27,>=1.21.1 in /usr/local/lib/python3.7/dist-packages (from requests->transformers) (1.26.6)\n",
            "Requirement already satisfied: click in /usr/local/lib/python3.7/dist-packages (from sacremoses->transformers) (7.1.2)\n",
            "Requirement already satisfied: six in /usr/local/lib/python3.7/dist-packages (from sacremoses->transformers) (1.15.0)\n",
            "Requirement already satisfied: joblib in /usr/local/lib/python3.7/dist-packages (from sacremoses->transformers) (0.15.1)\n"
          ],
          "name": "stdout"
        }
      ]
    },
    {
      "cell_type": "code",
      "metadata": {
        "colab": {
          "base_uri": "https://localhost:8080/"
        },
        "id": "iKQRpBXwE1LY",
        "outputId": "19c65403-7d29-475c-f7b4-83533ec5676d"
      },
      "source": [
        "!pip install numpy==1.19.5"
      ],
      "execution_count": 3,
      "outputs": [
        {
          "output_type": "stream",
          "text": [
            "Requirement already satisfied: numpy==1.19.5 in /usr/local/lib/python3.7/dist-packages (1.19.5)\n"
          ],
          "name": "stdout"
        }
      ]
    },
    {
      "cell_type": "code",
      "metadata": {
        "id": "rRYVw2ElE1LY"
      },
      "source": [
        "\n",
        "\n",
        "for i in range(1,6):\n",
        "# input original data for comparsion\n",
        "  !rasa train nlu --nlu /content/ASOS_project_haoyang/output_result_by_haoyang/data/original_data_5fold/{i}cv_original_train.yml --config /content/ASOS_project_haoyang/RASA_asos/ayo-faq/configs/config-BERT.yml --out models --fixed-model-name /content/enter_location_you_like/T5models/{i}cv_p3_0\n",
        "\n",
        " \n",
        " \n",
        "# input T5_augmented_data\n",
        " \n",
        "for j in range(1,6):\n",
        "  for i in range(1,11):\n",
        "\n",
        "    # !rasa train nlu --nlu /content/drive/MyDrive/hf_asos/ayo-faq/rasa-faq/data/cl/{j}cv_{i}.yml --config /content/drive/MyDrive/hf_asos/ayo-faq/configs/config-DIET.yml --out models --fixed-model-name /content/drive/MyDrive/hf_asos/ayo-faq/models/{j}cl_p1_{i}\n",
        "      \n",
        "    !rasa train nlu --nlu /content/ASOS_project_haoyang/output_result_by_haoyang/data/cv_T5_augmented_data/{j}cv_{i}augumented_fixed.yml --config /content/ASOS_project_haoyang/RASA_asos/ayo-faq/configs/config-BERT.yml --out models --fixed-model-name /content/enter_location_you_like/T5models/{j}cv_p3_{i}\n",
        "\n",
        "\n",
        "\n",
        "\n"
      ],
      "execution_count": null,
      "outputs": []
    },
    {
      "cell_type": "markdown",
      "metadata": {
        "id": "u207ErjgEfMD"
      },
      "source": [
        "# RASA train for GPT3 Data augmentation"
      ]
    },
    {
      "cell_type": "markdown",
      "metadata": {
        "id": "3TeIS8-4QBCE"
      },
      "source": [
        "## AD - Pipeline 1: no pre-trained word embeddings (CountVectorsFeaturizer + DIETClassifier)"
      ]
    },
    {
      "cell_type": "code",
      "metadata": {
        "colab": {
          "base_uri": "https://localhost:8080/"
        },
        "id": "9jfAJds4Gpmz",
        "outputId": "933d9f6a-afc3-4002-a871-84b3426a6899"
      },
      "source": [
        "# Printing config file\n",
        "ConfigFile_path = \"/content/ASOS_project_haoyang/RASA_asos/ayo-faq/configs/config-DIET.yml\"\n",
        "ConfigFile = open(ConfigFile_path, \"r\")\n",
        "print(ConfigFile.read())"
      ],
      "execution_count": 5,
      "outputs": [
        {
          "output_type": "stream",
          "text": [
            "# https://rasa.com/docs/rasa/tuning-your-model/\n",
            "# Does NOT use pre-trained word embeddings: CountVectorsFeaturizer trains only on given training data\n",
            "\n",
            "language: en\n",
            "pipeline:\n",
            "#   - name: WhitespaceTokenizer\n",
            "#   - name: CountVectorsFeaturizer\n",
            "#   - name: CountVectorsFeaturizer\n",
            "#     analyzer: char_wb\n",
            "#     min_ngram: 1\n",
            "#     max_ngram: 4\n",
            "#   - name: DIETClassifier\n",
            "#     epochs: 100\n",
            "  - name: WhitespaceTokenizer\n",
            "  - name: RegexFeaturizer\n",
            "  - name: LexicalSyntacticFeaturizer\n",
            "  - name: CountVectorsFeaturizer\n",
            "  - name: CountVectorsFeaturizer\n",
            "    analyzer: char_wb\n",
            "    min_ngram: 1\n",
            "    max_ngram: 4\n",
            "  - name: DIETClassifier\n",
            "    epochs: 100\n",
            "    # constrain_similarities: True\n",
            "    # model_confidence: linear_norm\n",
            "  - name: EntitySynonymMapper\n",
            "  - name: ResponseSelector\n",
            "    epochs: 100\n",
            "    retrieval_intent: faq   # Added\n",
            "    # constrain_similarities: True\n",
            "    # model_confidence: linear_norm\n",
            "  # - name: FallbackClassifier\n",
            "  #   threshold: 0.3\n",
            "  #   ambiguity_threshold: 0.1\n"
          ],
          "name": "stdout"
        }
      ]
    },
    {
      "cell_type": "code",
      "metadata": {
        "id": "szemEM9FXiqD"
      },
      "source": [
        "for i in range(1,6):\n",
        "# input original data for comparsion\n",
        "  !rasa train nlu --nlu /content/ASOS_project_haoyang/output_result_by_haoyang/data/original_data_5fold/{i}cv_original_train.yml --config /content/ASOS_project_haoyang/RASA_asos/ayo-faq/configs/config-DIET.yml --out models --fixed-model-name /content/enter_location_you_like/gpt3models/{i}cv_p1_0\n",
        "\n",
        " \n",
        " \n",
        "# input gpt3_augmented_data\n",
        " \n",
        "for j in range(1,6):\n",
        "  for i in range(1,11):\n",
        "\n",
        "    # !rasa train nlu --nlu /content/drive/MyDrive/hf_asos/ayo-faq/rasa-faq/data/cl/{j}cv_{i}.yml --config /content/drive/MyDrive/hf_asos/ayo-faq/configs/config-DIET.yml --out models --fixed-model-name /content/drive/MyDrive/hf_asos/ayo-faq/models/{j}cl_p1_{i}\n",
        "      \n",
        "    !rasa train nlu --nlu /content/ASOS_project_haoyang/output_result_by_haoyang/data/gpt3_augmented_data/{j}cv_{i}augumented_fixed.yml --config /content/ASOS_project_haoyang/RASA_asos/ayo-faq/configs/config-DIET.yml --out models --fixed-model-name /content/enter_location_you_like/gpt3models/{j}cv_p1_{i}\n",
        "\n",
        "\n"
      ],
      "execution_count": null,
      "outputs": []
    },
    {
      "cell_type": "markdown",
      "metadata": {
        "id": "8Fw1mAzlQFBu"
      },
      "source": [
        "\n",
        "## AD - Pipeline 2: Using DIET with pre-trained word embeddings (ConveRTFeaturizer)\n",
        "\n"
      ]
    },
    {
      "cell_type": "code",
      "metadata": {
        "id": "GFBxyt-xQNOT",
        "colab": {
          "base_uri": "https://localhost:8080/"
        },
        "outputId": "5c6360e7-bd48-42b9-c5bd-ddf3818f7047"
      },
      "source": [
        "# Printing config file\n",
        "ConfigFile_path = \"/content/ASOS_project_haoyang/RASA_asos/ayo-faq/configs/config-DIET-PreTrained.yml\"\n",
        "ConfigFile = open(ConfigFile_path, \"r\")\n",
        "print(ConfigFile.read())  "
      ],
      "execution_count": 1,
      "outputs": [
        {
          "output_type": "stream",
          "text": [
            "# https://rasa.com/docs/rasa/tuning-your-model/\n",
            "# DOES use pre-trained word embeddings: ConveRT model is trained on English corpus of conversations\n",
            "\n",
            "language: en\n",
            "pipeline:\n",
            "  - name: WhitespaceTokenizer\n",
            "  - name: ConveRTFeaturizer # contains pre-trained word embeddings\n",
            "    model_url: https://github.com/connorbrinton/polyai-models/releases/download/v1.0/model.tar.gz\n",
            "  - name: CountVectorsFeaturizer\n",
            "    analyzer: char_wb\n",
            "    min_ngram: 1\n",
            "    max_ngram: 4\n",
            "  - name: DIETClassifier\n",
            "    epochs: 100\n",
            "    # constrain_similarities: True\n",
            "    # model_confidence: linear_norm\n",
            "  - name: EntitySynonymMapper\n",
            "  - name: ResponseSelector\n",
            "    epochs: 100\n",
            "    retrieval_intent: faq   # Added\n",
            "    # constrain_similarities: True\n",
            "    # model_confidence: linear_norm\n",
            "  # - name: FallbackClassifier\n",
            "  #   threshold: 0.3\n",
            "  #   ambiguity_threshold: 0.1\n"
          ],
          "name": "stdout"
        }
      ]
    },
    {
      "cell_type": "code",
      "metadata": {
        "colab": {
          "base_uri": "https://localhost:8080/"
        },
        "id": "7PJrJQtgZHz7",
        "outputId": "a9be8e49-13a1-4463-9874-0d4953d84ce9"
      },
      "source": [
        "\n",
        "\n",
        "\n",
        "for i in range(1,6):\n",
        "# input original data for comparsion\n",
        "  !rasa train nlu --nlu /content/ASOS_project_haoyang/output_result_by_haoyang/data/original_data_5fold/{i}cv_original_train.yml --config /content/ASOS_project_haoyang/RASA_asos/ayo-faq/configs/config-DIET-PreTrained.yml --out models --fixed-model-name /content/enter_location_you_like/gpt3models/{i}cv_p2_0\n",
        "\n",
        " \n",
        " \n",
        "# input gpt3_augmented_data\n",
        " \n",
        "for j in range(1,6):\n",
        "  for i in range(1,11):\n",
        "\n",
        "    # !rasa train nlu --nlu /content/drive/MyDrive/hf_asos/ayo-faq/rasa-faq/data/cl/{j}cv_{i}.yml --config /content/drive/MyDrive/hf_asos/ayo-faq/configs/config-DIET.yml --out models --fixed-model-name /content/drive/MyDrive/hf_asos/ayo-faq/models/{j}cl_p1_{i}\n",
        "      \n",
        "    !rasa train nlu --nlu /content/ASOS_project_haoyang/output_result_by_haoyang/data/gpt3_augmented_data/{j}cv_{i}augumented_fixed.yml --config /content/ASOS_project_haoyang/RASA_asos/ayo-faq/configs/config-DIET-PreTrained.yml --out models --fixed-model-name /content/enter_location_you_like/gpt3models/{j}cv_p2_{i}\n",
        "\n",
        "\n",
        "\n",
        "\n",
        "\n",
        "\n",
        "\n"
      ],
      "execution_count": null,
      "outputs": [
        {
          "output_type": "stream",
          "text": [
            "2021-08-25 17:34:42.675729: I tensorflow/stream_executor/platform/default/dso_loader.cc:48] Successfully opened dynamic library libcuda.so.1\n",
            "2021-08-25 17:34:42.702986: I tensorflow/stream_executor/cuda/cuda_gpu_executor.cc:982] successful NUMA node read from SysFS had negative value (-1), but there must be at least one NUMA node, so returning NUMA node zero\n",
            "2021-08-25 17:34:42.703570: I tensorflow/core/common_runtime/gpu/gpu_device.cc:1716] Found device 0 with properties: \n",
            "pciBusID: 0000:00:04.0 name: Tesla T4 computeCapability: 7.5\n",
            "coreClock: 1.59GHz coreCount: 40 deviceMemorySize: 14.75GiB deviceMemoryBandwidth: 298.08GiB/s\n",
            "2021-08-25 17:34:42.703615: I tensorflow/stream_executor/platform/default/dso_loader.cc:48] Successfully opened dynamic library libcudart.so.10.1\n",
            "2021-08-25 17:34:42.705382: I tensorflow/stream_executor/platform/default/dso_loader.cc:48] Successfully opened dynamic library libcublas.so.10\n",
            "2021-08-25 17:34:42.707029: I tensorflow/stream_executor/platform/default/dso_loader.cc:48] Successfully opened dynamic library libcufft.so.10\n",
            "2021-08-25 17:34:42.707357: I tensorflow/stream_executor/platform/default/dso_loader.cc:48] Successfully opened dynamic library libcurand.so.10\n",
            "2021-08-25 17:34:42.709238: I tensorflow/stream_executor/platform/default/dso_loader.cc:48] Successfully opened dynamic library libcusolver.so.10\n",
            "2021-08-25 17:34:42.710353: I tensorflow/stream_executor/platform/default/dso_loader.cc:48] Successfully opened dynamic library libcusparse.so.10\n",
            "2021-08-25 17:34:42.713841: I tensorflow/stream_executor/platform/default/dso_loader.cc:48] Successfully opened dynamic library libcudnn.so.7\n",
            "2021-08-25 17:34:42.713963: I tensorflow/stream_executor/cuda/cuda_gpu_executor.cc:982] successful NUMA node read from SysFS had negative value (-1), but there must be at least one NUMA node, so returning NUMA node zero\n",
            "2021-08-25 17:34:42.714553: I tensorflow/stream_executor/cuda/cuda_gpu_executor.cc:982] successful NUMA node read from SysFS had negative value (-1), but there must be at least one NUMA node, so returning NUMA node zero\n",
            "2021-08-25 17:34:42.715076: I tensorflow/core/common_runtime/gpu/gpu_device.cc:1858] Adding visible gpu devices: 0\n",
            "\u001b[94mTraining NLU model...\u001b[0m\n",
            "2021-08-25 17:34:43 \u001b[1;30mINFO    \u001b[0m \u001b[34mabsl\u001b[0m  - Using /tmp/tfhub_modules to cache modules.\n",
            "2021-08-25 17:34:44.151586: I tensorflow/core/platform/cpu_feature_guard.cc:142] This TensorFlow binary is optimized with oneAPI Deep Neural Network Library (oneDNN)to use the following CPU instructions in performance-critical operations:  AVX2 AVX512F FMA\n",
            "To enable them in other operations, rebuild TensorFlow with the appropriate compiler flags.\n",
            "2021-08-25 17:34:44.156248: I tensorflow/core/platform/profile_utils/cpu_utils.cc:104] CPU Frequency: 2000140000 Hz\n",
            "2021-08-25 17:34:44.156437: I tensorflow/compiler/xla/service/service.cc:168] XLA service 0x55f0d16e9b80 initialized for platform Host (this does not guarantee that XLA will be used). Devices:\n",
            "2021-08-25 17:34:44.156468: I tensorflow/compiler/xla/service/service.cc:176]   StreamExecutor device (0): Host, Default Version\n",
            "2021-08-25 17:34:44.253345: I tensorflow/stream_executor/cuda/cuda_gpu_executor.cc:982] successful NUMA node read from SysFS had negative value (-1), but there must be at least one NUMA node, so returning NUMA node zero\n",
            "2021-08-25 17:34:44.254117: I tensorflow/compiler/xla/service/service.cc:168] XLA service 0x55f0d16e99c0 initialized for platform CUDA (this does not guarantee that XLA will be used). Devices:\n",
            "2021-08-25 17:34:44.254151: I tensorflow/compiler/xla/service/service.cc:176]   StreamExecutor device (0): Tesla T4, Compute Capability 7.5\n",
            "2021-08-25 17:34:44.254331: I tensorflow/stream_executor/cuda/cuda_gpu_executor.cc:982] successful NUMA node read from SysFS had negative value (-1), but there must be at least one NUMA node, so returning NUMA node zero\n",
            "2021-08-25 17:34:44.254858: I tensorflow/core/common_runtime/gpu/gpu_device.cc:1716] Found device 0 with properties: \n",
            "pciBusID: 0000:00:04.0 name: Tesla T4 computeCapability: 7.5\n",
            "coreClock: 1.59GHz coreCount: 40 deviceMemorySize: 14.75GiB deviceMemoryBandwidth: 298.08GiB/s\n",
            "2021-08-25 17:34:44.254908: I tensorflow/stream_executor/platform/default/dso_loader.cc:48] Successfully opened dynamic library libcudart.so.10.1\n",
            "2021-08-25 17:34:44.254946: I tensorflow/stream_executor/platform/default/dso_loader.cc:48] Successfully opened dynamic library libcublas.so.10\n",
            "2021-08-25 17:34:44.254968: I tensorflow/stream_executor/platform/default/dso_loader.cc:48] Successfully opened dynamic library libcufft.so.10\n",
            "2021-08-25 17:34:44.254989: I tensorflow/stream_executor/platform/default/dso_loader.cc:48] Successfully opened dynamic library libcurand.so.10\n",
            "2021-08-25 17:34:44.255033: I tensorflow/stream_executor/platform/default/dso_loader.cc:48] Successfully opened dynamic library libcusolver.so.10\n",
            "2021-08-25 17:34:44.255056: I tensorflow/stream_executor/platform/default/dso_loader.cc:48] Successfully opened dynamic library libcusparse.so.10\n",
            "2021-08-25 17:34:44.255077: I tensorflow/stream_executor/platform/default/dso_loader.cc:48] Successfully opened dynamic library libcudnn.so.7\n",
            "2021-08-25 17:34:44.255156: I tensorflow/stream_executor/cuda/cuda_gpu_executor.cc:982] successful NUMA node read from SysFS had negative value (-1), but there must be at least one NUMA node, so returning NUMA node zero\n",
            "2021-08-25 17:34:44.255704: I tensorflow/stream_executor/cuda/cuda_gpu_executor.cc:982] successful NUMA node read from SysFS had negative value (-1), but there must be at least one NUMA node, so returning NUMA node zero\n",
            "2021-08-25 17:34:44.256212: I tensorflow/core/common_runtime/gpu/gpu_device.cc:1858] Adding visible gpu devices: 0\n",
            "2021-08-25 17:34:44.256270: I tensorflow/stream_executor/platform/default/dso_loader.cc:48] Successfully opened dynamic library libcudart.so.10.1\n",
            "2021-08-25 17:34:44.742658: I tensorflow/core/common_runtime/gpu/gpu_device.cc:1257] Device interconnect StreamExecutor with strength 1 edge matrix:\n",
            "2021-08-25 17:34:44.742715: I tensorflow/core/common_runtime/gpu/gpu_device.cc:1263]      0 \n",
            "2021-08-25 17:34:44.742729: I tensorflow/core/common_runtime/gpu/gpu_device.cc:1276] 0:   N \n",
            "2021-08-25 17:34:44.742939: I tensorflow/stream_executor/cuda/cuda_gpu_executor.cc:982] successful NUMA node read from SysFS had negative value (-1), but there must be at least one NUMA node, so returning NUMA node zero\n",
            "2021-08-25 17:34:44.743594: I tensorflow/stream_executor/cuda/cuda_gpu_executor.cc:982] successful NUMA node read from SysFS had negative value (-1), but there must be at least one NUMA node, so returning NUMA node zero\n",
            "2021-08-25 17:34:44.744102: W tensorflow/core/common_runtime/gpu/gpu_bfc_allocator.cc:39] Overriding allow_growth setting because the TF_FORCE_GPU_ALLOW_GROWTH environment variable is set. Original config value was 0.\n",
            "2021-08-25 17:34:44.744142: I tensorflow/core/common_runtime/gpu/gpu_device.cc:1402] Created TensorFlow device (/job:localhost/replica:0/task:0/device:GPU:0 with 13970 MB memory) -> physical GPU (device: 0, name: Tesla T4, pci bus id: 0000:00:04.0, compute capability: 7.5)\n"
          ],
          "name": "stdout"
        }
      ]
    },
    {
      "cell_type": "markdown",
      "metadata": {
        "id": "xE9dLMd_QriU"
      },
      "source": [
        "## AD - Pipeline 3: Using pre-trained BERT language model (Bert tokenizer/featurizer + DIETClassifier)"
      ]
    },
    {
      "cell_type": "code",
      "metadata": {
        "id": "Nx3cJc6iQyov",
        "colab": {
          "base_uri": "https://localhost:8080/"
        },
        "outputId": "99133846-2ab8-4d57-cdf9-40f31e292ba3"
      },
      "source": [
        "# Printing config file\n",
        "ConfigFile_path = \"/content/ASOS_project_haoyang/RASA_asos/ayo-faq/configs/config-BERT.yml\"\n",
        "ConfigFile = open(ConfigFile_path, \"r\")\n",
        "print(ConfigFile.read()) "
      ],
      "execution_count": 28,
      "outputs": [
        {
          "output_type": "stream",
          "text": [
            "# https://rasa.com/docs/rasa/tuning-your-model/\n",
            "# Uses pre-trained BERT language model (not fine-tuned)\n",
            "language: en\n",
            "pipeline:\n",
            "  - name: LanguageModelTokenizer\n",
            "  - name: LanguageModelFeaturizer\n",
            "    # Name of the language model to use\n",
            "    model_name: \"bert\"\n",
            "    # Pre-Trained weights to be loaded\n",
            "    model_weights: \"rasa/LaBSE\"\n",
            "\n",
            "    # An optional path to a specific directory to download and cache the pre-trained model weights.\n",
            "    # The `default` cache_dir is the same as https://huggingface.co/transformers/serialization.html#cache-directory .\n",
            "    cache_dir: null\n",
            "  - name: DIETClassifier\n",
            "    epochs: 100\n",
            "    # constrain_similarities: True\n",
            "    # model_confidence: linear_norm\n",
            "  - name: EntitySynonymMapper\n",
            "  - name: ResponseSelector\n",
            "    epochs: 100\n",
            "    retrieval_intent: faq   # Added\n",
            "    # constrain_similarities: True\n",
            "    # model_confidence: linear_norm\n",
            "  # - name: FallbackClassifier\n",
            "  #   threshold: 0.3\n",
            "  #   ambiguity_threshold: 0.1\n",
            "\n",
            "# language: en\n",
            "# pipeline:\n",
            "# - name: HFTransformersNLP\n",
            "# model_weights: \"bert-base-uncased\"\n",
            "# model_name: \"bert\"\n",
            "# - name: LanguageModelTokenizer\n",
            "# - name: LanguageModelFeaturizer\n",
            "# - name: DIETClassifier\n",
            "# epochs: 100\n",
            "\n"
          ],
          "name": "stdout"
        }
      ]
    },
    {
      "cell_type": "code",
      "metadata": {
        "colab": {
          "base_uri": "https://localhost:8080/"
        },
        "id": "4GizKz1a7zYf",
        "outputId": "be2f1813-55cd-447d-fb97-72457de446de"
      },
      "source": [
        "!pip install transformers"
      ],
      "execution_count": 29,
      "outputs": [
        {
          "output_type": "stream",
          "text": [
            "Requirement already satisfied: transformers in /usr/local/lib/python3.7/dist-packages (4.9.2)\n",
            "Requirement already satisfied: huggingface-hub==0.0.12 in /usr/local/lib/python3.7/dist-packages (from transformers) (0.0.12)\n",
            "Requirement already satisfied: regex!=2019.12.17 in /usr/local/lib/python3.7/dist-packages (from transformers) (2020.9.27)\n",
            "Requirement already satisfied: tqdm>=4.27 in /usr/local/lib/python3.7/dist-packages (from transformers) (4.50.2)\n",
            "Requirement already satisfied: requests in /usr/local/lib/python3.7/dist-packages (from transformers) (2.25.1)\n",
            "Requirement already satisfied: sacremoses in /usr/local/lib/python3.7/dist-packages (from transformers) (0.0.45)\n",
            "Requirement already satisfied: filelock in /usr/local/lib/python3.7/dist-packages (from transformers) (3.0.12)\n",
            "Requirement already satisfied: numpy>=1.17 in /usr/local/lib/python3.7/dist-packages (from transformers) (1.19.5)\n",
            "Requirement already satisfied: tokenizers<0.11,>=0.10.1 in /usr/local/lib/python3.7/dist-packages (from transformers) (0.10.3)\n",
            "Requirement already satisfied: pyyaml>=5.1 in /usr/local/lib/python3.7/dist-packages (from transformers) (5.4.1)\n",
            "Requirement already satisfied: importlib-metadata in /usr/local/lib/python3.7/dist-packages (from transformers) (4.6.4)\n",
            "Requirement already satisfied: packaging in /usr/local/lib/python3.7/dist-packages (from transformers) (20.9)\n",
            "Requirement already satisfied: typing-extensions in /usr/local/lib/python3.7/dist-packages (from huggingface-hub==0.0.12->transformers) (3.7.4.3)\n",
            "Requirement already satisfied: pyparsing>=2.0.2 in /usr/local/lib/python3.7/dist-packages (from packaging->transformers) (2.4.7)\n",
            "Requirement already satisfied: zipp>=0.5 in /usr/local/lib/python3.7/dist-packages (from importlib-metadata->transformers) (3.5.0)\n",
            "Requirement already satisfied: certifi>=2017.4.17 in /usr/local/lib/python3.7/dist-packages (from requests->transformers) (2021.5.30)\n",
            "Requirement already satisfied: urllib3<1.27,>=1.21.1 in /usr/local/lib/python3.7/dist-packages (from requests->transformers) (1.26.6)\n",
            "Requirement already satisfied: chardet<5,>=3.0.2 in /usr/local/lib/python3.7/dist-packages (from requests->transformers) (3.0.4)\n",
            "Requirement already satisfied: idna<3,>=2.5 in /usr/local/lib/python3.7/dist-packages (from requests->transformers) (2.10)\n",
            "Requirement already satisfied: click in /usr/local/lib/python3.7/dist-packages (from sacremoses->transformers) (7.1.2)\n",
            "Requirement already satisfied: joblib in /usr/local/lib/python3.7/dist-packages (from sacremoses->transformers) (0.15.1)\n",
            "Requirement already satisfied: six in /usr/local/lib/python3.7/dist-packages (from sacremoses->transformers) (1.15.0)\n"
          ],
          "name": "stdout"
        }
      ]
    },
    {
      "cell_type": "code",
      "metadata": {
        "id": "U6OhTWWFs7VH"
      },
      "source": [
        "!pip install numpy==1.19.5"
      ],
      "execution_count": null,
      "outputs": []
    },
    {
      "cell_type": "code",
      "metadata": {
        "id": "5lVb8HoQZJlS"
      },
      "source": [
        "\n",
        "\n",
        "for i in range(1,6):\n",
        "# input original data for comparsion\n",
        "  !rasa train nlu --nlu /content/ASOS_project_haoyang/output_result_by_haoyang/data/original_data_5fold/{i}cv_original_train.yml --config /content/ASOS_project_haoyang/RASA_asos/ayo-faq/configs/config-BERT.yml --out models --fixed-model-name /content/enter_location_you_like/gpt3models/{i}cv_p3_0\n",
        "\n",
        " \n",
        " \n",
        "# input gpt3_augmented_data\n",
        " \n",
        "for j in range(1,6):\n",
        "  for i in range(1,11):\n",
        "\n",
        "    # !rasa train nlu --nlu /content/drive/MyDrive/hf_asos/ayo-faq/rasa-faq/data/cl/{j}cv_{i}.yml --config /content/drive/MyDrive/hf_asos/ayo-faq/configs/config-DIET.yml --out models --fixed-model-name /content/drive/MyDrive/hf_asos/ayo-faq/models/{j}cl_p1_{i}\n",
        "      \n",
        "    !rasa train nlu --nlu /content/ASOS_project_haoyang/output_result_by_haoyang/data/gpt3_augmented_data/{j}cv_{i}augumented_fixed.yml --config /content/ASOS_project_haoyang/RASA_asos/ayo-faq/configs/config-BERT.yml --out models --fixed-model-name /content/enter_location_you_like/gpt3models/{j}cv_p3_{i}\n",
        "\n",
        "\n",
        "\n",
        "\n"
      ],
      "execution_count": null,
      "outputs": []
    },
    {
      "cell_type": "markdown",
      "metadata": {
        "id": "tg9sUAy4Z5o6"
      },
      "source": [
        "# RASA test"
      ]
    },
    {
      "cell_type": "markdown",
      "metadata": {
        "id": "KWHIAboUSHEB"
      },
      "source": [
        "\n",
        "\n",
        "\n",
        "## test for T5 models"
      ]
    },
    {
      "cell_type": "code",
      "metadata": {
        "id": "JW6kHAfLSHEB"
      },
      "source": [
        "for pipe in range(1,4):\n",
        "  for j in range(1,6):\n",
        "    for i in range(0,11):\n",
        "      !rasa test nlu --model /content/enter_location_you_like/T5models/{j}cv_p{pipe}_{i}.tar.gz --nlu /content/ASOS_project_haoyang/output_result_by_haoyang/data/original_data_5fold/{j}cv_original_test.yml --out /content/enter_location_you_like/T5_score/cv{j}_T5_p{pipe}_{i}"
      ],
      "execution_count": null,
      "outputs": []
    },
    {
      "cell_type": "markdown",
      "metadata": {
        "id": "SZvtIF9BR_tn"
      },
      "source": [
        "## test for GPT3 models"
      ]
    },
    {
      "cell_type": "code",
      "metadata": {
        "id": "zGHN4rrZsXom"
      },
      "source": [
        "for pipe in range(1,4):\n",
        "  for j in range(1,6):\n",
        "    for i in range(0,11):\n",
        "      !rasa test nlu --model /content/enter_location_you_like/gpt3models/{j}cv_p{pipe}_{i}.tar.gz --nlu /content/ASOS_project_haoyang/output_result_by_haoyang/data/original_data_5fold/{j}cv_original_test.yml --out /content/enter_location_you_like/gpt3_score/cv{j}_gpt_p{pipe}_{i}"
      ],
      "execution_count": null,
      "outputs": []
    },
    {
      "cell_type": "markdown",
      "metadata": {
        "id": "xtBYNzE66yuf"
      },
      "source": [
        "# Result Plot\n",
        "\n",
        "**need to run in order**"
      ]
    },
    {
      "cell_type": "markdown",
      "metadata": {
        "id": "G38NnpZ-DoqF"
      },
      "source": [
        "## Evaluate T5 augmenation "
      ]
    },
    {
      "cell_type": "markdown",
      "metadata": {
        "id": "G05eNYbYgtvA"
      },
      "source": [
        "You can train and test models yourself based on the scripts above,but it might take a quite long time. So here I provided some test results I generated in advance. "
      ]
    },
    {
      "cell_type": "code",
      "metadata": {
        "id": "ZwhsYLecXu_V"
      },
      "source": [
        "import json\n",
        "import numpy as np\n"
      ],
      "execution_count": 19,
      "outputs": []
    },
    {
      "cell_type": "code",
      "metadata": {
        "id": "C-yyZV8MXu_V"
      },
      "source": [
        "accuracy_p1=[]\n",
        "accuracy_p2=[]\n",
        "accuracy_p3=[]\n",
        "precision_p1=[]\n",
        "precision_p2=[]\n",
        "precision_p3=[]\n",
        "f1_p1=[]\n",
        "f1_p2=[]\n",
        "f1_p3=[]\n",
        "recall_p1=[]\n",
        "recall_p2=[]\n",
        "recall_p3=[]\n",
        "\n",
        "for cv in range(1,6):\n",
        "  accuracy=[]\n",
        "  precision=[]\n",
        "  recall=[]\n",
        "  f1=[]\n",
        "\n",
        "  for i in range(1,4):\n",
        "    for j in range(0,11):\n",
        "# or you can insert your rasa test results by changing the path, here I am using my rasa test results\n",
        "      with open('/content/ASOS_project_haoyang/rasa_test_output_for_T5/cv{}_fixedp{}_{}/intent_report.json'.format(cv,i,j)) as f:\n",
        "\n",
        "        data = json.load(f)\n",
        "        accuracy.append(data['accuracy'])\n",
        "        precision.append(data['macro avg']['precision'])\n",
        "        recall.append(data['macro avg']['recall'])\n",
        "        f1.append(data['macro avg']['f1-score'])\n",
        "  # append 1*5, get avg\n",
        "\n",
        "  accuracy_p1.append(accuracy[0:11])\n",
        "  accuracy_p2.append(accuracy[11:22])\n",
        "  accuracy_p3.append(accuracy[22:])\n",
        "  precision_p1.append(precision[0:11])\n",
        "  precision_p2.append(precision[11:22])\n",
        "  precision_p3.append(precision[22:])\n",
        "  f1_p1.append(f1[0:11])\n",
        "  f1_p2.append(f1[11:22])\n",
        "  f1_p3.append(f1[22:])\n",
        "  recall_p1.append(recall[0:11])\n",
        "  recall_p2.append(recall[11:22])\n",
        "  recall_p3.append(recall[22:])\n",
        "\n"
      ],
      "execution_count": 20,
      "outputs": []
    },
    {
      "cell_type": "code",
      "metadata": {
        "id": "_qAe94zMXu_V"
      },
      "source": [
        ""
      ],
      "execution_count": 20,
      "outputs": []
    },
    {
      "cell_type": "code",
      "metadata": {
        "id": "VP4FkZmCXu_V"
      },
      "source": [
        "# variance for accuracy \n",
        "\n",
        "accuracy_std1=np.std(np.array(accuracy_p1),axis=0)\n",
        "accuracy_std2=np.std(np.array(accuracy_p2),axis=0)\n",
        "accuracy_std3=np.std(np.array(accuracy_p3),axis=0)\n"
      ],
      "execution_count": 21,
      "outputs": []
    },
    {
      "cell_type": "code",
      "metadata": {
        "id": "hry9L1WIXu_W"
      },
      "source": [
        "accuracy_p1=np.sum(np.array(accuracy_p1),axis=0)/5\n",
        "accuracy_p2=np.sum(np.array(accuracy_p2),axis=0)/5\n",
        "accuracy_p3=np.sum(np.array(accuracy_p3),axis=0)/5\n",
        "precision_p1=np.sum(np.array(precision_p1),axis=0)/5\n",
        "precision_p2=np.sum(np.array(precision_p2),axis=0)/5\n",
        "precision_p3=np.sum(np.array(precision_p3),axis=0)/5\n",
        "f1_p1=np.sum(np.array(f1_p1),axis=0)/5\n",
        "f1_p2=np.sum(np.array(f1_p2),axis=0)/5\n",
        "f1_p3=np.sum(np.array(f1_p3),axis=0)/5\n",
        "recall_p1=np.sum(np.array(recall_p1),axis=0)/5\n",
        "recall_p2=np.sum(np.array(recall_p2),axis=0)/5\n",
        "recall_p3=np.sum(np.array(recall_p3),axis=0)/5"
      ],
      "execution_count": 22,
      "outputs": []
    },
    {
      "cell_type": "code",
      "metadata": {
        "id": "-dsbY8A1Xu_X"
      },
      "source": [
        "def save(name):\n",
        "  from google.colab import files\n",
        "\n",
        "   \n",
        "  plt.savefig(name)\n",
        "  files.download(name)"
      ],
      "execution_count": 23,
      "outputs": []
    },
    {
      "cell_type": "markdown",
      "metadata": {
        "id": "-1PMI5mCXu_X"
      },
      "source": [
        "Test result"
      ]
    },
    {
      "cell_type": "code",
      "metadata": {
        "colab": {
          "base_uri": "https://localhost:8080/",
          "height": 296
        },
        "id": "ufthHDxtXu_X",
        "outputId": "ed3b0244-314f-4488-da5b-59f3bfaccd45"
      },
      "source": [
        "import matplotlib.pyplot as plt\n",
        "import numpy as np\n",
        "x=np.arange(0,11)\n",
        "\n",
        "\n",
        "plt.plot(x,accuracy_p1,marker='s')\n",
        "plt.plot(x,f1_p1)\n",
        "plt.plot(x,precision_p1)\n",
        "plt.plot(x,recall_p1)\n",
        "\n",
        "\n",
        "# plt.plot(x,f1_p1)\n",
        "# plt.plot(x,recall_p1)\n",
        "# plt.plot(x,precision_p1)\n",
        "plt.legend([\"accuracy\",\"f1\",\"precision\",\"recall\"],loc='lower right')\n",
        "plt.ylabel('value')\n",
        "plt.xlabel('T5 augmented sentences in Pipeline 1')\n",
        "# save('CV_pipe1.png')"
      ],
      "execution_count": 24,
      "outputs": [
        {
          "output_type": "execute_result",
          "data": {
            "text/plain": [
              "Text(0.5, 0, 'T5 augmented sentences in Pipeline 1')"
            ]
          },
          "metadata": {},
          "execution_count": 24
        },
        {
          "output_type": "display_data",
          "data": {
            "image/png": "[encoded data removed]",
            "text/plain": [
              "<Figure size 432x288 with 1 Axes>"
            ]
          },
          "metadata": {
            "needs_background": "light"
          }
        }
      ]
    },
    {
      "cell_type": "code",
      "metadata": {
        "colab": {
          "base_uri": "https://localhost:8080/",
          "height": 296
        },
        "id": "C9VlGzGUXu_Y",
        "outputId": "d31d5a9f-a2d8-48b8-e5a1-0d42b3b8aafb"
      },
      "source": [
        "plt.plot(x,accuracy_p2,marker='s')\n",
        "plt.plot(x,f1_p2)\n",
        "plt.plot(x,precision_p2)\n",
        "plt.plot(x,recall_p2)\n",
        "\n",
        "\n",
        "\n",
        "plt.legend([\"accuracy\",\"f1\",\"precision\",\"recall\"],loc='lower right')\n",
        "plt.ylabel('value')\n",
        "plt.xlabel('T5 augmented sentences in Pipeline 2')\n",
        "# save('CV_pipe2.png')"
      ],
      "execution_count": 25,
      "outputs": [
        {
          "output_type": "execute_result",
          "data": {
            "text/plain": [
              "Text(0.5, 0, 'T5 augmented sentences in Pipeline 2')"
            ]
          },
          "metadata": {},
          "execution_count": 25
        },
        {
          "output_type": "display_data",
          "data": {
            "image/png": "[encoded data removed]",
            "text/plain": [
              "<Figure size 432x288 with 1 Axes>"
            ]
          },
          "metadata": {
            "needs_background": "light"
          }
        }
      ]
    },
    {
      "cell_type": "code",
      "metadata": {
        "colab": {
          "base_uri": "https://localhost:8080/",
          "height": 296
        },
        "id": "gfASYVOYXu_Y",
        "outputId": "6c11dec6-a548-4683-840f-25be8ba47f5f"
      },
      "source": [
        "plt.plot(x,accuracy_p3,marker='s')\n",
        "plt.plot(x,f1_p3)\n",
        "plt.plot(x,precision_p3)\n",
        "plt.plot(x,recall_p3)\n",
        "\n",
        "\n",
        "\n",
        "plt.legend([\"accuracy\",\"f1\",\"precision\",\"recall\"],loc='lower right')\n",
        "plt.ylabel('value')\n",
        "plt.xlabel('T5 augmented sentences in Pipeline 3')\n",
        "# save('CV_pipe3.png')"
      ],
      "execution_count": 26,
      "outputs": [
        {
          "output_type": "execute_result",
          "data": {
            "text/plain": [
              "Text(0.5, 0, 'T5 augmented sentences in Pipeline 3')"
            ]
          },
          "metadata": {},
          "execution_count": 26
        },
        {
          "output_type": "display_data",
          "data": {
            "image/png": "[encoded data removed]",
            "text/plain": [
              "<Figure size 432x288 with 1 Axes>"
            ]
          },
          "metadata": {
            "needs_background": "light"
          }
        }
      ]
    },
    {
      "cell_type": "code",
      "metadata": {
        "colab": {
          "base_uri": "https://localhost:8080/",
          "height": 296
        },
        "id": "qljSppeGXu_Y",
        "outputId": "922296e2-85b1-4095-f2ec-093610e18ca4"
      },
      "source": [
        "# Noraml T5 data\n",
        "\n",
        "\n",
        "import matplotlib.pyplot as plt\n",
        "import numpy as np\n",
        "x=np.arange(0,11)\n",
        "error=[accuracy_std1,accuracy_std2,accuracy_std3]\n",
        "# plt.errorbar(xval, yval, xerr = 0.4, yerr = 0.5)\n",
        "plt.errorbar(x,accuracy_p1,yerr=accuracy_std1,marker='s')\n",
        "plt.errorbar(x,accuracy_p2,yerr=accuracy_std2,marker='s')\n",
        "plt.errorbar(x,accuracy_p3,yerr=accuracy_std3,marker='s')\n",
        "# plt.plot(x,f1_p1)\n",
        "# plt.plot(x,recall_p1)\n",
        "# plt.plot(x,precision_p1)\n",
        "plt.legend([\"pipeline1\",\"pipeline2\",\"pipeline3\"],loc='lower right')\n",
        "plt.ylabel('accuracy')\n",
        "plt.xlabel('T5 augmented sentences')\n",
        "\n"
      ],
      "execution_count": 27,
      "outputs": [
        {
          "output_type": "execute_result",
          "data": {
            "text/plain": [
              "Text(0.5, 0, 'T5 augmented sentences')"
            ]
          },
          "metadata": {},
          "execution_count": 27
        },
        {
          "output_type": "display_data",
          "data": {
            "image/png": "[encoded data removed]",
            "text/plain": [
              "<Figure size 432x288 with 1 Axes>"
            ]
          },
          "metadata": {
            "needs_background": "light"
          }
        }
      ]
    },
    {
      "cell_type": "code",
      "metadata": {
        "id": "If0w44poaCWW"
      },
      "source": [
        "t5_cv1=accuracy_p1\n",
        "t5_cv2=accuracy_p2\n",
        "t5_cv3=accuracy_p3\n",
        "\n",
        "t5_cs1=accuracy_std1\n",
        "t5_cs2=accuracy_std2\n",
        "t5_cs3=accuracy_std3 \n"
      ],
      "execution_count": 28,
      "outputs": []
    },
    {
      "cell_type": "markdown",
      "metadata": {
        "id": "w_v-YZP4XbHn"
      },
      "source": [
        "## Evaluate GPT3 augmenation "
      ]
    },
    {
      "cell_type": "code",
      "metadata": {
        "id": "U_6eRIacUw2q"
      },
      "source": [
        "import json\n",
        "import numpy as np\n"
      ],
      "execution_count": 9,
      "outputs": []
    },
    {
      "cell_type": "code",
      "metadata": {
        "id": "ANfq-iSPWZMT"
      },
      "source": [
        "accuracy_p1=[]\n",
        "accuracy_p2=[]\n",
        "accuracy_p3=[]\n",
        "precision_p1=[]\n",
        "precision_p2=[]\n",
        "precision_p3=[]\n",
        "f1_p1=[]\n",
        "f1_p2=[]\n",
        "f1_p3=[]\n",
        "recall_p1=[]\n",
        "recall_p2=[]\n",
        "recall_p3=[]\n",
        "\n",
        "for cv in range(1,6):\n",
        "  accuracy=[]\n",
        "  precision=[]\n",
        "  recall=[]\n",
        "  f1=[]\n",
        "\n",
        "  for i in range(1,4):\n",
        "    for j in range(0,11):\n",
        "# or you can insert your rasa test results by changing the path, here I am using my rasa test results\n",
        "      with open('/content/ASOS_project_haoyang/gpt3_score/cv{}_gpt_p{}_{}/intent_report.json'.format(cv,i,j)) as f:\n",
        "      # with open('/content/drive/MyDrive/hf_asos/ayo-faq/evaluation_score/cv{}_bertcp{}_{}/intent_report.json'.format(cv,i,j)) as f:\n",
        "      # with open('/content/drive/MyDrive/hf_asos/ayo-faq/evaluation_score/cv{}_ucp{}_{}/intent_report.json'.format(cv,i,j)) as f:\n",
        "        data = json.load(f)\n",
        "        accuracy.append(data['accuracy'])\n",
        "        precision.append(data['macro avg']['precision'])\n",
        "        recall.append(data['macro avg']['recall'])\n",
        "        f1.append(data['macro avg']['f1-score'])\n",
        "  # append 1*5, get avg\n",
        "\n",
        "  accuracy_p1.append(accuracy[0:11])\n",
        "  accuracy_p2.append(accuracy[11:22])\n",
        "  accuracy_p3.append(accuracy[22:])\n",
        "  precision_p1.append(precision[0:11])\n",
        "  precision_p2.append(precision[11:22])\n",
        "  precision_p3.append(precision[22:])\n",
        "  f1_p1.append(f1[0:11])\n",
        "  f1_p2.append(f1[11:22])\n",
        "  f1_p3.append(f1[22:])\n",
        "  recall_p1.append(recall[0:11])\n",
        "  recall_p2.append(recall[11:22])\n",
        "  recall_p3.append(recall[22:])\n",
        "\n"
      ],
      "execution_count": 10,
      "outputs": []
    },
    {
      "cell_type": "code",
      "metadata": {
        "id": "0HAHl6-2b350"
      },
      "source": [
        ""
      ],
      "execution_count": 10,
      "outputs": []
    },
    {
      "cell_type": "code",
      "metadata": {
        "id": "iUxypVdYusrC"
      },
      "source": [
        "# variance for accuracy \n",
        "\n",
        "accuracy_std1=np.std(np.array(accuracy_p1),axis=0)\n",
        "accuracy_std2=np.std(np.array(accuracy_p2),axis=0)\n",
        "accuracy_std3=np.std(np.array(accuracy_p3),axis=0)\n"
      ],
      "execution_count": 11,
      "outputs": []
    },
    {
      "cell_type": "code",
      "metadata": {
        "id": "PAH-giHab67F"
      },
      "source": [
        "accuracy_p1=np.sum(np.array(accuracy_p1),axis=0)/5\n",
        "accuracy_p2=np.sum(np.array(accuracy_p2),axis=0)/5\n",
        "accuracy_p3=np.sum(np.array(accuracy_p3),axis=0)/5\n",
        "precision_p1=np.sum(np.array(precision_p1),axis=0)/5\n",
        "precision_p2=np.sum(np.array(precision_p2),axis=0)/5\n",
        "precision_p3=np.sum(np.array(precision_p3),axis=0)/5\n",
        "f1_p1=np.sum(np.array(f1_p1),axis=0)/5\n",
        "f1_p2=np.sum(np.array(f1_p2),axis=0)/5\n",
        "f1_p3=np.sum(np.array(f1_p3),axis=0)/5\n",
        "recall_p1=np.sum(np.array(recall_p1),axis=0)/5\n",
        "recall_p2=np.sum(np.array(recall_p2),axis=0)/5\n",
        "recall_p3=np.sum(np.array(recall_p3),axis=0)/5"
      ],
      "execution_count": 12,
      "outputs": []
    },
    {
      "cell_type": "code",
      "metadata": {
        "id": "m1AWqYdvdtR5"
      },
      "source": [
        "# accuracy_o1=accuracy_p1[0]\n",
        "# accuracy_o2=accuracy_p2[0]\n",
        "# accuracy_o3=accuracy_p3[0]\n",
        "# precision_o1=precision_p1[0]\n",
        "# precision_o2=precision_p2[0]\n",
        "# precision_o3=precision_p3[0]\n",
        "# f1_o1\n",
        "# f1_o2\n",
        "# f1_o3 \n",
        "# recall_o1\n",
        "# recall_o2\n",
        "# recall_o3"
      ],
      "execution_count": 13,
      "outputs": []
    },
    {
      "cell_type": "code",
      "metadata": {
        "id": "ik0LhXS0_jH8"
      },
      "source": [
        "def save(name):\n",
        "  from google.colab import files\n",
        "\n",
        "   \n",
        "  plt.savefig(name)\n",
        "  files.download(name)"
      ],
      "execution_count": 14,
      "outputs": []
    },
    {
      "cell_type": "markdown",
      "metadata": {
        "id": "JpNUYVI7X__m"
      },
      "source": [
        "Test result"
      ]
    },
    {
      "cell_type": "code",
      "metadata": {
        "colab": {
          "base_uri": "https://localhost:8080/",
          "height": 296
        },
        "id": "LT-TJTNKDtyL",
        "outputId": "ef151e92-1c28-4510-a172-cb8e275c44b0"
      },
      "source": [
        "import matplotlib.pyplot as plt\n",
        "import numpy as np\n",
        "x=np.arange(0,11)\n",
        "\n",
        "\n",
        "plt.plot(x,accuracy_p1,marker='s')\n",
        "plt.plot(x,f1_p1)\n",
        "plt.plot(x,precision_p1)\n",
        "plt.plot(x,recall_p1)\n",
        "\n",
        "\n",
        "# plt.plot(x,f1_p1)\n",
        "# plt.plot(x,recall_p1)\n",
        "# plt.plot(x,precision_p1)\n",
        "plt.legend([\"accuracy\",\"f1\",\"precision\",\"recall\"],loc='lower right')\n",
        "plt.ylabel('value')\n",
        "plt.xlabel('T5 augmented sentences in Pipeline 1')\n",
        "# save('CV_pipe1.png')"
      ],
      "execution_count": 15,
      "outputs": [
        {
          "output_type": "execute_result",
          "data": {
            "text/plain": [
              "Text(0.5, 0, 'T5 augmented sentences in Pipeline 1')"
            ]
          },
          "metadata": {},
          "execution_count": 15
        },
        {
          "output_type": "display_data",
          "data": {
            "image/png": "[encoded data removed]",
            "text/plain": [
              "<Figure size 432x288 with 1 Axes>"
            ]
          },
          "metadata": {
            "needs_background": "light"
          }
        }
      ]
    },
    {
      "cell_type": "code",
      "metadata": {
        "colab": {
          "base_uri": "https://localhost:8080/",
          "height": 296
        },
        "id": "5Iim-Qz0Dt7w",
        "outputId": "1ce34eaa-56e9-46d0-8e1d-18e4e932eae1"
      },
      "source": [
        "plt.plot(x,accuracy_p2,marker='s')\n",
        "plt.plot(x,f1_p2)\n",
        "plt.plot(x,precision_p2)\n",
        "plt.plot(x,recall_p2)\n",
        "\n",
        "\n",
        "\n",
        "plt.legend([\"accuracy\",\"f1\",\"precision\",\"recall\"],loc='lower right')\n",
        "plt.ylabel('value')\n",
        "plt.xlabel('T5 augmented sentences in Pipeline 2')\n",
        "# save('CV_pipe2.png')"
      ],
      "execution_count": 16,
      "outputs": [
        {
          "output_type": "execute_result",
          "data": {
            "text/plain": [
              "Text(0.5, 0, 'T5 augmented sentences in Pipeline 2')"
            ]
          },
          "metadata": {},
          "execution_count": 16
        },
        {
          "output_type": "display_data",
          "data": {
            "image/png": "[encoded data removed]",
            "text/plain": [
              "<Figure size 432x288 with 1 Axes>"
            ]
          },
          "metadata": {
            "needs_background": "light"
          }
        }
      ]
    },
    {
      "cell_type": "code",
      "metadata": {
        "colab": {
          "base_uri": "https://localhost:8080/",
          "height": 297
        },
        "id": "UiAQa76sDt__",
        "outputId": "34cb69f7-cef7-4bb4-dc75-94d50fbc3bef"
      },
      "source": [
        "plt.plot(x,accuracy_p3,marker='s')\n",
        "plt.plot(x,f1_p3)\n",
        "plt.plot(x,precision_p3)\n",
        "plt.plot(x,recall_p3)\n",
        "\n",
        "\n",
        "\n",
        "plt.legend([\"accuracy\",\"f1\",\"precision\",\"recall\"],loc='lower right')\n",
        "plt.ylabel('value')\n",
        "plt.xlabel('T5 augmented sentences in Pipeline 3')\n",
        "# save('CV_pipe3.png')"
      ],
      "execution_count": 17,
      "outputs": [
        {
          "output_type": "execute_result",
          "data": {
            "text/plain": [
              "Text(0.5, 0, 'T5 augmented sentences in Pipeline 3')"
            ]
          },
          "metadata": {},
          "execution_count": 17
        },
        {
          "output_type": "display_data",
          "data": {
            "image/png": "[encoded data removed]",
            "text/plain": [
              "<Figure size 432x288 with 1 Axes>"
            ]
          },
          "metadata": {
            "needs_background": "light"
          }
        }
      ]
    },
    {
      "cell_type": "code",
      "metadata": {
        "colab": {
          "base_uri": "https://localhost:8080/",
          "height": 296
        },
        "id": "iFuVczhhXpYx",
        "outputId": "204328a7-cf19-40eb-c39d-7171dff3ec42"
      },
      "source": [
        "# Noraml GPT3 data\n",
        "\n",
        "\n",
        "import matplotlib.pyplot as plt\n",
        "import numpy as np\n",
        "x=np.arange(0,11)\n",
        "error=[accuracy_std1,accuracy_std2,accuracy_std3]\n",
        "# plt.errorbar(xval, yval, xerr = 0.4, yerr = 0.5)\n",
        "plt.errorbar(x,accuracy_p1,yerr=accuracy_std1,marker='s')\n",
        "plt.errorbar(x,accuracy_p2,yerr=accuracy_std2,marker='s')\n",
        "plt.errorbar(x,accuracy_p3,yerr=accuracy_std3,marker='s')\n",
        "# plt.plot(x,f1_p1)\n",
        "# plt.plot(x,recall_p1)\n",
        "# plt.plot(x,precision_p1)\n",
        "plt.legend([\"pipeline1\",\"pipeline2\",\"pipeline3\"],loc='lower right')\n",
        "plt.ylabel('accuracy')\n",
        "plt.xlabel('T5 augmented sentences')\n",
        "\n"
      ],
      "execution_count": 18,
      "outputs": [
        {
          "output_type": "execute_result",
          "data": {
            "text/plain": [
              "Text(0.5, 0, 'T5 augmented sentences')"
            ]
          },
          "metadata": {},
          "execution_count": 18
        },
        {
          "output_type": "display_data",
          "data": {
            "image/png": "[encoded data removed]",
            "text/plain": [
              "<Figure size 432x288 with 1 Axes>"
            ]
          },
          "metadata": {
            "needs_background": "light"
          }
        }
      ]
    },
    {
      "cell_type": "code",
      "metadata": {
        "id": "lKqcXJAcarLx"
      },
      "source": [
        ""
      ],
      "execution_count": null,
      "outputs": []
    },
    {
      "cell_type": "markdown",
      "metadata": {
        "id": "PMchEJlBasDO"
      },
      "source": [
        "## Visualize confident learning performance in T5 "
      ]
    },
    {
      "cell_type": "markdown",
      "metadata": {
        "id": "rk_xqO7BasDO"
      },
      "source": [
        "read confidnet learning results for T5"
      ]
    },
    {
      "cell_type": "code",
      "metadata": {
        "id": "9uDNrQTlasDP"
      },
      "source": [
        "accuracy_p1=[]\n",
        "accuracy_p2=[]\n",
        "accuracy_p3=[]\n",
        "precision_p1=[]\n",
        "precision_p2=[]\n",
        "precision_p3=[]\n",
        "f1_p1=[]\n",
        "f1_p2=[]\n",
        "f1_p3=[]\n",
        "recall_p1=[]\n",
        "recall_p2=[]\n",
        "recall_p3=[]\n",
        "\n",
        "for cv in range(1,6):\n",
        "  accuracy=[]\n",
        "  precision=[]\n",
        "  recall=[]\n",
        "  f1=[]\n",
        "\n",
        "  for i in range(1,4):\n",
        "    for j in range(1,11):\n",
        "# or you can insert your rasa test results by changing the path, here I am using my rasa test results\n",
        "      with open('/content/ASOS_project_haoyang/T5_CL_hand_score/cv{}_cl_p{}_{}/intent_report.json'.format(cv,i,j)) as f:\n",
        "      # with open('/content/drive/MyDrive/hf_asos/ayo-faq/evaluation_score/cv{}_bertcp{}_{}/intent_report.json'.format(cv,i,j)) as f:\n",
        "      # with open('/content/drive/MyDrive/hf_asos/ayo-faq/evaluation_score/cv{}_ucp{}_{}/intent_report.json'.format(cv,i,j)) as f:\n",
        "        data = json.load(f)\n",
        "        accuracy.append(data['accuracy'])\n",
        "        precision.append(data['macro avg']['precision'])\n",
        "        recall.append(data['macro avg']['recall'])\n",
        "        f1.append(data['macro avg']['f1-score'])\n",
        "  # append 1*5, get avg\n",
        "\n",
        "  accuracy_p1.append(accuracy[0:10])\n",
        "  accuracy_p2.append(accuracy[10:20])\n",
        "  accuracy_p3.append(accuracy[20:])\n",
        "  precision_p1.append(precision[0:10])\n",
        "  precision_p2.append(precision[10:20])\n",
        "  precision_p3.append(precision[20:])\n",
        "  f1_p1.append(f1[0:10])\n",
        "  f1_p2.append(f1[10:20])\n",
        "  f1_p3.append(f1[20:])\n",
        "  recall_p1.append(recall[0:10])\n",
        "  recall_p2.append(recall[10:20])\n",
        "  recall_p3.append(recall[20:])\n",
        "\n"
      ],
      "execution_count": 72,
      "outputs": []
    },
    {
      "cell_type": "code",
      "metadata": {
        "id": "B8EarsHiasDP"
      },
      "source": [
        "# variance for accuracy \n",
        "\n",
        "accuracy_std1=np.std(np.array(accuracy_p1),axis=0)\n",
        "accuracy_std2=np.std(np.array(accuracy_p2),axis=0)\n",
        "accuracy_std3=np.std(np.array(accuracy_p3),axis=0)\n"
      ],
      "execution_count": 73,
      "outputs": []
    },
    {
      "cell_type": "code",
      "metadata": {
        "id": "QBx5CkLjasDP"
      },
      "source": [
        "accuracy_p1=np.sum(np.array(accuracy_p1),axis=0)/5\n",
        "accuracy_p2=np.sum(np.array(accuracy_p2),axis=0)/5\n",
        "accuracy_p3=np.sum(np.array(accuracy_p3),axis=0)/5\n",
        "precision_p1=np.sum(np.array(precision_p1),axis=0)/5\n",
        "precision_p2=np.sum(np.array(precision_p2),axis=0)/5\n",
        "precision_p3=np.sum(np.array(precision_p3),axis=0)/5\n",
        "f1_p1=np.sum(np.array(f1_p1),axis=0)/5\n",
        "f1_p2=np.sum(np.array(f1_p2),axis=0)/5\n",
        "f1_p3=np.sum(np.array(f1_p3),axis=0)/5\n",
        "recall_p1=np.sum(np.array(recall_p1),axis=0)/5\n",
        "recall_p2=np.sum(np.array(recall_p2),axis=0)/5\n",
        "recall_p3=np.sum(np.array(recall_p3),axis=0)/5"
      ],
      "execution_count": 74,
      "outputs": []
    },
    {
      "cell_type": "code",
      "metadata": {
        "id": "pJFMRZfMlLea"
      },
      "source": [
        "accuracy_p1 = np.insert(accuracy_p1, 0, t5_cv1[0], axis=0)\n",
        "accuracy_p2 = np.insert(accuracy_p2, 0, t5_cv2[0], axis=0)\n",
        "accuracy_p3 = np.insert(accuracy_p3, 0, t5_cv3[0], axis=0)\n",
        "accuracy_std1 = np.insert(accuracy_std1, 0, t5_cs1[0], axis=0)\n",
        "accuracy_std2 = np.insert(accuracy_std2, 0, t5_cs2[0], axis=0)\n",
        "accuracy_std3 = np.insert(accuracy_std3, 0, t5_cs3[0], axis=0)\n",
        "\n",
        "\n"
      ],
      "execution_count": 75,
      "outputs": []
    },
    {
      "cell_type": "code",
      "metadata": {
        "colab": {
          "base_uri": "https://localhost:8080/",
          "height": 279
        },
        "id": "Kiwse9GtasDP",
        "outputId": "c48d618a-2748-4fbc-9592-7ad90e30a870"
      },
      "source": [
        "# Noraml T5 data\n",
        "\n",
        "\n",
        "import matplotlib.pyplot as plt\n",
        "import numpy as np\n",
        "x=np.arange(0,11)\n",
        "\n",
        "error=[accuracy_std1,t5_cs1]\n",
        "# plt.errorbar(xval, yval, xerr = 0.4, yerr = 0.5)\n",
        "plt.errorbar(x,accuracy_p1,yerr=accuracy_std1,marker='s')\n",
        "plt.errorbar(x,t5_cv1,yerr=t5_cs1,marker='s')\n",
        "\n",
        "\n",
        "plt.legend([\"T5 & MLP Confident learning\",\"T5\"],loc='lower right')\n",
        "plt.ylabel('accuracy')\n",
        "plt.xlabel('The T5 augmented sentences')\n",
        "\n",
        "save('hand_CL_vs_T5_p1.png')"
      ],
      "execution_count": 77,
      "outputs": [
        {
          "output_type": "display_data",
          "data": {
            "application/javascript": [
              "\n",
              "    async function download(id, filename, size) {\n",
              "      if (!google.colab.kernel.accessAllowed) {\n",
              "        return;\n",
              "      }\n",
              "      const div = document.createElement('div');\n",
              "      const label = document.createElement('label');\n",
              "      label.textContent = `Downloading \"${filename}\": `;\n",
              "      div.appendChild(label);\n",
              "      const progress = document.createElement('progress');\n",
              "      progress.max = size;\n",
              "      div.appendChild(progress);\n",
              "      document.body.appendChild(div);\n",
              "\n",
              "      const buffers = [];\n",
              "      let downloaded = 0;\n",
              "\n",
              "      const channel = await google.colab.kernel.comms.open(id);\n",
              "      // Send a message to notify the kernel that we're ready.\n",
              "      channel.send({})\n",
              "\n",
              "      for await (const message of channel.messages) {\n",
              "        // Send a message to notify the kernel that we're ready.\n",
              "        channel.send({})\n",
              "        if (message.buffers) {\n",
              "          for (const buffer of message.buffers) {\n",
              "            buffers.push(buffer);\n",
              "            downloaded += buffer.byteLength;\n",
              "            progress.value = downloaded;\n",
              "          }\n",
              "        }\n",
              "      }\n",
              "      const blob = new Blob(buffers, {type: 'application/binary'});\n",
              "      const a = document.createElement('a');\n",
              "      a.href = window.URL.createObjectURL(blob);\n",
              "      a.download = filename;\n",
              "      div.appendChild(a);\n",
              "      a.click();\n",
              "      div.remove();\n",
              "    }\n",
              "  "
            ],
            "text/plain": [
              "<IPython.core.display.Javascript object>"
            ]
          },
          "metadata": {}
        },
        {
          "output_type": "display_data",
          "data": {
            "application/javascript": [
              "download(\"download_cd305293-f0d6-4698-943d-7b4aa74c8ed9\", \"hand_CL_vs_T5_p1.png\", 20834)"
            ],
            "text/plain": [
              "<IPython.core.display.Javascript object>"
            ]
          },
          "metadata": {}
        },
        {
          "output_type": "display_data",
          "data": {
            "image/png": "[encoded data removed]",
            "text/plain": [
              "<Figure size 432x288 with 1 Axes>"
            ]
          },
          "metadata": {
            "needs_background": "light"
          }
        }
      ]
    },
    {
      "cell_type": "code",
      "metadata": {
        "colab": {
          "base_uri": "https://localhost:8080/",
          "height": 279
        },
        "id": "so2wqUZ-asDP",
        "outputId": "95e38f9f-229a-45c8-a5a7-36bee5a10578"
      },
      "source": [
        "# Noraml T5 data\n",
        "\n",
        "\n",
        "import matplotlib.pyplot as plt\n",
        "import numpy as np\n",
        "x=np.arange(0,11)\n",
        "\n",
        "error=[accuracy_std1,t5_cs1]\n",
        "# plt.errorbar(xval, yval, xerr = 0.4, yerr = 0.5)\n",
        "plt.errorbar(x,accuracy_p2,yerr=accuracy_std2,marker='s')\n",
        "plt.errorbar(x,t5_cv2,yerr=t5_cs2,marker='s')\n",
        "\n",
        "\n",
        "plt.legend([\"T5 & MLP Confident learning\",\"T5\"],loc='lower right')\n",
        "plt.ylabel('accuracy')\n",
        "plt.xlabel('The T5 augmented sentences')\n",
        "\n",
        "save('hand_CL_vs_T5_p2.png')"
      ],
      "execution_count": 79,
      "outputs": [
        {
          "output_type": "display_data",
          "data": {
            "application/javascript": [
              "\n",
              "    async function download(id, filename, size) {\n",
              "      if (!google.colab.kernel.accessAllowed) {\n",
              "        return;\n",
              "      }\n",
              "      const div = document.createElement('div');\n",
              "      const label = document.createElement('label');\n",
              "      label.textContent = `Downloading \"${filename}\": `;\n",
              "      div.appendChild(label);\n",
              "      const progress = document.createElement('progress');\n",
              "      progress.max = size;\n",
              "      div.appendChild(progress);\n",
              "      document.body.appendChild(div);\n",
              "\n",
              "      const buffers = [];\n",
              "      let downloaded = 0;\n",
              "\n",
              "      const channel = await google.colab.kernel.comms.open(id);\n",
              "      // Send a message to notify the kernel that we're ready.\n",
              "      channel.send({})\n",
              "\n",
              "      for await (const message of channel.messages) {\n",
              "        // Send a message to notify the kernel that we're ready.\n",
              "        channel.send({})\n",
              "        if (message.buffers) {\n",
              "          for (const buffer of message.buffers) {\n",
              "            buffers.push(buffer);\n",
              "            downloaded += buffer.byteLength;\n",
              "            progress.value = downloaded;\n",
              "          }\n",
              "        }\n",
              "      }\n",
              "      const blob = new Blob(buffers, {type: 'application/binary'});\n",
              "      const a = document.createElement('a');\n",
              "      a.href = window.URL.createObjectURL(blob);\n",
              "      a.download = filename;\n",
              "      div.appendChild(a);\n",
              "      a.click();\n",
              "      div.remove();\n",
              "    }\n",
              "  "
            ],
            "text/plain": [
              "<IPython.core.display.Javascript object>"
            ]
          },
          "metadata": {}
        },
        {
          "output_type": "display_data",
          "data": {
            "application/javascript": [
              "download(\"download_c197012f-e822-43cb-84de-f1b394a6948a\", \"hand_CL_vs_T5_p2.png\", 20629)"
            ],
            "text/plain": [
              "<IPython.core.display.Javascript object>"
            ]
          },
          "metadata": {}
        },
        {
          "output_type": "display_data",
          "data": {
            "image/png": "[encoded data removed]",
            "text/plain": [
              "<Figure size 432x288 with 1 Axes>"
            ]
          },
          "metadata": {
            "needs_background": "light"
          }
        }
      ]
    },
    {
      "cell_type": "code",
      "metadata": {
        "colab": {
          "base_uri": "https://localhost:8080/",
          "height": 279
        },
        "id": "GH_D7RWeasDP",
        "outputId": "d0877014-e3df-4184-dffb-3d7488bafda7"
      },
      "source": [
        "import matplotlib.pyplot as plt\n",
        "import numpy as np\n",
        "x=np.arange(0,11)\n",
        "\n",
        "error=[accuracy_std1,t5_cs1]\n",
        "# plt.errorbar(xval, yval, xerr = 0.4, yerr = 0.5)\n",
        "plt.errorbar(x,accuracy_p3,yerr=accuracy_std3,marker='s')\n",
        "plt.errorbar(x,t5_cv3,yerr=t5_cs3,marker='s')\n",
        "\n",
        "\n",
        "plt.legend([\"T5 & MLP Confident learning\",\"T5\"],loc='lower right')\n",
        "plt.ylabel('accuracy')\n",
        "plt.xlabel('The T5 augmented sentences')\n",
        "\n",
        "save('hand_CL_vs_T5_p3.png')"
      ],
      "execution_count": 80,
      "outputs": [
        {
          "output_type": "display_data",
          "data": {
            "application/javascript": [
              "\n",
              "    async function download(id, filename, size) {\n",
              "      if (!google.colab.kernel.accessAllowed) {\n",
              "        return;\n",
              "      }\n",
              "      const div = document.createElement('div');\n",
              "      const label = document.createElement('label');\n",
              "      label.textContent = `Downloading \"${filename}\": `;\n",
              "      div.appendChild(label);\n",
              "      const progress = document.createElement('progress');\n",
              "      progress.max = size;\n",
              "      div.appendChild(progress);\n",
              "      document.body.appendChild(div);\n",
              "\n",
              "      const buffers = [];\n",
              "      let downloaded = 0;\n",
              "\n",
              "      const channel = await google.colab.kernel.comms.open(id);\n",
              "      // Send a message to notify the kernel that we're ready.\n",
              "      channel.send({})\n",
              "\n",
              "      for await (const message of channel.messages) {\n",
              "        // Send a message to notify the kernel that we're ready.\n",
              "        channel.send({})\n",
              "        if (message.buffers) {\n",
              "          for (const buffer of message.buffers) {\n",
              "            buffers.push(buffer);\n",
              "            downloaded += buffer.byteLength;\n",
              "            progress.value = downloaded;\n",
              "          }\n",
              "        }\n",
              "      }\n",
              "      const blob = new Blob(buffers, {type: 'application/binary'});\n",
              "      const a = document.createElement('a');\n",
              "      a.href = window.URL.createObjectURL(blob);\n",
              "      a.download = filename;\n",
              "      div.appendChild(a);\n",
              "      a.click();\n",
              "      div.remove();\n",
              "    }\n",
              "  "
            ],
            "text/plain": [
              "<IPython.core.display.Javascript object>"
            ]
          },
          "metadata": {}
        },
        {
          "output_type": "display_data",
          "data": {
            "application/javascript": [
              "download(\"download_d1701fab-600d-46de-860a-e1a41239bce3\", \"hand_CL_vs_T5_p3.png\", 19443)"
            ],
            "text/plain": [
              "<IPython.core.display.Javascript object>"
            ]
          },
          "metadata": {}
        },
        {
          "output_type": "display_data",
          "data": {
            "image/png": "[encoded data removed]",
            "text/plain": [
              "<Figure size 432x288 with 1 Axes>"
            ]
          },
          "metadata": {
            "needs_background": "light"
          }
        }
      ]
    },
    {
      "cell_type": "markdown",
      "metadata": {
        "id": "jYvSY0q2ziVa"
      },
      "source": [
        "## Visualize confident learning performance in GPT3 "
      ]
    },
    {
      "cell_type": "code",
      "metadata": {
        "id": "_Oalushj54kp"
      },
      "source": [
        "cv1=accuracy_p1\n",
        "cv2=accuracy_p2\n",
        "cv3=accuracy_p3\n",
        "\n",
        "cs1=accuracy_std1\n",
        "cs2=accuracy_std2\n",
        "cs3=accuracy_std3 \n",
        "\n"
      ],
      "execution_count": 9,
      "outputs": []
    },
    {
      "cell_type": "markdown",
      "metadata": {
        "id": "1r6QTCiU2rSn"
      },
      "source": [
        "read confidnet learning results"
      ]
    },
    {
      "cell_type": "code",
      "metadata": {
        "id": "LV2ISFu4zv3I"
      },
      "source": [
        "accuracy_p1=[]\n",
        "accuracy_p2=[]\n",
        "accuracy_p3=[]\n",
        "precision_p1=[]\n",
        "precision_p2=[]\n",
        "precision_p3=[]\n",
        "f1_p1=[]\n",
        "f1_p2=[]\n",
        "f1_p3=[]\n",
        "recall_p1=[]\n",
        "recall_p2=[]\n",
        "recall_p3=[]\n",
        "\n",
        "for cv in range(1,6):\n",
        "  accuracy=[]\n",
        "  precision=[]\n",
        "  recall=[]\n",
        "  f1=[]\n",
        "\n",
        "  for i in range(1,4):\n",
        "    for j in range(0,11):\n",
        "# or you can insert your rasa test results by changing the path, here I am using my rasa test results\n",
        "      with open('/content/ASOS_project_haoyang/gpt3_score/cl{}_gpt_p{}_{}/intent_report.json'.format(cv,i,j)) as f:\n",
        "      # with open('/content/drive/MyDrive/hf_asos/ayo-faq/evaluation_score/cv{}_bertcp{}_{}/intent_report.json'.format(cv,i,j)) as f:\n",
        "      # with open('/content/drive/MyDrive/hf_asos/ayo-faq/evaluation_score/cv{}_ucp{}_{}/intent_report.json'.format(cv,i,j)) as f:\n",
        "        data = json.load(f)\n",
        "        accuracy.append(data['accuracy'])\n",
        "        precision.append(data['macro avg']['precision'])\n",
        "        recall.append(data['macro avg']['recall'])\n",
        "        f1.append(data['macro avg']['f1-score'])\n",
        "  # append 1*5, get avg\n",
        "\n",
        "  accuracy_p1.append(accuracy[0:11])\n",
        "  accuracy_p2.append(accuracy[11:22])\n",
        "  accuracy_p3.append(accuracy[22:])\n",
        "  precision_p1.append(precision[0:11])\n",
        "  precision_p2.append(precision[11:22])\n",
        "  precision_p3.append(precision[22:])\n",
        "  f1_p1.append(f1[0:11])\n",
        "  f1_p2.append(f1[11:22])\n",
        "  f1_p3.append(f1[22:])\n",
        "  recall_p1.append(recall[0:11])\n",
        "  recall_p2.append(recall[11:22])\n",
        "  recall_p3.append(recall[22:])\n",
        "\n"
      ],
      "execution_count": 10,
      "outputs": []
    },
    {
      "cell_type": "code",
      "metadata": {
        "id": "xhaFTLjnzv3J"
      },
      "source": [
        "# variance for accuracy \n",
        "\n",
        "accuracy_std1=np.std(np.array(accuracy_p1),axis=0)\n",
        "accuracy_std2=np.std(np.array(accuracy_p2),axis=0)\n",
        "accuracy_std3=np.std(np.array(accuracy_p3),axis=0)\n"
      ],
      "execution_count": 11,
      "outputs": []
    },
    {
      "cell_type": "code",
      "metadata": {
        "id": "iM56SGYhzv3J"
      },
      "source": [
        "accuracy_p1=np.sum(np.array(accuracy_p1),axis=0)/5\n",
        "accuracy_p2=np.sum(np.array(accuracy_p2),axis=0)/5\n",
        "accuracy_p3=np.sum(np.array(accuracy_p3),axis=0)/5\n",
        "precision_p1=np.sum(np.array(precision_p1),axis=0)/5\n",
        "precision_p2=np.sum(np.array(precision_p2),axis=0)/5\n",
        "precision_p3=np.sum(np.array(precision_p3),axis=0)/5\n",
        "f1_p1=np.sum(np.array(f1_p1),axis=0)/5\n",
        "f1_p2=np.sum(np.array(f1_p2),axis=0)/5\n",
        "f1_p3=np.sum(np.array(f1_p3),axis=0)/5\n",
        "recall_p1=np.sum(np.array(recall_p1),axis=0)/5\n",
        "recall_p2=np.sum(np.array(recall_p2),axis=0)/5\n",
        "recall_p3=np.sum(np.array(recall_p3),axis=0)/5"
      ],
      "execution_count": 12,
      "outputs": []
    },
    {
      "cell_type": "code",
      "metadata": {
        "id": "oLAJoTxf-YXs"
      },
      "source": [
        "accuracy_p1[0]=cv1[0]\n",
        "accuracy_p2[0]=cv2[0]\n",
        "accuracy_p3[0]=cv3[0]\n",
        "accuracy_std1[0]=cs1[0]\n",
        "\n",
        "accuracy_std2[0]=cs2[0]\n",
        "accuracy_std3[0]=cs3[0]\n"
      ],
      "execution_count": 13,
      "outputs": []
    },
    {
      "cell_type": "code",
      "metadata": {
        "colab": {
          "base_uri": "https://localhost:8080/",
          "height": 279
        },
        "id": "UAcRON1X79hP",
        "outputId": "e35c40a5-b97d-4ba7-e4fd-22b7eebcd094"
      },
      "source": [
        "# Noraml GPT3 data\n",
        "# compare clean lab with noraml\n",
        "\n",
        "import matplotlib.pyplot as plt\n",
        "import numpy as np\n",
        "x=np.arange(0,11)\n",
        "error=[accuracy_std1,cs1]\n",
        "# plt.errorbar(xval, yval, xerr = 0.4, yerr = 0.5)\n",
        "plt.errorbar(x,accuracy_p1,yerr=accuracy_std1,marker='s')\n",
        "plt.errorbar(x,cv1,yerr=cs1,marker='s')\n",
        "\n",
        "\n",
        "plt.legend([\"GPT3 & Confident learning\",\"GPT3 model\"],loc='lower right')\n",
        "plt.ylabel('accuracy')\n",
        "plt.xlabel('The GPT3 augmented sentences')\n",
        "\n",
        "save('CL_vs_GPT3_p1.png')"
      ],
      "execution_count": 17,
      "outputs": [
        {
          "output_type": "display_data",
          "data": {
            "application/javascript": [
              "\n",
              "    async function download(id, filename, size) {\n",
              "      if (!google.colab.kernel.accessAllowed) {\n",
              "        return;\n",
              "      }\n",
              "      const div = document.createElement('div');\n",
              "      const label = document.createElement('label');\n",
              "      label.textContent = `Downloading \"${filename}\": `;\n",
              "      div.appendChild(label);\n",
              "      const progress = document.createElement('progress');\n",
              "      progress.max = size;\n",
              "      div.appendChild(progress);\n",
              "      document.body.appendChild(div);\n",
              "\n",
              "      const buffers = [];\n",
              "      let downloaded = 0;\n",
              "\n",
              "      const channel = await google.colab.kernel.comms.open(id);\n",
              "      // Send a message to notify the kernel that we're ready.\n",
              "      channel.send({})\n",
              "\n",
              "      for await (const message of channel.messages) {\n",
              "        // Send a message to notify the kernel that we're ready.\n",
              "        channel.send({})\n",
              "        if (message.buffers) {\n",
              "          for (const buffer of message.buffers) {\n",
              "            buffers.push(buffer);\n",
              "            downloaded += buffer.byteLength;\n",
              "            progress.value = downloaded;\n",
              "          }\n",
              "        }\n",
              "      }\n",
              "      const blob = new Blob(buffers, {type: 'application/binary'});\n",
              "      const a = document.createElement('a');\n",
              "      a.href = window.URL.createObjectURL(blob);\n",
              "      a.download = filename;\n",
              "      div.appendChild(a);\n",
              "      a.click();\n",
              "      div.remove();\n",
              "    }\n",
              "  "
            ],
            "text/plain": [
              "<IPython.core.display.Javascript object>"
            ]
          },
          "metadata": {}
        },
        {
          "output_type": "display_data",
          "data": {
            "application/javascript": [
              "download(\"download_79410fe2-54bd-44a0-a614-a6630743d167\", \"CL_vs_GPT3_p1.png\", 18692)"
            ],
            "text/plain": [
              "<IPython.core.display.Javascript object>"
            ]
          },
          "metadata": {}
        },
        {
          "output_type": "display_data",
          "data": {
            "image/png": "[encoded data removed]",
            "text/plain": [
              "<Figure size 432x288 with 1 Axes>"
            ]
          },
          "metadata": {
            "needs_background": "light"
          }
        }
      ]
    },
    {
      "cell_type": "code",
      "metadata": {
        "colab": {
          "base_uri": "https://localhost:8080/",
          "height": 279
        },
        "id": "xhT4aeny9pQk",
        "outputId": "ccfe8d14-e647-40d1-fa5c-43f33cf317a5"
      },
      "source": [
        "# Noraml T5 data\n",
        "# compare clean lab with noraml\n",
        "\n",
        "import matplotlib.pyplot as plt\n",
        "import numpy as np\n",
        "x=np.arange(0,11)\n",
        "error=[accuracy_std2,cs2]\n",
        "# plt.errorbar(xval, yval, xerr = 0.4, yerr = 0.5)\n",
        "plt.errorbar(x,accuracy_p2,yerr=accuracy_std2,marker='s')\n",
        "plt.errorbar(x,cv2,yerr=cs2,marker='s')\n",
        "\n",
        "\n",
        "plt.legend([\"GPT3 & Confident learning\",\"GPT3 model\"],loc='lower right')\n",
        "plt.ylabel('accuracy')\n",
        "plt.xlabel('The GPT3 augmented sentences')\n",
        "\n",
        "save('CL_vs_GPT3_p2.png')"
      ],
      "execution_count": 18,
      "outputs": [
        {
          "output_type": "display_data",
          "data": {
            "application/javascript": [
              "\n",
              "    async function download(id, filename, size) {\n",
              "      if (!google.colab.kernel.accessAllowed) {\n",
              "        return;\n",
              "      }\n",
              "      const div = document.createElement('div');\n",
              "      const label = document.createElement('label');\n",
              "      label.textContent = `Downloading \"${filename}\": `;\n",
              "      div.appendChild(label);\n",
              "      const progress = document.createElement('progress');\n",
              "      progress.max = size;\n",
              "      div.appendChild(progress);\n",
              "      document.body.appendChild(div);\n",
              "\n",
              "      const buffers = [];\n",
              "      let downloaded = 0;\n",
              "\n",
              "      const channel = await google.colab.kernel.comms.open(id);\n",
              "      // Send a message to notify the kernel that we're ready.\n",
              "      channel.send({})\n",
              "\n",
              "      for await (const message of channel.messages) {\n",
              "        // Send a message to notify the kernel that we're ready.\n",
              "        channel.send({})\n",
              "        if (message.buffers) {\n",
              "          for (const buffer of message.buffers) {\n",
              "            buffers.push(buffer);\n",
              "            downloaded += buffer.byteLength;\n",
              "            progress.value = downloaded;\n",
              "          }\n",
              "        }\n",
              "      }\n",
              "      const blob = new Blob(buffers, {type: 'application/binary'});\n",
              "      const a = document.createElement('a');\n",
              "      a.href = window.URL.createObjectURL(blob);\n",
              "      a.download = filename;\n",
              "      div.appendChild(a);\n",
              "      a.click();\n",
              "      div.remove();\n",
              "    }\n",
              "  "
            ],
            "text/plain": [
              "<IPython.core.display.Javascript object>"
            ]
          },
          "metadata": {}
        },
        {
          "output_type": "display_data",
          "data": {
            "application/javascript": [
              "download(\"download_9f82ceac-5fda-4860-81f0-521cc8ad6180\", \"CL_vs_GPT3_p2.png\", 18686)"
            ],
            "text/plain": [
              "<IPython.core.display.Javascript object>"
            ]
          },
          "metadata": {}
        },
        {
          "output_type": "display_data",
          "data": {
            "image/png": "[encoded data removed]",
            "text/plain": [
              "<Figure size 432x288 with 1 Axes>"
            ]
          },
          "metadata": {
            "needs_background": "light"
          }
        }
      ]
    },
    {
      "cell_type": "code",
      "metadata": {
        "colab": {
          "base_uri": "https://localhost:8080/",
          "height": 279
        },
        "id": "Hym2xmwq_X-n",
        "outputId": "453133a0-658e-449c-8376-4fc7268465f0"
      },
      "source": [
        "import matplotlib.pyplot as plt\n",
        "import numpy as np\n",
        "x=np.arange(0,11)\n",
        "error=[accuracy_std3,cs3]\n",
        "# plt.errorbar(xval, yval, xerr = 0.4, yerr = 0.5)\n",
        "plt.errorbar(x,accuracy_p3,yerr=accuracy_std3,marker='s')\n",
        "plt.errorbar(x,cv3,yerr=cs3,marker='s')\n",
        "\n",
        "\n",
        "plt.legend([\"GPT3 & Confident learning\",\"GPT3 model\"],loc='lower right')\n",
        "plt.ylabel('accuracy')\n",
        "plt.xlabel('The GPT3 augmented sentences')\n",
        "\n",
        "save('CL_vs_GPT3_p3.png')"
      ],
      "execution_count": 19,
      "outputs": [
        {
          "output_type": "display_data",
          "data": {
            "application/javascript": [
              "\n",
              "    async function download(id, filename, size) {\n",
              "      if (!google.colab.kernel.accessAllowed) {\n",
              "        return;\n",
              "      }\n",
              "      const div = document.createElement('div');\n",
              "      const label = document.createElement('label');\n",
              "      label.textContent = `Downloading \"${filename}\": `;\n",
              "      div.appendChild(label);\n",
              "      const progress = document.createElement('progress');\n",
              "      progress.max = size;\n",
              "      div.appendChild(progress);\n",
              "      document.body.appendChild(div);\n",
              "\n",
              "      const buffers = [];\n",
              "      let downloaded = 0;\n",
              "\n",
              "      const channel = await google.colab.kernel.comms.open(id);\n",
              "      // Send a message to notify the kernel that we're ready.\n",
              "      channel.send({})\n",
              "\n",
              "      for await (const message of channel.messages) {\n",
              "        // Send a message to notify the kernel that we're ready.\n",
              "        channel.send({})\n",
              "        if (message.buffers) {\n",
              "          for (const buffer of message.buffers) {\n",
              "            buffers.push(buffer);\n",
              "            downloaded += buffer.byteLength;\n",
              "            progress.value = downloaded;\n",
              "          }\n",
              "        }\n",
              "      }\n",
              "      const blob = new Blob(buffers, {type: 'application/binary'});\n",
              "      const a = document.createElement('a');\n",
              "      a.href = window.URL.createObjectURL(blob);\n",
              "      a.download = filename;\n",
              "      div.appendChild(a);\n",
              "      a.click();\n",
              "      div.remove();\n",
              "    }\n",
              "  "
            ],
            "text/plain": [
              "<IPython.core.display.Javascript object>"
            ]
          },
          "metadata": {}
        },
        {
          "output_type": "display_data",
          "data": {
            "application/javascript": [
              "download(\"download_eecabc9e-bdd1-4279-8a98-c253e4183f8c\", \"CL_vs_GPT3_p3.png\", 18263)"
            ],
            "text/plain": [
              "<IPython.core.display.Javascript object>"
            ]
          },
          "metadata": {}
        },
        {
          "output_type": "display_data",
          "data": {
            "image/png": "[encoded data removed]",
            "text/plain": [
              "<Figure size 432x288 with 1 Axes>"
            ]
          },
          "metadata": {
            "needs_background": "light"
          }
        }
      ]
    },
    {
      "cell_type": "code",
      "metadata": {
        "id": "z3i5r9542EyQ"
      },
      "source": [
        ""
      ],
      "execution_count": null,
      "outputs": []
    },
    {
      "cell_type": "markdown",
      "metadata": {
        "id": "9CfFyUaE2FRy"
      },
      "source": [
        "## Evaluate the performance between gpt3 model and T5 model in data augmenation"
      ]
    },
    {
      "cell_type": "code",
      "metadata": {
        "id": "iuGUJqkj2kr5"
      },
      "source": [
        ""
      ],
      "execution_count": null,
      "outputs": []
    },
    {
      "cell_type": "markdown",
      "metadata": {
        "id": "d4_lX0jw7Uwk"
      },
      "source": [
        "Read T5 results"
      ]
    },
    {
      "cell_type": "code",
      "metadata": {
        "id": "n0d91VjH6Li2"
      },
      "source": [
        "accuracy_p1=[]\n",
        "accuracy_p2=[]\n",
        "accuracy_p3=[]\n",
        "precision_p1=[]\n",
        "precision_p2=[]\n",
        "precision_p3=[]\n",
        "f1_p1=[]\n",
        "f1_p2=[]\n",
        "f1_p3=[]\n",
        "recall_p1=[]\n",
        "recall_p2=[]\n",
        "recall_p3=[]\n",
        "\n",
        "for cv in range(1,6):\n",
        "  accuracy=[]\n",
        "  precision=[]\n",
        "  recall=[]\n",
        "  f1=[]\n",
        "\n",
        "  for i in range(1,4):\n",
        "    for j in range(0,11):\n",
        "# or you can insert your rasa test results by changing the path, here I am using my rasa test results\n",
        "      with open('/content/ASOS_project_haoyang/rasa_test_output_for_T5/cv{}_fixedp{}_{}/intent_report.json'.format(cv,i,j)) as f:\n",
        "    \n",
        "        data = json.load(f)\n",
        "        accuracy.append(data['accuracy'])\n",
        "        precision.append(data['macro avg']['precision'])\n",
        "        recall.append(data['macro avg']['recall'])\n",
        "        f1.append(data['macro avg']['f1-score'])\n",
        "  # append 1*5, get avg\n",
        "\n",
        "  accuracy_p1.append(accuracy[0:11])\n",
        "  accuracy_p2.append(accuracy[11:22])\n",
        "  accuracy_p3.append(accuracy[22:])\n",
        "  precision_p1.append(precision[0:11])\n",
        "  precision_p2.append(precision[11:22])\n",
        "  precision_p3.append(precision[22:])\n",
        "  f1_p1.append(f1[0:11])\n",
        "  f1_p2.append(f1[11:22])\n",
        "  f1_p3.append(f1[22:])\n",
        "  recall_p1.append(recall[0:11])\n",
        "  recall_p2.append(recall[11:22])\n",
        "  recall_p3.append(recall[22:])\n",
        "\n"
      ],
      "execution_count": 20,
      "outputs": []
    },
    {
      "cell_type": "code",
      "metadata": {
        "id": "A1ATboaC6Li-"
      },
      "source": [
        ""
      ],
      "execution_count": null,
      "outputs": []
    },
    {
      "cell_type": "code",
      "metadata": {
        "id": "LZXztQgS6Li-"
      },
      "source": [
        "# variance for accuracy \n",
        "\n",
        "accuracy_std1=np.std(np.array(accuracy_p1),axis=0)\n",
        "accuracy_std2=np.std(np.array(accuracy_p2),axis=0)\n",
        "accuracy_std3=np.std(np.array(accuracy_p3),axis=0)\n"
      ],
      "execution_count": 21,
      "outputs": []
    },
    {
      "cell_type": "code",
      "metadata": {
        "id": "95dBZF-96Li-"
      },
      "source": [
        "accuracy_p1=np.sum(np.array(accuracy_p1),axis=0)/5\n",
        "accuracy_p2=np.sum(np.array(accuracy_p2),axis=0)/5\n",
        "accuracy_p3=np.sum(np.array(accuracy_p3),axis=0)/5\n",
        "precision_p1=np.sum(np.array(precision_p1),axis=0)/5\n",
        "precision_p2=np.sum(np.array(precision_p2),axis=0)/5\n",
        "precision_p3=np.sum(np.array(precision_p3),axis=0)/5\n",
        "f1_p1=np.sum(np.array(f1_p1),axis=0)/5\n",
        "f1_p2=np.sum(np.array(f1_p2),axis=0)/5\n",
        "f1_p3=np.sum(np.array(f1_p3),axis=0)/5\n",
        "recall_p1=np.sum(np.array(recall_p1),axis=0)/5\n",
        "recall_p2=np.sum(np.array(recall_p2),axis=0)/5\n",
        "recall_p3=np.sum(np.array(recall_p3),axis=0)/5"
      ],
      "execution_count": 22,
      "outputs": []
    },
    {
      "cell_type": "code",
      "metadata": {
        "id": "SVIt8M0_787Q"
      },
      "source": [
        "accuracy_p1[0]=cv1[0]\n",
        "accuracy_p2[0]=cv2[0]\n",
        "accuracy_p3[0]=cv3[0]\n",
        "accuracy_std1[0]=cs1[0]\n",
        "\n",
        "accuracy_std2[0]=cs2[0]\n",
        "accuracy_std3[0]=cs3[0]"
      ],
      "execution_count": 24,
      "outputs": []
    },
    {
      "cell_type": "code",
      "metadata": {
        "id": "P03QZ-lt2lOP"
      },
      "source": [
        "# accuracy_p1 is T5 result"
      ],
      "execution_count": null,
      "outputs": []
    },
    {
      "cell_type": "code",
      "metadata": {
        "colab": {
          "base_uri": "https://localhost:8080/",
          "height": 279
        },
        "id": "K01x1gLU7JsS",
        "outputId": "4c8eeb1c-886c-4e2b-b878-6e7b843f01d2"
      },
      "source": [
        "# Noraml GPT3 data\n",
        "# compare clean lab with noraml\n",
        "\n",
        "import matplotlib.pyplot as plt\n",
        "import numpy as np\n",
        "x=np.arange(0,11)\n",
        "error=[accuracy_std1,cs1]\n",
        "# plt.errorbar(xval, yval, xerr = 0.4, yerr = 0.5)\n",
        "plt.errorbar(x,accuracy_p1,yerr=accuracy_std1,marker='s')\n",
        "plt.errorbar(x,cv1,yerr=cs1,marker='s')\n",
        "\n",
        "\n",
        "plt.legend([\"T5 model\",\"GPT3 model\"],loc='lower right')\n",
        "plt.ylabel('accuracy')\n",
        "plt.xlabel('The number of augmented sentences for one input sentence')\n",
        "\n",
        "save('T5_vs_GPT3_p1.png')"
      ],
      "execution_count": 25,
      "outputs": [
        {
          "output_type": "display_data",
          "data": {
            "application/javascript": [
              "\n",
              "    async function download(id, filename, size) {\n",
              "      if (!google.colab.kernel.accessAllowed) {\n",
              "        return;\n",
              "      }\n",
              "      const div = document.createElement('div');\n",
              "      const label = document.createElement('label');\n",
              "      label.textContent = `Downloading \"${filename}\": `;\n",
              "      div.appendChild(label);\n",
              "      const progress = document.createElement('progress');\n",
              "      progress.max = size;\n",
              "      div.appendChild(progress);\n",
              "      document.body.appendChild(div);\n",
              "\n",
              "      const buffers = [];\n",
              "      let downloaded = 0;\n",
              "\n",
              "      const channel = await google.colab.kernel.comms.open(id);\n",
              "      // Send a message to notify the kernel that we're ready.\n",
              "      channel.send({})\n",
              "\n",
              "      for await (const message of channel.messages) {\n",
              "        // Send a message to notify the kernel that we're ready.\n",
              "        channel.send({})\n",
              "        if (message.buffers) {\n",
              "          for (const buffer of message.buffers) {\n",
              "            buffers.push(buffer);\n",
              "            downloaded += buffer.byteLength;\n",
              "            progress.value = downloaded;\n",
              "          }\n",
              "        }\n",
              "      }\n",
              "      const blob = new Blob(buffers, {type: 'application/binary'});\n",
              "      const a = document.createElement('a');\n",
              "      a.href = window.URL.createObjectURL(blob);\n",
              "      a.download = filename;\n",
              "      div.appendChild(a);\n",
              "      a.click();\n",
              "      div.remove();\n",
              "    }\n",
              "  "
            ],
            "text/plain": [
              "<IPython.core.display.Javascript object>"
            ]
          },
          "metadata": {}
        },
        {
          "output_type": "display_data",
          "data": {
            "application/javascript": [
              "download(\"download_a9b096e1-e372-42fe-8c12-2735614f8de8\", \"T5_vs_GPT3_p1.png\", 17677)"
            ],
            "text/plain": [
              "<IPython.core.display.Javascript object>"
            ]
          },
          "metadata": {}
        },
        {
          "output_type": "display_data",
          "data": {
            "image/png": "[encoded data removed]",
            "text/plain": [
              "<Figure size 432x288 with 1 Axes>"
            ]
          },
          "metadata": {
            "needs_background": "light"
          }
        }
      ]
    },
    {
      "cell_type": "code",
      "metadata": {
        "colab": {
          "base_uri": "https://localhost:8080/",
          "height": 279
        },
        "id": "uYduNAvJ7Jsb",
        "outputId": "171ffb34-0b3f-4f39-adb1-4c6b9e90a3a7"
      },
      "source": [
        "# Noraml T5 data\n",
        "# compare clean lab with noraml\n",
        "\n",
        "import matplotlib.pyplot as plt\n",
        "import numpy as np\n",
        "x=np.arange(0,11)\n",
        "error=[accuracy_std2,cs2]\n",
        "# plt.errorbar(xval, yval, xerr = 0.4, yerr = 0.5)\n",
        "plt.errorbar(x,accuracy_p2,yerr=accuracy_std2,marker='s')\n",
        "plt.errorbar(x,cv2,yerr=cs2,marker='s')\n",
        "\n",
        "\n",
        "plt.legend([\"T5 model\",\"GPT3 model\"],loc='lower right')\n",
        "plt.ylabel('accuracy')\n",
        "plt.xlabel('The number of augmented sentences for one input sentence')\n",
        "\n",
        "save('T5_vs_GPT3_p2.png')"
      ],
      "execution_count": 26,
      "outputs": [
        {
          "output_type": "display_data",
          "data": {
            "application/javascript": [
              "\n",
              "    async function download(id, filename, size) {\n",
              "      if (!google.colab.kernel.accessAllowed) {\n",
              "        return;\n",
              "      }\n",
              "      const div = document.createElement('div');\n",
              "      const label = document.createElement('label');\n",
              "      label.textContent = `Downloading \"${filename}\": `;\n",
              "      div.appendChild(label);\n",
              "      const progress = document.createElement('progress');\n",
              "      progress.max = size;\n",
              "      div.appendChild(progress);\n",
              "      document.body.appendChild(div);\n",
              "\n",
              "      const buffers = [];\n",
              "      let downloaded = 0;\n",
              "\n",
              "      const channel = await google.colab.kernel.comms.open(id);\n",
              "      // Send a message to notify the kernel that we're ready.\n",
              "      channel.send({})\n",
              "\n",
              "      for await (const message of channel.messages) {\n",
              "        // Send a message to notify the kernel that we're ready.\n",
              "        channel.send({})\n",
              "        if (message.buffers) {\n",
              "          for (const buffer of message.buffers) {\n",
              "            buffers.push(buffer);\n",
              "            downloaded += buffer.byteLength;\n",
              "            progress.value = downloaded;\n",
              "          }\n",
              "        }\n",
              "      }\n",
              "      const blob = new Blob(buffers, {type: 'application/binary'});\n",
              "      const a = document.createElement('a');\n",
              "      a.href = window.URL.createObjectURL(blob);\n",
              "      a.download = filename;\n",
              "      div.appendChild(a);\n",
              "      a.click();\n",
              "      div.remove();\n",
              "    }\n",
              "  "
            ],
            "text/plain": [
              "<IPython.core.display.Javascript object>"
            ]
          },
          "metadata": {}
        },
        {
          "output_type": "display_data",
          "data": {
            "application/javascript": [
              "download(\"download_9b915d12-0d9f-4d13-813b-4461d4a94435\", \"T5_vs_GPT3_p2.png\", 20145)"
            ],
            "text/plain": [
              "<IPython.core.display.Javascript object>"
            ]
          },
          "metadata": {}
        },
        {
          "output_type": "display_data",
          "data": {
            "image/png": "[encoded data removed]",
            "text/plain": [
              "<Figure size 432x288 with 1 Axes>"
            ]
          },
          "metadata": {
            "needs_background": "light"
          }
        }
      ]
    },
    {
      "cell_type": "code",
      "metadata": {
        "colab": {
          "base_uri": "https://localhost:8080/",
          "height": 279
        },
        "id": "dhAthkBN7Jsc",
        "outputId": "0708b6e6-60bd-4f9e-bf17-32fb914ea80d"
      },
      "source": [
        "import matplotlib.pyplot as plt\n",
        "import numpy as np\n",
        "x=np.arange(0,11)\n",
        "error=[accuracy_std3,cs3]\n",
        "# plt.errorbar(xval, yval, xerr = 0.4, yerr = 0.5)\n",
        "plt.errorbar(x,accuracy_p3,yerr=accuracy_std3,marker='s')\n",
        "plt.errorbar(x,cv3,yerr=cs3,marker='s')\n",
        "\n",
        "\n",
        "plt.legend([\"T5 model\",\"GPT3 model\"],loc='lower right')\n",
        "plt.ylabel('accuracy')\n",
        "plt.xlabel('The number of augmented sentences for one input sentence')\n",
        "\n",
        "save('T5_vs_GPT3_p3.png')"
      ],
      "execution_count": 27,
      "outputs": [
        {
          "output_type": "display_data",
          "data": {
            "application/javascript": [
              "\n",
              "    async function download(id, filename, size) {\n",
              "      if (!google.colab.kernel.accessAllowed) {\n",
              "        return;\n",
              "      }\n",
              "      const div = document.createElement('div');\n",
              "      const label = document.createElement('label');\n",
              "      label.textContent = `Downloading \"${filename}\": `;\n",
              "      div.appendChild(label);\n",
              "      const progress = document.createElement('progress');\n",
              "      progress.max = size;\n",
              "      div.appendChild(progress);\n",
              "      document.body.appendChild(div);\n",
              "\n",
              "      const buffers = [];\n",
              "      let downloaded = 0;\n",
              "\n",
              "      const channel = await google.colab.kernel.comms.open(id);\n",
              "      // Send a message to notify the kernel that we're ready.\n",
              "      channel.send({})\n",
              "\n",
              "      for await (const message of channel.messages) {\n",
              "        // Send a message to notify the kernel that we're ready.\n",
              "        channel.send({})\n",
              "        if (message.buffers) {\n",
              "          for (const buffer of message.buffers) {\n",
              "            buffers.push(buffer);\n",
              "            downloaded += buffer.byteLength;\n",
              "            progress.value = downloaded;\n",
              "          }\n",
              "        }\n",
              "      }\n",
              "      const blob = new Blob(buffers, {type: 'application/binary'});\n",
              "      const a = document.createElement('a');\n",
              "      a.href = window.URL.createObjectURL(blob);\n",
              "      a.download = filename;\n",
              "      div.appendChild(a);\n",
              "      a.click();\n",
              "      div.remove();\n",
              "    }\n",
              "  "
            ],
            "text/plain": [
              "<IPython.core.display.Javascript object>"
            ]
          },
          "metadata": {}
        },
        {
          "output_type": "display_data",
          "data": {
            "application/javascript": [
              "download(\"download_6b5b5994-281b-41ad-9889-1fb4cb85da55\", \"T5_vs_GPT3_p3.png\", 17344)"
            ],
            "text/plain": [
              "<IPython.core.display.Javascript object>"
            ]
          },
          "metadata": {}
        },
        {
          "output_type": "display_data",
          "data": {
            "image/png": "[encoded data removed]",
            "text/plain": [
              "<Figure size 432x288 with 1 Axes>"
            ]
          },
          "metadata": {
            "needs_background": "light"
          }
        }
      ]
    },
    {
      "cell_type": "code",
      "metadata": {
        "id": "GhkzW-hu2lXT"
      },
      "source": [
        " "
      ],
      "execution_count": null,
      "outputs": []
    },
    {
      "cell_type": "code",
      "metadata": {
        "id": "243Jqh-cDncX"
      },
      "source": [
        "# # data size was copied from notebook code when I generate confident learning data\n",
        "\n",
        "# data_size=[524, 784, 1035, 1301, 1548, 1796, 2054, 2298, 2548, 2788, 525, 773, 1035, 1286, 1554, 1805, 2058, 2305, 2567, 2811, 521, 784, 1044, 1304, 1562, 1819, 2087, 2330, 2579, 2831, 524, 781, 1037, 1297, 1553, 1816, 2064, 2329, 2574, 2816, 526, 779, 1037, 1289, 1555, 1806, 2076, 2318, 2572, 2803]\n",
        "# data_size=np.split(np.array(data_size),5)\n"
      ],
      "execution_count": 81,
      "outputs": []
    },
    {
      "cell_type": "code",
      "metadata": {
        "colab": {
          "base_uri": "https://localhost:8080/"
        },
        "id": "iOpTtc7m5tPp",
        "outputId": "88560d62-24e9-4ba5-fe23-4abc2c6d8bc1"
      },
      "source": [
        "# data_size"
      ],
      "execution_count": null,
      "outputs": [
        {
          "data": {
            "text/plain": [
              "[array([ 524,  784, 1035, 1301, 1548, 1796, 2054, 2298, 2548, 2788]),\n",
              " array([ 525,  773, 1035, 1286, 1554, 1805, 2058, 2305, 2567, 2811]),\n",
              " array([ 521,  784, 1044, 1304, 1562, 1819, 2087, 2330, 2579, 2831]),\n",
              " array([ 524,  781, 1037, 1297, 1553, 1816, 2064, 2329, 2574, 2816]),\n",
              " array([ 526,  779, 1037, 1289, 1555, 1806, 2076, 2318, 2572, 2803])]"
            ]
          },
          "execution_count": 31,
          "metadata": {
            "tags": []
          },
          "output_type": "execute_result"
        }
      ]
    },
    {
      "cell_type": "code",
      "metadata": {
        "colab": {
          "base_uri": "https://localhost:8080/",
          "height": 231
        },
        "id": "AB4vsQjq6BPx",
        "outputId": "00747d7b-336c-4bb5-f2a9-3ac55c0ee405"
      },
      "source": [
        "# import matplotlib.pyplot as plt\n",
        "# import numpy as np\n",
        "# x=np.arange(0,10)\n",
        "# error=[num_std]\n",
        "# # plt.plot(x,num_result)\n",
        "# # plt.errorbar(xval, yval, xerr = 0.4, yerr = 0.5)\n",
        "# plt.errorbar(x,num_result,yerr=num_std,marker='s')\n",
        "\n",
        "# plt.legend([\"size of dataset\"],loc='lower right')\n",
        "# plt.ylabel('the average amount of data for 5 files')\n",
        "# plt.xlabel('T5 augmented sentences')\n",
        "\n",
        "# for i,j in zip(x,num_result):\n",
        "#   plt.annotate('{}'.format(j), (i,j), \n",
        "#                textcoords=\"offset points\", \n",
        "#                  xytext=(0,10),\n",
        "#                  ha='center')\n",
        "# from google.colab import files\n",
        "\n",
        "   \n",
        "# plt.savefig('cl_data_size.png')\n",
        "# files.download(\"cl_data_size.png\")"
      ],
      "execution_count": 82,
      "outputs": [
        {
          "output_type": "error",
          "ename": "NameError",
          "evalue": "ignored",
          "traceback": [
            "\u001b[0;31m---------------------------------------------------------------------------\u001b[0m",
            "\u001b[0;31mNameError\u001b[0m                                 Traceback (most recent call last)",
            "\u001b[0;32m<ipython-input-82-701fb293b145>\u001b[0m in \u001b[0;36m<module>\u001b[0;34m\u001b[0m\n\u001b[1;32m      2\u001b[0m \u001b[0;32mimport\u001b[0m \u001b[0mnumpy\u001b[0m \u001b[0;32mas\u001b[0m \u001b[0mnp\u001b[0m\u001b[0;34m\u001b[0m\u001b[0;34m\u001b[0m\u001b[0m\n\u001b[1;32m      3\u001b[0m \u001b[0mx\u001b[0m\u001b[0;34m=\u001b[0m\u001b[0mnp\u001b[0m\u001b[0;34m.\u001b[0m\u001b[0marange\u001b[0m\u001b[0;34m(\u001b[0m\u001b[0;36m0\u001b[0m\u001b[0;34m,\u001b[0m\u001b[0;36m10\u001b[0m\u001b[0;34m)\u001b[0m\u001b[0;34m\u001b[0m\u001b[0;34m\u001b[0m\u001b[0m\n\u001b[0;32m----> 4\u001b[0;31m \u001b[0merror\u001b[0m\u001b[0;34m=\u001b[0m\u001b[0;34m[\u001b[0m\u001b[0mnum_std\u001b[0m\u001b[0;34m]\u001b[0m\u001b[0;34m\u001b[0m\u001b[0;34m\u001b[0m\u001b[0m\n\u001b[0m\u001b[1;32m      5\u001b[0m \u001b[0;31m# plt.plot(x,num_result)\u001b[0m\u001b[0;34m\u001b[0m\u001b[0;34m\u001b[0m\u001b[0;34m\u001b[0m\u001b[0m\n\u001b[1;32m      6\u001b[0m \u001b[0;31m# plt.errorbar(xval, yval, xerr = 0.4, yerr = 0.5)\u001b[0m\u001b[0;34m\u001b[0m\u001b[0;34m\u001b[0m\u001b[0;34m\u001b[0m\u001b[0m\n",
            "\u001b[0;31mNameError\u001b[0m: name 'num_std' is not defined"
          ]
        }
      ]
    }
  ]
}